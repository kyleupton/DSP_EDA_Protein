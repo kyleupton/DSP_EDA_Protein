{
 "cells": [
  {
   "cell_type": "markdown",
   "id": "5c51dae2-6542-4d04-a9dd-7b3646c907ba",
   "metadata": {},
   "source": [
    "ToDo: DSP => Digital Spatial Profiler"
   ]
  },
  {
   "cell_type": "markdown",
   "id": "2214543a-c7d1-44c5-871e-7c0610509752",
   "metadata": {},
   "source": [
    "# DSP Protein nCounter workflow"
   ]
  },
  {
   "cell_type": "markdown",
   "id": "5dd0955d-e220-44c8-9110-3da0723c698a",
   "metadata": {},
   "source": [
    "# How to use this notebook <a class=\"anchor\" id=\"howTo\"></a>\n",
    "\n",
    "<!-- Cell adapted from Paul Watmore -->\n",
    "\n",
    "This is a [Jupyter notebook](https://jupyter.org/) for DSP data exploration, normalisation and analysis. \n",
    "\n",
    "Jupyter notebooks are interactive documents that contain 'live code', which allows the user to complete an analysis by running code 'cells', which can be modified, updated or added to by the user.\n",
    "\n",
    "Individual Jupyter notebooks are based on a specific 'kernel', or analysis envirnment (mostly programming languages). This particular notebook is based on R. To see which version of R this notebook is based on, and as an example of running a code cell, click on the cell below and press the 'Run' button (top of the page).\n",
    "\n",
    "This notebook is designed for use on the QUT computer system. The notebook files and associated config files and scripts are downloaded from github to your home directory on the HPC. Data files and any outputs from the scripts and notebooks should be saved in a folder on the work directory so they can easily be shared with other users.\n",
    "\n",
    "NOTE: changes you make to the notebook will only be in your home directory. Bug fixes should be pushed to the master github repo, or logged as an issue on github. Github should contain the most recent working version of all notbooks and scripts and should be checked for changes. "
   ]
  },
  {
   "attachments": {},
   "cell_type": "markdown",
   "id": "31eb23e6-54d0-40dc-a79e-0787595a826e",
   "metadata": {},
   "source": [
    "# Contents\n",
    "[How to use this notebook](#howTo)\n",
    "\n",
    "[1. Workflow Overview](#overview)\n",
    "\n",
    "[2. Prepare Configuration File](#config)\n",
    "\n",
    "[3. View and clean annotations](#clean)\n",
    "\n",
    "[4. View and QC data](#qc)\n",
    "\n",
    "[5. Normalise Data](#norm)\n",
    "\n",
    "[6. Normalised Data EDA](#Norm_EDA)\n",
    "\n",
    "[7. Set up comparisons](#compare)\n",
    "\n",
    "[8. Run DGE](#dge)\n",
    "\n",
    "[9. Convert EdgeR plots to volcano plots](#convert)\n"
   ]
  },
  {
   "cell_type": "code",
   "execution_count": null,
   "id": "aa4abf17-02ef-409f-aa1f-fd10ceef7237",
   "metadata": {},
   "outputs": [],
   "source": []
  },
  {
   "attachments": {},
   "cell_type": "markdown",
   "id": "841e0048-229d-4103-bfe1-744402d94a18",
   "metadata": {},
   "source": [
    "# 1. Workflow Overview<a class=\"anchor\" id=\"overview\"></a>\n",
    "\n",
    "\n",
    "\n",
    "This notebook links to a number of auxilary notebooks that walk through a series of steps for data exploration, data cleaning and data analysis.\n",
    "\n",
    "To help with reproducibility, input and output files have been standardised as much as possible (this is a work in progress). <span style=\"color:red\">The folder structure is shown in section ###, and descriptions of the key files are shown in section ###.</span>\n",
    "\n",
    "This workflow is designed to be run in a collaborative manner on QUT compute facilities. As such, this utilises a number of different compute resources that each have different access restrictions and security protocols. Every effort has been made to ensure that sensitive data is protected, however, this may not be suitable for every project. It is every users responibility to ensure that data is stored and secured properly. No encryption is currently implemented in this workflow, relying on propper use of data use and storage according to QUT policies and procedures.\n",
    "\n",
    "\n",
    "\n",
    "The high level overview of the workflow is as follows:\n",
    "\n",
    "\n",
    "\n",
    "-- Prepare config file for running analysis\n",
    "        -- Decide on a working directory on the HPC to set up file structure.\n",
    "        NOTE: HPC storage is preferred to facilitate colaboration and help with data security.\n",
    "\n",
    "\n",
    "-- View and clean annotations\n",
    "\n",
    "\n",
    "-- View and QC raw Data\n",
    "\n",
    "\n",
    "-- Merge or exclude AOIs and/or exclude probes\n",
    "\n",
    "\n",
    "-- Normalise Data\n",
    "\n",
    "\n",
    "-- Normalised Data EDA\n",
    "\n",
    "\n",
    "-- Set up comparisons\n",
    "\n",
    "\n",
    "-- Run DGE\n",
    "\n",
    "\n",
    "-- Convert EdgeR plots to volcano plots"
   ]
  },
  {
   "cell_type": "markdown",
   "id": "e768c7c9-176f-432a-acb0-47c3db21e157",
   "metadata": {},
   "source": [
    "### Some basic setup"
   ]
  },
  {
   "cell_type": "markdown",
   "id": "b5974f46-0671-47d7-aaeb-7e284381c6c9",
   "metadata": {},
   "source": [
    "### File structure\n",
    "```\n",
    "\n",
    "## Raw data files that are kept secure and imutable (read only access to researchers):\n",
    "\n",
    "\n",
    " ├─ R.......\n",
    " │ ├─ A...........\n",
    " │ │ ├─ i..\n",
    " │ │ │ ├─ c..._......._.....\n",
    " │ │ │ │ ├─ c.._..._2023XXXX\n",
    " │ │ │ │ │ ├─ I.....\n",
    " │ │ │ │ │ │ ├ Slide_1.png\n",
    " │ │ │ │ │ │ ├ Slide-1_clean.png\n",
    " │ │ │ │ │ │ ├ Slide-1.zip\n",
    " │ │ │ │ │ │ ├ Slide-1.ome.tiff\n",
    " │ │ │ │ │ │ ├ Slide-2.png\n",
    " │ │ │ │ │ │ ├ Slide-2_clean.png\n",
    " │ │ │ │ │ │ ├ Slide-2.zip\n",
    " │ │ │ │ │ │ ├ Slide-2.ome.tiff\n",
    " │ │ │ │ │ ├─ W.........\n",
    " │ │ │ │ │ │ ├ \n",
    " │ │ │ │ │ │ ├ \n",
    "\n",
    "RCC files?\n",
    "\n",
    " │ │ │ │ │ ├─ D...\n",
    " │ │ │ │ │ │ ├ slide-1 A to H\n",
    " │ │ │ │ │ │ ├ slide-2 A to H\n",
    "\n",
    "\n",
    "## Processed data files that should be kept secure, but can be edited and shared by researchers:\n",
    "\n",
    " ├─ HPCFS\n",
    " │ ├─ Project_Folder                 (read/write access for multiple researchers)\n",
    " │ │ ├─ DSP_Data_Analysis\n",
    "# Files initially downloaded form DSP with preliminary processed and QC processed data\n",
    " │ │ │ ├ Initial Dataset.xlsx        (may be over-written after changes to ROI/AOI annotations)\n",
    " │ │ │ ├ Default_QC.xlsx             (may be over-written after changes to ROI/AOI annotations)\n",
    "# Files output from data QC script to identify ROI/AOIs and probes that fail data QC.\n",
    " │ │ │ ├ failAOIs.csv                                                      # Check location exportPath\n",
    " │ │ │ ├ FailProbes.csv                                                    # Check location exportPath\n",
    "# Files output from normalisation (normalisation my run through multiple iterations. Different normalisation methods may be needed for some comparisons). \n",
    " │ │ │ ├─ Normalisation\n",
    " │ │ │ │ ├ QC_#Researcher#_#Project#_#Run#_NormInput.csv\n",
    " │ │ │ │ ├ \n",
    " │ │ │ │ ├ #Run#\n",
    " │ │ │ │ │ ├ NS_Norm_1-84\n",
    " │ │ │ │ ├ #Run#\n",
    " │ │ │ │ │ ├ NS_Norm_1-84\n",
    "# Output from edgeR analysis \n",
    " │ │ │ ├─ EdgeR\n",
    " │ │ │ │ ├ EdgeR_#Run#_Norm25\n",
    " │ │ │ │ │ ├ \n",
    " │ │ │ │ │ ├ \n",
    " │ │ │ │ │ ├ \n",
    " │ │ │ │ │ ├ \n",
    "\n",
    "\n",
    "## Files on Github\n",
    "## Should not contain any hard links to QUT servers\n",
    "\n",
    " ├─ Git\n",
    " │ ├ Index.ipynb\n",
    " │ ├ DSP_nCounter_Protein_QC_Git.ipynb\n",
    " │ ├ 240202_DSP_nCounter_Protein_Post-Norm_EDA.ipynb\n",
    "\n",
    " │ ├ NSNorm.R\n",
    "\n",
    " │ ├ EdgeR_Config.txt\n",
    " │ ├ EdgeR.R\n",
    "\n",
    " │ ├ README.md\n",
    " │ ├ Config.txt\n",
    " │ ├ LICENSE\n",
    "\n",
    " │ ├ \n",
    "\n",
    "<i>NOTE: the phrase \"kept secure\" above indicates that the files should be saved to a secure location with backup. Primary data should be kept in read-only locations with backup.\n",
    "</i>\n",
    "```"
   ]
  },
  {
   "cell_type": "markdown",
   "id": "6d163eb2-71ef-43bd-b728-2414b9814b6c",
   "metadata": {},
   "source": [
    "# 2. Prepare configuration file<a class=\"anchor\" id=\"config\"></a>"
   ]
  },
  {
   "cell_type": "code",
   "execution_count": 1,
   "id": "0f26fc9d-8496-4038-bc47-16dea18ec948",
   "metadata": {},
   "outputs": [],
   "source": [
    "# input the root directory (shared work folder)"
   ]
  },
  {
   "cell_type": "markdown",
   "id": "3ece1a7e-79e3-4ae7-8166-0eaad63c5f8d",
   "metadata": {},
   "source": [
    "# 3. View and clean annotations <a class=\"anchor\" id=\"clean\"></a>"
   ]
  },
  {
   "cell_type": "markdown",
   "id": "42ddab2d-39a2-48cc-a0c9-5c6d036b7a09",
   "metadata": {},
   "source": [
    "First up we want to confirm that all data entered into the DSP files is correct and clean. The following steps are easiest to performed using the DSP data analysis suite to view AOIs, and download and upload sample annotations. Sample annotations are easiest to edit in microsoft excel on any computer.\n"
   ]
  },
  {
   "cell_type": "markdown",
   "id": "460f3805-68d9-42b3-9da8-80fc68234cc8",
   "metadata": {},
   "source": [
    "### Steps:\n",
    "\n",
    "  1. Download \"Annotation template file\" from DSP\n",
    "\n",
    "  2. Add in factors for AOI annotation\n",
    "\n",
    "  3. Manually review all AOIs\n",
    "\n",
    "  4. Ensure the comment line has been deleted (row 1 in downloaded file). The header row should be row 1.\n",
    "\n",
    "  5. Upload file to DSP and select replace tags and factors\n",
    "  \n",
    "<i>Note: tags and factors are case sensitive. No aditional characters should be present. All tags must be comma separated</i>\n",
    "\n",
    "<i>Note: \"Initial Dataset\" and \"Default QC\" file must be re-generated if AOI annotations are updated.</i>\n",
    "\n",
    "<i>Note: Correlating AOIs to plates and wells was done using the lab worksheet documents and by matching the surface areas in those sheets with the surface areas in the DSP output excel files. 231206_DSP_nCounter_Protein_QC_Subramaniam_HCC_TMA_01 contains code for this but may not be completely up to date.</i>"
   ]
  },
  {
   "cell_type": "code",
   "execution_count": null,
   "id": "d74eb590-4dd7-4499-9ccf-6dfdb7fe1efd",
   "metadata": {},
   "outputs": [],
   "source": []
  },
  {
   "cell_type": "markdown",
   "id": "79df741a-ccac-41d1-a733-7b041c987fb0",
   "metadata": {},
   "source": [
    "Use the following notebook to review AOI annotations.\n",
    "\n",
    "This will help find:\n",
    " - non-conforming annotations (wrong case or puncuation)\n",
    " - empty annotations / missing annotations\n",
    " - empty cells\n",
    "\n"
   ]
  },
  {
   "cell_type": "code",
   "execution_count": null,
   "id": "9dea27e3-9138-41c7-b97b-87389040571b",
   "metadata": {},
   "outputs": [],
   "source": []
  },
  {
   "cell_type": "markdown",
   "id": "690f5f68-4021-46b3-9f1e-f6d793dd1d3e",
   "metadata": {},
   "source": [
    "<!-- [Click here for QC notebook](DSP_nCounter_Annotation_QC_Git.ipynb) \n",
    "\n",
    "ToDo: Separate AOI QC into its own workbook??\n",
    "\n",
    "-->"
   ]
  },
  {
   "cell_type": "code",
   "execution_count": null,
   "id": "55f3bda7-5be3-48c1-b136-fdf5be3cdd92",
   "metadata": {},
   "outputs": [],
   "source": []
  },
  {
   "cell_type": "code",
   "execution_count": null,
   "id": "9afe33a9-a79f-40a3-8923-1ce4b4723e75",
   "metadata": {},
   "outputs": [],
   "source": []
  },
  {
   "cell_type": "markdown",
   "id": "d56faed1-bc41-448c-9d35-15b6f0defd3f",
   "metadata": {},
   "source": [
    "# 4. View and QC Data <a class=\"anchor\" id=\"qc\"></a>"
   ]
  },
  {
   "cell_type": "markdown",
   "id": "34e44334-1335-4717-b2fe-c7dce62d839d",
   "metadata": {},
   "source": [
    "The next step is to chech the quality of the data that has been obtained from the DSP run.\n",
    "\n",
    "This is done for both the probes and the AOIs to determine if any probes or AOIs should be excluded from analysis.\n",
    "\n",
    "\n",
    "[Click here for QC notebook](DSP_nCounter_Protein_QC_Git.ipynb)\n",
    "\n",
    "<i>Note: The above notebook also contains some code for cleaning and completing data annotations.\n",
    "</i>"
   ]
  },
  {
   "cell_type": "markdown",
   "id": "b9a09b7c-8389-4ac3-919a-9ee14ec75e39",
   "metadata": {},
   "source": [
    "# 5. Initial Data Normalisation <a class=\"anchor\" id=\"norm\"></a>"
   ]
  },
  {
   "cell_type": "markdown",
   "id": "e9a1d22e-2dfa-4115-950b-a15d0b00b763",
   "metadata": {},
   "source": [
    "After basic cleaning of data and removal of AOIs or probes if required, data normalisation is performed using many different parameters and thresholds. These should be reviewed in the next notebook to check for consistency in results, and any outliers. Some methods will reveal low expressing probes. Usually only a few normalisations are likely to be appropriate, and a single method should be chosen.\n",
    "\n",
    "Inital data normalisation. is run at the end of the QC Notebook"
   ]
  },
  {
   "cell_type": "code",
   "execution_count": null,
   "id": "8b507c6f-c4a7-47a7-b888-a1c6b7bb2006",
   "metadata": {},
   "outputs": [],
   "source": []
  },
  {
   "cell_type": "markdown",
   "id": "81527f1a-797d-45fd-86ba-a57e6f8df5fa",
   "metadata": {},
   "source": [
    "# 6. Normalised Data EDA <a class=\"anchor\" id=\"Norm_EDA\"></a>"
   ]
  },
  {
   "cell_type": "markdown",
   "id": "b1108438-d00d-4461-b131-6450229f7572",
   "metadata": {},
   "source": [
    "[Click here for Normalised Data EDA notebook](DSP_nCounter_Protein_Post-Norm_EDA.ipynb)"
   ]
  },
  {
   "cell_type": "code",
   "execution_count": null,
   "id": "4d32cdef-ceee-445d-87c9-48e7470be70d",
   "metadata": {},
   "outputs": [],
   "source": []
  },
  {
   "cell_type": "code",
   "execution_count": null,
   "id": "aea05d34-ece8-4b07-b20a-eb4f6220113b",
   "metadata": {},
   "outputs": [],
   "source": []
  },
  {
   "cell_type": "code",
   "execution_count": null,
   "id": "24dfec7a-1bba-4531-b90e-525eff378749",
   "metadata": {},
   "outputs": [],
   "source": []
  },
  {
   "cell_type": "markdown",
   "id": "4bede998-b76e-4ab3-9517-14c632519373",
   "metadata": {},
   "source": [
    "# 7. Set up comparisons <a class=\"anchor\" id=\"compare\"></a>"
   ]
  },
  {
   "cell_type": "markdown",
   "id": "715c548f-6a80-41f7-b8fb-eadde6051578",
   "metadata": {},
   "source": [
    "#### ToDo:\n",
    "```\n",
    "return AOIs to ignore in a flat text file\n",
    "\n",
    "Return AOI groups (with whole annotations of all AOIS in each group)\n",
    "What is the best file format to use for this? \n",
    "```"
   ]
  },
  {
   "cell_type": "markdown",
   "id": "64c61a59-8ee7-42a8-b62e-c1b171e75d51",
   "metadata": {},
   "source": [
    "ToDo: Complete script for compiling comparisons in python and converting to R compatible format\n",
    "\n"
   ]
  },
  {
   "cell_type": "code",
   "execution_count": null,
   "id": "a2cd1739-9366-4935-8ca1-3a8ef39e7b7a",
   "metadata": {},
   "outputs": [],
   "source": []
  },
  {
   "cell_type": "code",
   "execution_count": null,
   "id": "27c1cbbc-8cfd-42c7-a272-1d6af351b05c",
   "metadata": {},
   "outputs": [],
   "source": []
  },
  {
   "cell_type": "code",
   "execution_count": null,
   "id": "f6888e10-8069-482d-ba80-bd06bb32ccdf",
   "metadata": {},
   "outputs": [],
   "source": []
  },
  {
   "cell_type": "markdown",
   "id": "e9408362-c51e-465c-af33-84af1e9b7784",
   "metadata": {},
   "source": [
    "# 8. Run DGE (EdgeR or DESeq) <a class=\"anchor\" id=\"dge\"></a>"
   ]
  },
  {
   "cell_type": "markdown",
   "id": "5f3cee87-17f2-476c-be70-72fedb58ccc3",
   "metadata": {},
   "source": [
    "[EdgeR R script for grouped samples](/Users/upton6/Documents/Nanostring/projects/NS_Liver_HCC_DSP/EdgeR/NS_HCC_GLM_Grouped_02.R)"
   ]
  },
  {
   "cell_type": "code",
   "execution_count": null,
   "id": "20bd09b2-c2b3-497a-9a84-623c671aa1b9",
   "metadata": {},
   "outputs": [],
   "source": []
  },
  {
   "cell_type": "code",
   "execution_count": null,
   "id": "b2c3e6ce-4a64-4df1-9610-c6954e30cb0c",
   "metadata": {},
   "outputs": [],
   "source": []
  },
  {
   "cell_type": "code",
   "execution_count": null,
   "id": "b3fe4b96-19a6-4d04-840e-dcb082ddcdd4",
   "metadata": {},
   "outputs": [],
   "source": []
  },
  {
   "cell_type": "markdown",
   "id": "95bc63cb-a038-4cdc-aafc-42e5bb4aa9da",
   "metadata": {},
   "source": [
    "# 9. Convert EdgeR plots to volcano plots <a class=\"anchor\" id=\"convert\"></a>"
   ]
  },
  {
   "cell_type": "markdown",
   "id": "3a96fe9d-fdb7-4385-b016-42cfac23ab63",
   "metadata": {},
   "source": [
    "[EdgeR to Volcano plot notebook](231130_EdgeR_to_Volcano_plots_NS_msWTA.ipynb)\n"
   ]
  },
  {
   "cell_type": "code",
   "execution_count": null,
   "id": "7474f5cf-0af8-49ba-8ea4-5d2e168930b5",
   "metadata": {},
   "outputs": [],
   "source": []
  },
  {
   "cell_type": "code",
   "execution_count": null,
   "id": "9c37726d-6d15-4774-91f6-7ee0983067cd",
   "metadata": {},
   "outputs": [],
   "source": []
  },
  {
   "cell_type": "code",
   "execution_count": 2,
   "id": "944f5a9e-5741-4693-8275-db78edfa3dc4",
   "metadata": {},
   "outputs": [
    {
     "ename": "SyntaxError",
     "evalue": "'break' outside loop (668683560.py, line 1)",
     "output_type": "error",
     "traceback": [
      "\u001b[0;36m  Cell \u001b[0;32mIn[2], line 1\u001b[0;36m\u001b[0m\n\u001b[0;31m    break\u001b[0m\n\u001b[0m    ^\u001b[0m\n\u001b[0;31mSyntaxError\u001b[0m\u001b[0;31m:\u001b[0m 'break' outside loop\n"
     ]
    }
   ],
   "source": [
    "break"
   ]
  },
  {
   "cell_type": "code",
   "execution_count": null,
   "id": "05fd9c5b-34a9-43b7-b4d5-8761289c3d42",
   "metadata": {},
   "outputs": [],
   "source": []
  },
  {
   "cell_type": "code",
   "execution_count": null,
   "id": "acea054a-ade9-4524-b06b-60a74ec25e0b",
   "metadata": {},
   "outputs": [],
   "source": []
  }
 ],
 "metadata": {
  "kernelspec": {
   "display_name": "Python 3 (ipykernel)",
   "language": "python",
   "name": "python3"
  },
  "language_info": {
   "codemirror_mode": {
    "name": "ipython",
    "version": 3
   },
   "file_extension": ".py",
   "mimetype": "text/x-python",
   "name": "python",
   "nbconvert_exporter": "python",
   "pygments_lexer": "ipython3",
   "version": "3.11.7"
  }
 },
 "nbformat": 4,
 "nbformat_minor": 5
}
