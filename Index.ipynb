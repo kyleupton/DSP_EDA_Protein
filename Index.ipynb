{
 "cells": [
  {
   "cell_type": "markdown",
   "id": "c75c0a24-fa59-4ccb-a430-6013b067198f",
   "metadata": {},
   "source": [
    "<span style=\"color:red\"> *some emphasized markdown text*</span>\n"
   ]
  },
  {
   "cell_type": "markdown",
   "id": "a4010aa7-5271-4100-9fcb-6bf8c7cd6202",
   "metadata": {},
   "source": [
    "# DSP Protein nCounter workflow"
   ]
  },
  {
   "cell_type": "markdown",
   "id": "0343bb6a-d1b2-4699-a542-2243bb6ac0a9",
   "metadata": {},
   "source": [
    "# Contents\n",
    "[1. How to use this notebook](#howTo)\n",
    "\n",
    "[2. Overview of the workflow in this notebook](#overview)\n",
    "\n",
    "\n",
    "\n",
    "\n",
    "[3. View and clean annotations](#clean)\n",
    "\n",
    "[4. View and QC data](#qc)\n",
    "\n",
    "[5. Normalise data](#norm)\n",
    "\n",
    "[6. Set up comparisons](#compare)\n",
    "\n",
    "[7. Run DGE](#dge)\n",
    "\n",
    "[8. Convert EdgeR plots to volcano plots](#convert)\n"
   ]
  },
  {
   "cell_type": "code",
   "execution_count": null,
   "id": "aa4abf17-02ef-409f-aa1f-fd10ceef7237",
   "metadata": {},
   "outputs": [],
   "source": []
  },
  {
   "cell_type": "markdown",
   "id": "5dd0955d-e220-44c8-9110-3da0723c698a",
   "metadata": {},
   "source": [
    "# 1. How to use this notebook <a class=\"anchor\" id=\"howTo\"></a>\n",
    "\n",
    "<!-- Cell from Paul Watmore -->\n",
    "\n",
    "This is a [Jupyter notebook](https://jupyter.org/) for DSP data exploration, normalisation and analysis. \n",
    "\n",
    "Jupyter notebooks are interactive documents that contain 'live code', which allows the user to complete an analysis by running code 'cells', which can be modified, updated or added to by the user.\n",
    "\n",
    "Individual Jupyter notebooks are based on a specific 'kernel', or analysis envirnment (mostly programming languages). This particular notebook is based on R. To see which version of R this notebook is based on, and as an example of running a code cell, click on the cell below and press the 'Run' button (top of the page)."
   ]
  },
  {
   "cell_type": "markdown",
   "id": "9b4c4f7c-15f4-47b3-911b-9bd5a7de908b",
   "metadata": {},
   "source": [
    "# Overview of the workflow in this notebook <a class=\"anchor\" id=\"overview\"></a>\n",
    "\n",
    "This notebook links to a number of auxilary notebooks that walk through a series of steps for data exploration, data cleaning and data analysis.\n",
    "\n",
    "To help with reproducibility, input and output files have been standardised as much as possible (this is a work in progress). <span style=\"color:red\">The folder structure is shown in section ###, and descriptions of the key files are shown in section ###.</span>\n",
    "\n",
    "This workflow is designed to be run in a collaborative manner on QUT compute facilities. As such, this utilises a number of different compute resources that each have different access restrictions and security protocols. Every effort has been made to ensure that sensitive data is protected, however, this may not be suitable for every project. It is every users responibility to ensure that data is stored and secured properly. No encryption is currently implemented in this workflow, relying on propper use of data use and storage according to QUT policies and procedures.\n",
    "\n",
    "\n",
    "\n",
    "\n",
    "\n",
    "The high level overview of the workflow is as follows:\n",
    "\n",
    "A. Decide on a working directory on the HPC to set up file structure.\n",
    "NOTE: HPC storage is preferred to facilitate colaboration and help with data security.\n",
    "\n",
    "2. View and clean annotations\n",
    "\n",
    "\n",
    "1. View and QC Data\n",
    "\n",
    "\n",
    "1. Merge or exclude AOIs\n",
    "\n",
    "\n",
    "1. Normalise Data\n",
    "\n",
    "\n",
    "1. Set up comparisons\n",
    "\n",
    "\n",
    "1. Run DGE\n",
    "\n",
    "\n",
    "1. Convert EdgeR plots to volcano plots"
   ]
  },
  {
   "cell_type": "markdown",
   "id": "e768c7c9-176f-432a-acb0-47c3db21e157",
   "metadata": {},
   "source": [
    "### Some basic setup"
   ]
  },
  {
   "cell_type": "code",
   "execution_count": 1,
   "id": "0d702a2b-12fd-4875-81aa-b497cf68b15b",
   "metadata": {},
   "outputs": [],
   "source": [
    "import os\n",
    "os.getcwd()\n"
   ]
  },
  {
   "cell_type": "code",
   "execution_count": null,
   "id": "0f26fc9d-8496-4038-bc47-16dea18ec948",
   "metadata": {},
   "outputs": [],
   "source": [
    "# input the root directory (shared work folder)"
   ]
  },
  {
   "cell_type": "markdown",
   "id": "4c18ce20-7aa2-4659-a095-eb2075060aa5",
   "metadata": {},
   "source": [
    "### File structure\n",
    "```\n",
    "- Root\n",
    " ├─ DSP_Protein_Data\n",
    " │ ├ \n",
    " │ ├─ Initial Dataset.xlsx\n",
    " │ ├─ Default_QC.xlsx\n",
    " │ ├─ \n",
    " │ ├─ Lab_Worksheet_P10016600#####1.txt\n",
    " │ ├─ Lab_Worksheet_P10016600#####2.txt\n",
    " │ ├─ \n",
    " │ ├─ AOI_Well_Mappings_Plate1.csv\n",
    " │ ├─ AOI_Well_Mappings_Plate2.csv\n",
    " │\n",
    " ├─ DSP QC\n",
    " │ ├─ AOI_Well_Mappings_Plate2.csv |- files\n",
    " │ ├─ AOI_Well_Mappings_Plate2.csv\n",
    " │\n",
    " ├─ DSP EDA\n",
    " │ ├─ AOI_Well_Mappings_Plate2.csv |- files\n",
    " │\n",
    " │\n",
    " ├─ Data_Normalisation\n",
    " │ ├─ RUVIII_Subramaniam_HCC_grouped_NSNorm.R\n",
    " │ ├─ ERCC_Subramaniam_HCC_RUV_Grouped_Expressed.csv\n",
    " │ ├─ HCC_Nanostring_SampleInformation_grouped.csv\n",
    " │ ├─\n",
    " │ ├─ RUVIII_NSNorm_Grouped_Expressed\n",
    " │ ├─├─ NanoString_mRNA_norm...\n",
    " │ │ ├─ NanoStringNorm_28_none_mean_housekeeping.geo.mean.csv\n",
    " │\n",
    " │\n",
    " │\n",
    " │ │ EdgeR_Grouped_28\n",
    " │ │ ├─\n",
    " │ │ ├─\n",
    " │ │ ├─\n",
    " │ │ ├─\n",
    " │\n",
    " │\n",
    " ├─ EdgeR\n",
    " │ ├─ files\n",
    " │\n",
    " │\n",
    " │\n",
    " │\n",
    " │\n",
    "\n",
    "\n",
    "DataNorm Output\n",
    "/data/bak/QUT/upton6/Documents/Nanostring/projects/NS_Liver_HCC_DSP/Data_Normalisation/RUVIII_NSNorm_Grouped_Expressed/\n",
    "\n",
    "```\n",
    "ToDo: Add write output functionality to all files\n",
    "\n",
    "\n"
   ]
  },
  {
   "cell_type": "code",
   "execution_count": null,
   "id": "bcbdf7ae-b12b-4f54-9351-553bae7b8ca5",
   "metadata": {},
   "outputs": [],
   "source": []
  },
  {
   "cell_type": "markdown",
   "id": "3ece1a7e-79e3-4ae7-8166-0eaad63c5f8d",
   "metadata": {},
   "source": [
    "# View and clean annotations <a class=\"anchor\" id=\"clean\"></a>"
   ]
  },
  {
   "cell_type": "markdown",
   "id": "7b71f3c4-69b7-4b0d-bda2-badef1e4156a",
   "metadata": {},
   "source": [
    "First up we want to confirm that all data entered into the DSP files is correct and clean\n",
    "\n",
    "\n",
    "For example, tags and factors are case sensitive. No aditional characters should be present. All tags must be comma separated\n",
    "\n",
    "\n",
    "<i>Note: Correlating AOIs to plates and wells was done using the lab worksheet documents and by matching the surface areas in those sheets with the surface areas in the DSP output excel files. 231206_DSP_nCounter_Protein_QC_Subramaniam_HCC_TMA_01 contains code for this but may not be completely up to date.</i>"
   ]
  },
  {
   "cell_type": "code",
   "execution_count": null,
   "id": "3d4be893-f39d-453d-b071-665b4addcab8",
   "metadata": {},
   "outputs": [],
   "source": []
  },
  {
   "cell_type": "markdown",
   "id": "d56faed1-bc41-448c-9d35-15b6f0defd3f",
   "metadata": {},
   "source": [
    "# View and QC data <a class=\"anchor\" id=\"qc\"></a>"
   ]
  },
  {
   "cell_type": "markdown",
   "id": "34e44334-1335-4717-b2fe-c7dce62d839d",
   "metadata": {},
   "source": [
    "The next step is to chech the quality of the data that has been obtained from the DSP run.\n",
    "\n",
    "This is done for both the probes abd the AOIs to determine if any probes or AOIs should be excluded from analysis.\n",
    "\n",
    "\n",
    "[link to QC notebook](231206_DSP_nCounter_Protein_QC_Subramaniam_HCC_TMA_01.ipynb)\n",
    "\n",
    "<i>Note: The above notebook also contains the code for cleaning and filling out data annotations. May want to break this down into separate notebooks for clarity\n",
    "</i>"
   ]
  },
  {
   "cell_type": "code",
   "execution_count": null,
   "id": "251fbd94-082b-4d20-a1a7-bf8697b37b5c",
   "metadata": {},
   "outputs": [],
   "source": []
  },
  {
   "cell_type": "code",
   "execution_count": null,
   "id": "6c5321e4-6336-4728-b142-48fb6fb6b2d4",
   "metadata": {},
   "outputs": [],
   "source": []
  },
  {
   "cell_type": "markdown",
   "id": "8cbb2068-dcb5-4077-a233-e4375bcf10fb",
   "metadata": {},
   "source": [
    "[EDA notebook](231206_DSP_nCounter_Protein_Norm_EDA_01_Subramaniam_HCC.ipynb)\n"
   ]
  },
  {
   "cell_type": "code",
   "execution_count": null,
   "id": "56724116-03b2-446d-bd2a-749d7ea36ec7",
   "metadata": {},
   "outputs": [],
   "source": []
  },
  {
   "cell_type": "markdown",
   "id": "c2c56040-bec5-4458-9bdb-4e67f8e5bfa8",
   "metadata": {},
   "source": [
    "# Merge AOIs"
   ]
  },
  {
   "cell_type": "code",
   "execution_count": null,
   "id": "603faee0-dd76-48b7-a6ea-d84a57c8bfaa",
   "metadata": {},
   "outputs": [],
   "source": []
  },
  {
   "cell_type": "code",
   "execution_count": null,
   "id": "6c540fc2-c2e1-4919-86f8-93c11b562a22",
   "metadata": {},
   "outputs": [],
   "source": []
  },
  {
   "cell_type": "markdown",
   "id": "93205308-28e5-41b5-a6b4-930baf2c68d8",
   "metadata": {},
   "source": [
    "# Normalise data <a class=\"anchor\" id=\"norm\"></a>"
   ]
  },
  {
   "cell_type": "markdown",
   "id": "1c0bab1e-809e-4026-a2bb-2ea718bc5860",
   "metadata": {},
   "source": [
    "Normalise both merged and collected datasets"
   ]
  },
  {
   "cell_type": "markdown",
   "id": "17361ee2-a639-447e-8c10-702516555e67",
   "metadata": {},
   "source": [
    "Normalisation was done in a separate R script.\n",
    "\n",
    "<i>ToDo: Create a jupyter notebook to run this R script remotely\n",
    "</i>"
   ]
  },
  {
   "cell_type": "markdown",
   "id": "45fcf974-70e6-4f54-8b9e-a7a8666c21ba",
   "metadata": {},
   "source": [
    "### Notebook for normalisation of grouped data:\n",
    "\n",
    "RUVIII_Subramaniam_HCC_grouped_NSNorm.R\n",
    "\n",
    "<i> Note: Needs to be updated to local file mappings. Curtrently for Octavius.\n",
    "</i>"
   ]
  },
  {
   "cell_type": "code",
   "execution_count": null,
   "id": "e1adb4ce-c7e1-4969-bd71-171da0f9309c",
   "metadata": {},
   "outputs": [],
   "source": []
  },
  {
   "cell_type": "code",
   "execution_count": null,
   "id": "ecf52f1d-7a33-4f1e-892d-459bb18f04ff",
   "metadata": {},
   "outputs": [],
   "source": []
  },
  {
   "cell_type": "markdown",
   "id": "4bede998-b76e-4ab3-9517-14c632519373",
   "metadata": {},
   "source": [
    "# Set up comparisons <a class=\"anchor\" id=\"compare\"></a>"
   ]
  },
  {
   "cell_type": "markdown",
   "id": "64c61a59-8ee7-42a8-b62e-c1b171e75d51",
   "metadata": {},
   "source": [
    "Currently done in EdgeR.\n",
    "\n",
    "Will require setting up linear models in python to be useful in Jupyter"
   ]
  },
  {
   "cell_type": "code",
   "execution_count": null,
   "id": "a2cd1739-9366-4935-8ca1-3a8ef39e7b7a",
   "metadata": {},
   "outputs": [],
   "source": []
  },
  {
   "cell_type": "code",
   "execution_count": null,
   "id": "f6888e10-8069-482d-ba80-bd06bb32ccdf",
   "metadata": {},
   "outputs": [],
   "source": []
  },
  {
   "cell_type": "markdown",
   "id": "e9408362-c51e-465c-af33-84af1e9b7784",
   "metadata": {},
   "source": [
    "# Run DGE (EdgeR or DESeq) <a class=\"anchor\" id=\"dge\"></a>"
   ]
  },
  {
   "cell_type": "markdown",
   "id": "5f3cee87-17f2-476c-be70-72fedb58ccc3",
   "metadata": {},
   "source": [
    "[EdgeR R script for grouped samples](/Users/upton6/Documents/Nanostring/projects/NS_Liver_HCC_DSP/EdgeR/NS_HCC_GLM_Grouped_02.R)"
   ]
  },
  {
   "cell_type": "code",
   "execution_count": null,
   "id": "20bd09b2-c2b3-497a-9a84-623c671aa1b9",
   "metadata": {},
   "outputs": [],
   "source": []
  },
  {
   "cell_type": "code",
   "execution_count": null,
   "id": "b2c3e6ce-4a64-4df1-9610-c6954e30cb0c",
   "metadata": {},
   "outputs": [],
   "source": []
  },
  {
   "cell_type": "code",
   "execution_count": null,
   "id": "b3fe4b96-19a6-4d04-840e-dcb082ddcdd4",
   "metadata": {},
   "outputs": [],
   "source": []
  },
  {
   "cell_type": "markdown",
   "id": "95bc63cb-a038-4cdc-aafc-42e5bb4aa9da",
   "metadata": {},
   "source": [
    "# Convert EdgeR plots to volcano plots <a class=\"anchor\" id=\"convert\"></a>"
   ]
  },
  {
   "cell_type": "markdown",
   "id": "3a96fe9d-fdb7-4385-b016-42cfac23ab63",
   "metadata": {},
   "source": [
    "[EdgeR to Volcano plot notebook](231130_EdgeR_to_Volcano_plots_NS_msWTA.ipynb)\n"
   ]
  },
  {
   "cell_type": "code",
   "execution_count": null,
   "id": "7474f5cf-0af8-49ba-8ea4-5d2e168930b5",
   "metadata": {},
   "outputs": [],
   "source": []
  },
  {
   "cell_type": "code",
   "execution_count": null,
   "id": "f657eb46-a0b9-4940-9e7f-a7296a1d2940",
   "metadata": {},
   "outputs": [],
   "source": []
  },
  {
   "cell_type": "code",
   "execution_count": null,
   "id": "68f8526f-073d-4f80-b652-74acfc5adadc",
   "metadata": {},
   "outputs": [],
   "source": []
  },
  {
   "cell_type": "code",
   "execution_count": null,
   "id": "32557692-f7e2-4829-977e-fe7dab8ed229",
   "metadata": {},
   "outputs": [],
   "source": []
  },
  {
   "cell_type": "markdown",
   "id": "06f14a49-183d-41dd-81f1-c0a15822f5ab",
   "metadata": {},
   "source": [
    "# Create HCC tables summary"
   ]
  },
  {
   "cell_type": "markdown",
   "id": "47bff9b6-3a4b-49c3-8d53-d4b25701b63f",
   "metadata": {},
   "source": [
    "[HCC Tables summary notebook](HCC_Tables_Summary.ipynb)\n",
    "\n",
    "\n",
    "\n",
    "\n",
    "\n",
    "\n"
   ]
  },
  {
   "cell_type": "code",
   "execution_count": null,
   "id": "cd0b4473-73a6-4852-901c-ce294473fded",
   "metadata": {},
   "outputs": [],
   "source": []
  },
  {
   "cell_type": "code",
   "execution_count": null,
   "id": "7d09795a-bda9-4380-bea2-42f03bc96c1b",
   "metadata": {},
   "outputs": [],
   "source": []
  },
  {
   "cell_type": "code",
   "execution_count": null,
   "id": "848a45fb-4ba4-46c0-85dd-156b014db88b",
   "metadata": {},
   "outputs": [],
   "source": [
    "# Create HCC tables summary"
   ]
  },
  {
   "cell_type": "code",
   "execution_count": null,
   "id": "2bc9bc53-acc6-43d0-a88b-9fdf72fbd2d0",
   "metadata": {},
   "outputs": [],
   "source": []
  },
  {
   "cell_type": "code",
   "execution_count": null,
   "id": "6200cc94-8600-4a06-972a-389a31ea6a3b",
   "metadata": {},
   "outputs": [],
   "source": []
  },
  {
   "cell_type": "code",
   "execution_count": null,
   "id": "f416fb67-c1c1-4e2b-9b56-98007d1a03f3",
   "metadata": {},
   "outputs": [],
   "source": []
  },
  {
   "cell_type": "code",
   "execution_count": null,
   "id": "36394ef9-d2c4-44c0-801b-15e168368e7c",
   "metadata": {},
   "outputs": [],
   "source": []
  },
  {
   "cell_type": "code",
   "execution_count": null,
   "id": "e455e536-91e5-4658-9727-c514ab3ca986",
   "metadata": {},
   "outputs": [],
   "source": []
  },
  {
   "cell_type": "code",
   "execution_count": null,
   "id": "1e25a550-b105-4b34-a671-86747ffe83ae",
   "metadata": {},
   "outputs": [],
   "source": []
  },
  {
   "cell_type": "code",
   "execution_count": null,
   "id": "bdcf660d-692e-41ea-9037-4c759ac1bc93",
   "metadata": {},
   "outputs": [],
   "source": []
  },
  {
   "cell_type": "code",
   "execution_count": null,
   "id": "f74b8209-5048-4473-895d-8104bbb52ebc",
   "metadata": {},
   "outputs": [],
   "source": []
  },
  {
   "cell_type": "code",
   "execution_count": null,
   "id": "6f2ba56c-9b3b-428f-a3ba-a1e117b43180",
   "metadata": {},
   "outputs": [],
   "source": []
  },
  {
   "cell_type": "code",
   "execution_count": null,
   "id": "10872815-8e57-44ad-aede-8399b623e272",
   "metadata": {},
   "outputs": [],
   "source": []
  },
  {
   "cell_type": "code",
   "execution_count": null,
   "id": "c37bac23-6e21-45a5-a6b4-86c0e7c7de93",
   "metadata": {},
   "outputs": [],
   "source": []
  },
  {
   "cell_type": "code",
   "execution_count": null,
   "id": "6fadf1c7-c554-4f6d-899b-3deadedc622b",
   "metadata": {},
   "outputs": [],
   "source": []
  },
  {
   "cell_type": "code",
   "execution_count": null,
   "id": "2bbe4f7f-3f54-4ed4-a22d-fb69ecc010b6",
   "metadata": {},
   "outputs": [],
   "source": []
  },
  {
   "cell_type": "code",
   "execution_count": null,
   "id": "74820266-abc2-45ec-9ea9-c1f8be3d13cd",
   "metadata": {},
   "outputs": [],
   "source": []
  },
  {
   "cell_type": "code",
   "execution_count": null,
   "id": "08c881e9-9062-497f-a390-0f4f9b61c7ad",
   "metadata": {},
   "outputs": [],
   "source": []
  },
  {
   "cell_type": "code",
   "execution_count": null,
   "id": "e40dfa8e-ccf1-4498-a27f-aeab48d92c6e",
   "metadata": {},
   "outputs": [],
   "source": []
  },
  {
   "cell_type": "code",
   "execution_count": null,
   "id": "077c87bf-91ff-4649-89ed-642004d2dc77",
   "metadata": {},
   "outputs": [],
   "source": []
  },
  {
   "cell_type": "code",
   "execution_count": null,
   "id": "f1cdd45f-d31a-447b-b995-c4c4a08f3952",
   "metadata": {},
   "outputs": [],
   "source": []
  },
  {
   "cell_type": "code",
   "execution_count": null,
   "id": "1bd4f03d-9fbe-413c-86e3-fc290a3bb32a",
   "metadata": {},
   "outputs": [],
   "source": []
  },
  {
   "cell_type": "code",
   "execution_count": null,
   "id": "bd20f2f7-7147-4e69-856a-fcbd77e527a1",
   "metadata": {},
   "outputs": [],
   "source": []
  },
  {
   "cell_type": "code",
   "execution_count": null,
   "id": "9444c554-a846-4f16-9fc0-8221ecf18527",
   "metadata": {},
   "outputs": [],
   "source": []
  },
  {
   "cell_type": "code",
   "execution_count": null,
   "id": "ee0ede5c-9c01-46c7-b700-5a50d27de6f8",
   "metadata": {},
   "outputs": [],
   "source": []
  },
  {
   "cell_type": "code",
   "execution_count": null,
   "id": "6e66d580-cd2c-4215-9391-63358779aa94",
   "metadata": {},
   "outputs": [],
   "source": []
  },
  {
   "cell_type": "code",
   "execution_count": null,
   "id": "2d4dcb2c-0a63-4374-a725-ef639486348f",
   "metadata": {},
   "outputs": [],
   "source": []
  },
  {
   "cell_type": "code",
   "execution_count": null,
   "id": "b92b2f35-2a4e-4f7d-b20d-b4fef683b323",
   "metadata": {},
   "outputs": [],
   "source": []
  },
  {
   "cell_type": "code",
   "execution_count": null,
   "id": "9d8f0102-e3ba-4199-82cf-83e2db58eea0",
   "metadata": {},
   "outputs": [],
   "source": []
  },
  {
   "cell_type": "code",
   "execution_count": null,
   "id": "196d7132-6103-41a6-9b6d-112e81d75eba",
   "metadata": {},
   "outputs": [],
   "source": []
  },
  {
   "cell_type": "code",
   "execution_count": null,
   "id": "557a40a8-f280-467a-ae14-d53168a78862",
   "metadata": {},
   "outputs": [],
   "source": []
  },
  {
   "cell_type": "code",
   "execution_count": null,
   "id": "04d7ac42-9e2c-41ac-bea8-933787befa86",
   "metadata": {},
   "outputs": [],
   "source": []
  },
  {
   "cell_type": "code",
   "execution_count": null,
   "id": "ce5fb2df-6dd1-436b-ad76-80d9377a0516",
   "metadata": {},
   "outputs": [],
   "source": []
  },
  {
   "cell_type": "code",
   "execution_count": null,
   "id": "a2084bfd-58b5-4d19-b036-6d1544fdc719",
   "metadata": {},
   "outputs": [],
   "source": []
  },
  {
   "cell_type": "code",
   "execution_count": null,
   "id": "259ea5f0-3fce-4204-9e1a-3c98b6a7e696",
   "metadata": {},
   "outputs": [],
   "source": []
  },
  {
   "cell_type": "code",
   "execution_count": null,
   "id": "c46b6cae-b6b8-426f-9e30-0cc53ab6420f",
   "metadata": {},
   "outputs": [],
   "source": []
  },
  {
   "cell_type": "code",
   "execution_count": null,
   "id": "5b337a9b-3247-456e-a94a-98905f4cfea6",
   "metadata": {},
   "outputs": [],
   "source": []
  },
  {
   "cell_type": "code",
   "execution_count": null,
   "id": "33e09252-be71-4097-b2bd-9564480ce487",
   "metadata": {},
   "outputs": [],
   "source": []
  },
  {
   "cell_type": "code",
   "execution_count": null,
   "id": "fd95facf-793b-49e5-a30d-d300bf375e4e",
   "metadata": {},
   "outputs": [],
   "source": []
  },
  {
   "cell_type": "code",
   "execution_count": null,
   "id": "452add03-4837-439c-8785-c4466aa406cf",
   "metadata": {},
   "outputs": [],
   "source": []
  },
  {
   "cell_type": "code",
   "execution_count": null,
   "id": "60f84497-6a76-42b7-a6ee-e715c9157b55",
   "metadata": {},
   "outputs": [],
   "source": []
  },
  {
   "cell_type": "code",
   "execution_count": null,
   "id": "c86d7a1b-fb40-4c58-b83d-d4f9f3671d13",
   "metadata": {},
   "outputs": [],
   "source": []
  }
 ],
 "metadata": {
  "kernelspec": {
   "display_name": "Python 3 (ipykernel)",
   "language": "python",
   "name": "python3"
  },
  "language_info": {
   "codemirror_mode": {
    "name": "ipython",
    "version": 3
   },
   "file_extension": ".py",
   "mimetype": "text/x-python",
   "name": "python",
   "nbconvert_exporter": "python",
   "pygments_lexer": "ipython3",
   "version": "3.11.6"
  }
 },
 "nbformat": 4,
 "nbformat_minor": 5
}
