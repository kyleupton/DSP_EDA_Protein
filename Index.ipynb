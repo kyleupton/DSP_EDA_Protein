{
 "cells": [
  {
   "cell_type": "markdown",
   "id": "5c51dae2-6542-4d04-a9dd-7b3646c907ba",
   "metadata": {},
   "source": [
    "ToDo: DSP => Digital Spatial Profiler"
   ]
  },
  {
   "cell_type": "markdown",
   "id": "2214543a-c7d1-44c5-871e-7c0610509752",
   "metadata": {},
   "source": [
    "# DSP Protein nCounter workflow"
   ]
  },
  {
   "cell_type": "markdown",
   "id": "5dd0955d-e220-44c8-9110-3da0723c698a",
   "metadata": {},
   "source": [
    "# How to use this notebook <a class=\"anchor\" id=\"howTo\"></a>\n",
    "\n",
    "<!-- Cell adapted from Paul Watmore -->\n",
    "\n",
    "This is a [Jupyter notebook](https://jupyter.org/) for DSP data exploration, normalisation and analysis. \n",
    "\n",
    "Jupyter notebooks are interactive documents that contain 'live code', which allows the user to complete an analysis by running code 'cells', which can be modified, updated or added to by the user.\n",
    "\n",
    "Individual Jupyter notebooks are based on a specific 'kernel', or analysis envirnment (mostly programming languages). This particular notebook is based on R. To see which version of R this notebook is based on, and as an example of running a code cell, click on the cell below and press the 'Run' button (top of the page).\n",
    "\n",
    "This notebook is designed for use on the QUT computer system. The notebook files and associated config files and scripts are downloaded from github to your home directory on the HPC. Data files and any outputs from the scripts and notebooks should be saved in a folder on the work directory so they can easily be shared with other users.\n",
    "\n",
    "NOTE: changes you make to the notebook will only be in your home directory. Bug fixes should be pushed to the master github repo, or logged as an issue on github. Github should contain the most recent working version of all notbooks and scripts and should be checked for changes. "
   ]
  },
  {
   "attachments": {},
   "cell_type": "markdown",
   "id": "31eb23e6-54d0-40dc-a79e-0787595a826e",
   "metadata": {},
   "source": [
    "# Contents\n",
    "[How to use this notebook](#howTo)\n",
    "\n",
    "[1. Workflow Overview](#overview)\n",
    "\n",
    "[2. Prepare Configuration File](#config)\n",
    "\n",
    "[3. View and clean annotations](#clean)\n",
    "\n",
    "[4. View and QC data](#qc)\n",
    "\n",
    "[5. Normalise Data](#norm)\n",
    "\n",
    "[6. Normalised Data EDA](#Norm_EDA)\n",
    "\n",
    "[7. Set up comparisons](#compare)\n",
    "\n",
    "[8. Run DGE](#dge)\n",
    "\n",
    "[9. Convert EdgeR plots to volcano plots](#convert)\n"
   ]
  },
  {
   "cell_type": "code",
   "execution_count": null,
   "id": "aa4abf17-02ef-409f-aa1f-fd10ceef7237",
   "metadata": {},
   "outputs": [],
   "source": []
  },
  {
   "attachments": {},
   "cell_type": "markdown",
   "id": "841e0048-229d-4103-bfe1-744402d94a18",
   "metadata": {},
   "source": [
    "# 1. Workflow Overview<a class=\"anchor\" id=\"overview\"></a>\n",
    "\n",
    "\n",
    "\n",
    "This notebook links to a number of auxilary notebooks that walk through a series of steps for data exploration, data cleaning and data analysis.\n",
    "\n",
    "To help with reproducibility, input and output files have been standardised as much as possible (this is a work in progress). <span style=\"color:red\">The folder structure is shown in section ###, and descriptions of the key files are shown in section ###.</span>\n",
    "\n",
    "This workflow is designed to be run in a collaborative manner on QUT compute facilities. As such, this utilises a number of different compute resources that each have different access restrictions and security protocols. Every effort has been made to ensure that sensitive data is protected, however, this may not be suitable for every project. It is every users responibility to ensure that data is stored and secured properly. No encryption is currently implemented in this workflow, relying on propper use of data use and storage according to QUT policies and procedures.\n",
    "\n",
    "\n",
    "\n",
    "The high level overview of the workflow is as follows:\n",
    "\n",
    "\n",
    "\n",
    "-- Prepare config file for running analysis\n",
    "        -- Decide on a working directory on the HPC to set up file structure.\n",
    "        NOTE: HPC storage is preferred to facilitate colaboration and help with data security.\n",
    "\n",
    "\n",
    "-- View and clean annotations\n",
    "\n",
    "\n",
    "-- View and QC raw Data\n",
    "\n",
    "\n",
    "-- Merge or exclude AOIs and/or exclude probes\n",
    "\n",
    "\n",
    "-- Normalise Data\n",
    "\n",
    "\n",
    "-- Normalised Data EDA\n",
    "\n",
    "\n",
    "-- Set up comparisons\n",
    "\n",
    "\n",
    "-- Run DGE\n",
    "\n",
    "\n",
    "-- Convert EdgeR plots to volcano plots"
   ]
  },
  {
   "cell_type": "code",
   "execution_count": null,
   "id": "7f34ce91-9a90-4aa3-a8d2-b61e417d4689",
   "metadata": {},
   "outputs": [],
   "source": []
  },
  {
   "cell_type": "markdown",
   "id": "e768c7c9-176f-432a-acb0-47c3db21e157",
   "metadata": {},
   "source": [
    "## 1.a. Some basic setup\n"
   ]
  },
  {
   "cell_type": "markdown",
   "id": "e7a6ad15-f665-405d-a7c7-34b3bbd85f05",
   "metadata": {},
   "source": [
    "### Directory structure\n",
    "\n",
    "The directory structure required uses 2 base directories, with other directories accessed relative to these 2 base directories. The first base directory is where the GitHub repository is kept. Project specific configuration files are then kept in a sister directory with the same relative root directory. By default this will usually be the users home directory.\n",
    "\n",
    "The second directory is the working directory where input and output files are stored. This could either be the users home directory, or a folder on the \"work\" directory for easier sharing within your group."
   ]
  },
  {
   "cell_type": "markdown",
   "id": "23a465bd-7155-4c4b-9613-9651784a39a3",
   "metadata": {},
   "source": [
    "### Scripts, config and variables files\n",
    "\n",
    "```\n",
    "## Workflow notebooks and R scripts downloaded from GitHub (like this file).\n",
    "\n",
    " ├─ home (HPCFS directory)\n",
    " │ ├─ qutUserID            (replace with actual folder name, read/write access for multiple researchers)\n",
    " │ │ ├─ DSP_EDA_Protein                 (replace with actual folder name, read/write access for multiple researchers)\n",
    " │ │ │ ├─ DSP_nCounter_Protein_Post-Norm_EDA.ipynb\n",
    " │ │ │ ├─ DSP_nCounter_Protein_QC_Git.ipynb\n",
    " │ │ │ ├─ Index.ipynb\n",
    " │ │ │ ├─ EdgeR.R\n",
    " │ │ │ ├─ LICENSE\n",
    " │ │ │ ├─ NSNorm.R\n",
    " │ │ │ ├─ README.md\n",
    " │ │ │ |\n",
    " │ │ │ ├─ functions\n",
    " │ │ │ │ ├─ eda.py\n",
    " │ │ │ │ ├─ masterdata.py\n",
    " │ │ │ │ ├─ plotting.py\n",
    " │ │ │ |\n",
    " │ │ │ ├─ helpers\n",
    " │ │ │ │ ├─ EdgeR_Config_Helper.ipynb\n",
    " │ │ │\n",
    " │ │ │\n",
    " │ │ ├─ Project_Folder        (This folder is at the same level as the \"DSP_EDA_Protein\" containing the files from GitHub. The name of this folder is requested at the start of QC and EDA notebooks, and must be on the same directory level as \"DSP_EDA_Protein\" folder.)\n",
    " │ │ │ ├─ config.txt\n",
    " │ │ │ ├─ edgeR_Config.txt\n",
    " │ │ │ ├─ factor_lookup.tsv\n",
    " │\n",
    " │  ## \n",
    " │\n",
    "```"
   ]
  },
  {
   "cell_type": "markdown",
   "id": "b5974f46-0671-47d7-aaeb-7e284381c6c9",
   "metadata": {},
   "source": [
    "### Working directory\n",
    "\n",
    "```\n",
    "## Processed data files that should be kept secure, but can be edited and shared by researchers:\n",
    "## These are the working files and folders. The folder structure below is an example structure for working on the QUT HPC with eResearch Jupyter Labs/Notebooks\n",
    "\n",
    "\n",
    " ├─ work (HPCFS directory)\n",
    " │ ├─ Research_Group_Folder            (replace with actual folder name, read/write access for multiple researchers)\n",
    " │ │ ├─ Project_Folder                 (replace with actual folder name, read/write access for multiple researchers)\n",
    " │ │ │ ├─ DSP_Protein_Data\n",
    "# Files initially downloaded form DSP with preliminary processed and QC processed data\n",
    " │ │ │ │ ├ Initial Dataset.xlsx        (may be over-written after changes to ROI/AOI annotations)\n",
    " │ │ │ │ ├ Default_QC.xlsx             (may be over-written after changes to ROI/AOI annotations)\n",
    " │ │ │ │ ├ lab_worksheet_P1001##########.txt\n",
    "# Files output from data QC script to identify ROI/AOIs and probes that fail data QC.\n",
    " │ │ │ │ ├ failAOIs.csv                                                      # Check location exportPath\n",
    " │ │ │ │ ├ FailProbes.csv                                                    # Check location exportPath\n",
    " │ │ │ │ ├ sampleInfo_with_wells.csv\n",
    "# Files output from normalisation (normalisation my run through multiple iterations. Different normalisation methods may be needed for some comparisons).\n",
    " │ │ │ │ |\n",
    " │ │ │ │ ├─ Normalisation\n",
    " │ │ │ │ │ ├─ NSNorm\n",
    " │ │ │ │ │ │ ├─ NanoStringNorm_01...\n",
    " │ │ │ │ │ │         ...\n",
    " │ │ │ │ │ │ ├─ NanoStringNorm_84...\n",
    " │ │ │ │ │ │\n",
    " │ │ │ │ │ ├─ NSNormDropped\n",
    " │ │ │ │ │ │ ├─ NanoStringNorm_01...\n",
    " │ │ │ │ │ │         ...\n",
    " │ │ │ │ │ │ ├─ NanoStringNorm_84...\n",
    " │ │ │ │ │\n",
    " │ │ │ │ ├─ EdgeR\n",
    " │ │ │ │ │ ├─ NSNorm_##\n",
    " │ │ │ │ │ │ ├─ EdgeR_Results_Files\n",
    "\n",
    "\n",
    "<i>NOTE: the phrase \"kept secure\" above indicates that the files should be saved to a secure location with backup. Primary data should be kept in read-only locations with backup.\n",
    "</i>\n",
    "```"
   ]
  },
  {
   "cell_type": "code",
   "execution_count": null,
   "id": "b9936fa9-9fbd-4277-8e4f-e56d9774d11d",
   "metadata": {},
   "outputs": [],
   "source": []
  },
  {
   "cell_type": "markdown",
   "id": "d36d8b84-a01e-4150-a921-e99628104405",
   "metadata": {},
   "source": [
    "### Archived files\n",
    "\n",
    "```\n",
    "\n",
    "## Raw data files that are kept secure and imutable (read only access to researchers):\n",
    "## These files are stored in the archives folder on the QUT research drive\n",
    "\n",
    " ├─ R.......\n",
    " │ ├─ A...........\n",
    " │ │ ├─ i..\n",
    " │ │ │ ├─ c..._......._.....\n",
    " │ │ │ │ ├─ c.._..._2024XXXX\n",
    " │ │ │ │ │ ├─ Images\n",
    " │ │ │ │ │ │ ├ Slide_1.png\n",
    " │ │ │ │ │ │ ├ Slide-1_clean.png\n",
    " │ │ │ │ │ │ ├ Slide-1.zip\n",
    " │ │ │ │ │ │ ├ Slide-1.ome.tiff\n",
    " │ │ │ │ │ │ ├ Slide-2.png\n",
    " │ │ │ │ │ │ ├ Slide-2_clean.png\n",
    " │ │ │ │ │ │ ├ Slide-2.zip\n",
    " │ │ │ │ │ │ ├ Slide-2.ome.tiff\n",
    " │ │ │ │ │ ├─ Worksheets\n",
    " │ │ │ │ │ │ ├ lab_worksheet_P1001##########.txt\n",
    " │ │ │ │ │ ├─ Data\n",
    " │ │ │ │ │ │ ├ ####.RCC\n",
    "\n",
    "```"
   ]
  },
  {
   "cell_type": "markdown",
   "id": "6d163eb2-71ef-43bd-b728-2414b9814b6c",
   "metadata": {},
   "source": [
    "# 2. Prepare configuration file<a class=\"anchor\" id=\"config\"></a>"
   ]
  },
  {
   "cell_type": "markdown",
   "id": "11c40150-ce2d-459a-897c-856d41b32910",
   "metadata": {},
   "source": [
    "Each project requires a configuration file to store important details required to run the project. A template file is provided as config_example.txt (this should be renamed config.txt after entering project specific details).\n",
    "\n",
    "Aditional variables will be added to the config file as analysis procedes. These values can be manually updated manually in the config file if required.\n",
    "\n",
    "A complete sample config file is provided below (essential fields are contained in the sample file, aditional files are added during analysis.)"
   ]
  },
  {
   "cell_type": "markdown",
   "id": "6c8156f6-7a1b-4005-82cd-63f2a4fd3523",
   "metadata": {},
   "source": [
    "### Example config.txt file"
   ]
  },
  {
   "cell_type": "markdown",
   "id": "66afcc45-33ec-4c33-b485-d44fbb8f6ad9",
   "metadata": {},
   "source": [
    "<code>\n",
    "projectName : 'Adams_Bray'\n",
    "rootDir : /work/researchGroup/projectName/DSP_Protein_Data/\n",
    "initialDataPath : Initial Dataset.xlsx\n",
    "QCDataPath : Default_QC.xlsx\n",
    "labWorksheet01Path : Lab_Worksheet_P1001660017100A.txt\n",
    "sampleInfoFile : sampleInfo_with_Wells.csv\n",
    "selectedData : Factor1, Factor2, Factor3, Factor4\n",
    "probeThresholdIdx : 41\n",
    "dropSamples : TMA_001_002_Segment_1, TMA_001_014_Segment_1, TMA_001_026_Segment_1, TMA_001_038_Segment_1, TMA_001_050_Segment_1, TMA_002_004_Segment_1, TMA_002_016_Segment_1, TMA_002_028_Segment_1<br>\n",
    "</code>code>"
   ]
  },
  {
   "cell_type": "markdown",
   "id": "ef876acb-fa79-40f1-95d8-4fc497cd0722",
   "metadata": {},
   "source": []
  },
  {
   "cell_type": "markdown",
   "id": "11a7ed21-49dc-4aff-854a-3292b20cbe15",
   "metadata": {},
   "source": [
    "# 3. Data QC notebook"
   ]
  },
  {
   "cell_type": "markdown",
   "id": "b43ac33d-2936-4ad9-adde-83e2691ab1df",
   "metadata": {},
   "source": [
    "## 3.1. Import data"
   ]
  },
  {
   "cell_type": "markdown",
   "id": "74b7f1b2-0177-498a-819c-078448a1caa3",
   "metadata": {},
   "source": [
    "## 3.2. Infer sample locations"
   ]
  },
  {
   "cell_type": "markdown",
   "id": "a331bc46-02c8-4e8a-afd2-8e6b1802455b",
   "metadata": {},
   "source": [
    "## 3.3. Choose factors of interest"
   ]
  },
  {
   "cell_type": "markdown",
   "id": "4b71f896-b9d4-4943-b16d-72a901829538",
   "metadata": {},
   "source": [
    "## 3.4. Basic QC and data overview"
   ]
  },
  {
   "cell_type": "markdown",
   "id": "3ece1a7e-79e3-4ae7-8166-0eaad63c5f8d",
   "metadata": {},
   "source": [
    "## 3.5. View and clean annotations <a class=\"anchor\" id=\"clean\"></a>"
   ]
  },
  {
   "cell_type": "markdown",
   "id": "74658749-ea92-426d-a27e-bedf866c00b9",
   "metadata": {},
   "source": [
    "## 3.6. Plot distribution of AOI surface areas"
   ]
  },
  {
   "cell_type": "markdown",
   "id": "6e7c03b4-0ee4-4665-bbc4-2bb260785b7b",
   "metadata": {},
   "source": [
    "## 3.7. Plot Binding Density histograms"
   ]
  },
  {
   "cell_type": "markdown",
   "id": "1d4c1793-dc55-4c18-b1d6-e22a99c23a32",
   "metadata": {},
   "source": [
    "## 3.8. Visualise raw probe values"
   ]
  },
  {
   "cell_type": "markdown",
   "id": "0d06376a-2bbb-423a-97c5-36eedc9dad1b",
   "metadata": {},
   "source": [
    "## 3.9. Select threshold"
   ]
  },
  {
   "cell_type": "markdown",
   "id": "4641038e-9b5c-439b-81b3-f1de84fe8208",
   "metadata": {},
   "source": [
    "## 3.10. Identify outlier AOIs and probes"
   ]
  },
  {
   "cell_type": "markdown",
   "id": "790a51b8-9fa4-47ae-88ae-013699eeadfd",
   "metadata": {},
   "source": [
    "## 3.11. ERCC correct data"
   ]
  },
  {
   "cell_type": "markdown",
   "id": "c5dbb5dc-d121-4ab5-94ca-6da249095487",
   "metadata": {},
   "source": [
    "## 3.12. Drop outlier AOIs and probes "
   ]
  },
  {
   "cell_type": "markdown",
   "id": "a6257a5f-559f-4461-8027-10ecdc84e074",
   "metadata": {},
   "source": [
    "## 3.13. Plot negative controls and housekeeping controls from raw data"
   ]
  },
  {
   "cell_type": "markdown",
   "id": "a74566e7-aec5-4ab7-bede-4964eaab7e7b",
   "metadata": {},
   "source": [
    "## 3.14. Export data"
   ]
  },
  {
   "cell_type": "markdown",
   "id": "bf445d42-5860-4ff1-83b7-e4e08ebfbc41",
   "metadata": {},
   "source": [
    "## 3.15. Nanostring Norm"
   ]
  },
  {
   "cell_type": "markdown",
   "id": "5bb318e6-a765-4287-8dc2-f9588d1c82ab",
   "metadata": {},
   "source": []
  },
  {
   "cell_type": "markdown",
   "id": "fffa330f-3893-4ad4-b7a1-33d1d237c77e",
   "metadata": {},
   "source": [
    "# 4. Data EDA notebook"
   ]
  },
  {
   "cell_type": "markdown",
   "id": "2496200f-8378-43b5-b72d-e4240ef88634",
   "metadata": {},
   "source": [
    "## 4.1. Import data\n",
    "\n",
    "config file\n",
    "Normalised data\n",
    "Sample info\n",
    "factor variable names and structure"
   ]
  },
  {
   "cell_type": "markdown",
   "id": "de282bdf-336e-4788-bd2e-37a78e121cc0",
   "metadata": {},
   "source": [
    "## 4.2. Visualise normalised data options"
   ]
  },
  {
   "cell_type": "markdown",
   "id": "5ac34082-94de-46b1-be52-cd90d7c13626",
   "metadata": {},
   "source": [
    "## 4.3. Threshold data"
   ]
  },
  {
   "cell_type": "markdown",
   "id": "399737ef-2fa9-4fb1-a268-b0d8b0f83792",
   "metadata": {},
   "source": [
    "## 4.4. re-run NS norm with dropped data"
   ]
  },
  {
   "cell_type": "markdown",
   "id": "9161d5ef-891c-4559-a17c-0ad377280e19",
   "metadata": {},
   "source": [
    "## 4.5. View normalised-dropped data"
   ]
  },
  {
   "cell_type": "markdown",
   "id": "f32f6c71-7d9c-4fb4-adaf-505b368bf1a9",
   "metadata": {},
   "source": [
    "## 4.6. Generate groups for EdgeR analysis\n",
    "See section 5, EdgeR Helper notebook"
   ]
  },
  {
   "cell_type": "markdown",
   "id": "e9a7e300-47ed-4263-91e5-0abdf9d49103",
   "metadata": {},
   "source": [
    "## 4.7.  Run EdgeR analysis"
   ]
  },
  {
   "cell_type": "markdown",
   "id": "6c48a2a0-bb8c-4a48-9c2a-802304dc7ccf",
   "metadata": {},
   "source": [
    "## 4.8. Convert MD Plots to Volcano Plots"
   ]
  },
  {
   "cell_type": "markdown",
   "id": "046c028b-1313-405d-a421-556036832fa9",
   "metadata": {},
   "source": [
    "## 4.9. Plot heatmaps and dendrograms"
   ]
  },
  {
   "cell_type": "markdown",
   "id": "3101974c-6c05-49b0-a975-1fac8ca547c5",
   "metadata": {},
   "source": [
    "# 5. EdgeR Helper notebook"
   ]
  },
  {
   "cell_type": "markdown",
   "id": "86d10ae3-b465-46f5-87a8-96f693304772",
   "metadata": {},
   "source": []
  },
  {
   "cell_type": "markdown",
   "id": "96b81747-0d92-4671-a901-43c1283e1ddd",
   "metadata": {},
   "source": []
  },
  {
   "cell_type": "markdown",
   "id": "0dd6c551-7bb9-4d14-8793-b5625c643378",
   "metadata": {},
   "source": []
  },
  {
   "cell_type": "markdown",
   "id": "43739b98-a877-4691-b299-7863ace8a839",
   "metadata": {},
   "source": [
    "# 6. Work in progress (not functional):\n",
    "\n",
    "PCA viewing by factors\n"
   ]
  },
  {
   "cell_type": "markdown",
   "id": "e345c7d4-8b2c-424b-bef8-ffc4a7c16996",
   "metadata": {},
   "source": [
    "# 7. Feature requests and feedback:\n",
    "\n",
    "kyle.upton.is@gmail.com"
   ]
  },
  {
   "cell_type": "markdown",
   "id": "344d43b4-7117-44d3-86b2-08bfa93e9b5f",
   "metadata": {},
   "source": []
  },
  {
   "cell_type": "markdown",
   "id": "15b0839f-bb7a-440f-8d0c-b500adc4f37d",
   "metadata": {},
   "source": []
  },
  {
   "cell_type": "markdown",
   "id": "9e375f5f-6c00-43f4-ba8a-c8139962e384",
   "metadata": {},
   "source": []
  },
  {
   "cell_type": "markdown",
   "id": "42ddab2d-39a2-48cc-a0c9-5c6d036b7a09",
   "metadata": {},
   "source": [
    "First up we want to confirm that all data entered into the DSP files is correct and clean. The following steps are easiest to performed using the DSP data analysis suite to view AOIs, and download and upload sample annotations. Sample annotations are easiest to edit in microsoft excel on any computer.\n"
   ]
  },
  {
   "cell_type": "markdown",
   "id": "460f3805-68d9-42b3-9da8-80fc68234cc8",
   "metadata": {},
   "source": [
    "### Steps:\n",
    "\n",
    "  1. Download \"Annotation template file\" from DSP\n",
    "\n",
    "  2. Add in factors for AOI annotation\n",
    "\n",
    "  3. Manually review all AOIs\n",
    "\n",
    "  4. Ensure the comment line has been deleted (row 1 in downloaded file). The header row should be row 1.\n",
    "\n",
    "  5. Upload file to DSP and select replace tags and factors\n",
    "  \n",
    "<i>Note: tags and factors are case sensitive. No aditional characters should be present. All tags must be comma separated</i>\n",
    "\n",
    "<i>Note: \"Initial Dataset\" and \"Default QC\" file must be re-generated if AOI annotations are updated.</i>\n",
    "\n",
    "<i>Note: Correlating AOIs to plates and wells was done using the lab worksheet documents and by matching the surface areas in those sheets with the surface areas in the DSP output excel files. 231206_DSP_nCounter_Protein_QC_Subramaniam_HCC_TMA_01 contains code for this but may not be completely up to date.</i>"
   ]
  },
  {
   "cell_type": "code",
   "execution_count": null,
   "id": "d74eb590-4dd7-4499-9ccf-6dfdb7fe1efd",
   "metadata": {},
   "outputs": [],
   "source": []
  },
  {
   "cell_type": "markdown",
   "id": "79df741a-ccac-41d1-a733-7b041c987fb0",
   "metadata": {},
   "source": [
    "Use the following notebook to review AOI annotations.\n",
    "\n",
    "This will help find:\n",
    " - non-conforming annotations (wrong case or puncuation)\n",
    " - empty annotations / missing annotations\n",
    " - empty cells\n",
    "\n"
   ]
  },
  {
   "cell_type": "code",
   "execution_count": null,
   "id": "9dea27e3-9138-41c7-b97b-87389040571b",
   "metadata": {},
   "outputs": [],
   "source": []
  },
  {
   "cell_type": "markdown",
   "id": "690f5f68-4021-46b3-9f1e-f6d793dd1d3e",
   "metadata": {},
   "source": [
    "<!-- [Click here for QC notebook](DSP_nCounter_Annotation_QC_Git.ipynb) \n",
    "\n",
    "ToDo: Separate AOI QC into its own workbook??\n",
    "\n",
    "-->"
   ]
  },
  {
   "cell_type": "code",
   "execution_count": null,
   "id": "55f3bda7-5be3-48c1-b136-fdf5be3cdd92",
   "metadata": {},
   "outputs": [],
   "source": []
  },
  {
   "cell_type": "code",
   "execution_count": null,
   "id": "9afe33a9-a79f-40a3-8923-1ce4b4723e75",
   "metadata": {},
   "outputs": [],
   "source": []
  },
  {
   "cell_type": "markdown",
   "id": "d56faed1-bc41-448c-9d35-15b6f0defd3f",
   "metadata": {},
   "source": [
    "# 4. View and QC Data <a class=\"anchor\" id=\"qc\"></a>"
   ]
  },
  {
   "cell_type": "markdown",
   "id": "34e44334-1335-4717-b2fe-c7dce62d839d",
   "metadata": {},
   "source": [
    "The next step is to chech the quality of the data that has been obtained from the DSP run.\n",
    "\n",
    "This is done for both the probes and the AOIs to determine if any probes or AOIs should be excluded from analysis.\n",
    "\n",
    "\n",
    "[Click here for QC notebook](DSP_nCounter_Protein_QC_Git.ipynb)\n",
    "\n",
    "<i>Note: The above notebook also contains some code for cleaning and completing data annotations.\n",
    "</i>"
   ]
  },
  {
   "cell_type": "markdown",
   "id": "b9a09b7c-8389-4ac3-919a-9ee14ec75e39",
   "metadata": {},
   "source": [
    "# 5. Initial Data Normalisation <a class=\"anchor\" id=\"norm\"></a>"
   ]
  },
  {
   "cell_type": "markdown",
   "id": "e9a1d22e-2dfa-4115-950b-a15d0b00b763",
   "metadata": {},
   "source": [
    "After basic cleaning of data and removal of AOIs or probes if required, data normalisation is performed using many different parameters and thresholds. These should be reviewed in the next notebook to check for consistency in results, and any outliers. Some methods will reveal low expressing probes. Usually only a few normalisations are likely to be appropriate, and a single method should be chosen.\n",
    "\n",
    "Inital data normalisation. is run at the end of the QC Notebook"
   ]
  },
  {
   "cell_type": "code",
   "execution_count": null,
   "id": "8b507c6f-c4a7-47a7-b888-a1c6b7bb2006",
   "metadata": {},
   "outputs": [],
   "source": []
  },
  {
   "cell_type": "markdown",
   "id": "81527f1a-797d-45fd-86ba-a57e6f8df5fa",
   "metadata": {},
   "source": [
    "# 6. Normalised Data EDA <a class=\"anchor\" id=\"Norm_EDA\"></a>"
   ]
  },
  {
   "cell_type": "markdown",
   "id": "a16255b2-ab7f-4370-9151-957fb01a2ecc",
   "metadata": {},
   "source": [
    "Next we want to view the normalised data and finalise thresholds for excluding probes and samples."
   ]
  },
  {
   "cell_type": "markdown",
   "id": "b1108438-d00d-4461-b131-6450229f7572",
   "metadata": {},
   "source": [
    "[Click here for Normalised Data EDA notebook](DSP_nCounter_Protein_Post-Norm_EDA.ipynb)"
   ]
  },
  {
   "cell_type": "code",
   "execution_count": null,
   "id": "24dfec7a-1bba-4531-b90e-525eff378749",
   "metadata": {},
   "outputs": [],
   "source": []
  },
  {
   "cell_type": "markdown",
   "id": "4bede998-b76e-4ab3-9517-14c632519373",
   "metadata": {},
   "source": [
    "# 7. Set up comparisons <a class=\"anchor\" id=\"compare\"></a>"
   ]
  },
  {
   "cell_type": "markdown",
   "id": "715c548f-6a80-41f7-b8fb-eadde6051578",
   "metadata": {},
   "source": [
    "#### ToDo:\n",
    "```\n",
    "return AOIs to ignore in a flat text file\n",
    "\n",
    "Return AOI groups (with whole annotations of all AOIS in each group)\n",
    "What is the best file format to use for this? \n",
    "```"
   ]
  },
  {
   "cell_type": "markdown",
   "id": "64c61a59-8ee7-42a8-b62e-c1b171e75d51",
   "metadata": {},
   "source": [
    "ToDo: Complete script for compiling comparisons in python and converting to R compatible format\n",
    "\n"
   ]
  },
  {
   "cell_type": "code",
   "execution_count": null,
   "id": "a2cd1739-9366-4935-8ca1-3a8ef39e7b7a",
   "metadata": {},
   "outputs": [],
   "source": []
  },
  {
   "cell_type": "code",
   "execution_count": null,
   "id": "27c1cbbc-8cfd-42c7-a272-1d6af351b05c",
   "metadata": {},
   "outputs": [],
   "source": []
  },
  {
   "cell_type": "code",
   "execution_count": null,
   "id": "f6888e10-8069-482d-ba80-bd06bb32ccdf",
   "metadata": {},
   "outputs": [],
   "source": []
  },
  {
   "cell_type": "markdown",
   "id": "e9408362-c51e-465c-af33-84af1e9b7784",
   "metadata": {},
   "source": [
    "# 8. Run DGE (EdgeR) <a class=\"anchor\" id=\"dge\"></a>"
   ]
  },
  {
   "cell_type": "markdown",
   "id": "5f3cee87-17f2-476c-be70-72fedb58ccc3",
   "metadata": {},
   "source": [
    "[EdgeR R script for grouped samples](/Users/upton6/Documents/Nanostring/projects/NS_Liver_HCC_DSP/EdgeR/NS_HCC_GLM_Grouped_02.R)"
   ]
  },
  {
   "cell_type": "code",
   "execution_count": null,
   "id": "20bd09b2-c2b3-497a-9a84-623c671aa1b9",
   "metadata": {},
   "outputs": [],
   "source": []
  },
  {
   "cell_type": "code",
   "execution_count": null,
   "id": "b2c3e6ce-4a64-4df1-9610-c6954e30cb0c",
   "metadata": {},
   "outputs": [],
   "source": []
  },
  {
   "cell_type": "code",
   "execution_count": null,
   "id": "b3fe4b96-19a6-4d04-840e-dcb082ddcdd4",
   "metadata": {},
   "outputs": [],
   "source": []
  },
  {
   "cell_type": "markdown",
   "id": "95bc63cb-a038-4cdc-aafc-42e5bb4aa9da",
   "metadata": {},
   "source": [
    "# 9. Convert EdgeR plots to volcano plots <a class=\"anchor\" id=\"convert\"></a>"
   ]
  },
  {
   "cell_type": "markdown",
   "id": "3a96fe9d-fdb7-4385-b016-42cfac23ab63",
   "metadata": {},
   "source": [
    "[EdgeR to Volcano plot notebook](231130_EdgeR_to_Volcano_plots_NS_msWTA.ipynb)\n"
   ]
  },
  {
   "cell_type": "code",
   "execution_count": null,
   "id": "7474f5cf-0af8-49ba-8ea4-5d2e168930b5",
   "metadata": {},
   "outputs": [],
   "source": []
  },
  {
   "cell_type": "code",
   "execution_count": null,
   "id": "9c37726d-6d15-4774-91f6-7ee0983067cd",
   "metadata": {},
   "outputs": [],
   "source": []
  },
  {
   "cell_type": "code",
   "execution_count": null,
   "id": "944f5a9e-5741-4693-8275-db78edfa3dc4",
   "metadata": {},
   "outputs": [],
   "source": [
    "break"
   ]
  },
  {
   "cell_type": "code",
   "execution_count": null,
   "id": "05fd9c5b-34a9-43b7-b4d5-8761289c3d42",
   "metadata": {},
   "outputs": [],
   "source": []
  },
  {
   "cell_type": "code",
   "execution_count": null,
   "id": "acea054a-ade9-4524-b06b-60a74ec25e0b",
   "metadata": {},
   "outputs": [],
   "source": []
  }
 ],
 "metadata": {
  "kernelspec": {
   "display_name": "Python 3 (ipykernel)",
   "language": "python",
   "name": "python3"
  },
  "language_info": {
   "codemirror_mode": {
    "name": "ipython",
    "version": 3
   },
   "file_extension": ".py",
   "mimetype": "text/x-python",
   "name": "python",
   "nbconvert_exporter": "python",
   "pygments_lexer": "ipython3",
   "version": "3.11.7"
  }
 },
 "nbformat": 4,
 "nbformat_minor": 5
}
