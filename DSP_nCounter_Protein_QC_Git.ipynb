{
 "cells": [
  {
   "cell_type": "code",
   "execution_count": null,
   "id": "31acb3d6",
   "metadata": {},
   "outputs": [],
   "source": [
    "## To Do:\n",
    "\n",
    "# Add a logging function to track use of files for input and output with timestamps"
   ]
  },
  {
   "cell_type": "code",
   "execution_count": null,
   "id": "eb379c11-d43d-4b01-ba39-bbad1f326d10",
   "metadata": {},
   "outputs": [],
   "source": []
  },
  {
   "cell_type": "markdown",
   "id": "f2b0c79b-1037-47b4-8b0b-2c5993022627",
   "metadata": {},
   "source": [
    "<div class=\"alert alert-block alert-success\">\n",
    "A green text box indicates a code cell that must be run, without alteration, to complete the workflow.\n",
    "</div>"
   ]
  },
  {
   "cell_type": "markdown",
   "id": "d1fafd8a-b29d-43ad-9445-dd403a56f105",
   "metadata": {},
   "source": [
    "<div class=\"alert alert-block alert-warning\">\n",
    "An orange text box indicates an optional code cell that doesn't have to be run to complete the workflow, but can be run to complete optional tasks.\n",
    "</div>"
   ]
  },
  {
   "cell_type": "markdown",
   "id": "b972a9f3-974d-4244-b09c-eb504ce8d38a",
   "metadata": {},
   "source": [
    "<div class=\"alert alert-block alert-info\">\n",
    "A blue text box indicates a code cell that requires user input - this cell also must be run to complete the workflow, but the user needs to modify the command in the cell.\n",
    "</div>"
   ]
  },
  {
   "cell_type": "markdown",
   "id": "bdc82e76-b13d-4f19-9ab0-6abeb9b54714",
   "metadata": {},
   "source": [
    "<div class=\"alert alert-block alert-danger\">\n",
    "In addition, some text boxes contain particularly important information. These will be coloured red.\n",
    "</div>"
   ]
  },
  {
   "cell_type": "markdown",
   "id": "35fb2fba-eead-4eca-b632-487c0a2534cc",
   "metadata": {},
   "source": [
    "# <span style=\"color:green\"> Import python functions </sapan>\n",
    "<div class=\"alert alert-block alert-success\">\n",
    "    These packages should all be installed and available in your default environment. eResearch can help with installing modules and setting up environments. \n",
    "</div>\n"
   ]
  },
  {
   "cell_type": "code",
   "execution_count": null,
   "id": "cfc5a611",
   "metadata": {
    "tags": []
   },
   "outputs": [],
   "source": [
    "import os\n",
    "\n",
    "import numpy as np\n",
    "import pandas as pd\n",
    "import scipy as scipy\n",
    "import matplotlib.pyplot as plt\n",
    "import itertools as itertools\n",
    "import ipywidgets as widgets\n",
    "\n",
    "from copy import copy as copy\n",
    "from openpyxl import load_workbook\n",
    "\n",
    "\n"
   ]
  },
  {
   "cell_type": "markdown",
   "id": "66981b55-f3cf-4877-9e8d-cc47354a1b6a",
   "metadata": {},
   "source": [
    "# <span style=\"color:green\"> Define/Import custom functions </sapan>\n",
    "<div class=\"alert alert-block alert-success\">\n",
    "    Custom functions for this workflow are imported from the functions folder. \n",
    "</div>"
   ]
  },
  {
   "cell_type": "code",
   "execution_count": null,
   "id": "62a7615b-352e-4a28-a3ac-933a6947cbe7",
   "metadata": {},
   "outputs": [],
   "source": [
    "from functions.masterdata import (\n",
    "        master_data, \n",
    "        read_Surf_Areas, \n",
    "        readConfig, \n",
    "        make_locate_list, \n",
    "        enter_locations, \n",
    "        read_plate_info,\n",
    "        getUniqueCombos,\n",
    "        check_plate_info,\n",
    "        infer_plate_info)\n",
    "\n",
    "from functions.plotting import (\n",
    "        plot_SA_Hist, \n",
    "        draw_probe_plot, \n",
    "        probe_GeoMean_Plots, \n",
    "        threshold_probes, \n",
    "        get_colour_mapping, \n",
    "        binding_density_plot\n",
    "    )\n"
   ]
  },
  {
   "cell_type": "markdown",
   "id": "c85e745e-62e1-4b8a-b7d7-f37c82093507",
   "metadata": {},
   "source": [
    "# <span style=\"color:orange\"> Configure output options for this run </span>\n",
    "\n",
    "<div class=\"alert alert-block alert-warning\">\n",
    "    The writeOutput variable below enables high level control for whether output files are written. This can be turned off to prevent overwriting existing files. <br>\n",
    "    AutoRunProject allows the selection of a folder location from a projects.txt config file\n",
    "</div>"
   ]
  },
  {
   "cell_type": "code",
   "execution_count": null,
   "id": "4f5505c1-0aa0-4a6d-85bc-4422218c6a93",
   "metadata": {},
   "outputs": [],
   "source": [
    "writeOutput = True\n",
    "# writeOutput = False\n",
    "\n",
    "autoRunProject = True\n",
    "# autoRunProject = False\n"
   ]
  },
  {
   "cell_type": "markdown",
   "id": "ebac7259-02bc-49c3-9fcb-80561c0b5b26",
   "metadata": {},
   "source": [
    "## <span style=\"color:blue\"> Read in config file </sapan>\n",
    "<div class=\"alert alert-block alert-info\">\n",
    "    If running in autoRunProject mode, a plain text file named \"project.txt\" can be created in the DSP_EDA_Protein folder. This file is used to hold all current projects, with one project per line. Inactive projects or comment lines start with a #. The project to run must be uncommented. The project names must be the same as the folder name that contains the config files on the same level as the DSP_EDA_Protein folder.<br>\n",
    "A config file (config.txt) or project file (project.txt) must be present in the folder given in the projects file or can be entered in the text below.\n",
    "</div>"
   ]
  },
  {
   "cell_type": "code",
   "execution_count": null,
   "id": "5e1b2226-259b-48ea-a8a5-73799af7fcea",
   "metadata": {},
   "outputs": [],
   "source": [
    "if autoRunProject:\n",
    "    try:\n",
    "        with open('projects.txt', 'r') as f:   ## ToDo: make this robust to lack of file\n",
    "            lines = f.readlines()\n",
    "            for line in lines:\n",
    "                line = line.strip()\n",
    "                if ((not line.startswith('#')) and (not line.strip()=='')):\n",
    "                    subfolder = line\n",
    "    except FileNotFoundError:\n",
    "        subfolder = input(\"Enter the name of the working folder (Must be same level as code folder)\")\n",
    "        print('error')\n",
    "        \n",
    "else:\n",
    "    subfolder = input(\"Enter the name of the working folder (Must be same level as code folder)\")\n",
    "\n",
    "print(subfolder)\n",
    "os.chdir(\"../\" + subfolder)\n"
   ]
  },
  {
   "cell_type": "code",
   "execution_count": null,
   "id": "c1f7f55e-5195-456f-b3c4-ef13af8aeb1a",
   "metadata": {},
   "outputs": [],
   "source": [
    "configDict = readConfig()"
   ]
  },
  {
   "cell_type": "markdown",
   "id": "040e6acb",
   "metadata": {},
   "source": [
    "# <span style=\"color:green\"> Import data from Nanostring initial_dataset file </sapan>\n",
    "<div class=\"alert alert-block alert-success\">\n",
    "    Initial dataset.xlsx file must be located in the folder specified as rootDir above.\n",
    "</div>"
   ]
  },
  {
   "cell_type": "code",
   "execution_count": null,
   "id": "3b9e477b-2494-4e33-8c5d-54d7e47e4587",
   "metadata": {
    "tags": []
   },
   "outputs": [],
   "source": [
    "dataPath = os.path.join(configDict['rootDir'],configDict['initialDataPath'])\n",
    "print(f'dataPath : {dataPath}\\n')\n",
    "\n",
    "masterData = master_data(dataPath)\n",
    "# Read in masterr data and clean sample names.\n",
    "dataExternal, dataLog1External, sampleInfo = masterData.get_data(fix_zeros=True, clean_names=True)\n",
    "dataLog1External, sampleInfo = masterData.add_class_mean(masterData.dataLog1)\n",
    "nuclei = sampleInfo.loc['AOI nuclei count']\n",
    "surfArea = sampleInfo.loc['AOI surface area']\n"
   ]
  },
  {
   "cell_type": "code",
   "execution_count": null,
   "id": "77c7829f-3c36-47cd-8ce5-5d23ee02341a",
   "metadata": {},
   "outputs": [],
   "source": []
  },
  {
   "cell_type": "markdown",
   "id": "8286b45f",
   "metadata": {},
   "source": [
    "# <span style=\"color:blue\"> Infer the sample locations on the processing plates </sapan>\n",
    "<div class=\"alert alert-block alert-info\">\n",
    "    The locations of each individual sample on the processing plates can be inferred from the labworksheet files. Place this file in the rootDir location. If all AOIs have a unique surface area the script should identify the location of each sample automatically. If samples have identical surface areas, sample plate and well (col and row coordinates) will need to be input manually when prompted below.\n",
    "\n",
    "    NOTE: if samples are re-named or new features are added, the sampleInfoWithWells files should be deleted or manually updated.\n",
    "</div>"
   ]
  },
  {
   "cell_type": "code",
   "execution_count": null,
   "id": "36680e6e-69a3-488f-8107-2f7c73c5ad0a",
   "metadata": {},
   "outputs": [],
   "source": [
    "# ToDo: Update master sample info to include plate and well info    !!!!!!!!!!"
   ]
  },
  {
   "cell_type": "code",
   "execution_count": null,
   "id": "83b8e9e3-9c82-4abc-bb28-c4b699024e87",
   "metadata": {},
   "outputs": [],
   "source": [
    "infoPath = os.path.join(configDict['rootDir'], configDict['sampleInfoFile'])\n",
    "\n",
    "worksheets = [configDict[x].split(',') for x in configDict.keys() if x.startswith('labWorksheet')]\n",
    "worksheets = list(itertools.chain(*worksheets))\n",
    "\n",
    "if os.path.isfile(infoPath):\n",
    "    print(f'reading plate info from file : {infoPath}')\n",
    "    sampleInfo = read_plate_info(masterData, infoPath)\n",
    "    masterData.sampleInfo = sampleInfo\n",
    "    writePlateInfoOutput = False\n",
    "else:\n",
    "    print('inferring plate info')\n",
    "    sampleInfo = infer_plate_info(sampleInfo ,configDict['rootDir'], worksheets)\n",
    "    masterData.sampleInfo = sampleInfo\n",
    "    writePlateInfoOutput = True\n",
    "    \n",
    "plateInfoComplete = check_plate_info(sampleInfo)\n",
    "\n",
    "while not(plateInfoComplete):\n",
    "    print('completing plate info')\n",
    "    sampleInfo = infer_plate_info(sampleInfo ,configDict['rootDir'], worksheets)\n",
    "    masterData.sampleInfo = sampleInfo\n",
    "    writePlateInfoOutput = True\n",
    "    plateInfoComplete = check_plate_info(sampleInfo)\n",
    "\n",
    "## Write sample info with well data included to file:\n",
    "if writePlateInfoOutput:\n",
    "    sampleInfo.to_csv(os.path.join(dataPath[:dataPath.rfind('/')],'sampleInfo_with_wells.csv'))\n",
    "\n",
    "    \n",
    "# ToDo: Check whether sampleInfo has been updated in masterData"
   ]
  },
  {
   "cell_type": "code",
   "execution_count": null,
   "id": "355422df-c730-4d55-b828-66427ee9cbac",
   "metadata": {},
   "outputs": [],
   "source": [
    "# Check if any values for weill, row, col or plate are blank\n",
    "sampleInfo.loc[['Well','Row','Col','Plate']].isnull().any().any()"
   ]
  },
  {
   "cell_type": "code",
   "execution_count": null,
   "id": "7939441f-c17c-467a-b169-4ecbd4bb6055",
   "metadata": {},
   "outputs": [],
   "source": [
    "# Sanity check\n",
    "# View sampleInfo entries for weill, row, col or plate\n",
    "sampleInfo.loc[['Well','Row','Col','Plate']]"
   ]
  },
  {
   "cell_type": "markdown",
   "id": "5522498d",
   "metadata": {},
   "source": [
    "# <span style=\"color:green\"> Basic QC and data overview plots </sapan>\n",
    "<div class=\"alert alert-block alert-success\">\n",
    "    The cells below output basic QC plots to start getting a look at and feel for the data. \n",
    "</div>\n"
   ]
  },
  {
   "cell_type": "markdown",
   "id": "a6b25cce-fb37-49f1-afa7-ecf21bd9a22c",
   "metadata": {},
   "source": [
    "## <span style=\"color:orange\"> Choose factors of interest for data visualisation </span>\n",
    "\n",
    "<div class=\"alert alert-block alert-warning\">\n",
    "Select factors to use for data visualisation. These factors will be used to generate colour mappings for plotting data. <br>\n",
    "    Re-running the checkbox generation cell below will clear selections and generate empty checkboxes.\n",
    "</div>"
   ]
  },
  {
   "cell_type": "code",
   "execution_count": null,
   "id": "5c6701f6-2d99-4588-80f1-e18d027837b6",
   "metadata": {},
   "outputs": [],
   "source": [
    "# ToDo: Check if selected data is written to config file\n",
    "# If written already, use this by default, otherwise ask for selection"
   ]
  },
  {
   "cell_type": "markdown",
   "id": "1348cca7-2204-4868-ae09-bf428543101b",
   "metadata": {},
   "source": [
    "<i>INFO: The input cell does not advance to the next cell. Run the first cell below to generate the checkboxes, then select checkboxes and run the second cell below to read the selected checkboxes. Re-running the first cell below will clear selections and generate empty checkboxes.</i>"
   ]
  },
  {
   "cell_type": "code",
   "execution_count": null,
   "id": "55b35adc-5a49-4d2f-bbe6-aeefe7e9d594",
   "metadata": {},
   "outputs": [],
   "source": [
    "# input(\"Press Enter to continue and choose factors of interest via the checkboxes generated in the next cell.\")"
   ]
  },
  {
   "cell_type": "code",
   "execution_count": null,
   "id": "afa26b40-67f7-445e-8b9d-8f50df7ba0b2",
   "metadata": {
    "scrolled": true
   },
   "outputs": [],
   "source": [
    "# checkbox generation cell \n",
    "\n",
    "# if (len(configDict['selectedData']) == 0):\n",
    "\n",
    "data = list(sampleInfo.index)\n",
    "checkboxes = [widgets.Checkbox(value=False, description=label) for label in data]\n",
    "output = widgets.VBox(children=checkboxes)\n",
    "display(output)"
   ]
  },
  {
   "cell_type": "code",
   "execution_count": null,
   "id": "647b56cb-cf55-48f9-babc-35f47e9489dc",
   "metadata": {},
   "outputs": [],
   "source": [
    "# Write configDict['selectedData'] to config.txt file\n",
    "# if (len(configDict['selectedData']) == 0):\n",
    "for i in range(0, len(checkboxes)):\n",
    "    if checkboxes[i].value == True:\n",
    "        if not ([checkboxes[i].description] in configDict['selectedData']):\n",
    "            configDict['selectedData'] = configDict['selectedData'] + [checkboxes[i].description]\n",
    "print('configDict[selectedData] :\\t{}'.format(configDict['selectedData']))\n",
    "print('length : {}'.format(len(configDict['selectedData'])))"
   ]
  },
  {
   "cell_type": "markdown",
   "id": "0d16c7d5-02bb-458c-85ee-c6f57fe565f6",
   "metadata": {},
   "source": [
    "<div class=\"alert alert-block alert-warning\">\n",
    "To write selected factors to the config file, set newConfig to true in the cell below. Make sure the config file contains a single selectedData line after running this.\n",
    "</div>"
   ]
  },
  {
   "cell_type": "code",
   "execution_count": null,
   "id": "800648fa-709c-4caf-a788-45457f5849d6",
   "metadata": {},
   "outputs": [],
   "source": [
    "# ToDo: update to determine whether a new config has been added and should be written to config.txt. Perhaps write a final version of the config file once whole script has been run.\n",
    "# newConfig = True\n",
    "newConfig = False\n",
    "if newConfig:\n",
    "    with open('config.txt', 'a') as config:\n",
    "        config.write('selectedData : ')\n",
    "        config.write(', '.join([x.description for x in checkboxes if x.value == True]))\n",
    "        config.write('\\n')\n"
   ]
  },
  {
   "cell_type": "code",
   "execution_count": null,
   "id": "109b8bea-afc8-46dd-8076-a01c7489029b",
   "metadata": {},
   "outputs": [],
   "source": []
  },
  {
   "cell_type": "code",
   "execution_count": null,
   "id": "2656b67e-d4ea-4683-b242-92b4ea663c59",
   "metadata": {},
   "outputs": [],
   "source": []
  },
  {
   "cell_type": "markdown",
   "id": "17779ca1-3348-4bf6-8598-bd6974c2f316",
   "metadata": {},
   "source": [
    "\n",
    "### <span style=\"color:green\"> View and clean annotations (Unique factor variable name check)</sapan>\n",
    "<div class=\"alert alert-block alert-success\">\n",
    "    Quick check that variable names are entered correctly. \n",
    "</div>"
   ]
  },
  {
   "cell_type": "markdown",
   "id": "82193eec-f43a-4c21-a3bd-cfa1270faf9f",
   "metadata": {},
   "source": [
    "<div class=\"alert alert-block alert-danger\">\n",
    "Using clean and consistent data is essential for correctly selecting sample groups for analysis. This section is designed to identify the unique variables that have been entered for each factor of interest at the sample annotation stage. Please review the factor variables carefuly to make sure that all expected variables are present, and there are no unexpected variations of v ariable names. variables are case sensitive and any differences will generate a unique variable. \n",
    "</div>"
   ]
  },
  {
   "cell_type": "code",
   "execution_count": null,
   "id": "708f9be7-1816-4519-a23a-58f5a8259903",
   "metadata": {},
   "outputs": [],
   "source": [
    "selectedFactors = configDict['selectedData']\n",
    "print(selectedFactors)\n",
    "selectedFactors.extend(['Row', 'Col'])\n",
    "print(selectedFactors)\n",
    "selectedFactors = list(set(selectedFactors))\n",
    "configDict['selectedData'] = selectedFactors.copy()\n",
    "\n",
    "selectedInfo = sampleInfo.loc[selectedFactors]\n",
    "selectedInfo = selectedInfo.fillna(value='AutoFilledBlank')\n",
    "# selectedInfo.drop_duplicates(keep='first', inplace=True)\n",
    "selectedInfo"
   ]
  },
  {
   "cell_type": "code",
   "execution_count": null,
   "id": "361c8809-a737-4931-b8fc-d7855449baf3",
   "metadata": {},
   "outputs": [],
   "source": [
    "# Unique factor variables are printed below\n",
    "\n",
    "## ToDo: Make sure all names are printed and add count of variable names\n",
    "\n",
    "infoValues = selectedInfo.stack().groupby(level=0).apply(lambda x: sorted(x.unique()))\n",
    "infoValues"
   ]
  },
  {
   "cell_type": "markdown",
   "id": "080a84d0-a846-463d-bd59-a0679f062672",
   "metadata": {},
   "source": [
    "#### factors unique combinations table"
   ]
  },
  {
   "cell_type": "code",
   "execution_count": null,
   "id": "6036000f-cb8b-4d04-8725-d3a7d234d501",
   "metadata": {},
   "outputs": [],
   "source": [
    "# infoValues = pd.DataFrame(infoValues).T\n",
    "\n",
    "# # ToDo: Break lists down into separate rows\n",
    "\n",
    "# infoValues.style.set_table_styles(\n",
    "#                         [{\n",
    "# 'selector': 'th',\n",
    "#    'props': [\n",
    "# ('background-color', 'black'),\n",
    "#        ('color', 'white'),\n",
    "#        ('border-color', 'black'),\n",
    "#        ('border-style ', 'solid'),\n",
    "#        ('border-width','1px')]  \n",
    "# },\n",
    "# {\n",
    "#    'selector': 'td',\n",
    "#    'props': [\n",
    "#        ('border-color', 'black'),\n",
    "#        ('border-style ', 'solid'),\n",
    "#        ('border-width','1px')]\n",
    "# },\n",
    "# {'selector': '.row_heading',\n",
    "#       'props': [('display', 'none')]},\n",
    "# {'selector': '.blank.level0',\n",
    "#       'props': [('display', 'none')]}])"
   ]
  },
  {
   "cell_type": "code",
   "execution_count": null,
   "id": "a262c667-0a90-40c6-b1f0-1460731fcf6b",
   "metadata": {
    "scrolled": true
   },
   "outputs": [],
   "source": [
    "getUniqueCombos(selectedInfo)"
   ]
  },
  {
   "cell_type": "code",
   "execution_count": null,
   "id": "eaa3c3ee-ddc1-4751-8d81-f874aa7d6014",
   "metadata": {},
   "outputs": [],
   "source": [
    "# ToDo: Add in functionality to view number of samples in different subgroups"
   ]
  },
  {
   "cell_type": "code",
   "execution_count": null,
   "id": "689b348b-cf12-4a54-b7bc-442ce002306a",
   "metadata": {},
   "outputs": [],
   "source": []
  },
  {
   "cell_type": "markdown",
   "id": "d2be6926-52ef-4107-9ac8-37d96ae35f67",
   "metadata": {},
   "source": [
    "### <span style=\"color:green\"> Write Factor lookup csv file </sapan>\n",
    "<div class=\"alert alert-block alert-success\">\n",
    "    Quick check that variable names are entered correctly. \n",
    "</div>\n"
   ]
  },
  {
   "cell_type": "code",
   "execution_count": null,
   "id": "d1f3f4ad-eda5-4510-b4ed-b3d872579603",
   "metadata": {},
   "outputs": [],
   "source": [
    "# Check the current working directory. Should be folder for config files etc.\n",
    "\n",
    "os.getcwd()"
   ]
  },
  {
   "cell_type": "code",
   "execution_count": null,
   "id": "bd3f85ab-904a-408c-a24c-f3b73d48ce09",
   "metadata": {},
   "outputs": [],
   "source": [
    "with open('factor_lookup.tsv', 'w') as f:\n",
    "    for idx in infoValues.index:\n",
    "        f.write(idx)\n",
    "        f.write(': ')\n",
    "        f.write('\\t'.join(infoValues[idx]))\n",
    "        f.write('\\n')\n",
    "\n",
    "# factor: variable1, variable2"
   ]
  },
  {
   "cell_type": "code",
   "execution_count": null,
   "id": "25eaf7d6-7ea5-44a3-8e1f-92ead8463c34",
   "metadata": {},
   "outputs": [],
   "source": []
  },
  {
   "cell_type": "markdown",
   "id": "b03ba800-149e-422d-aaeb-19db53ff8b0d",
   "metadata": {},
   "source": [
    "## <span style=\"color:orange\"> Choose factors to use for colour selection in the plots below </sapan>\n",
    "\n",
    "<div class=\"alert alert-block alert-warning\">\n",
    "Use the cell below to select the factors to use for colour map generation in some of the figures below.<br><br>\n",
    "Set re-select to True to select new factors, or False to continue with current selection.\n",
    "</div>"
   ]
  },
  {
   "cell_type": "code",
   "execution_count": null,
   "id": "3345c6a5-a1f6-4a0c-b5f4-5cc1e3c2832a",
   "metadata": {},
   "outputs": [],
   "source": [
    "# selected_data = []\n",
    "reselect = True\n",
    "reselect = False\n",
    "\n",
    "if reselect:\n",
    "    print('reselecting')\n",
    "    data = list(selectedInfo.index)\n",
    "    checkboxes = [widgets.Checkbox(value=False, description=label) for label in data]\n",
    "    output = widgets.VBox(children=checkboxes)\n",
    "    display(output)"
   ]
  },
  {
   "cell_type": "code",
   "execution_count": null,
   "id": "8aec1239-03cb-4767-95ff-62712bdb12a2",
   "metadata": {},
   "outputs": [],
   "source": [
    "if reselect:\n",
    "    print('reselecting')\n",
    "    for i in range(0, len(checkboxes)):\n",
    "        if checkboxes[i].value == True:\n",
    "            configDict['selectedData'] = configDict['selectedData'] + [checkboxes[i].description]\n",
    "    print(configDict['selectedData'])\n"
   ]
  },
  {
   "cell_type": "code",
   "execution_count": null,
   "id": "811803c5-51ff-4809-a18b-1032f24b6678",
   "metadata": {},
   "outputs": [],
   "source": [
    "selectedInfo = selectedInfo.loc[configDict['selectedData']]\n",
    "selectedInfo"
   ]
  },
  {
   "cell_type": "code",
   "execution_count": null,
   "id": "ea1e8a9f-178a-4012-9252-5c7726d7b596",
   "metadata": {},
   "outputs": [],
   "source": [
    "configDict['selectedData']"
   ]
  },
  {
   "cell_type": "code",
   "execution_count": null,
   "id": "34fc5e7a-9ef3-4b6b-93bd-742c2e3e3f3f",
   "metadata": {},
   "outputs": [],
   "source": [
    "configDict['selectedData']"
   ]
  },
  {
   "cell_type": "markdown",
   "id": "28958396-684d-4b33-b534-ba4b8546db90",
   "metadata": {},
   "source": [
    "ToDo: Add colour lookup dictionary"
   ]
  },
  {
   "cell_type": "markdown",
   "id": "6997e012-e398-4866-afd1-3d2006ca1624",
   "metadata": {},
   "source": [
    "## <span style=\"color:green\"> Plot distribution of AOI surface areas </sapan>\n",
    "<div class=\"alert alert-block alert-success\">\n",
    "    Ideally, the AOI seze can be kept the same for all AOIs, however this is likely impossible or impractical for most studies. Here we plot the distribution of AOI sizes to get a clear view the different AOI sizes present in our data set. This may become important in later steps when deciding on normalisation approaches, data thresholding and exclusion of outlier AOIs. \n",
    "</div>\n"
   ]
  },
  {
   "cell_type": "code",
   "execution_count": null,
   "id": "3031a656",
   "metadata": {},
   "outputs": [],
   "source": [
    "# ToDo: Add colouring for different AOI types\n",
    "SAHist = plot_SA_Hist(surfArea)\n"
   ]
  },
  {
   "cell_type": "markdown",
   "id": "8fccc820-d15c-4f98-acb1-280d018c23d4",
   "metadata": {},
   "source": [
    "## <span style=\"color:green\"> Plot Binding Density histograms (in plate order) </sapan>\n",
    "<div class=\"alert alert-block alert-success\">\n",
    "Binding density is calculated per lane on the nCounter cartridge. This is equivalent to the columns on hte hybridisation plate. The binding density should be similar, but does not need to be exactly the same.\n",
    "</div>"
   ]
  },
  {
   "cell_type": "code",
   "execution_count": null,
   "id": "7e95f223-6b19-4187-92af-789921645b4b",
   "metadata": {},
   "outputs": [],
   "source": [
    "# generate binding density plots\n",
    "\n",
    "binding_density_plot(sampleInfo, selectedInfo, configDict['selectedData'])\n",
    "# binding_density_plot(sampleInfo, selectedInfo, 'Col')\n",
    "\n",
    "for s in selectedFactors:\n",
    "    binding_density_plot(sampleInfo, selectedInfo, s)\n",
    "    "
   ]
  },
  {
   "cell_type": "code",
   "execution_count": null,
   "id": "cc488edf-6fa7-4a7a-b249-5734df99772a",
   "metadata": {},
   "outputs": [],
   "source": []
  },
  {
   "cell_type": "markdown",
   "id": "24127f7a",
   "metadata": {},
   "source": [
    "## <span style=\"color:green\"> Visualise raw probe values before any normalisation </sapan>\n",
    "<div class=\"alert alert-block alert-success\">\n",
    "Checking the raw probe values can help identify any systemic issues that may be present in the data set.\n",
    "</div>"
   ]
  },
  {
   "cell_type": "markdown",
   "id": "ea6ef66d-a930-45ec-a9ec-f55607c473d7",
   "metadata": {},
   "source": [
    "<div class=\"alert alert-block alert-danger\">\n",
    "The plots below are aranged with the individual probes on the x axis and probe count on the y axis. each sample is represented by a dot for the probe value for each probe.\n",
    "</div>"
   ]
  },
  {
   "cell_type": "code",
   "execution_count": null,
   "id": "f4196207-f80c-40aa-ac74-d196910d8b86",
   "metadata": {},
   "outputs": [],
   "source": [
    "# Show the selected data rows that are currently selected\n",
    "print('configDict[\\'selectedData\\'] :\\t' + str(configDict['selectedData']))"
   ]
  },
  {
   "cell_type": "code",
   "execution_count": null,
   "id": "3ef60013-a9e3-433f-ad5d-ff2fac122e7e",
   "metadata": {},
   "outputs": [],
   "source": [
    "# Show some of the log transformed data to be plotted\n",
    "dataLog1External"
   ]
  },
  {
   "cell_type": "code",
   "execution_count": null,
   "id": "4af1afae-a692-497e-92d5-c1f1fbab9136",
   "metadata": {},
   "outputs": [],
   "source": [
    "dataSortedRaw = dataLog1External.sort_values(by = ['probeClass', 'mean'], ascending=[True,True])\n",
    "\n",
    "# for s in configDict['selectedData']:\n",
    "for s in selectedFactors:\n",
    "    draw_probe_plot(dataSortedRaw, sampleInfo, selectedInfo, s, 'Raw Probe Values \\\"' + s + '\\\"', savefig=os.path.join(os.getcwd(),'probe_Plot.svg'))\n",
    "    \n"
   ]
  },
  {
   "cell_type": "code",
   "execution_count": null,
   "id": "a220da72-bd34-492c-9ee4-8f5a5d9ec036",
   "metadata": {},
   "outputs": [],
   "source": [
    "dataLog1External"
   ]
  },
  {
   "cell_type": "code",
   "execution_count": null,
   "id": "97fa0d63-57b6-45ca-a3dc-5862318cd5b3",
   "metadata": {
    "scrolled": true
   },
   "outputs": [],
   "source": [
    "sampleInfo"
   ]
  },
  {
   "cell_type": "code",
   "execution_count": null,
   "id": "d2d57228",
   "metadata": {},
   "outputs": [],
   "source": [
    "# ToDo: Add cmap for a single factor\n",
    "\n",
    "# Plot of non-log transformed HYB-NEG values vs log transformed HYB-POS values\n",
    "plt.scatter(np.exp2(dataLog1External.drop(labels=['mean','probeClass'], axis=1).loc['HYB-NEG'])-1,\n",
    "            dataLog1External.drop(labels=['mean','probeClass'], axis=1).loc['HYB-POS'])\n",
    "plt.title('Negative vs Positive probe values')\n",
    "plt.xlabel('HYB-NEG')\n",
    "plt.ylabel('HYB-POS (Log2 transformed)')"
   ]
  },
  {
   "cell_type": "code",
   "execution_count": null,
   "id": "1db54dc4",
   "metadata": {},
   "outputs": [],
   "source": [
    "# ToDo: Add cmap for a single factor\n",
    "\n",
    "# Plot of non-log transformed HYB-NEG values vs AOI surface area values\n",
    "plt.scatter(np.exp2(dataLog1External.drop(labels=['mean','probeClass'], axis=1).loc['HYB-NEG'])-1,\n",
    "        surfArea.reindex(dataLog1External.drop(labels=['mean','probeClass'],axis=1).columns))\n",
    "plt.title('Negative probe values vs Surface Area ')\n",
    "plt.xlabel('HYB-NEG')\n",
    "plt.ylabel('AOI Surface Area')"
   ]
  },
  {
   "cell_type": "markdown",
   "id": "c8b386cd-a8d9-4c8a-9399-cf6926bf0f3b",
   "metadata": {},
   "source": [
    "## <span style=\"color:red\"> Raw probe QC questions / checks: </sapan>\n",
    "\n",
    "<div class=\"alert alert-block alert-danger\">\n",
    "Info on important questions to consider from QC steps\n",
    "</div>"
   ]
  },
  {
   "cell_type": "code",
   "execution_count": null,
   "id": "5bd88631-e5a4-4619-b4f9-ce654a007ab5",
   "metadata": {},
   "outputs": [],
   "source": []
  },
  {
   "cell_type": "markdown",
   "id": "ee148897",
   "metadata": {},
   "source": [
    "# <span style=\"color:orange\"> Determine thresholding value for limit of detection for assay </span>\n",
    "\n",
    "<div class=\"alert alert-block alert-warning\">\n",
    "In the following section a threshold can be set for primary interrogation of the assay limit of detection and probes and samples that may be usable for further analysis.<br><br>\n",
    "\n",
    "After running through the following cells and deciding a threshold to use for this study, this threshold can be added to the config file for be automaticcaly imported for future runs.<br><br>\n",
    "\n",
    "The threshold shoud be set as the first local minimum closest to the start of the 'real' values.\n",
    "\n",
    "\n",
    "Flesh this documentation out more !!!\n",
    "\n",
    "</div>"
   ]
  },
  {
   "cell_type": "code",
   "execution_count": null,
   "id": "4b9db0e6-bffa-42ce-99e4-b46dbe5ddd7b",
   "metadata": {},
   "outputs": [],
   "source": [
    "# ToDo: Add plots where hyb-neg and negative controls are shown with separate cmaps"
   ]
  },
  {
   "cell_type": "code",
   "execution_count": null,
   "id": "98444738-9f92-4299-a9aa-cf48de114266",
   "metadata": {},
   "outputs": [],
   "source": [
    "# Try to read in probeThreshold from config file.\n",
    "\n",
    "try:\n",
    "    probeThresholdIdx = configDict['probeThresholdIdx']\n",
    "    probeThresholdSet = True\n",
    "    print('Previous probe threshold was found')\n",
    "except KeyError:\n",
    "    probeThresholdSet = False\n",
    "    print('No probe threshold was found')\n"
   ]
  },
  {
   "cell_type": "code",
   "execution_count": null,
   "id": "32175820",
   "metadata": {},
   "outputs": [],
   "source": [
    "thresholding = threshold_probes(dataLog1External, 300)"
   ]
  },
  {
   "cell_type": "code",
   "execution_count": null,
   "id": "65f78156",
   "metadata": {},
   "outputs": [],
   "source": [
    "#Set index value to use for minimum expression threshold from thresholding.\n",
    "\n",
    "if not(probeThresholdSet):\n",
    "    probeThresholdIdx = 38 # Threshold can be set here if it was not read into the configDict\n",
    "\n",
    "thresholding.set_threshold_idx(probeThresholdIdx)"
   ]
  },
  {
   "cell_type": "code",
   "execution_count": null,
   "id": "3324cd19",
   "metadata": {},
   "outputs": [],
   "source": [
    "thresholding.zoom_plot(0.5,3)"
   ]
  },
  {
   "cell_type": "code",
   "execution_count": null,
   "id": "db06fcb8",
   "metadata": {},
   "outputs": [],
   "source": [
    "thresholding.check_threshold(0,50)\n",
    "thresholding.check_threshold(25,40)"
   ]
  },
  {
   "cell_type": "code",
   "execution_count": null,
   "id": "31b28a9f-a7d1-4c2e-b5c5-055ccf90d247",
   "metadata": {},
   "outputs": [],
   "source": [
    "thresholding.check_threshold(32,33)\n"
   ]
  },
  {
   "cell_type": "code",
   "execution_count": null,
   "id": "5facbaa9-9472-417a-b594-6b2bf483d7a4",
   "metadata": {},
   "outputs": [],
   "source": [
    "probeThresholdIdx"
   ]
  },
  {
   "cell_type": "code",
   "execution_count": null,
   "id": "5a1a8b8a",
   "metadata": {},
   "outputs": [],
   "source": [
    "print(f'threshold Index :\\t%d'%(probeThresholdIdx))\n",
    "print(f'threshold point :\\t%6.3f'%(thresholding.threshold))\n",
    "ETFiltered = thresholding.get_filter()"
   ]
  },
  {
   "cell_type": "code",
   "execution_count": null,
   "id": "f486d4a8-21bf-464d-a451-54f55d32716e",
   "metadata": {},
   "outputs": [],
   "source": [
    "if not(probeThresholdSet):\n",
    "    with open('config.txt', 'a') as f:\n",
    "        f.write('probeThresholdIdx : ')\n",
    "        f.write(str(probeThresholdIdx))\n",
    "        f.write('\\n')"
   ]
  },
  {
   "cell_type": "markdown",
   "id": "0f13aae0-a0cb-4b52-bb02-786ef05fc877",
   "metadata": {},
   "source": [
    "## <span style=\"color:green\"> Identify outlier AOIs and probes </sapan>\n",
    "<div class=\"alert alert-block alert-success\">\n",
    "    text here \n",
    "</div>\n"
   ]
  },
  {
   "attachments": {},
   "cell_type": "markdown",
   "id": "b8fe1d0e-d529-45e6-a7e4-4dcc9a891e9f",
   "metadata": {},
   "source": [
    "## <span style=\"color:green\"> Plot counts of AOIs and probes passing thresholds </sapan>\n",
    "<div class=\"alert alert-block alert-success\">\n",
    "text here<br><br>\n",
    "\n",
    "describe fail AOI and fail probe files\n",
    "</div>"
   ]
  },
  {
   "cell_type": "code",
   "execution_count": null,
   "id": "ac686bf1",
   "metadata": {},
   "outputs": [],
   "source": [
    "exportPath = dataPath[:dataPath.rfind('/')]"
   ]
  },
  {
   "cell_type": "code",
   "execution_count": null,
   "id": "6350528f-d7d4-4ba5-bfe8-2eb7b7c2ef14",
   "metadata": {},
   "outputs": [],
   "source": [
    "# get counts of how many probes are above the expression threshold for each AOI\n",
    "passAOI = ETFiltered.sum()\n",
    "thisMin = min(passAOI)\n",
    "thisMax = max(passAOI)\n",
    "print(f'thisMin :\\t{thisMin}')\n",
    "print(f'thisMax :\\t{thisMax}')\n",
    "\n",
    "plt.title('Probes passing threshold per AOI')\n",
    "plt.xlabel('probes passing threshold')\n",
    "plt.ylabel('AOI count')\n",
    "plt.hist(passAOI.values, bins=20)\n",
    "plt.xlim(thisMin-2,thisMax+2)\n",
    "# plt.semilogy()"
   ]
  },
  {
   "cell_type": "code",
   "execution_count": null,
   "id": "f11cdef4",
   "metadata": {},
   "outputs": [],
   "source": [
    "passAOI.sort_values().index[:5]"
   ]
  },
  {
   "cell_type": "code",
   "execution_count": null,
   "id": "cfec4d65-0720-44e7-ad03-bf7760f8342a",
   "metadata": {},
   "outputs": [],
   "source": [
    "failAOIs = passAOI[passAOI < 35]\n",
    "failAOIs.index"
   ]
  },
  {
   "cell_type": "code",
   "execution_count": null,
   "id": "c5419579-682d-4faf-94bb-a827e8542286",
   "metadata": {
    "scrolled": true
   },
   "outputs": [],
   "source": [
    "sampleInfo[failAOIs.index]"
   ]
  },
  {
   "cell_type": "code",
   "execution_count": null,
   "id": "cf30313b",
   "metadata": {},
   "outputs": [],
   "source": [
    "# ToDo: Move this to config file\n",
    "# writeOutput = True\n",
    "if writeOutput:\n",
    "    failAOIs.to_csv(os.path.join(exportPath,'failAOIs.csv'))\n",
    "# writeOutput= False\n"
   ]
  },
  {
   "cell_type": "code",
   "execution_count": null,
   "id": "e2b9900a",
   "metadata": {},
   "outputs": [],
   "source": []
  },
  {
   "cell_type": "code",
   "execution_count": null,
   "id": "b4622fa0-f453-475d-9195-b5943aa6d250",
   "metadata": {},
   "outputs": [],
   "source": [
    "# plot how many AOIs are above the expression threshold for each probe\n",
    "\n",
    "passProbe = ETFiltered.sum(axis=1)\n",
    "thisMin = min(passProbe)\n",
    "thisMax = max(passProbe)\n",
    "\n",
    "plt.title('AOIs where probe passes threshold (AOI count per probe')\n",
    "plt.xlabel('AOIs passing threshold')\n",
    "plt.ylabel('probe count')\n",
    "plt.hist(passProbe.values, bins=30)\n",
    "plt.xlim(thisMin-5,thisMax+5)\n",
    "# plt.semilogy()"
   ]
  },
  {
   "cell_type": "code",
   "execution_count": null,
   "id": "633cde45-6163-4cf0-bb62-177b954860b6",
   "metadata": {},
   "outputs": [],
   "source": [
    "# ToDo: Ask for a value to use for fail probes cutoff\n",
    "# Use the group by factor function (need to finish and move to a method)"
   ]
  },
  {
   "cell_type": "code",
   "execution_count": null,
   "id": "9c2e4303-e7ea-4221-ba71-1c796508c771",
   "metadata": {},
   "outputs": [],
   "source": [
    "# ToDo: Sort this output\n",
    "failProbes = passProbe[passProbe < 48]\n",
    "failProbes"
   ]
  },
  {
   "cell_type": "code",
   "execution_count": null,
   "id": "1eb73e3e-d3d8-4a8e-9756-910866f7a7a8",
   "metadata": {},
   "outputs": [],
   "source": [
    "failProbes = passProbe[passProbe < 100]\n",
    "failProbes"
   ]
  },
  {
   "cell_type": "code",
   "execution_count": null,
   "id": "a86c752c",
   "metadata": {},
   "outputs": [],
   "source": [
    "# ToDo: Move failProbes to config file ?\n",
    "\n",
    "# writeOutput = True\n",
    "if writeOutput:\n",
    "    failProbes.to_csv(os.path.join(exportPath,'FailProbes.csv'))\n",
    "# writeOutput= False\n"
   ]
  },
  {
   "cell_type": "code",
   "execution_count": null,
   "id": "f7e123e4",
   "metadata": {},
   "outputs": [],
   "source": [
    "masterData.set_threshold(ETFiltered)"
   ]
  },
  {
   "cell_type": "code",
   "execution_count": null,
   "id": "41bf5052",
   "metadata": {
    "scrolled": true
   },
   "outputs": [],
   "source": [
    "# masterData.threshold\n"
   ]
  },
  {
   "cell_type": "code",
   "execution_count": null,
   "id": "cbff07d9",
   "metadata": {},
   "outputs": [],
   "source": []
  },
  {
   "cell_type": "markdown",
   "id": "091eff4a-3524-43b4-b41d-2217b7786d6e",
   "metadata": {},
   "source": [
    "# <span style=\"color:green\"> ERCC correct data </sapan>\n",
    "<div class=\"alert alert-block alert-success\">\n",
    "    ERCC correction is the first essential step in data normalisation. This step accounts for differences in hybridisation efficiency and pipetting inaccuracies.\n",
    "</div>"
   ]
  },
  {
   "cell_type": "code",
   "execution_count": null,
   "id": "70eebde6-a763-467c-a06e-b53b7335e706",
   "metadata": {},
   "outputs": [],
   "source": [
    "erccData = masterData.ERCC_norm()\n",
    "erccData, _ = masterData.add_class_mean(erccData)\n"
   ]
  },
  {
   "cell_type": "code",
   "execution_count": null,
   "id": "d7c02ab3-a979-4410-ab6b-8b93ed694ce9",
   "metadata": {},
   "outputs": [],
   "source": [
    "erccData"
   ]
  },
  {
   "cell_type": "code",
   "execution_count": null,
   "id": "3c3d7fce-33d8-4c24-a596-7f4742dc9fad",
   "metadata": {},
   "outputs": [],
   "source": []
  },
  {
   "cell_type": "markdown",
   "id": "8450359f-5038-4ce1-981a-c7ace00c4da4",
   "metadata": {},
   "source": [
    "# <span style=\"color:green\"> Drop outlier AOIs and probes </sapan>\n",
    "<div class=\"alert alert-block alert-success\">\n",
    "Some samples or probes may need to be dropped permanently. This can be done in the following steps.<br><br>\n",
    "\n",
    "\n",
    "</div>"
   ]
  },
  {
   "cell_type": "code",
   "execution_count": null,
   "id": "04871e6d-8b6f-4e2b-85b3-4d8a5bd68e58",
   "metadata": {},
   "outputs": [],
   "source": [
    "# ToDo: Add in options for interactively dropping samples.\n",
    "# ToDo: read in AOIs and probes to be droped from csv files?\n"
   ]
  },
  {
   "cell_type": "code",
   "execution_count": null,
   "id": "d6afebce-5a32-4a97-82f8-8083d22df463",
   "metadata": {},
   "outputs": [],
   "source": [
    "dropSamples = False\n",
    "# dropSamples = True\n",
    "dropSamplesTemp = []\n"
   ]
  },
  {
   "cell_type": "code",
   "execution_count": null,
   "id": "5486b1a6-9119-4e77-8473-79c39032f505",
   "metadata": {},
   "outputs": [],
   "source": [
    "# ToDo: Test this code with multiple projects\n",
    "\n",
    "if dropSamples:\n",
    "    if ('dropSamples' in configDict.keys()):\n",
    "        dropSamples = configDict['dropSamples'].split(',')\n",
    "        dropSamples = [x.strip() for x in dropSamples]\n",
    "        dropSamples = [x.strip('\\'') for x in dropSamples]\n",
    "        dropSamples =pd.Index(dropSamples)\n",
    "\n",
    "\n",
    "\n",
    "    print('dropping samples')\n",
    "    erccData, sampleInfo = masterData.drop_AOIs(list(dropSamples), writeOrig=True)\n",
    "    print(f'erccData.shape {erccData.shape}')\n",
    "    erccData = masterData.ERCC_norm()\n",
    "    erccData, sampleInfo = masterData.add_class_mean(masterData.ERCCData)\n",
    "\n",
    "erccDataSorted = erccData.sort_values(by = ['probeClass', 'mean'], ascending=[True,True])\n",
    "\n"
   ]
  },
  {
   "cell_type": "code",
   "execution_count": null,
   "id": "000140e8-8d22-4b13-bd7a-1d1353727380",
   "metadata": {},
   "outputs": [],
   "source": [
    "# # # ToDo: Tidy up handling of datasets within master data. There are too many copies at the moment!\n",
    "# # # ERCC correction needs to be repeated after dropping AOIs\n",
    "\n",
    "# if (type(dropSamples) == pd.core.indexes.base.Index):\n",
    "#     print('dropping samples')\n",
    "#     erccData, sampleInfo = masterData.drop_AOIs(list(dropSamples), writeOrig=True)\n",
    "#     print(f'erccData.shape {erccData.shape}')\n",
    "#     erccData = masterData.ERCC_norm()\n",
    "#     erccData, sampleInfo = masterData.add_class_mean(masterData.ERCCData)\n",
    "\n",
    "# erccDataSorted = erccData.sort_values(by = ['probeClass', 'mean'], ascending=[True,True])\n"
   ]
  },
  {
   "cell_type": "code",
   "execution_count": null,
   "id": "846f585c-e963-41e1-bd30-748c3c46e367",
   "metadata": {},
   "outputs": [],
   "source": [
    "if (not(type(dropSamples) == pd.core.indexes.base.Index) and (len(dropSamplesTemp) != 0)):\n",
    "    print('writing drop samples to config file.')\n",
    "    with open('config.txt', 'a') as config:\n",
    "        config.write('dropSamples : ')\n",
    "        config.write(', '.join([x for x in dropSamplesTemp]))\n",
    "        config.write('\\n')\n"
   ]
  },
  {
   "cell_type": "markdown",
   "id": "c5b9203e",
   "metadata": {},
   "source": [
    "\n",
    "# <span style=\"color:green\"> Plot negative controls and housekeeping controls from raw data </sapan>\n",
    "<div class=\"alert alert-block alert-success\">\n",
    "It's probably not neccessary to view the following, but lets just have a quick look at how the control values for the raw data is distributed to make sure there are no extreme outliers before ERCC normalisation.\n",
    "\n",
    "</div>"
   ]
  },
  {
   "cell_type": "code",
   "execution_count": null,
   "id": "735a42b7-2fdd-44d9-b741-0e1d25613b74",
   "metadata": {},
   "outputs": [],
   "source": [
    "# Calculate Ig control Geometric mean and Housekeeping gene Geometric mean\n",
    "# Calculating the mean of log transformed data is analagous to calculating the geometric mean of the non-transformed data\n",
    "\n",
    "HKGeoMean = dataLog1External.drop(labels=['mean','probeClass'], axis=1).loc[masterData.HK].mean()\n",
    "HKGeoMean = HKGeoMean.sort_values()\n",
    "\n",
    "IgGeoMean = dataLog1External.drop(labels=['mean','probeClass'], axis=1).reindex(labels=HKGeoMean.index, axis=1).loc[masterData.IgCTLs].mean()\n",
    "\n",
    "HKIgCtls = masterData.HK.copy()\n",
    "HKIgCtls.extend(masterData.IgCTLs)\n",
    "\n",
    "HKIgCtlGeoMeans = dataLog1External.drop(labels=['mean','probeClass'], axis=1).reindex(labels=HKGeoMean.index, axis=1).loc[HKIgCtls].mean()\n",
    "\n",
    "HKIgCtls = masterData.HK.copy()\n",
    "HKIgCtls.extend(masterData.IgCTLs)\n",
    "\n",
    "print(f'masterData.HK :\\t{masterData.HK}')\n",
    "print(f'HKIgCtls :\\t{HKIgCtls}')\n",
    "print(f'HKGeoMean :\\t{HKGeoMean}')\n"
   ]
  },
  {
   "cell_type": "code",
   "execution_count": null,
   "id": "fcb5732d",
   "metadata": {},
   "outputs": [],
   "source": [
    "# ToDo: Fix up cmap for these plots. Choose a factor to colour by.\n",
    "\n",
    "probe_GeoMean_Plots(HKGeoMean, 'House-Keeping probe geometric mean distribution')\n",
    "\n",
    "probe_GeoMean_Plots(IgGeoMean, 'Ig probe geometric mean distribution')"
   ]
  },
  {
   "cell_type": "code",
   "execution_count": null,
   "id": "337832fe",
   "metadata": {},
   "outputs": [],
   "source": [
    "probe_GeoMean_Plots(HKIgCtlGeoMeans, 'HK and Ig probe geometric mean distribution')"
   ]
  },
  {
   "cell_type": "code",
   "execution_count": null,
   "id": "c61f5d59-c499-496c-a48a-c6dd68f668bb",
   "metadata": {},
   "outputs": [],
   "source": [
    "HKIgCtls = masterData.HK.extend(masterData.IgCTLs)\n",
    "print(f'masterData.HK :\\t{masterData.HK}')\n"
   ]
  },
  {
   "cell_type": "code",
   "execution_count": null,
   "id": "b23e9de4-8a75-4c32-837b-8d5bd8190626",
   "metadata": {},
   "outputs": [],
   "source": [
    "###\n",
    "# Matrix of HK expression plots\n",
    "\n",
    "my_cmap, colours = get_colour_mapping(sampleInfo, selectedInfo.loc['Col'])\n",
    "rows = 3\n",
    "cols = 3\n",
    "\n",
    "fig, axes = plt.subplots(rows,cols, figsize=(15,15))\n",
    "\n",
    "\n",
    "S6 = [(x) for x in dataLog1External.drop(labels=['mean','probeClass'], axis=1).loc['S6'].values]\n",
    "H3 = [(x) for x in dataLog1External.drop(labels=['mean','probeClass'], axis=1).loc['Histone H3'].values]\n",
    "GAPDH = [(x) for x in dataLog1External.drop(labels=['mean','probeClass'], axis=1).loc['GAPDH'].values]\n",
    "\n",
    "labels = ['S6', 'H3', 'GAPDH']\n",
    "dataList = [S6, H3, GAPDH]\n",
    "\n",
    "axMin = int(min([min(x) for x in dataList]))\n",
    "axMax = int(max([max(x) for x in dataList]))+1\n",
    "\n",
    "\n",
    "for r in range(rows):\n",
    "    for c in range(cols):\n",
    "        if r==c: # This is a diagonal, insert a label\n",
    "            axes[r][c].text(0.5,0.5, labels[r],ha='center', va='center', transform=axes[r][c].transAxes,fontsize=36)\n",
    "        else:\n",
    "            axes[r][c].scatter(dataList[c], dataList[r], color=my_cmap(colours)) #ToDo: Add a cmap, c=colours)\n",
    "            slope, intercept, r_value, p_value, std_err = scipy.stats.linregress(dataList[c], dataList[r])\n",
    "            axes[r][c].text(0.9,0.9, \"r_value = \" + str(r_value)[:5],ha='right', va='center', transform=axes[r][c].transAxes)\n",
    "            axes[r][c].text(0.9,0.8, \"slope = \" + str(slope)[:5],ha='right', va='center', transform=axes[r][c].transAxes)\n",
    "            axes[r][c].set_xlim(axMin,axMax)\n",
    "            axes[r][c].set_ylim(axMin,axMax)\n",
    "\n"
   ]
  },
  {
   "cell_type": "code",
   "execution_count": null,
   "id": "35f12859-9c97-44da-9fdd-fec3c5cafa2e",
   "metadata": {},
   "outputs": [],
   "source": [
    "\n",
    "# Matrix of IgG expression plots\n",
    "rows = 3\n",
    "cols = 3\n",
    "\n",
    "fig, axes = plt.subplots(rows,cols, figsize=(15,15))\n",
    "\n",
    "\n",
    "mIG1 = [(x) for x in dataLog1External.drop(labels=['mean','probeClass'], axis=1).loc['Ms IgG1'].values]\n",
    "mIG2 = [(x) for x in dataLog1External.drop(labels=['mean','probeClass'], axis=1).loc['Ms IgG2a'].values]\n",
    "rIG = [(x) for x in dataLog1External.drop(labels=['mean','probeClass'], axis=1).loc['Rb IgG'].values]\n",
    "\n",
    "labels = ['Ms_IgG1', 'Ms_IgG2b', 'Rb_IgG']\n",
    "# labels = ['Rt_IgG2a', 'Rt_IgG2b', 'Rb_IgG']\n",
    "dataList = [mIG1,mIG2,rIG]\n",
    "\n",
    "axMin = int(min([min(x) for x in dataList]))\n",
    "axMax = int(max([max(x) for x in dataList]))+1\n",
    "\n",
    "\n",
    "for r in range(rows):\n",
    "    for c in range(cols):\n",
    "        if r==c: # This is a diagonal, insert a label\n",
    "            axes[r][c].text(0.5,0.5, labels[r],ha='center', va='center', transform=axes[r][c].transAxes,fontsize=36)\n",
    "        else:\n",
    "            axes[r][c].scatter(dataList[c], dataList[r], color=my_cmap(colours)) # ToDo: Add cmap , c=colours)\n",
    "            slope, intercept, r_value, p_value, std_err = scipy.stats.linregress(dataList[c], dataList[r])\n",
    "            axes[r][c].text(0.9,0.9, \"r_value = \" + str(r_value)[:5],ha='right', va='center', transform=axes[r][c].transAxes)\n",
    "            axes[r][c].text(0.9,0.8, \"slope = \" + str(slope)[:5],ha='right', va='center', transform=axes[r][c].transAxes)\n",
    "            axes[r][c].set_xlim(axMin,axMax)\n",
    "            axes[r][c].set_ylim(axMin,axMax)"
   ]
  },
  {
   "cell_type": "code",
   "execution_count": null,
   "id": "86081453-97ec-4b96-b9a8-ff1b48287722",
   "metadata": {},
   "outputs": [],
   "source": [
    "# Matrix of IgG expression plots\n",
    "rows = 4\n",
    "cols = 4\n",
    "\n",
    "fig, axes = plt.subplots(rows,cols, figsize=(15,15))\n",
    "\n",
    "labels = ['HKGMean', 'IgGMean', 'Area', 'Nuclei']\n",
    "## Ensure HKGeoMean \n",
    "dataList = [HKGeoMean.loc[dataLog1External.columns[:-2]], \n",
    "            IgGeoMean.loc[dataLog1External.columns[:-2]], \n",
    "            np.log2(list(surfArea.values)), \n",
    "            np.log2(list(nuclei.values))]\n",
    "\n",
    "axMin = int(min([min(x) for x in dataList]))\n",
    "axMax = int(max([max(x) for x in dataList]))+1\n",
    "\n",
    "\n",
    "for r in range(rows):\n",
    "    for c in range(cols):\n",
    "        if r==c: # This is a diagonal, insert a label\n",
    "            axes[r][c].text(0.5,0.5, labels[r],ha='center', va='center', transform=axes[r][c].transAxes,fontsize=36)\n",
    "        else:\n",
    "            axes[r][c].scatter(dataList[c], dataList[r], color=my_cmap(colours)) # ToDo: Add cmap , c=colours)\n",
    "            slope, intercept, r_value, p_value, std_err = scipy.stats.linregress(dataList[c], dataList[r])\n",
    "            axes[r][c].text(0.9,0.9, \"r_value = \" + str(r_value)[:5],ha='right', va='center', transform=axes[r][c].transAxes)\n",
    "            axes[r][c].text(0.9,0.8, \"slope = \" + str(slope)[:5],ha='right', va='center', transform=axes[r][c].transAxes)\n",
    "            axes[r][c].set_xlim(axMin,axMax)\n",
    "            axes[r][c].set_ylim(axMin,axMax)\n",
    "                \n",
    "            "
   ]
  },
  {
   "cell_type": "code",
   "execution_count": null,
   "id": "d5d2232c-4caf-447f-b9ad-bb69719fd765",
   "metadata": {},
   "outputs": [],
   "source": []
  },
  {
   "cell_type": "markdown",
   "id": "dfe17c50-e173-485e-9918-b91ef1037331",
   "metadata": {},
   "source": [
    "# <span style=\"color:green\"> Load-in default QC data from DSP analysis suite for further data QC </sapan>\n",
    "<div class=\"alert alert-block alert-success\">\n",
    "load in QC data from DSP analysis suite.\n",
    "</div>"
   ]
  },
  {
   "cell_type": "code",
   "execution_count": null,
   "id": "1fd63b7e-538c-4401-9b65-2cc5fe321661",
   "metadata": {},
   "outputs": [],
   "source": [
    "QCmasterData = master_data(os.path.join(configDict['rootDir'],configDict['QCDataPath']))\n",
    "QCdataExternal, QCdataLog1External, QCsampleInfo = QCmasterData.get_data()\n",
    "\n",
    "print(QCmasterData.probeClass)\n",
    "print(QCmasterData.probeClassDict)\n",
    "\n",
    "if (type(dropSamples) == pd.core.indexes.base.Index):\n",
    "    QCdataLog1External, QCsampleInfo = QCmasterData.drop_AOIs(list(dropSamples), writeOrig=True)\n",
    "    print(QCdataLog1External.shape)\n",
    "    print(QCsampleInfo.shape)\n",
    "\n",
    "QCdataLog1External, QCsampleInfo = QCmasterData.add_class_mean(QCmasterData.dataLog1)\n"
   ]
  },
  {
   "cell_type": "code",
   "execution_count": null,
   "id": "1fcf6ee2-a267-4926-be60-4c9e53ef484e",
   "metadata": {},
   "outputs": [],
   "source": [
    "# View log transformed QC data\n",
    "\n",
    "QCdataLog1External"
   ]
  },
  {
   "cell_type": "markdown",
   "id": "24313405-a705-4136-b74c-23246f4b359a",
   "metadata": {},
   "source": [
    "## <span style=\"color:green\"> Visualise QC OR ERCC data before normalisation </sapan>\n",
    "<div class=\"alert alert-block alert-success\">\n",
    "Check for obvious outliers etc.\n",
    "</div>"
   ]
  },
  {
   "cell_type": "code",
   "execution_count": null,
   "id": "3b43071f-7312-4594-9b3b-e2937dd06d11",
   "metadata": {},
   "outputs": [],
   "source": [
    "# Sort data by probeclass then mean for nicer visualisation on plots\n",
    "QCdataSortedERCC = QCdataLog1External.sort_values(by = ['probeClass', 'mean'], ascending=[True,True])\n"
   ]
  },
  {
   "cell_type": "code",
   "execution_count": null,
   "id": "a554fc5d-79ac-4d1b-9992-a55910eb219d",
   "metadata": {},
   "outputs": [],
   "source": [
    "for s in configDict['selectedData']:\n",
    "    draw_probe_plot(erccDataSorted, sampleInfo, selectedInfo, s, 'ERCC Probe Values \\\"' + s + '\\\"')\n",
    "    "
   ]
  },
  {
   "cell_type": "code",
   "execution_count": null,
   "id": "b9068b1c-efa7-4c50-948f-ba5f12509b9c",
   "metadata": {},
   "outputs": [],
   "source": [
    "for s in configDict['selectedData']:\n",
    "    draw_probe_plot(QCdataSortedERCC, sampleInfo, selectedInfo, s, 'ERCC Probe Values \\\"' + s + '\\\"')\n",
    "    "
   ]
  },
  {
   "cell_type": "code",
   "execution_count": null,
   "id": "68dcc12b-9c2d-411a-907c-e9146c250c59",
   "metadata": {},
   "outputs": [],
   "source": []
  },
  {
   "cell_type": "code",
   "execution_count": null,
   "id": "ada17e77-7787-4a96-bca6-06f8544f2db7",
   "metadata": {},
   "outputs": [],
   "source": []
  },
  {
   "cell_type": "code",
   "execution_count": null,
   "id": "8b727db0-7a28-4b43-8c26-af8a22912c6e",
   "metadata": {
    "scrolled": true
   },
   "outputs": [],
   "source": [
    "QCSortedIndex = sorted(masterData.probeClass.index, key=lambda x: masterData.probeClassDict[masterData.probeClass[x]])\n",
    "# QCSortedIndex\n",
    "QCSortedProbes = masterData.probeClass[QCSortedIndex]\n",
    "QCSortedProbes.name = \"Code.Class\"\n",
    "QCSortedProbes\n",
    "\n",
    "# list(QCSortedProbes.index)\n"
   ]
  },
  {
   "cell_type": "code",
   "execution_count": null,
   "id": "1287f93e-5ec9-4e54-9f34-864db3a33d49",
   "metadata": {},
   "outputs": [],
   "source": [
    "erccData"
   ]
  },
  {
   "cell_type": "markdown",
   "id": "16dab8c9-00c7-4e14-aa4e-b43d55b846c5",
   "metadata": {},
   "source": [
    "# <span style=\"color:green\"> Export data fopr further analysis </sapan>\n",
    "<div class=\"alert alert-block alert-success\">\n",
    "Text descriuption here\n",
    "</div>"
   ]
  },
  {
   "cell_type": "markdown",
   "id": "fc8951d5-d40e-45da-b7e9-91c14fd9cb77",
   "metadata": {},
   "source": [
    "# <span style=\"color:orange\"> Export ERCC corrected data </span>\n",
    "\n",
    "<div class=\"alert alert-block alert-warning\">\n",
    "Choose whether to output manually ERCC corrected data or ERCC corrected data from DSP QC output\n",
    "</div>"
   ]
  },
  {
   "cell_type": "code",
   "execution_count": null,
   "id": "807cf1de-42be-4897-931d-cc5f9d653869",
   "metadata": {
    "scrolled": true
   },
   "outputs": [],
   "source": [
    "ERCCType = 'manual'\n",
    "# ERCCType = 'DSP_QC'\n",
    "\n",
    "\n",
    "if (ERCCType == 'manual'):\n",
    "    # Export manually ERCC corrected data for further analysis\n",
    "    print('manual ERCC data export')\n",
    "    QCExport = erccData.sort_values(by = ['probeClass', 'mean'], ascending=[True,False])\n",
    "    probeOrder = QCExport.index\n",
    "    QCExport = QCExport.drop(labels=['mean','probeClass'], axis=1)\n",
    "    QCExport\n",
    "elif (ERCCType == 'DSP_QC'):\n",
    "    # Export Nanostring QC'd ERCC corrected data for further analysis\n",
    "    print('DSP QC ERCC data export')\n",
    "    QCExport = QCmasterData.dataOrig.copy()\n",
    "    posNeg = masterData.dataOrig.loc[['HYB-NEG','HYB-POS'],]\n",
    "    QCExport = pd.concat([QCExport,posNeg])\n",
    "    QCExport = QCExport.loc[QCSortedIndex,]\n",
    "    QCExport = pd.concat([QCSortedProbes, QCExport], axis = 1)\n",
    "    QCExport.index.name = 'Name'\n",
    "    QCExport\n",
    "else:\n",
    "    print('ERCC correction type not valid, exiting.')\n",
    "    # break\n"
   ]
  },
  {
   "cell_type": "code",
   "execution_count": null,
   "id": "9dc0081a-67d3-4a46-8ab4-c37b577caecd",
   "metadata": {},
   "outputs": [],
   "source": []
  },
  {
   "cell_type": "code",
   "execution_count": null,
   "id": "8f93cb3f-5ad7-47fc-b7c9-cb7bfe6bb265",
   "metadata": {},
   "outputs": [],
   "source": [
    "# Reverse log2 transformation before normalisation\n",
    "QCExport = pow(2, QCExport)\n",
    "\n",
    "QCExport = pd.concat([QCSortedProbes, QCExport], axis = 1)\n",
    "QCExport = QCExport.loc[list(probeOrder)]\n",
    "QCExport.index.name = 'Name'\n",
    "QCExport\n"
   ]
  },
  {
   "cell_type": "code",
   "execution_count": null,
   "id": "21fbe5d6-18d7-46b0-8ee2-808c1aac3253",
   "metadata": {},
   "outputs": [],
   "source": [
    "# check if normalisation directory exists and create it if not\n",
    "\n",
    "normDir = os.path.join(configDict['rootDir'], 'Normalisation')\n",
    "if not (os.path.isdir(normDir)):\n",
    "    os.mkdir(normDir)\n",
    "\n",
    "print(normDir)\n"
   ]
  },
  {
   "cell_type": "code",
   "execution_count": null,
   "id": "7d28c65f-d532-4c5b-8e5f-550da1974fac",
   "metadata": {},
   "outputs": [],
   "source": [
    "# Write normalised data to file with _preNorm suffix\n",
    "\n",
    "project = configDict['projectName']\n",
    "qcCSV = 'QC_' + project + '_preNorm.csv'\n",
    "\n",
    "# writeOutput= False\n",
    "writeOutput = True\n",
    "if writeOutput:\n",
    "    QCExport.to_csv(os.path.join(normDir, qcCSV))\n",
    "# writeOutput= False\n"
   ]
  },
  {
   "cell_type": "markdown",
   "id": "c0d565f7-1ea9-4b0a-bfe2-98aa378139ee",
   "metadata": {},
   "source": [
    "# <span style=\"color:green\"> Run NanoString Normalisation script in R </sapan>\n",
    "<div class=\"alert alert-block alert-success\">\n",
    "Text descriuption here\n",
    "</div>"
   ]
  },
  {
   "cell_type": "code",
   "execution_count": null,
   "id": "765b683c-35c3-4551-a4cd-863183774294",
   "metadata": {
    "scrolled": true
   },
   "outputs": [],
   "source": [
    "cmd = 'Rscript ../DSP_EDA_Protein/NSNorm.R -d ' + normDir + ' -f ' + qcCSV\n",
    "print(cmd)\n",
    "os.system(cmd)\n"
   ]
  },
  {
   "cell_type": "code",
   "execution_count": null,
   "id": "a30b0ba0-80de-4700-848a-cd7e229e9cbc",
   "metadata": {},
   "outputs": [],
   "source": []
  },
  {
   "cell_type": "code",
   "execution_count": null,
   "id": "57aef09f-1c90-491f-a2de-63b32b5c3129",
   "metadata": {},
   "outputs": [],
   "source": []
  },
  {
   "cell_type": "code",
   "execution_count": null,
   "id": "75d834de-ebf1-45ec-80fc-5db07b38ef14",
   "metadata": {},
   "outputs": [],
   "source": []
  },
  {
   "cell_type": "markdown",
   "id": "a5fc9efd-10c3-49da-b095-4438d3c67988",
   "metadata": {},
   "source": [
    "### ToDo: Collate figures into a pdf"
   ]
  },
  {
   "cell_type": "code",
   "execution_count": null,
   "id": "cd6eb10e-5484-432f-8574-b7d30f618202",
   "metadata": {},
   "outputs": [],
   "source": []
  },
  {
   "cell_type": "code",
   "execution_count": null,
   "id": "0ab31eb1-f5c9-4f56-a3ae-f06772c55a1a",
   "metadata": {},
   "outputs": [],
   "source": []
  }
 ],
 "metadata": {
  "kernelspec": {
   "display_name": "Python 3 (ipykernel)",
   "language": "python",
   "name": "python3"
  },
  "language_info": {
   "codemirror_mode": {
    "name": "ipython",
    "version": 3
   },
   "file_extension": ".py",
   "mimetype": "text/x-python",
   "name": "python",
   "nbconvert_exporter": "python",
   "pygments_lexer": "ipython3",
   "version": "3.11.7"
  }
 },
 "nbformat": 4,
 "nbformat_minor": 5
}
