{
 "cells": [
  {
   "cell_type": "code",
   "execution_count": null,
   "id": "31acb3d6",
   "metadata": {},
   "outputs": [],
   "source": [
    "## To Do\n",
    "\n",
    "# Should data be log normalised following a +1/ This will remove negative values after log norm."
   ]
  },
  {
   "cell_type": "code",
   "execution_count": null,
   "id": "e0c17e2a",
   "metadata": {},
   "outputs": [],
   "source": [
    "writeOutput = False\n",
    "writeOutput = True\n"
   ]
  },
  {
   "cell_type": "code",
   "execution_count": null,
   "id": "cfc5a611",
   "metadata": {
    "tags": []
   },
   "outputs": [],
   "source": [
    "import os\n",
    "import scipy\n",
    "import numpy as np\n",
    "import pandas as pd\n",
    "import ipywidgets as widgets\n",
    "import matplotlib.pyplot as plt\n",
    "\n",
    "from openpyxl import load_workbook\n",
    "\n",
    "from scipy import stats as stats\n",
    "from copy import copy as copy\n",
    "from collections import Counter as cnt\n",
    "\n",
    "from IPython.display import clear_output\n",
    "\n",
    "import time"
   ]
  },
  {
   "cell_type": "markdown",
   "id": "66981b55-f3cf-4877-9e8d-cc47354a1b6a",
   "metadata": {},
   "source": [
    "# Define/Import functions"
   ]
  },
  {
   "cell_type": "code",
   "execution_count": null,
   "id": "62a7615b-352e-4a28-a3ac-933a6947cbe7",
   "metadata": {},
   "outputs": [],
   "source": [
    "from functions.masterdata import (master_data, read_Surf_Areas)\n",
    "from functions.plotting import (\n",
    "        plot_SA_Hist, \n",
    "        draw_probe_plot, \n",
    "        probe_GeoMean_Plots, \n",
    "        threshold_probes, \n",
    "        get_colour_mapping, \n",
    "        binding_density_plot\n",
    "    )\n"
   ]
  },
  {
   "cell_type": "markdown",
   "id": "040e6acb",
   "metadata": {},
   "source": [
    "# Import data from Nanostring initial dataset file."
   ]
  },
  {
   "cell_type": "code",
   "execution_count": null,
   "id": "816364e0-0036-4523-87e4-5b73c7b86a82",
   "metadata": {
    "tags": []
   },
   "outputs": [],
   "source": [
    "# os.getcwd()"
   ]
  },
  {
   "cell_type": "code",
   "execution_count": null,
   "id": "a4b4f855-db87-444c-8e49-7ea2da74ea82",
   "metadata": {},
   "outputs": [],
   "source": [
    "# subfolder = input(\"Enter the name of the working folder (Must be same level as code folder)\")\n",
    "subfolder = \"Larisa_Spheroids\"\n",
    "print(subfolder)\n",
    "\n",
    "os.chdir(\"../\" + subfolder)\n",
    "# os.getcwd()"
   ]
  },
  {
   "cell_type": "code",
   "execution_count": null,
   "id": "35627f32-38fb-4bc1-946f-27227e2f8964",
   "metadata": {
    "tags": []
   },
   "outputs": [],
   "source": [
    "# read in paths from config file\n",
    "configDict = {\n",
    "    'rootDir': '',\n",
    "    'initialDataPath' : '',\n",
    "    'QCDataPath' : '',\n",
    "    'labWorksheet01Path':'',\n",
    "    'projectName':'',\n",
    "    'selectedData':[]\n",
    "}\n",
    "\n",
    "with open('config.txt','r') as f:\n",
    "    lines = f.readlines()\n",
    "    for line in lines:\n",
    "        if not line.startswith('#'):\n",
    "            line = line.strip()\n",
    "            fields = line.split(':')\n",
    "            print(fields[0])\n",
    "            if fields[0].strip()=='initialDataPath':\n",
    "                configDict[fields[0].strip()] = fields[1].strip().strip('\\'')\n",
    "            elif fields[0].strip()=='selectedData':\n",
    "                tempList = fields[1].strip().strip('\\'').split(',')\n",
    "                tempList = [x.strip() for x in tempList]\n",
    "                configDict['selectedData'] = tempList\n",
    "            else:\n",
    "                configDict[fields[0].strip()] = fields[1].strip().strip('\\'')\n",
    "## ToDo: Add checks to ensure that minimal fields have been populated. Raise errors or warnings"
   ]
  },
  {
   "cell_type": "code",
   "execution_count": null,
   "id": "9456cc86-22ee-49a9-b927-41e2182f4e82",
   "metadata": {
    "tags": []
   },
   "outputs": [],
   "source": [
    "# configDict"
   ]
  },
  {
   "cell_type": "code",
   "execution_count": null,
   "id": "def1b3a8",
   "metadata": {
    "scrolled": true,
    "tags": []
   },
   "outputs": [],
   "source": [
    "dataPath = os.path.join(configDict['rootDir'],configDict['initialDataPath'])\n",
    "\n",
    "masterData = master_data(dataPath)\n",
    "dataExternal, dataLog1External, sampleInfoExternal = masterData.get_data()\n",
    "\n",
    "# print(masterData.probeClass)\n",
    "# print(masterData.probeClassDict)\n",
    "\n",
    "nuclei = sampleInfoExternal.loc['AOI nuclei count']\n",
    "surfArea = sampleInfoExternal.loc['AOI surface area']\n",
    "\n",
    "dataLog1External, sampleInfoExternal = masterData.add_class_mean(masterData.dataLog1)"
   ]
  },
  {
   "cell_type": "code",
   "execution_count": null,
   "id": "9ab7c7eb-8e36-42b8-b3a0-295402c1833e",
   "metadata": {},
   "outputs": [],
   "source": []
  },
  {
   "cell_type": "markdown",
   "id": "091eff4a-3524-43b4-b41d-2217b7786d6e",
   "metadata": {},
   "source": [
    "# ERCC correct data"
   ]
  },
  {
   "cell_type": "code",
   "execution_count": null,
   "id": "70eebde6-a763-467c-a06e-b53b7335e706",
   "metadata": {},
   "outputs": [],
   "source": [
    "erccData = masterData.ERCC_norm()\n",
    "erccData, _ = masterData.add_class_mean(erccData)\n"
   ]
  },
  {
   "cell_type": "code",
   "execution_count": null,
   "id": "d7c02ab3-a979-4410-ab6b-8b93ed694ce9",
   "metadata": {},
   "outputs": [],
   "source": [
    "erccData"
   ]
  },
  {
   "cell_type": "code",
   "execution_count": null,
   "id": "e98fdfe2-15e6-4f1a-adfc-50a3ff1fe34c",
   "metadata": {},
   "outputs": [],
   "source": []
  },
  {
   "cell_type": "code",
   "execution_count": null,
   "id": "cb4b7ca8-3134-4f99-9c54-88ba426f5b72",
   "metadata": {},
   "outputs": [],
   "source": []
  },
  {
   "cell_type": "code",
   "execution_count": null,
   "id": "5dfb142e-5634-478b-8233-e3df33724ca9",
   "metadata": {},
   "outputs": [],
   "source": [
    "# ToDo: Compare ercc corected initial data to QC data"
   ]
  },
  {
   "cell_type": "code",
   "execution_count": null,
   "id": "3c3d7fce-33d8-4c24-a596-7f4742dc9fad",
   "metadata": {},
   "outputs": [],
   "source": []
  },
  {
   "cell_type": "markdown",
   "id": "8286b45f",
   "metadata": {},
   "source": [
    "# Infer the sample locations on the processing plates"
   ]
  },
  {
   "cell_type": "code",
   "execution_count": null,
   "id": "9999bd09-e396-4720-87db-cf62bf90ac8b",
   "metadata": {},
   "outputs": [],
   "source": [
    "# ToDo: move the bulk of this code to a method"
   ]
  },
  {
   "cell_type": "code",
   "execution_count": null,
   "id": "01b78445-4eda-4035-a43c-a76df2d767c6",
   "metadata": {},
   "outputs": [],
   "source": [
    "# Add core to check whether this step has been performed already and skip if all wells are added"
   ]
  },
  {
   "cell_type": "code",
   "execution_count": null,
   "id": "b062ea2a-40dc-4b06-9b77-2566abbd314d",
   "metadata": {},
   "outputs": [],
   "source": []
  },
  {
   "cell_type": "markdown",
   "id": "bf387afb-3edd-4a94-a6b2-4dc65da7ec61",
   "metadata": {},
   "source": [
    "### Import the worksheet paths from the config file"
   ]
  },
  {
   "cell_type": "code",
   "execution_count": null,
   "id": "b4e4644b-cba7-43db-9be1-eea615dad2a7",
   "metadata": {
    "tags": []
   },
   "outputs": [],
   "source": [
    "sampleInfoExternal.loc['AOI surface area'] = [round(x) for x in sampleInfoExternal.loc['AOI surface area']]\n",
    "# print(sampleInfoExternal.loc['AOI surface area'])\n",
    "\n",
    "\n",
    "wsPaths = [configDict[x] for x in configDict.keys() if x.startswith('labWorksheet')]\n",
    "\n",
    "indexList = list(map(chr, range(ord('A'), ord('H')+1)))\n",
    "columnList = [str(n).zfill(2) for n in range(1,13)]\n",
    "\n",
    "validWells = []\n",
    "for i in indexList:\n",
    "    for c in columnList:\n",
    "        validWells.append(i+c)\n",
    "# print(len(validWells))\n",
    "\n",
    "wsList = []\n",
    "wellDFs = [] # Set up empty dataframe to be populated with sample names\n",
    "for x in wsPaths:\n",
    "    wsList.append(read_Surf_Areas(os.path.join(configDict['rootDir'],x), indexList, columnList))\n",
    "    wellDFs.append(pd.DataFrame(data='', index = indexList, columns = columnList))\n",
    "    \n",
    "\n",
    "print(wsList[0])"
   ]
  },
  {
   "cell_type": "code",
   "execution_count": null,
   "id": "f8dd261d-943b-4090-ae30-31d2ea788ea6",
   "metadata": {},
   "outputs": [],
   "source": [
    "ws1Area = list(wsList[0].values.flatten())\n",
    "allArea = ws1Area.copy()\n",
    "print(allArea)"
   ]
  },
  {
   "cell_type": "code",
   "execution_count": null,
   "id": "3d8de14b",
   "metadata": {},
   "outputs": [],
   "source": [
    "collect = cnt(allArea)\n",
    "\n",
    "unique = [int(k) for k in collect.keys() if collect[k] ==1]\n",
    "nonUnique = [int(k) for k in collect.keys() if collect[k] !=1]\n",
    "\n",
    "print(len(unique))\n",
    "print(len(nonUnique))\n"
   ]
  },
  {
   "cell_type": "code",
   "execution_count": null,
   "id": "92e1c267",
   "metadata": {
    "scrolled": true
   },
   "outputs": [],
   "source": [
    "plates = (wsList[0],)\n",
    "\n",
    "SAWellDict = {}\n",
    "SAPlateDict = {}\n",
    "AOItoWellDict = {}\n",
    "AOItoPlateDict = {}\n",
    "\n",
    "PlateWellDict = {1:[],2:[]} \n",
    "for i, plate in enumerate(wsList):\n",
    "    for col in plate.columns:\n",
    "        for row in plate.index:\n",
    "            val = int(plate.loc[row,col])\n",
    "            if val in unique:\n",
    "                print(row + col + ' : ' + str(val))\n",
    "                SAWellDict[val] = row + col\n",
    "                \n",
    "                possibleMatches = sampleInfoExternal.loc[:,sampleInfoExternal.T['AOI surface area'] == val].columns \n",
    "                if len (possibleMatches == 1):\n",
    "                    wellDFs[i].loc[row,col] = possibleMatches[0]\n",
    "                    AOItoWellDict[possibleMatches[0]] = row + col\n",
    "                else:\n",
    "                    print(possibleMatches)\n",
    "                \n",
    "                if val in ws1Area:\n",
    "                    SAPlateDict[val] = 1\n",
    "                    PlateWellDict[1].append(row+col)\n",
    "                    AOItoPlateDict[possibleMatches[0]] = 1\n",
    "                elif val in ws2Area:\n",
    "                    SAPlateDict[val] = 2\n",
    "                    PlateWellDict[2].append(row+col)\n",
    "                    AOItoPlateDict[possibleMatches[0]] = 2\n",
    "                    "
   ]
  },
  {
   "cell_type": "code",
   "execution_count": null,
   "id": "b2e59afb",
   "metadata": {},
   "outputs": [],
   "source": [
    "wellDFs[0]"
   ]
  },
  {
   "cell_type": "code",
   "execution_count": null,
   "id": "a839a505",
   "metadata": {
    "scrolled": true
   },
   "outputs": [],
   "source": [
    "# SAWellDict"
   ]
  },
  {
   "cell_type": "code",
   "execution_count": null,
   "id": "62ca8db0",
   "metadata": {
    "scrolled": true
   },
   "outputs": [],
   "source": [
    "# AOItoWellDict"
   ]
  },
  {
   "cell_type": "code",
   "execution_count": null,
   "id": "c8eb691a-d4fb-4a03-ba07-e8c14229ff8d",
   "metadata": {},
   "outputs": [],
   "source": [
    "toLocate = []\n",
    "for smpl in sampleInfoExternal.columns:\n",
    "    if not (smpl in AOItoWellDict.keys()):\n",
    "        prev = smpl.split('_')[-2]\n",
    "        prv2 =  \"{:03d}\".format(int(prev)-2)\n",
    "        prv =  \"{:03d}\".format(int(prev)-1)\n",
    "        nxt =  \"{:03d}\".format(int(prev)+1)\n",
    "        nxt2 =  \"{:03d}\".format(int(prev)+2)\n",
    "        prv2 = '_'.join(smpl.split('_')[:-2]) + '_' + prv2\n",
    "        prv = '_'.join(smpl.split('_')[:-2]) + '_' + prv\n",
    "        nxt = '_'.join(smpl.split('_')[:-2]) + '_' + nxt\n",
    "        nxt2 = '_'.join(smpl.split('_')[:-2]) + '_' + nxt2\n",
    "        prvSamples = [x for x in sampleInfoExternal.columns if ((prv in x) or (prv2 in x))]\n",
    "        nxtSamples = [x for x in sampleInfoExternal.columns if ((nxt in x) or (nxt2 in x))]\n",
    "        toLocate.append([smpl, prvSamples, nxtSamples])\n",
    "        \n",
    "\n",
    "print(toLocate)\n",
    "\n",
    "print(len(toLocate))"
   ]
  },
  {
   "cell_type": "markdown",
   "id": "b1d98611-989f-4b2a-809a-b76369f2f90c",
   "metadata": {},
   "source": [
    "### Manually enter remaining sample locations on processing plates"
   ]
  },
  {
   "cell_type": "code",
   "execution_count": null,
   "id": "89191e9f",
   "metadata": {},
   "outputs": [],
   "source": [
    "# Print plate hints for each well\n",
    "# Sort samples better for display?\n",
    "# Update dataframes also\n",
    "# Repeat for incorrect/incomplete entries\n",
    "\n",
    "# Confirm entries with y/n input\n",
    "\n",
    "for t in toLocate:\n",
    "    print()\n",
    "    print(t[0])\n",
    "    \n",
    "    ## Confirm that well has not been located already in a prior run\n",
    "    try:\n",
    "        hasPlate = AOItoPlateDict[t[0]]\n",
    "    except KeyError:\n",
    "        hasPlate = False\n",
    "        \n",
    "    try:\n",
    "        hasWell = AOItoWellDict[t[0]]\n",
    "    except KeyError:\n",
    "        hasWell = False\n",
    "\n",
    "    if (hasPlate or hasWell):\n",
    "        print('has entry')\n",
    "        time.sleep(1)\n",
    "        continue\n",
    "\n",
    "    print('previous:')\n",
    "    for p in sorted(t[1]):\n",
    "        try:\n",
    "            print(p + '\\t: ' + str(AOItoPlateDict[p]) + ' ' + AOItoWellDict[p])\n",
    "        except KeyError:\n",
    "            print(p + '\\t: not in dict')\n",
    "            \n",
    "    print('next:')\n",
    "    for n in sorted(t[2]):\n",
    "        try:\n",
    "            print(n + '\\t: ' + str(AOItoPlateDict[n]) + ' ' + AOItoWellDict[n])\n",
    "        except KeyError:\n",
    "            print(n + '\\t: not in dict')\n",
    "    \n",
    "    plate = int(input('enter desired plate for this sample'))\n",
    "    well = input('enter desired well for this sample')\n",
    "    clear_output(wait=True)\n",
    "    \n",
    "    print('you entered:')\n",
    "    \n",
    "    print(plate)\n",
    "    print(well)\n",
    "    if well in validWells:\n",
    "        print('Well is valid')\n",
    "        if (well in PlateWellDict[plate]):\n",
    "            print('well already has entry')\n",
    "            time.sleep(2)\n",
    "        else:\n",
    "            PlateWellDict[plate].append(well)\n",
    "            AOItoWellDict[t[0]] = well\n",
    "            AOItoPlateDict[t[0]] = plate\n",
    "            \n",
    "            ##### Also add to dataframes\n",
    "            wellDFs[plate-1].loc[well[0],well[1:]] = t[0]\n",
    "            # if plate == 1:\n",
    "            #     wellDF1.loc[well[0],well[1:]] = t[0]\n",
    "            # elif plate == 2:\n",
    "            #     wellDF2.loc[well[0],well[1:]] = t[0]\n",
    "\n",
    "    else:\n",
    "        print('invalid well entered')\n",
    "        pass\n",
    "        \n",
    "# ToDo: Confirm that all entries appear correct (Surface Areas match)"
   ]
  },
  {
   "cell_type": "code",
   "execution_count": null,
   "id": "d6683ce1",
   "metadata": {
    "scrolled": true
   },
   "outputs": [],
   "source": [
    "wellDFs[0]"
   ]
  },
  {
   "cell_type": "code",
   "execution_count": null,
   "id": "911a4a7d-0979-4f37-92b4-faf91ef106d1",
   "metadata": {
    "scrolled": true
   },
   "outputs": [],
   "source": [
    "## Statements for debugging and development\n",
    "# len(AOItoWellDict)\n",
    "# len(AOItoPlateDict)\n",
    "# len(PlateWellDict[1])\n",
    "# len(set(PlateWellDict[2]))\n",
    "# PlateWellDict[1]\n",
    "\n",
    "## Uncomment to overwrite or update mappings files\n",
    "\n",
    "# wellDF1.to_csv(os.path.join(dataPath[:dataPath.rfind('/')],'AOI_Well_Mappings_Plate1.csv'))\n",
    "# wellDF2.to_csv(os.path.join(dataPath[:dataPath.rfind('/')],'AOI_Well_Mappings_Plate2.csv'))\n",
    "\n"
   ]
  },
  {
   "cell_type": "code",
   "execution_count": null,
   "id": "05edf6f4",
   "metadata": {
    "scrolled": true
   },
   "outputs": [],
   "source": [
    "# sampleInfoExternal"
   ]
  },
  {
   "cell_type": "code",
   "execution_count": null,
   "id": "a77b8e7b-a732-497c-975d-9f1521bbcd87",
   "metadata": {},
   "outputs": [],
   "source": [
    "AOIWell = pd.DataFrame(data = AOItoWellDict.values(), columns = ['Well'], index = AOItoWellDict.keys()).T\n",
    "# print(AOIWell)\n",
    "AOIRow = pd.DataFrame(data = [x[0] for x in AOItoWellDict.values()], columns = ['Row'], index = AOItoWellDict.keys()).T\n",
    "# print(AOIRow)\n",
    "AOICol = pd.DataFrame(data = [x[1:] for x in AOItoWellDict.values()], columns = ['Col'], index = AOItoWellDict.keys()).T\n",
    "# print(AOICol)\n",
    "AOIPlate = pd.DataFrame(data = AOItoPlateDict.values(), columns = ['Plate'], index = AOItoPlateDict.keys()).T\n",
    "# print(AOIPlate)\n",
    "plateInfo = pd.concat([AOIWell, AOIRow, AOICol, AOIPlate])\n",
    "# print(plateInfo)\n",
    "sampleInfoExternal = pd.concat([sampleInfoExternal, plateInfo])"
   ]
  },
  {
   "cell_type": "code",
   "execution_count": null,
   "id": "5a05569c-ddd8-48b2-b5e6-4fb7ee76e675",
   "metadata": {},
   "outputs": [],
   "source": []
  },
  {
   "cell_type": "code",
   "execution_count": null,
   "id": "fd023552-2181-41c0-bf9d-232010d12102",
   "metadata": {},
   "outputs": [],
   "source": [
    "# ToDo: Need to update sample info in master_data also"
   ]
  },
  {
   "cell_type": "code",
   "execution_count": null,
   "id": "965cdfa5-ee95-442a-a70f-9ea4d680d9ec",
   "metadata": {},
   "outputs": [],
   "source": []
  },
  {
   "cell_type": "code",
   "execution_count": null,
   "id": "279abfba",
   "metadata": {
    "scrolled": true
   },
   "outputs": [],
   "source": [
    "sampleInfoExternal"
   ]
  },
  {
   "cell_type": "code",
   "execution_count": null,
   "id": "da0b97c0-84b9-44f4-98cc-45c9e9ab8c36",
   "metadata": {},
   "outputs": [],
   "source": [
    "# ToDo: Make this interactive to ask whether to write or not?\n",
    "# ToDo: Update master sample info to include plate and well info    !!!!!!!!!!"
   ]
  },
  {
   "cell_type": "code",
   "execution_count": null,
   "id": "ab759753-e24c-41fb-89d3-d488ed6b5ddd",
   "metadata": {},
   "outputs": [],
   "source": [
    "## Write sample info with well data included to file:\n",
    "\n",
    "# writeOutput = True\n",
    "if writeOutput:\n",
    "    sampleInfoExternal.to_csv(os.path.join(dataPath[:dataPath.rfind('/')],'sampleInfo_with_Wells.csv'))\n",
    "# writeOutput= False\n"
   ]
  },
  {
   "cell_type": "markdown",
   "id": "5522498d",
   "metadata": {},
   "source": [
    "# Basic QC and data overview plots"
   ]
  },
  {
   "cell_type": "code",
   "execution_count": null,
   "id": "3031a656",
   "metadata": {},
   "outputs": [],
   "source": [
    "# View distribution of AOI surface areas\n",
    "# ToDo: Add colouring for different AOI types\n",
    "\n",
    "SAHist = plot_SA_Hist(surfArea)\n"
   ]
  },
  {
   "cell_type": "code",
   "execution_count": null,
   "id": "e9dee7bd-1e76-4e62-b503-4b456bc17a30",
   "metadata": {},
   "outputs": [],
   "source": []
  },
  {
   "cell_type": "markdown",
   "id": "a6b25cce-fb37-49f1-afa7-ecf21bd9a22c",
   "metadata": {},
   "source": [
    "### Choose factors of interest for data visualisation"
   ]
  },
  {
   "cell_type": "code",
   "execution_count": null,
   "id": "5c6701f6-2d99-4588-80f1-e18d027837b6",
   "metadata": {},
   "outputs": [],
   "source": [
    "# ToDo: Check if selected data is written to config file\n",
    "# If written already, use this by default, otherwise ask for selection"
   ]
  },
  {
   "cell_type": "markdown",
   "id": "1348cca7-2204-4868-ae09-bf428543101b",
   "metadata": {},
   "source": [
    "<i>INFO: The input cell does not advance to the next cell. Run the first cell below to generate the checkboxes, then select checkboxes and run the second cell below to read the selected checkboxes. Re-running the first cell below will clear selections and generate empty checkboxes.</i>"
   ]
  },
  {
   "cell_type": "code",
   "execution_count": null,
   "id": "55b35adc-5a49-4d2f-bbe6-aeefe7e9d594",
   "metadata": {},
   "outputs": [],
   "source": [
    "# input(\"Press Enter to continue and choose factors of interest via the checkboxes generated in the next cell.\")"
   ]
  },
  {
   "cell_type": "code",
   "execution_count": null,
   "id": "afa26b40-67f7-445e-8b9d-8f50df7ba0b2",
   "metadata": {
    "scrolled": true
   },
   "outputs": [],
   "source": [
    "if (len(configDict['selectedData']) == 0):\n",
    "\n",
    "    data = list(sampleInfoExternal.index)\n",
    "    checkboxes = [widgets.Checkbox(value=False, description=label) for label in data]\n",
    "    output = widgets.VBox(children=checkboxes)\n",
    "    display(output)"
   ]
  },
  {
   "cell_type": "code",
   "execution_count": null,
   "id": "800648fa-709c-4caf-a788-45457f5849d6",
   "metadata": {},
   "outputs": [],
   "source": [
    "if (len(configDict['selectedData']) == 0):\n",
    "    for i in range(0, len(checkboxes)):\n",
    "        if checkboxes[i].value == True:\n",
    "            configDict['selectedData'] = configDict['selectedData'] + [checkboxes[i].description]\n",
    "    print(configDict['selectedData'])\n"
   ]
  },
  {
   "cell_type": "code",
   "execution_count": null,
   "id": "109b8bea-afc8-46dd-8076-a01c7489029b",
   "metadata": {},
   "outputs": [],
   "source": []
  },
  {
   "cell_type": "markdown",
   "id": "17779ca1-3348-4bf6-8598-bd6974c2f316",
   "metadata": {},
   "source": [
    "#### factors uniques table"
   ]
  },
  {
   "cell_type": "code",
   "execution_count": null,
   "id": "708f9be7-1816-4519-a23a-58f5a8259903",
   "metadata": {},
   "outputs": [],
   "source": [
    "selectedInfo = sampleInfoExternal.loc[configDict['selectedData']]\n",
    "\n",
    "selectedInfo"
   ]
  },
  {
   "cell_type": "code",
   "execution_count": null,
   "id": "361c8809-a737-4931-b8fc-d7855449baf3",
   "metadata": {},
   "outputs": [],
   "source": [
    "data_df = selectedInfo.stack().groupby(level=0).apply(lambda x: x.unique())\n",
    "data_df"
   ]
  },
  {
   "cell_type": "code",
   "execution_count": null,
   "id": "276620c3-9fa9-4812-969b-ee38785199a4",
   "metadata": {},
   "outputs": [],
   "source": [
    "data_df = pd.DataFrame(data_df).T"
   ]
  },
  {
   "cell_type": "code",
   "execution_count": null,
   "id": "56824bb7-3edb-448b-8fc1-3734e823f595",
   "metadata": {},
   "outputs": [],
   "source": [
    "# ToDo: Break lists down into separate rows\n",
    "\n",
    "data_df.style.set_table_styles(\n",
    "                        [{\n",
    "'selector': 'th',\n",
    "   'props': [\n",
    "('background-color', 'black'),\n",
    "       ('color', 'white'),\n",
    "       ('border-color', 'black'),\n",
    "       ('border-style ', 'solid'),\n",
    "       ('border-width','1px')]  \n",
    "},\n",
    "{\n",
    "   'selector': 'td',\n",
    "   'props': [\n",
    "       ('border-color', 'black'),\n",
    "       ('border-style ', 'solid'),\n",
    "       ('border-width','1px')]\n",
    "},\n",
    "{'selector': '.row_heading',\n",
    "      'props': [('display', 'none')]},\n",
    "{'selector': '.blank.level0',\n",
    "      'props': [('display', 'none')]}])"
   ]
  },
  {
   "cell_type": "code",
   "execution_count": null,
   "id": "aa1eff90-f720-4005-a7ac-b992d0af76e8",
   "metadata": {},
   "outputs": [],
   "source": []
  },
  {
   "cell_type": "markdown",
   "id": "080a84d0-a846-463d-bd59-a0679f062672",
   "metadata": {},
   "source": [
    "#### factors unique combinations table"
   ]
  },
  {
   "cell_type": "code",
   "execution_count": null,
   "id": "d6c22cfa-50fe-4e68-acea-c83a73eb80db",
   "metadata": {
    "scrolled": true
   },
   "outputs": [],
   "source": [
    "comboUniques = []\n",
    "for c in selectedInfo.columns:\n",
    "    thisCol = selectedInfo[c]\n",
    "    combined = '_'.join(thisCol.values)\n",
    "    comboUniques.append(combined)\n",
    "\n",
    "comboUniques = sorted(list(set(comboUniques)))\n",
    "\n",
    "print('\\nNumber of unique combinations: {}'.format(len(comboUniques)))"
   ]
  },
  {
   "cell_type": "code",
   "execution_count": null,
   "id": "eaa3c3ee-ddc1-4751-8d81-f874aa7d6014",
   "metadata": {},
   "outputs": [],
   "source": [
    "# ToDo: Add in functionality to view number of samples in different subgroups"
   ]
  },
  {
   "cell_type": "code",
   "execution_count": null,
   "id": "4d725f35-5313-4eac-8bed-2a22ddeb4a4e",
   "metadata": {},
   "outputs": [],
   "source": []
  },
  {
   "cell_type": "markdown",
   "id": "b03ba800-149e-422d-aaeb-19db53ff8b0d",
   "metadata": {},
   "source": [
    "#### Choose factrors to use for colour selection in the plots below"
   ]
  },
  {
   "cell_type": "code",
   "execution_count": null,
   "id": "3345c6a5-a1f6-4a0c-b5f4-5cc1e3c2832a",
   "metadata": {},
   "outputs": [],
   "source": [
    "# selected_data = []\n",
    "reselect = True\n",
    "reselect = False\n",
    "\n",
    "if reselect:\n",
    "    data = list(selectedInfo.index)\n",
    "    checkboxes = [widgets.Checkbox(value=False, description=label) for label in data]\n",
    "    output = widgets.VBox(children=checkboxes)\n",
    "    display(output)"
   ]
  },
  {
   "cell_type": "code",
   "execution_count": null,
   "id": "8aec1239-03cb-4767-95ff-62712bdb12a2",
   "metadata": {},
   "outputs": [],
   "source": [
    "if reselect:\n",
    "    for i in range(0, len(checkboxes)):\n",
    "        if checkboxes[i].value == True:\n",
    "            configDict['selectedData'] = configDict['selectedData'] + [checkboxes[i].description]\n",
    "    print(configDict['selectedData'])\n"
   ]
  },
  {
   "cell_type": "code",
   "execution_count": null,
   "id": "811803c5-51ff-4809-a18b-1032f24b6678",
   "metadata": {},
   "outputs": [],
   "source": [
    "selectedInfo = selectedInfo.loc[configDict['selectedData']]\n",
    "selectedInfo"
   ]
  },
  {
   "cell_type": "markdown",
   "id": "28958396-684d-4b33-b534-ba4b8546db90",
   "metadata": {},
   "source": [
    "ToDo: Add colour lookup dictionary"
   ]
  },
  {
   "cell_type": "code",
   "execution_count": null,
   "id": "0b188a25-29a5-498c-aa17-f8be532d5bc6",
   "metadata": {
    "scrolled": true
   },
   "outputs": [],
   "source": [
    "comboUniques = []\n",
    "\n",
    "for c in selectedInfo.columns:\n",
    "    thisCol = selectedInfo[c]\n",
    "    combined = '_'.join(thisCol.values)\n",
    "    comboUniques.append(combined)\n",
    "\n",
    "comboUniques = sorted(list(set(comboUniques)))\n",
    "for x in comboUniques:\n",
    "    print(x)\n",
    "\n",
    "print('\\nNumber of unique combinations: {}'.format(len(comboUniques)))\n"
   ]
  },
  {
   "cell_type": "code",
   "execution_count": null,
   "id": "7e95f223-6b19-4187-92af-789921645b4b",
   "metadata": {},
   "outputs": [],
   "source": [
    "# Visualise basic QC statistics\n",
    "## Relate back to collection order, and plate/well location\n",
    "## Binding density\n",
    "\n",
    "binding_density_plot(sampleInfoExternal, selectedInfo, configDict['selectedData'])\n",
    "\n",
    "for s in configDict['selectedData']:\n",
    "    binding_density_plot(sampleInfoExternal, selectedInfo, s)\n",
    "    "
   ]
  },
  {
   "cell_type": "code",
   "execution_count": null,
   "id": "cc488edf-6fa7-4a7a-b249-5734df99772a",
   "metadata": {},
   "outputs": [],
   "source": []
  },
  {
   "cell_type": "markdown",
   "id": "24127f7a",
   "metadata": {},
   "source": [
    "# Visualise raw probe values before any normalisation"
   ]
  },
  {
   "cell_type": "code",
   "execution_count": null,
   "id": "d13fcacd-0edb-4495-9425-640dd8e60e5e",
   "metadata": {},
   "outputs": [],
   "source": [
    "# dataLog1External"
   ]
  },
  {
   "cell_type": "code",
   "execution_count": null,
   "id": "f4196207-f80c-40aa-ac74-d196910d8b86",
   "metadata": {},
   "outputs": [],
   "source": [
    "configDict['selectedData']"
   ]
  },
  {
   "cell_type": "code",
   "execution_count": null,
   "id": "4af1afae-a692-497e-92d5-c1f1fbab9136",
   "metadata": {},
   "outputs": [],
   "source": []
  },
  {
   "cell_type": "code",
   "execution_count": null,
   "id": "1873334e-42b3-48cc-875f-c3fa9be61941",
   "metadata": {},
   "outputs": [],
   "source": [
    "# Sort data by probeclass then mean for nicer visualisation on plots\n",
    "dataSortedRaw = dataLog1External.sort_values(by = ['probeClass', 'mean'], ascending=[True,True])\n",
    "\n",
    "# probePlot = draw_probe_plot(dataSortedRaw, sampleInfoExternal, selectedInfo, 'Broad_classification', 'Raw Probe Values \\\"Broad_classification\\\"')\n",
    "# probePlot = draw_probe_plot(dataSortedRaw, sampleInfoExternal, selectedInfo, 'Sample_Type', 'Raw Probe Values \\\"Sample_Type\\\"')\n",
    "probePlot = draw_probe_plot(dataSortedRaw, sampleInfoExternal, selectedInfo, 'Row', 'Raw Probe Values \\\"Row\\\"')\n",
    "probePlot = draw_probe_plot(dataSortedRaw, sampleInfoExternal, selectedInfo, 'Col', 'Raw Probe Values \\\"Col\\\"')"
   ]
  },
  {
   "cell_type": "code",
   "execution_count": null,
   "id": "f1d67924-45ab-42c7-a296-fafd515f914e",
   "metadata": {},
   "outputs": [],
   "source": [
    "# dataLog1External"
   ]
  },
  {
   "cell_type": "code",
   "execution_count": null,
   "id": "bb675055-59a5-4243-9390-a9c955800a99",
   "metadata": {},
   "outputs": [],
   "source": [
    "# dataSortedRaw"
   ]
  },
  {
   "cell_type": "code",
   "execution_count": null,
   "id": "48fcf908-4b03-4f73-a981-70c6293a6408",
   "metadata": {},
   "outputs": [],
   "source": [
    "# dataLog1External.reindex(labels=dataSortedRaw.index)"
   ]
  },
  {
   "cell_type": "code",
   "execution_count": null,
   "id": "9ee9fc7f-3201-4c65-86d6-26f1d7a973cc",
   "metadata": {},
   "outputs": [],
   "source": [
    "# dataSortedRaw.index\n"
   ]
  },
  {
   "cell_type": "code",
   "execution_count": null,
   "id": "b55a45d6-5aeb-4560-a536-16fd2654a591",
   "metadata": {},
   "outputs": [],
   "source": [
    "# dataSortedRaw"
   ]
  },
  {
   "cell_type": "code",
   "execution_count": null,
   "id": "41e5ba4e-6f51-4124-8871-aae6b1feeba7",
   "metadata": {},
   "outputs": [],
   "source": [
    "# sampleInfoExternal[dataSortedRaw.drop(labels=['mean','probeClass'], axis=1).columns]"
   ]
  },
  {
   "cell_type": "code",
   "execution_count": null,
   "id": "0b411ea8-7631-4f36-8c20-358130f1e9d7",
   "metadata": {},
   "outputs": [],
   "source": [
    "selectedInfo"
   ]
  },
  {
   "cell_type": "code",
   "execution_count": null,
   "id": "3c686f03-387a-4a6f-b558-1e7ab84acc9b",
   "metadata": {},
   "outputs": [],
   "source": []
  },
  {
   "cell_type": "code",
   "execution_count": null,
   "id": "01ee33ff-74fd-421c-8ab2-67307bff9e81",
   "metadata": {},
   "outputs": [],
   "source": []
  },
  {
   "cell_type": "code",
   "execution_count": null,
   "id": "d2d57228",
   "metadata": {},
   "outputs": [],
   "source": [
    "# ToDo: Add cmap for a single factor\n",
    "\n",
    "# Plot of non-log transformed HYB-NEG values vs log transformed HYB-POS values\n",
    "plt.scatter(np.exp2(dataLog1External.drop(labels=['mean','probeClass'], axis=1).loc['HYB-NEG'])-1,\n",
    "            dataLog1External.drop(labels=['mean','probeClass'], axis=1).loc['HYB-POS'])\n",
    "plt.title('Negative vs Positive probe values')\n",
    "plt.xlabel('HYB-NEG')\n",
    "plt.ylabel('HYB-POS (Log2 transformed)')"
   ]
  },
  {
   "cell_type": "code",
   "execution_count": null,
   "id": "1db54dc4",
   "metadata": {},
   "outputs": [],
   "source": [
    "# ToDo: Add cmap for a single factor\n",
    "\n",
    "# Plot of non-log transformed HYB-NEG values vs AOI surface area values\n",
    "plt.scatter(np.exp2(dataLog1External.drop(labels=['mean','probeClass'], axis=1).loc['HYB-NEG'])-1,\n",
    "        surfArea.reindex(dataLog1External.drop(labels=['mean','probeClass'],axis=1).columns))\n",
    "plt.title('Negative probe values vs Surface Area ')\n",
    "plt.xlabel('HYB-NEG')\n",
    "plt.ylabel('AOI Surface Area')"
   ]
  },
  {
   "cell_type": "code",
   "execution_count": null,
   "id": "7e1b3f0b",
   "metadata": {},
   "outputs": [],
   "source": [
    "##### QC questions / checks:"
   ]
  },
  {
   "cell_type": "code",
   "execution_count": null,
   "id": "781cae0b",
   "metadata": {},
   "outputs": [],
   "source": []
  },
  {
   "cell_type": "markdown",
   "id": "ee148897",
   "metadata": {},
   "source": [
    "# Determine thresholding value for limit of detection for assay"
   ]
  },
  {
   "cell_type": "code",
   "execution_count": null,
   "id": "36bcacab",
   "metadata": {},
   "outputs": [],
   "source": [
    "## Find the first local minimum closest to the start of the 'real' values.\n",
    "## In this development case there is a large peak of near zero values, after this there are two bins with zero values. The second of these bin indexes was chosen for use as the expression threshold value.\n"
   ]
  },
  {
   "cell_type": "code",
   "execution_count": null,
   "id": "4b9db0e6-bffa-42ce-99e4-b46dbe5ddd7b",
   "metadata": {},
   "outputs": [],
   "source": [
    "# ToDo: Add plots where hyb-neg and negative controls are shown with separate cmaps"
   ]
  },
  {
   "cell_type": "code",
   "execution_count": null,
   "id": "bc49d3dc-db97-405d-93cd-22307e9f3535",
   "metadata": {},
   "outputs": [],
   "source": []
  },
  {
   "cell_type": "code",
   "execution_count": null,
   "id": "32175820",
   "metadata": {},
   "outputs": [],
   "source": [
    "thresholding = threshold_probes(dataLog1External, 300)"
   ]
  },
  {
   "cell_type": "code",
   "execution_count": null,
   "id": "3324cd19",
   "metadata": {},
   "outputs": [],
   "source": [
    "thresholding.zoom_plot(0.5,3)"
   ]
  },
  {
   "cell_type": "code",
   "execution_count": null,
   "id": "db06fcb8",
   "metadata": {},
   "outputs": [],
   "source": [
    "thresholding.check_threshold(0,40)\n",
    "thresholding.check_threshold(20,30)"
   ]
  },
  {
   "cell_type": "code",
   "execution_count": null,
   "id": "65f78156",
   "metadata": {},
   "outputs": [],
   "source": [
    "#Set index value to use for minimum expression threshold from thresholding \n",
    "thresholding.set_threshold_idx(27)"
   ]
  },
  {
   "cell_type": "code",
   "execution_count": null,
   "id": "5a1a8b8a",
   "metadata": {},
   "outputs": [],
   "source": [
    "print(thresholding.threshold)\n",
    "ETFiltered = thresholding.get_filter()"
   ]
  },
  {
   "cell_type": "markdown",
   "id": "93a7eb29",
   "metadata": {},
   "source": [
    "# Plot counts of AOIs and probes passing thresholds"
   ]
  },
  {
   "cell_type": "code",
   "execution_count": null,
   "id": "4621d881",
   "metadata": {},
   "outputs": [],
   "source": [
    "\n",
    "\n",
    "# get counts of how many probes are above the expression threshold for each AOI"
   ]
  },
  {
   "cell_type": "code",
   "execution_count": null,
   "id": "ac686bf1",
   "metadata": {},
   "outputs": [],
   "source": [
    "exportPath = dataPath[:dataPath.rfind('/')]"
   ]
  },
  {
   "cell_type": "code",
   "execution_count": null,
   "id": "1cf3b590",
   "metadata": {},
   "outputs": [],
   "source": [
    "# ETFiltered"
   ]
  },
  {
   "cell_type": "code",
   "execution_count": null,
   "id": "4c7a47de",
   "metadata": {},
   "outputs": [],
   "source": [
    "passAOI = ETFiltered.sum()\n",
    "\n",
    "thisMin = min(passAOI)\n",
    "thisMax = max(passAOI)\n",
    "print(f'thisMin :\\t{thisMin}')\n",
    "print(f'thisMax :\\t{thisMax}')\n",
    "\n",
    "plt.hist(passAOI.values, bins=20)\n",
    "plt.xlim(thisMin-2,thisMax+2)\n",
    "# plt.semilogy()"
   ]
  },
  {
   "cell_type": "code",
   "execution_count": null,
   "id": "f11cdef4",
   "metadata": {},
   "outputs": [],
   "source": [
    "passAOI.sort_values().index[:5]"
   ]
  },
  {
   "cell_type": "code",
   "execution_count": null,
   "id": "60661dd7-fed3-4457-8e89-ca5ebfeee11b",
   "metadata": {},
   "outputs": [],
   "source": [
    "# passAOI"
   ]
  },
  {
   "cell_type": "code",
   "execution_count": null,
   "id": "9a875097-02fe-45ec-a21f-80282baabb7f",
   "metadata": {},
   "outputs": [],
   "source": [
    "failAOIs = passAOI[passAOI < 15]\n",
    "failAOIs\n"
   ]
  },
  {
   "cell_type": "code",
   "execution_count": null,
   "id": "cfec4d65-0720-44e7-ad03-bf7760f8342a",
   "metadata": {},
   "outputs": [],
   "source": [
    "failAOIs = passAOI[passAOI < 22]\n",
    "failAOIs"
   ]
  },
  {
   "cell_type": "code",
   "execution_count": null,
   "id": "8b0c5731",
   "metadata": {},
   "outputs": [],
   "source": [
    "failAOIs = passAOI[passAOI < 50]\n",
    "failAOIs"
   ]
  },
  {
   "cell_type": "code",
   "execution_count": null,
   "id": "23248078-bd11-458b-891a-9978a4e992f3",
   "metadata": {},
   "outputs": [],
   "source": [
    "# failAOIs = passAOI[passAOI < 60]\n",
    "# failAOIs"
   ]
  },
  {
   "cell_type": "code",
   "execution_count": null,
   "id": "cf30313b",
   "metadata": {},
   "outputs": [],
   "source": [
    "\n",
    "\n",
    "# writeOutput = True\n",
    "if writeOutput:\n",
    "    failAOIs.to_csv(os.path.join(exportPath,'failAOIs.csv'))\n",
    "# writeOutput= False\n"
   ]
  },
  {
   "cell_type": "code",
   "execution_count": null,
   "id": "e2b9900a",
   "metadata": {},
   "outputs": [],
   "source": []
  },
  {
   "cell_type": "code",
   "execution_count": null,
   "id": "9653f4af",
   "metadata": {},
   "outputs": [],
   "source": [
    "# get counts of how many AOIs are above the expression threshold for each probe"
   ]
  },
  {
   "cell_type": "code",
   "execution_count": null,
   "id": "e47933b8",
   "metadata": {},
   "outputs": [],
   "source": [
    "passProbe = ETFiltered.sum(axis=1)\n",
    "thisMin = min(passProbe)\n",
    "thisMax = max(passProbe)\n",
    "\n",
    "plt.hist(passProbe.values, bins=30)\n",
    "plt.xlim(thisMin-5,thisMax+5)\n",
    "# plt.semilogy()"
   ]
  },
  {
   "cell_type": "code",
   "execution_count": null,
   "id": "c3882b3e-ea86-4c7a-b910-eba4c600b37e",
   "metadata": {},
   "outputs": [],
   "source": []
  },
  {
   "cell_type": "code",
   "execution_count": null,
   "id": "633cde45-6163-4cf0-bb62-177b954860b6",
   "metadata": {},
   "outputs": [],
   "source": [
    "# ToDo: Ask for a value to use for fail probes cutoff"
   ]
  },
  {
   "cell_type": "code",
   "execution_count": null,
   "id": "9c2e4303-e7ea-4221-ba71-1c796508c771",
   "metadata": {},
   "outputs": [],
   "source": [
    "failProbes = passProbe[passProbe < 48]\n",
    "\n",
    "failProbes"
   ]
  },
  {
   "cell_type": "code",
   "execution_count": null,
   "id": "a86c752c",
   "metadata": {},
   "outputs": [],
   "source": [
    "# writeOutput = True\n",
    "if writeOutput:\n",
    "    failProbes.to_csv(os.path.join(exportPath,'FailProbes.csv'))\n",
    "# writeOutput= False\n"
   ]
  },
  {
   "cell_type": "code",
   "execution_count": null,
   "id": "f7e123e4",
   "metadata": {},
   "outputs": [],
   "source": [
    "masterData.set_threshold(ETFiltered)"
   ]
  },
  {
   "cell_type": "code",
   "execution_count": null,
   "id": "41bf5052",
   "metadata": {
    "scrolled": true
   },
   "outputs": [],
   "source": [
    "# master_data.threshold\n",
    "masterData.threshold\n"
   ]
  },
  {
   "cell_type": "code",
   "execution_count": null,
   "id": "7b009117",
   "metadata": {},
   "outputs": [],
   "source": []
  },
  {
   "cell_type": "code",
   "execution_count": null,
   "id": "1fbac278",
   "metadata": {},
   "outputs": [],
   "source": []
  },
  {
   "cell_type": "code",
   "execution_count": null,
   "id": "cbff07d9",
   "metadata": {},
   "outputs": [],
   "source": []
  },
  {
   "cell_type": "code",
   "execution_count": null,
   "id": "1ae68edd",
   "metadata": {},
   "outputs": [],
   "source": [
    "# Identify outlier AOIs and probes\n"
   ]
  },
  {
   "cell_type": "markdown",
   "id": "8450359f-5038-4ce1-981a-c7ace00c4da4",
   "metadata": {},
   "source": [
    "# Drop outlier AOIs and probes"
   ]
  },
  {
   "cell_type": "code",
   "execution_count": null,
   "id": "1c6eddde",
   "metadata": {},
   "outputs": [],
   "source": [
    "dropSamples = sampleInfoExternal.loc[:,sampleInfoExternal.loc['Col'] == '02'].columns"
   ]
  },
  {
   "cell_type": "code",
   "execution_count": null,
   "id": "21d92b5c-69f5-49a0-9aeb-7adebf115046",
   "metadata": {},
   "outputs": [],
   "source": [
    "dropSamples"
   ]
  },
  {
   "cell_type": "code",
   "execution_count": null,
   "id": "000140e8-8d22-4b13-bd7a-1d1353727380",
   "metadata": {},
   "outputs": [],
   "source": [
    "# ToDo: Tidy up handling od datasets within master data. There are too many copies at the moment!\n",
    "# ERCC correction needs to be repeated after dropping AOIs\n",
    "\n",
    "\n",
    "erccData, sampleInfoExternal = masterData.drop_AOIs(list(dropSamples))\n",
    "\n",
    "erccData, sampleInfoExternal = masterData.add_class_mean(masterData.ERCCData)\n",
    "\n",
    "erccDataSorted = erccData.sort_values(by = ['probeClass', 'mean'], ascending=[True,True])\n"
   ]
  },
  {
   "cell_type": "code",
   "execution_count": null,
   "id": "24e0975e-c995-40af-84bd-b70894e84b61",
   "metadata": {},
   "outputs": [],
   "source": [
    "dataLog1External = dataLog1External.drop(labels = dropSamples, axis = 1)\n"
   ]
  },
  {
   "cell_type": "code",
   "execution_count": null,
   "id": "9e08630d",
   "metadata": {},
   "outputs": [],
   "source": []
  },
  {
   "cell_type": "code",
   "execution_count": null,
   "id": "59b18c47",
   "metadata": {},
   "outputs": [],
   "source": [
    "# colours = ['g' if x.split('_')[-1] == 'Tumour' else 'r' if x.split('_')[-1] == 'Immune' else 'purple' for x in data.drop(labels=['mean','probeClass'], axis=1).columns]\n"
   ]
  },
  {
   "cell_type": "markdown",
   "id": "c5b9203e",
   "metadata": {},
   "source": [
    "# Plot geometric means of negative controls and housekeeping genes in raw data:"
   ]
  },
  {
   "cell_type": "code",
   "execution_count": null,
   "id": "df99b6c2",
   "metadata": {},
   "outputs": [],
   "source": [
    "##### It's probably not neccessary to view the following, \n",
    "# but lets just have a quick look at how the control values \n",
    "# for the raw data is distributed to make sure there are \n",
    "# no extreme outliers before ERCC normalisation."
   ]
  },
  {
   "cell_type": "code",
   "execution_count": null,
   "id": "c17e599b",
   "metadata": {},
   "outputs": [],
   "source": [
    "# Calculate Ig control Geometric mean and Housekeeping gene Geometric mean\n",
    "# Calculating the mean of log transformed data is analagous to calculating the geometric mean of the non-transformed data\n",
    "\n",
    "HKGeoMean = dataLog1External.drop(labels=['mean','probeClass'], axis=1).loc[masterData.HK].mean()\n",
    "HKGeoMean = HKGeoMean.sort_values()\n",
    "\n",
    "\n",
    "IgGeoMean = dataLog1External.drop(labels=['mean','probeClass'], axis=1).reindex(labels=HKGeoMean.index, axis=1).loc[masterData.IgCTLs].mean()\n",
    "\n",
    "HKIgCtls = masterData.HK.copy()\n",
    "HKIgCtls.extend(masterData.IgCTLs)\n",
    "\n",
    "HKIgCtlGeoMeans = dataLog1External.drop(labels=['mean','probeClass'], axis=1).reindex(labels=HKGeoMean.index, axis=1).loc[HKIgCtls].mean()\n"
   ]
  },
  {
   "cell_type": "code",
   "execution_count": null,
   "id": "1ce5f743",
   "metadata": {},
   "outputs": [],
   "source": [
    "masterData.HK"
   ]
  },
  {
   "cell_type": "code",
   "execution_count": null,
   "id": "5e4f75a2",
   "metadata": {},
   "outputs": [],
   "source": [
    "HKIgCtls = masterData.HK.copy()"
   ]
  },
  {
   "cell_type": "code",
   "execution_count": null,
   "id": "5451c659",
   "metadata": {},
   "outputs": [],
   "source": [
    "HKIgCtls.extend(masterData.IgCTLs)"
   ]
  },
  {
   "cell_type": "code",
   "execution_count": null,
   "id": "e957cc89",
   "metadata": {},
   "outputs": [],
   "source": [
    "HKIgCtls"
   ]
  },
  {
   "cell_type": "code",
   "execution_count": null,
   "id": "efacf9b1",
   "metadata": {},
   "outputs": [],
   "source": [
    "HKGeoMean"
   ]
  },
  {
   "cell_type": "code",
   "execution_count": null,
   "id": "fcb5732d",
   "metadata": {},
   "outputs": [],
   "source": [
    "# ToDo: Fix up cmap for these plots. Choose a factor to colour by.\n",
    "\n",
    "probe_GeoMean_Plots(HKGeoMean, 'House-Keeping probe geometric mean distribution')\n",
    "\n",
    "probe_GeoMean_Plots(IgGeoMean, 'Ig probe geometric mean distribution')"
   ]
  },
  {
   "cell_type": "code",
   "execution_count": null,
   "id": "337832fe",
   "metadata": {},
   "outputs": [],
   "source": [
    "probe_GeoMean_Plots(HKIgCtlGeoMeans, 'HK and Ig probe geometric mean distribution')"
   ]
  },
  {
   "cell_type": "code",
   "execution_count": null,
   "id": "edee7c1a",
   "metadata": {},
   "outputs": [],
   "source": [
    "HKIgCtls = masterData.HK.extend(masterData.IgCTLs)"
   ]
  },
  {
   "cell_type": "code",
   "execution_count": null,
   "id": "5e6a7725",
   "metadata": {},
   "outputs": [],
   "source": [
    "masterData.HK"
   ]
  },
  {
   "cell_type": "code",
   "execution_count": null,
   "id": "a5c651f2",
   "metadata": {},
   "outputs": [],
   "source": []
  },
  {
   "cell_type": "code",
   "execution_count": null,
   "id": "ba5165a9",
   "metadata": {},
   "outputs": [],
   "source": [
    "# #ToDo: make this a copy of the internal dataFrame. Ensure original data is contained in the master class and cannot be changed accidentally from outside of class.\n",
    "\n",
    "# ERCC_normExternal = masterData.ERCC_norm()"
   ]
  },
  {
   "cell_type": "code",
   "execution_count": null,
   "id": "bba7e7f6",
   "metadata": {},
   "outputs": [],
   "source": []
  },
  {
   "cell_type": "code",
   "execution_count": null,
   "id": "e47011f1",
   "metadata": {
    "scrolled": true
   },
   "outputs": [],
   "source": [
    "# ERCC_normExternal"
   ]
  },
  {
   "cell_type": "code",
   "execution_count": null,
   "id": "4f2b9bae",
   "metadata": {},
   "outputs": [],
   "source": []
  },
  {
   "cell_type": "code",
   "execution_count": null,
   "id": "35380248",
   "metadata": {},
   "outputs": [],
   "source": []
  },
  {
   "cell_type": "markdown",
   "id": "dfe17c50-e173-485e-9918-b91ef1037331",
   "metadata": {},
   "source": [
    "## Load-in deafult QC data for further data QC"
   ]
  },
  {
   "cell_type": "code",
   "execution_count": null,
   "id": "cc019263-7021-4632-a830-88012ac48844",
   "metadata": {},
   "outputs": [],
   "source": [
    "# configDict['QCDataPath']"
   ]
  },
  {
   "cell_type": "code",
   "execution_count": null,
   "id": "1fd63b7e-538c-4401-9b65-2cc5fe321661",
   "metadata": {},
   "outputs": [],
   "source": [
    "QCmasterData = master_data(os.path.join(configDict['rootDir'],configDict['QCDataPath']))\n",
    "QCdataExternal, QCdataLog1External, QCsampleInfoExternal = QCmasterData.get_data()\n",
    "\n",
    "# For the Thomas TMA study there are a number of additional AOIs to be used for data normalisation studies.\n",
    "# These should be removed before further data analysis and QC.\n",
    "\n",
    "print(QCmasterData.probeClass)\n",
    "print(QCmasterData.probeClassDict)\n",
    "# dataLog1External, sampleInfoExternal = masterData.drop_AOIs('#16_9', writeOrig=True)\n",
    "\n",
    "# QCnuclei = QCsampleInfoExternal.loc['AOI nuclei count']\n",
    "# QCsurfArea = QCsampleInfoExternal.loc['AOI surface area']\n",
    "\n",
    "QCdataLog1External, QCsampleInfoExternal = QCmasterData.drop_AOIs(list(dropSamples))\n",
    "QCdataLog1External, QCsampleInfoExternal = QCmasterData.add_class_mean(QCmasterData.dataLog1)\n"
   ]
  },
  {
   "cell_type": "code",
   "execution_count": null,
   "id": "1fcf6ee2-a267-4926-be60-4c9e53ef484e",
   "metadata": {},
   "outputs": [],
   "source": [
    "QCdataLog1External"
   ]
  },
  {
   "cell_type": "code",
   "execution_count": null,
   "id": "2d6df12a-eaea-40ef-8047-21c88ca48f01",
   "metadata": {},
   "outputs": [],
   "source": []
  },
  {
   "cell_type": "code",
   "execution_count": null,
   "id": "b39cba77-6e34-4c99-aab9-305ec8a3b21e",
   "metadata": {},
   "outputs": [],
   "source": []
  },
  {
   "cell_type": "code",
   "execution_count": null,
   "id": "a0c1cc93-9ce6-4bc2-a204-0d5021af1899",
   "metadata": {},
   "outputs": [],
   "source": []
  },
  {
   "cell_type": "code",
   "execution_count": null,
   "id": "3b43071f-7312-4594-9b3b-e2937dd06d11",
   "metadata": {},
   "outputs": [],
   "source": [
    "# Sort data by probeclass then mean for nicer visualisation on plots\n",
    "QCdataSortedERCC = QCdataLog1External.sort_values(by = ['probeClass', 'mean'], ascending=[True,True])\n",
    "\n",
    "# ToDo: repeat the colour map after data sorting"
   ]
  },
  {
   "cell_type": "code",
   "execution_count": null,
   "id": "97534e91-d31f-47c4-bb6e-571b6053c83d",
   "metadata": {},
   "outputs": [],
   "source": [
    "type(selectedInfo)"
   ]
  },
  {
   "cell_type": "code",
   "execution_count": null,
   "id": "1921b67c-f581-4004-ace7-8d8ff0dc18d9",
   "metadata": {},
   "outputs": [],
   "source": [
    "type(None)"
   ]
  },
  {
   "cell_type": "code",
   "execution_count": null,
   "id": "a554fc5d-79ac-4d1b-9992-a55910eb219d",
   "metadata": {},
   "outputs": [],
   "source": [
    "\n",
    "# probePlot = draw_probe_plot_2(dataLog1External, dataSortedRaw, sampleInfoExternal, selectedInfo, 'Broad_classification', 'Raw Probe Values')\n",
    "# probePlot = draw_probe_plot(erccDataSorted, sampleInfoExternal, selectedInfo, 'Broad_classification', 'QC Probe Values')\n",
    "# probePlot = draw_probe_plot(erccDataSorted, sampleInfoExternal, selectedInfo, 'Broad_classification', 'QC Probe Values', violin=True)\n",
    "probePlot = draw_probe_plot(erccDataSorted, sampleInfoExternal, selectedInfo, 'Col', 'QC Probe Values \\'Col\\'')\n",
    "probePlot = draw_probe_plot(erccDataSorted, sampleInfoExternal, selectedInfo, 'Row', 'QC Probe Values \\'Row\\'')\n"
   ]
  },
  {
   "cell_type": "code",
   "execution_count": null,
   "id": "b9068b1c-efa7-4c50-948f-ba5f12509b9c",
   "metadata": {},
   "outputs": [],
   "source": []
  },
  {
   "cell_type": "code",
   "execution_count": null,
   "id": "dc022a3e-f2b2-402d-9c93-334d30305d93",
   "metadata": {},
   "outputs": [],
   "source": []
  },
  {
   "cell_type": "code",
   "execution_count": null,
   "id": "75750615-8cec-4322-92f5-9a7cb7407fed",
   "metadata": {},
   "outputs": [],
   "source": [
    "# probePlot = draw_probe_plot(QCdataSortedERCC, sampleInfoExternal, selectedInfo, 'Broad_classification', 'QC Probe Values')\n",
    "# probePlot = draw_probe_plot(QCdataSortedERCC, sampleInfoExternal, selectedInfo, 'Broad_classification', 'QC Probe Values', violin=True)\n",
    "probePlot = draw_probe_plot(QCdataSortedERCC, sampleInfoExternal, selectedInfo, 'Col', 'QC Probe Values \\'Col\\'')\n",
    "probePlot = draw_probe_plot(QCdataSortedERCC, sampleInfoExternal, selectedInfo, 'Row', 'QC Probe Values \\'Row\\'')\n"
   ]
  },
  {
   "cell_type": "code",
   "execution_count": null,
   "id": "724bdb1e-7c0a-45dc-bdc0-49c239b8f5d2",
   "metadata": {},
   "outputs": [],
   "source": [
    "# probePlot = draw_probe_plot(QCdataSortedERCC, sampleInfoExternal, selectedInfo, 'Broad_classification', 'QC Probe Values')\n"
   ]
  },
  {
   "cell_type": "code",
   "execution_count": null,
   "id": "ebabf396-1866-42d4-b0f2-4bae99f6d6ab",
   "metadata": {},
   "outputs": [],
   "source": [
    "# probePlot = draw_probe_plot(erccDataSorted, sampleInfoExternal, selectedInfo, 'Broad_classification', 'QC Probe Values')\n"
   ]
  },
  {
   "cell_type": "code",
   "execution_count": null,
   "id": "68dcc12b-9c2d-411a-907c-e9146c250c59",
   "metadata": {},
   "outputs": [],
   "source": []
  },
  {
   "cell_type": "markdown",
   "id": "a5fc9efd-10c3-49da-b095-4438d3c67988",
   "metadata": {},
   "source": [
    "### ToDo: Collate figures into a pdf"
   ]
  },
  {
   "cell_type": "code",
   "execution_count": null,
   "id": "ada17e77-7787-4a96-bca6-06f8544f2db7",
   "metadata": {},
   "outputs": [],
   "source": []
  },
  {
   "cell_type": "code",
   "execution_count": null,
   "id": "e2c89cdc-f095-42c7-b7cf-d0a0d1d67928",
   "metadata": {
    "scrolled": true
   },
   "outputs": [],
   "source": [
    "QCSortedIndex = sorted(masterData.probeClass.index, key=lambda x: masterData.probeClassDict[masterData.probeClass[x]])\n",
    "\n",
    "QCSortedIndex"
   ]
  },
  {
   "cell_type": "code",
   "execution_count": null,
   "id": "90004a30-6323-4916-91c7-5407679b0817",
   "metadata": {},
   "outputs": [],
   "source": [
    "QCSortedProbes = masterData.probeClass[QCSortedIndex]\n",
    "QCSortedProbes.name = \"Code.Class\"\n",
    "QCSortedProbes\n",
    "\n",
    "# ToDo: Check whether to use this probe order or the previous version of QCSortedProbes\n",
    "\n",
    "# list(QCSortedProbes.index)\n"
   ]
  },
  {
   "cell_type": "code",
   "execution_count": null,
   "id": "dcff19af-da5a-4198-8a57-4d3bbe968762",
   "metadata": {},
   "outputs": [],
   "source": []
  },
  {
   "cell_type": "code",
   "execution_count": null,
   "id": "46707bd8-fa4d-40be-9cd1-a0798371bbd3",
   "metadata": {},
   "outputs": [],
   "source": [
    "# # Export Nanostring QC'd ERCC corrected data for further analysis\n",
    "\n",
    "# QCExport = QCmasterData.dataOrig.copy()\n",
    "# posNeg = masterData.dataOrig.loc[['HYB-NEG','HYB-POS'],]\n",
    "\n",
    "# QCExport = pd.concat([QCExport,posNeg])\n",
    "# QCExport = QCExport.loc[QCSortedIndex,]\n",
    "# QCExport = pd.concat([QCSortedProbes, QCExport], axis = 1)\n",
    "# QCExport.index.name = 'Name'\n",
    "# QCExport"
   ]
  },
  {
   "cell_type": "code",
   "execution_count": null,
   "id": "ea02291c-051d-42ec-ab65-3ca37d97e641",
   "metadata": {},
   "outputs": [],
   "source": []
  },
  {
   "cell_type": "code",
   "execution_count": null,
   "id": "6569fe2d-6c3f-4899-a878-85e8daa8156b",
   "metadata": {},
   "outputs": [],
   "source": []
  },
  {
   "cell_type": "code",
   "execution_count": null,
   "id": "1287f93e-5ec9-4e54-9f34-864db3a33d49",
   "metadata": {},
   "outputs": [],
   "source": [
    "erccData"
   ]
  },
  {
   "cell_type": "code",
   "execution_count": null,
   "id": "63c388cb-d692-4996-8316-efc95308dfb4",
   "metadata": {
    "scrolled": true
   },
   "outputs": [],
   "source": []
  },
  {
   "cell_type": "code",
   "execution_count": null,
   "id": "807cf1de-42be-4897-931d-cc5f9d653869",
   "metadata": {},
   "outputs": [],
   "source": [
    "# Export manually ERCC corrected data for further analysis\n",
    "\n",
    "QCExport = erccData.sort_values(by = ['probeClass', 'mean'], ascending=[True,False])\n",
    "probeOrder = QCExport.index\n",
    "QCExport = QCExport.drop(labels=['mean','probeClass'], axis=1)\n",
    "\n",
    "QCExport = pd.concat([QCSortedProbes, QCExport], axis = 1)\n",
    "QCExport = QCExport.loc[list(probeOrder)]\n",
    "QCExport.index.name = 'Name'\n",
    "QCExport"
   ]
  },
  {
   "cell_type": "code",
   "execution_count": null,
   "id": "e6382b3d-0121-4061-b599-a5053aec6f06",
   "metadata": {},
   "outputs": [],
   "source": [
    "QCSortedProbes"
   ]
  },
  {
   "cell_type": "code",
   "execution_count": null,
   "id": "0fe07bf7-a9bc-4df6-a408-5791694c8784",
   "metadata": {},
   "outputs": [],
   "source": [
    "erccData"
   ]
  },
  {
   "cell_type": "code",
   "execution_count": null,
   "id": "3bce3828-8455-496d-9d96-10d24030a7d4",
   "metadata": {},
   "outputs": [],
   "source": [
    "normDir = os.path.join(configDict['rootDir'], 'DSP_Protein_Data', 'Normalisation')\n",
    "normDir = os.path.join(configDict['rootDir'], 'Normalisation')\n",
    "\n",
    "# check if folder exists and create directory if not\n",
    "if not (os.path.isdir(normDir)):\n",
    "    os.mkdir(normDir)\n"
   ]
  },
  {
   "cell_type": "code",
   "execution_count": null,
   "id": "7d28c65f-d532-4c5b-8e5f-550da1974fac",
   "metadata": {},
   "outputs": [],
   "source": [
    "# ToDo: Ask for project name interactively\n",
    "\n",
    "project = configDict['projectName']\n",
    "qcCSV = 'QC_' + project + '_RUV.csv'\n",
    "\n",
    "writeOutput= False\n",
    "# writeOutput = True\n",
    "if writeOutput:\n",
    "    QCExport.to_csv(os.path.join(normDir, qcCSV))\n",
    "# writeOutput= False"
   ]
  },
  {
   "cell_type": "code",
   "execution_count": null,
   "id": "db3849cc-768f-46c8-81ec-7f1a8dea70a8",
   "metadata": {},
   "outputs": [],
   "source": [
    "normDir"
   ]
  },
  {
   "cell_type": "markdown",
   "id": "c0d565f7-1ea9-4b0a-bfe2-98aa378139ee",
   "metadata": {},
   "source": [
    "# Run NSNorm in R"
   ]
  },
  {
   "cell_type": "code",
   "execution_count": null,
   "id": "466f19a6-3eaf-4b49-a46b-9b10b599b715",
   "metadata": {},
   "outputs": [],
   "source": [
    "break"
   ]
  },
  {
   "cell_type": "code",
   "execution_count": null,
   "id": "765b683c-35c3-4551-a4cd-863183774294",
   "metadata": {
    "scrolled": true
   },
   "outputs": [],
   "source": [
    "# Rscript Documents/notebooks/Nanostring/Larisa_Spheroids/DSP_EDA_Protein/NSNorm.R -d /Users/upton6/Documents/Nanostring/projects/Larisa/2312_Run/DSP_Protein_Data/Normalisation -f QC_Larisa_Spheroids_RUV.csv\n",
    "\n",
    "cmd = 'Rscript NSNorm.R -d ' + normDir + ' -f ' + qcCSV\n",
    "print(cmd)\n",
    "os.system(cmd)"
   ]
  },
  {
   "cell_type": "code",
   "execution_count": null,
   "id": "bf73e4aa-2d21-4964-a85d-3a91452cf2cb",
   "metadata": {},
   "outputs": [],
   "source": []
  },
  {
   "cell_type": "code",
   "execution_count": null,
   "id": "759feaeb-175c-4581-ae6d-ad43adf9c511",
   "metadata": {},
   "outputs": [],
   "source": []
  },
  {
   "cell_type": "code",
   "execution_count": null,
   "id": "332fd3f3-86e3-43fc-a4e5-64b8542f16f6",
   "metadata": {},
   "outputs": [],
   "source": []
  }
 ],
 "metadata": {
  "kernelspec": {
   "display_name": "Python 3 (ipykernel)",
   "language": "python",
   "name": "python3"
  },
  "language_info": {
   "codemirror_mode": {
    "name": "ipython",
    "version": 3
   },
   "file_extension": ".py",
   "mimetype": "text/x-python",
   "name": "python",
   "nbconvert_exporter": "python",
   "pygments_lexer": "ipython3",
   "version": "3.11.7"
  }
 },
 "nbformat": 4,
 "nbformat_minor": 5
}
