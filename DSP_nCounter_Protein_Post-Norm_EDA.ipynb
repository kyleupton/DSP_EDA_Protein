{
 "cells": [
  {
   "cell_type": "code",
   "execution_count": null,
   "id": "cfc5a611",
   "metadata": {},
   "outputs": [],
   "source": [
    "import os\n",
    "import pandas as pd\n",
    "import matplotlib.pyplot as plt\n",
    "import pandas as pd\n",
    "import matplotlib.pyplot as plt\n",
    "import numpy as np\n",
    "\n",
    "import scipy\n",
    "from scipy import stats as stats\n",
    "from copy import copy as copy\n",
    "\n",
    "from openpyxl import load_workbook\n",
    "from openpyxl.worksheet.table import Table\n",
    "# import seaborn as sns\n"
   ]
  },
  {
   "cell_type": "code",
   "execution_count": null,
   "id": "20a113e7-ed49-48a5-bc52-ee7338018606",
   "metadata": {},
   "outputs": [],
   "source": [
    "from functions.plotting import(\n",
    "    volcanoPlotpVal,\n",
    "    volcanoPlot)"
   ]
  },
  {
   "cell_type": "code",
   "execution_count": null,
   "id": "6fcf92aa-6863-4d82-a4ca-8297583e6796",
   "metadata": {},
   "outputs": [],
   "source": []
  },
  {
   "cell_type": "code",
   "execution_count": null,
   "id": "12aa5d48-008b-49b3-aa11-98f5513ed1b7",
   "metadata": {},
   "outputs": [],
   "source": []
  },
  {
   "cell_type": "code",
   "execution_count": null,
   "id": "b033473a",
   "metadata": {},
   "outputs": [],
   "source": [
    "writeOutput = False"
   ]
  },
  {
   "cell_type": "code",
   "execution_count": null,
   "id": "705d6333-1f0a-433e-9ae5-9499a4fdf400",
   "metadata": {},
   "outputs": [],
   "source": [
    "# subfolder = input(\"Enter the name of the working folder (Must be same level as code folder)\")\n",
    "subfolder = \"Larisa_Spheroids\"\n",
    "print(subfolder)\n",
    "\n",
    "os.chdir(\"../\" + subfolder)\n"
   ]
  },
  {
   "cell_type": "code",
   "execution_count": null,
   "id": "d143ca08",
   "metadata": {},
   "outputs": [],
   "source": [
    "os.getcwd()"
   ]
  },
  {
   "cell_type": "code",
   "execution_count": null,
   "id": "88ee0f5a-66ee-4425-a491-3c8cabc4308a",
   "metadata": {},
   "outputs": [],
   "source": []
  },
  {
   "cell_type": "code",
   "execution_count": null,
   "id": "8cedc686-0ed5-4c88-82be-d9d5e9722861",
   "metadata": {},
   "outputs": [],
   "source": [
    "# read in paths from config file\n",
    "configDict = {\n",
    "    'rootDir': '',\n",
    "    'initialDataPath' : '',\n",
    "    'QCDataPath' : '',\n",
    "    'labWorksheet01Path':'',\n",
    "    'sampleInfoFile' : '',\n",
    "    'projectName':'',\n",
    "}\n",
    "\n",
    "with open('./config.txt','r') as f:\n",
    "    lines = f.readlines()\n",
    "    for line in lines:\n",
    "        if not line.startswith('#'):\n",
    "            line = line.strip()\n",
    "            fields = line.split(':')\n",
    "\n",
    "            if fields[0].strip()=='initialDataPath':\n",
    "                configDict[fields[0].strip()] = fields[1].strip().strip('\\'')\n",
    "            else:\n",
    "                configDict[fields[0].strip()] = fields[1].strip().strip('\\'')\n",
    "## ToDo: Add checks to ensure that minimal fields have been populated. Raise errors or warnings"
   ]
  },
  {
   "cell_type": "code",
   "execution_count": null,
   "id": "9e660655-fc4b-4e7e-b8bc-61cee9bedbb3",
   "metadata": {},
   "outputs": [],
   "source": [
    "configDict"
   ]
  },
  {
   "cell_type": "code",
   "execution_count": null,
   "id": "15a3c94b-0812-4df2-bec7-894855e9c354",
   "metadata": {},
   "outputs": [],
   "source": []
  },
  {
   "cell_type": "markdown",
   "id": "f0b0c65b-669f-404b-b5e5-c5441388458a",
   "metadata": {},
   "source": [
    "# Define functions"
   ]
  },
  {
   "cell_type": "code",
   "execution_count": null,
   "id": "7cc6eade-9a2c-4a7d-bb43-91601bdc816c",
   "metadata": {},
   "outputs": [],
   "source": [
    "# Functinos have been moved out to .py files."
   ]
  },
  {
   "cell_type": "markdown",
   "id": "0b7cd9e9-2dec-40fe-b777-fe5c59213909",
   "metadata": {},
   "source": [
    "# Run Analysis"
   ]
  },
  {
   "cell_type": "code",
   "execution_count": null,
   "id": "3ab2cd9a-bfe9-4961-bccb-975ff8a17629",
   "metadata": {},
   "outputs": [],
   "source": [
    "# ToDo:\n",
    "# add sample info file details into config file in previous notebook\n",
    "# sampleInfo_with_Wells.csv"
   ]
  },
  {
   "cell_type": "code",
   "execution_count": null,
   "id": "0c84f9fc-7e9a-4fce-85d7-e52cd78f5ce0",
   "metadata": {},
   "outputs": [],
   "source": []
  },
  {
   "cell_type": "code",
   "execution_count": null,
   "id": "71ff87a1-6e8d-4bf4-b09f-90d7268fbfa9",
   "metadata": {},
   "outputs": [],
   "source": [
    "# ToDo: Should initial filtering be done using none-mean-HKGeoMean normalised data. Using a type of background subtraction for filtering would bias towards removing noisy or low expressing samples. Removing these may give more accurate estimates of real probe values."
   ]
  },
  {
   "cell_type": "markdown",
   "id": "c047948f-3a4c-4ab4-91e9-89d7cb9a4031",
   "metadata": {},
   "source": [
    "# Read-in nanostring normalised data"
   ]
  },
  {
   "cell_type": "code",
   "execution_count": null,
   "id": "22a8e6e2-968e-4d2d-ae5c-33837cbcfa91",
   "metadata": {},
   "outputs": [],
   "source": [
    "\n",
    "\n",
    "normDir = os.path.join(configDict['rootDir'], 'Normalisation')\n",
    "\n",
    "normDir\n",
    "\n",
    "QCDataFile = [f for f in os.listdir(normDir) if (f.startswith('QC') and f.endswith('RUV.csv'))][0]\n",
    "\n",
    "QCDataFile\n",
    "\n",
    "# tempDF\n",
    "\n"
   ]
  },
  {
   "cell_type": "markdown",
   "id": "08b41968-1b35-4b37-9efc-0def51874aa6",
   "metadata": {},
   "source": [
    "### Sort samples and probes "
   ]
  },
  {
   "cell_type": "code",
   "execution_count": null,
   "id": "4dfc92ba-726f-4c20-adf6-4f03b5d13227",
   "metadata": {},
   "outputs": [],
   "source": [
    "\n",
    "# tempDF1 = pd.read_csv(os.path.join(normDir, 'NSNorm',files[0]), index_col=0)\n",
    "# v = tempDF1.mean(axis=1).sort_values().index\n",
    "\n",
    "# sampleOrder = sorted(tempDF1.columns)\n",
    "\n",
    "QCDataDF = pd.read_csv(os.path.join(normDir, QCDataFile), index_col=0)\n",
    "QCDataDF.columns = [x.replace(' ','.') for x in QCDataDF.columns]\n",
    "QCDataDF.columns = [x.replace('-','.') for x in QCDataDF.columns]\n",
    "\n",
    "\n",
    "codeClass = QCDataDF.loc[:,'Code.Class']\n",
    "\n",
    "probeOrder = QCDataDF.index[8:]\n",
    "sampleOrder = QCDataDF.columns[1:]\n",
    "\n",
    "# sampleOrder"
   ]
  },
  {
   "cell_type": "markdown",
   "id": "bcafa6fb-a942-40d9-b81e-961db1771d62",
   "metadata": {},
   "source": [
    "# Read-in sampleInfo"
   ]
  },
  {
   "cell_type": "code",
   "execution_count": null,
   "id": "9ebe1688-0840-482b-9219-bbbb1bc54053",
   "metadata": {},
   "outputs": [],
   "source": []
  },
  {
   "cell_type": "code",
   "execution_count": null,
   "id": "cec76054-4052-40c7-ae2a-fd9a8e6bdc57",
   "metadata": {},
   "outputs": [],
   "source": [
    "sampleInfo = pd.read_csv(os.path.join(configDict['rootDir'], configDict['sampleInfoFile']), index_col=0)"
   ]
  },
  {
   "cell_type": "code",
   "execution_count": null,
   "id": "ad55d350-db62-435e-8f64-38953411ca70",
   "metadata": {},
   "outputs": [],
   "source": [
    "sampleInfo"
   ]
  },
  {
   "cell_type": "code",
   "execution_count": null,
   "id": "4679da99-873f-42ff-b6c3-f7851c68a548",
   "metadata": {},
   "outputs": [],
   "source": []
  },
  {
   "cell_type": "code",
   "execution_count": null,
   "id": "57fd3a45-f39d-48e6-a0d6-f7905bb78599",
   "metadata": {},
   "outputs": [],
   "source": [
    "colTemp = sampleInfo.columns\n",
    "colTemp = [x.replace(' ','.') for x in colTemp]\n",
    "colTemp = [x.replace('-','.') for x in colTemp]\n",
    "sampleInfo.columns = colTemp\n",
    "\n",
    "\n",
    "sampleInfo = sampleInfo.loc[:,sampleOrder]"
   ]
  },
  {
   "cell_type": "code",
   "execution_count": null,
   "id": "0ced723f-ab09-48c8-95f5-e043f40b84a8",
   "metadata": {},
   "outputs": [],
   "source": [
    "sampleInfo"
   ]
  },
  {
   "cell_type": "code",
   "execution_count": null,
   "id": "4483be75-d2e9-440d-8549-e62051cd542c",
   "metadata": {},
   "outputs": [],
   "source": [
    "# Substrate, Diff, Size, Morphology, Day"
   ]
  },
  {
   "cell_type": "code",
   "execution_count": null,
   "id": "c2263590-3c25-4042-aed2-2f61000f9fac",
   "metadata": {},
   "outputs": [],
   "source": [
    "# factors = input('enter factors to be used for groups to check probe expression. separate multiple factors by a comma')\n",
    "\n",
    "factors = 'Substrate, Diff, Size, Morphology, Day'"
   ]
  },
  {
   "cell_type": "code",
   "execution_count": null,
   "id": "6b14dd03-8449-4da0-8f68-dfdb4f51804b",
   "metadata": {},
   "outputs": [],
   "source": [
    "factors = factors.split(',')\n",
    "factors = [f.strip() for f in factors]"
   ]
  },
  {
   "cell_type": "code",
   "execution_count": null,
   "id": "760c8201-82d8-4318-9a84-41be934734c6",
   "metadata": {},
   "outputs": [],
   "source": [
    "\n",
    "# # factors = ['Sample_Type', 'Patient', 'Broad_classification']\n",
    "# factors = ['Broad_classification']\n",
    "# factors"
   ]
  },
  {
   "cell_type": "code",
   "execution_count": null,
   "id": "8a5a4cfb-fd32-4012-96e3-da2e747b4d7e",
   "metadata": {},
   "outputs": [],
   "source": [
    "# generate a dictionary to hold factors for group analysis\n",
    "factorDict = {}\n",
    "factorDict2 = {}\n",
    "\n",
    "for f in factors:\n",
    "    entries = list(set(sampleInfo.loc[f].values))\n",
    "    print(entries)\n",
    "    factorDict[f] = entries\n",
    "    factorDict2[f] = {}\n",
    "    for e in entries:\n",
    "        factorDict2[f][e] = sampleInfo.columns[sampleInfo.loc[f] == e]\n",
    "    "
   ]
  },
  {
   "cell_type": "code",
   "execution_count": null,
   "id": "5c7c3948-4d71-42db-a75c-2075b34ff593",
   "metadata": {},
   "outputs": [],
   "source": [
    "factorDict.keys()"
   ]
  },
  {
   "cell_type": "code",
   "execution_count": null,
   "id": "eec3f408-d8f6-45bd-88fc-2d5eda009cc7",
   "metadata": {
    "scrolled": true
   },
   "outputs": [],
   "source": [
    "factorDict2"
   ]
  },
  {
   "cell_type": "markdown",
   "id": "157863bf",
   "metadata": {},
   "source": [
    "# Visualise Nanostring Norm results and choose samples to be kept for final normalisation"
   ]
  },
  {
   "cell_type": "code",
   "execution_count": null,
   "id": "d5626ade-d34f-4e2c-95b4-d417a8d507e0",
   "metadata": {},
   "outputs": [],
   "source": [
    "configDict"
   ]
  },
  {
   "cell_type": "code",
   "execution_count": null,
   "id": "2f99611a-68a5-4b53-96af-924a4b2c344a",
   "metadata": {},
   "outputs": [],
   "source": [
    "QCDataDF"
   ]
  },
  {
   "cell_type": "code",
   "execution_count": null,
   "id": "e43199b7-089e-45c9-9829-0a44b494565b",
   "metadata": {},
   "outputs": [],
   "source": []
  },
  {
   "cell_type": "code",
   "execution_count": null,
   "id": "babb3cdc-2748-4b13-826a-8ed1bbb2ce5e",
   "metadata": {},
   "outputs": [],
   "source": []
  },
  {
   "cell_type": "code",
   "execution_count": null,
   "id": "a8959428-c042-4f36-a5be-77f8de8df3b9",
   "metadata": {},
   "outputs": [],
   "source": []
  },
  {
   "cell_type": "code",
   "execution_count": null,
   "id": "537110be-bfb2-4cd9-a1bf-bf8e3328ffe0",
   "metadata": {},
   "outputs": [],
   "source": [
    "files = os.listdir(os.path.join(normDir, 'NSNorm'))\n",
    "files = sorted(files)\n",
    "# # print(len(files))\n",
    "# # print(files)\n",
    "\n",
    "# fileIdx = 0\n",
    "# tempFile = os.path.join(normDir, 'NSNorm',files[fileIdx])\n",
    "\n",
    "# print(tempFile)\n",
    "# tempDF = pd.read_csv(os.path.join(normDir, 'NSNorm',files[fileIdx]), index_col=0)\n"
   ]
  },
  {
   "cell_type": "code",
   "execution_count": null,
   "id": "08244ab1-60b1-4754-aa27-f32b87c49aad",
   "metadata": {},
   "outputs": [],
   "source": [
    "probeOrder"
   ]
  },
  {
   "cell_type": "code",
   "execution_count": null,
   "id": "0c6a8f41",
   "metadata": {
    "scrolled": true
   },
   "outputs": [],
   "source": [
    "width = 6\n",
    "height = 14\n",
    "\n",
    "\n",
    "fig, axs = plt.subplots(height, width, figsize=[40,25])\n",
    "# fig.suptitle('Nanostring Normalisation heatmaps')\n",
    "\n",
    "for y in range(height):\n",
    "    for x in range(width):\n",
    "        fileIdx = x + y*width\n",
    "        tempDF = pd.read_csv(os.path.join(normDir, 'NSNorm',files[fileIdx]), index_col=0)\n",
    "#         axs[y][x].matshow(np.log2(tempDF + 1), aspect = 'auto', cmap='coolwarm')\n",
    "        axs[y][x].matshow(np.log2(tempDF.loc[probeOrder,sampleOrder] + 1), cmap='coolwarm')\n",
    "        axs[y][x].set_xticks([])\n",
    "        axs[y][x].set_yticks([])\n",
    "        axs[y][x].set_title(files[fileIdx][:-4])\n",
    "    \n",
    "# plt.tight_layout()\n",
    "# fig.show()\n",
    "fig.savefig('NSNorm.png')\n"
   ]
  },
  {
   "cell_type": "code",
   "execution_count": null,
   "id": "f5ae029c-b310-4b63-8252-fe984826d89f",
   "metadata": {},
   "outputs": [],
   "source": []
  },
  {
   "cell_type": "markdown",
   "id": "258147fe-2774-4613-9cc1-00ecdac9f6dc",
   "metadata": {},
   "source": [
    "# Threshold data"
   ]
  },
  {
   "cell_type": "code",
   "execution_count": null,
   "id": "93f7d053-505d-4fb7-8829-86e0a739d4fb",
   "metadata": {},
   "outputs": [],
   "source": []
  },
  {
   "cell_type": "code",
   "execution_count": null,
   "id": "4bf3e74c-3240-4fbe-9453-eca8ad709b17",
   "metadata": {},
   "outputs": [],
   "source": []
  },
  {
   "cell_type": "code",
   "execution_count": null,
   "id": "121e0f1e-8ecc-444a-87de-0e14e59efd48",
   "metadata": {},
   "outputs": [],
   "source": [
    "controlSet = set(['HYB-NEG', 'HYB-POS', 'Rb IgG', 'Ms IgG2a', 'Ms IgG1'])"
   ]
  },
  {
   "cell_type": "markdown",
   "id": "5f322d02-dc69-4133-8668-f9b85e4a6ec7",
   "metadata": {},
   "source": [
    "### Threshold probes and drop low or null expressing probes"
   ]
  },
  {
   "cell_type": "code",
   "execution_count": null,
   "id": "a1c26df7-a10e-41f0-ae86-c380d6819df0",
   "metadata": {},
   "outputs": [],
   "source": [
    "# ToDo: Add in a variable called  thresholdData to hold data for comparison at thresholding stage. This will be read from one of the normalised files."
   ]
  },
  {
   "cell_type": "code",
   "execution_count": null,
   "id": "71306fe6-f817-4978-94d6-c4fd747e9ca0",
   "metadata": {},
   "outputs": [],
   "source": [
    "thresholdData = pd.read_csv(os.path.join(normDir, 'NSNorm',files[51]), index_col=0)\n",
    "thresholdData.columns = [x.replace(' ','.') for x in thresholdData.columns]\n",
    "thresholdData.columns = [x.replace('-','.') for x in thresholdData.columns]\n",
    "\n"
   ]
  },
  {
   "cell_type": "code",
   "execution_count": null,
   "id": "9c2838ef-679c-40ab-be24-e8b3697f57d2",
   "metadata": {},
   "outputs": [],
   "source": []
  },
  {
   "cell_type": "code",
   "execution_count": null,
   "id": "4981d6d9-1b03-4056-a627-ed6d3703ac35",
   "metadata": {},
   "outputs": [],
   "source": []
  },
  {
   "cell_type": "code",
   "execution_count": null,
   "id": "f4d1b884-949e-4d45-8a5b-ff7b23ad35ba",
   "metadata": {},
   "outputs": [],
   "source": [
    "threshold = 1.5\n",
    "expPropCutOff = 0.5\n",
    "SamplePropCutOff = 0.5\n",
    "\n",
    "dropList = []\n",
    "\n",
    "dropSetTemp = []\n",
    "\n",
    "for f in factorDict2.keys():\n",
    "    print(f)\n",
    "    for g in factorDict2[f].keys():\n",
    "        print(g)\n",
    "        # print(factorDict2[f][g])\n",
    "        groupLen = len(factorDict2[f][g])\n",
    "        # print(groupLen)\n",
    "        passThreshold = (thresholdData[factorDict2[f][g]]>threshold).sum(axis=1)\n",
    "        # print(passThreshold)\n",
    "        passThreshProp = (passThreshold/groupLen) < expPropCutOff\n",
    "        # print(passThreshProp)\n",
    "        failIdx = thresholdData.index[passThreshProp]\n",
    "        print(failIdx)\n",
    "        print(len(failIdx))\n",
    "\n",
    "        if (len(failIdx) > 0):\n",
    "            dropList.extend(list(failIdx))\n",
    "            dropSetTemp.append(list(failIdx))\n",
    "        # print(thresholdData.index[((thresholdData[factorDict2[f][g]]>2).sum(axis=1)/groupLen) < 0.5])\n",
    "\n",
    "dropList = list(set(dropList) - controlSet)\n",
    "print(dropList)\n",
    "print(dropSetTemp)\n",
    "\n",
    "# dropSet = set(tuple(x) for x in dropSetTemp)"
   ]
  },
  {
   "cell_type": "code",
   "execution_count": null,
   "id": "536138f5-3d0f-4f87-855d-91904a00cbb8",
   "metadata": {},
   "outputs": [],
   "source": [
    "dropSet = set(dropSetTemp[0])\n",
    "\n",
    "for x in range(1,len(dropSetTemp)):\n",
    "    print(x)\n",
    "    dropSet = dropSet & set(dropSetTemp[1])\n",
    "\n",
    "dropSet = dropSet - controlSet\n",
    "# dropSet\n",
    "dropList = list(dropSet)\n",
    "# dropList\n",
    "QCDataDF = QCDataDF.drop(index=dropList)"
   ]
  },
  {
   "cell_type": "code",
   "execution_count": null,
   "id": "1cadaaf6-12a1-41fc-8ead-6a9913dd3423",
   "metadata": {},
   "outputs": [],
   "source": [
    "codeClass = codeClass[QCDataDF.index]"
   ]
  },
  {
   "cell_type": "code",
   "execution_count": null,
   "id": "220a9f81-958b-41e5-8c10-3b936fe29ddc",
   "metadata": {},
   "outputs": [],
   "source": [
    "codeClass"
   ]
  },
  {
   "cell_type": "code",
   "execution_count": null,
   "id": "84b84ff3-ac91-486b-a9e8-a70ccb6d4795",
   "metadata": {},
   "outputs": [],
   "source": [
    "print(len(dropList))\n",
    "print(dropList)\n"
   ]
  },
  {
   "cell_type": "markdown",
   "id": "bb708be6-4e27-48d8-ae7b-929194bf72b8",
   "metadata": {},
   "source": [
    "### Threshold samples and drop low or null expressing samples"
   ]
  },
  {
   "cell_type": "code",
   "execution_count": null,
   "id": "c24bb8e0-29ac-468a-a616-3a9db51eeb47",
   "metadata": {
    "scrolled": true
   },
   "outputs": [],
   "source": [
    "dropSamples = list(QCDataDF[QCDataDF.columns[1:]].T[(QCDataDF[QCDataDF.columns[1:]]>threshold).sum(axis=0)/len(QCDataDF.index) < SamplePropCutOff].index)\n",
    "print('dropSamples : ')\n",
    "print(dropSamples)\n",
    "QCDataDF = QCDataDF.drop(labels=dropSamples, axis=1)\n",
    "# QCDataDF = QCDataDF.drop(index=dropSamples)\n",
    "# QCDataDF"
   ]
  },
  {
   "cell_type": "code",
   "execution_count": null,
   "id": "e78b662b-5dd4-4bae-ab21-bd940007f192",
   "metadata": {},
   "outputs": [],
   "source": [
    "QCDataDF"
   ]
  },
  {
   "cell_type": "markdown",
   "id": "83c5b52a-7ce9-4bca-9194-07b0fb285193",
   "metadata": {},
   "source": [
    "- export data after dropping probes and samples due to low expression\n",
    "- re-run NSNorm\n",
    "- Continue with viewing data and QC of normalised data\n",
    "\n"
   ]
  },
  {
   "cell_type": "code",
   "execution_count": null,
   "id": "4b43bfab-e7c5-4c38-9425-69ada6772250",
   "metadata": {},
   "outputs": [],
   "source": []
  },
  {
   "cell_type": "code",
   "execution_count": null,
   "id": "6e415a64-b4db-43a9-af16-0ff5b6f9ddf2",
   "metadata": {},
   "outputs": [],
   "source": [
    "# QCDataDF = pd.concat([codeClass,QCDataDF], axis=1)\n"
   ]
  },
  {
   "cell_type": "code",
   "execution_count": null,
   "id": "d1e73a11-493f-4d97-be13-3fefdbe4898d",
   "metadata": {},
   "outputs": [],
   "source": [
    "QCDataDF.index.name = 'Name'\n"
   ]
  },
  {
   "cell_type": "code",
   "execution_count": null,
   "id": "5a3511b2-e0b0-4479-85cd-b9832c9a8d2e",
   "metadata": {},
   "outputs": [],
   "source": [
    "QCDataDF"
   ]
  },
  {
   "cell_type": "code",
   "execution_count": null,
   "id": "9dfc6f31-0fbc-45da-8cce-35b695b31936",
   "metadata": {},
   "outputs": [],
   "source": [
    "# ToDo: Ask for project name interactively\n",
    "project = configDict['projectName']\n",
    "\n",
    "qcDropCSV = 'QC_' + project + '_RUV_Dropped.csv'\n",
    "\n",
    "writeOutput = True\n",
    "if writeOutput:\n",
    "    QCDataDF.to_csv(os.path.join(normDir, qcDropCSV))\n",
    "writeOutput= False"
   ]
  },
  {
   "cell_type": "code",
   "execution_count": null,
   "id": "d0bff30f-9ae9-4af0-aa37-2f1ced053a22",
   "metadata": {
    "scrolled": true
   },
   "outputs": [],
   "source": [
    "cmd = 'Rscript NSNorm.R -d ' + normDir + ' -s NSNormDropped -f ' + qcDropCSV\n",
    "print(cmd)\n",
    "os.system(cmd)"
   ]
  },
  {
   "cell_type": "code",
   "execution_count": null,
   "id": "c9ef69a7-81bf-424f-9261-88d74d6c47ef",
   "metadata": {},
   "outputs": [],
   "source": []
  },
  {
   "cell_type": "code",
   "execution_count": null,
   "id": "9ef4eb2d-6379-4f25-a3d7-051aea7a45f6",
   "metadata": {},
   "outputs": [],
   "source": [
    "files = os.listdir(os.path.join(normDir, 'NSNormDropped'))\n",
    "files = sorted(files)\n"
   ]
  },
  {
   "cell_type": "code",
   "execution_count": null,
   "id": "a0ee4c9d-f900-49ba-94fa-dc465eeb02fb",
   "metadata": {
    "scrolled": true
   },
   "outputs": [],
   "source": [
    "width = 6\n",
    "height = 14\n",
    "\n",
    "fig, axs = plt.subplots(height, width, figsize=[40,25])\n",
    "# fig.suptitle('Nanostring Normalisation heatmaps')\n",
    "for y in range(height):\n",
    "    for x in range(width):\n",
    "        fileIdx = x + y*width\n",
    "        tempDF = pd.read_csv(os.path.join(normDir, 'NSNormDropped',files[fileIdx]), index_col=0)\n",
    "#         axs[y][x].matshow(np.log2(tempDF + 1), aspect = 'auto', cmap='coolwarm')\n",
    "        # axs[y][x].matshow(np.log2(tempDF.loc[probeOrder,sampleOrder] + 1), cmap='coolwarm')\n",
    "        axs[y][x].matshow(np.log2(tempDF + 1), cmap='coolwarm')\n",
    "        axs[y][x].set_xticks([])\n",
    "        axs[y][x].set_yticks([])\n",
    "        axs[y][x].set_title(files[fileIdx][:-4])\n",
    "    \n",
    "# plt.tight_layout()\n",
    "# fig.show()\n",
    "fig.savefig('NSNormDropped.png')"
   ]
  },
  {
   "cell_type": "code",
   "execution_count": null,
   "id": "a5ba7570-4506-4a27-ab10-1e2ccd76f84f",
   "metadata": {},
   "outputs": [],
   "source": []
  },
  {
   "cell_type": "markdown",
   "id": "7c5abe3b-5095-4c68-b258-8c2f6906ebf2",
   "metadata": {},
   "source": [
    "# working"
   ]
  },
  {
   "cell_type": "code",
   "execution_count": null,
   "id": "44556952-abf6-4636-900b-7bae0a8a3baf",
   "metadata": {},
   "outputs": [],
   "source": []
  },
  {
   "cell_type": "code",
   "execution_count": null,
   "id": "a0d317cf-87a3-4f22-844f-b9e932dfd9b2",
   "metadata": {},
   "outputs": [],
   "source": [
    "# Drop samples from sample info file"
   ]
  },
  {
   "cell_type": "code",
   "execution_count": null,
   "id": "26740046-5f61-4ba4-b361-ed0c11a4079f",
   "metadata": {},
   "outputs": [],
   "source": []
  },
  {
   "cell_type": "code",
   "execution_count": null,
   "id": "a02b37d0-1d8a-4889-b660-ddd51b65b847",
   "metadata": {},
   "outputs": [],
   "source": [
    "# generate groups for EdgeR analysis"
   ]
  },
  {
   "cell_type": "code",
   "execution_count": null,
   "id": "aeb163cf-255c-4853-ab51-ad37f68106b7",
   "metadata": {},
   "outputs": [],
   "source": []
  },
  {
   "cell_type": "code",
   "execution_count": null,
   "id": "35a3a9b6",
   "metadata": {},
   "outputs": [],
   "source": [
    "# temp = noneMeanHKDF > 0 "
   ]
  },
  {
   "cell_type": "code",
   "execution_count": null,
   "id": "1189f400",
   "metadata": {},
   "outputs": [],
   "source": [
    "# noneMeanHKDF = pd.read_csv(os.path.join(normDir, 'NSNorm',files[27]), index_col=0)\n",
    "noneMeanHKDF = pd.read_csv(os.path.join(normDir, 'NSNormDropped',files[27]), index_col=0)\n"
   ]
  },
  {
   "cell_type": "code",
   "execution_count": null,
   "id": "eb4ed742",
   "metadata": {},
   "outputs": [],
   "source": [
    "# noneMeanHKDF"
   ]
  },
  {
   "cell_type": "code",
   "execution_count": null,
   "id": "03d217d4",
   "metadata": {},
   "outputs": [],
   "source": [
    "# groupedExpressedIndex = noneMeanHKDF.loc[probeOrder].loc[((noneMeanHKDF > 0 ).sum(axis = 1) / len(noneMeanHKDF.columns) > 0.33333)].index\n"
   ]
  },
  {
   "cell_type": "code",
   "execution_count": null,
   "id": "0a768cbf",
   "metadata": {},
   "outputs": [],
   "source": [
    "# groupedExpressedIndex"
   ]
  },
  {
   "cell_type": "code",
   "execution_count": null,
   "id": "390150d5",
   "metadata": {},
   "outputs": [],
   "source": [
    "# len(groupedExpressedIndex)"
   ]
  },
  {
   "cell_type": "code",
   "execution_count": null,
   "id": "31255ab5-9a49-431e-83fa-b342d88533c2",
   "metadata": {},
   "outputs": [],
   "source": []
  },
  {
   "cell_type": "code",
   "execution_count": null,
   "id": "e1ac7ba7-b419-45d9-97da-f1d843fbd547",
   "metadata": {},
   "outputs": [],
   "source": [
    "QCData = pd.read_csv(os.path.join(normDir, QCDataFile), index_col=0)\n",
    "\n",
    "QCData"
   ]
  },
  {
   "cell_type": "markdown",
   "id": "01a30752",
   "metadata": {},
   "source": [
    "# Run EdgeR analysis"
   ]
  },
  {
   "cell_type": "markdown",
   "id": "b824bcb2-81a9-4343-9da8-1296d8795e9f",
   "metadata": {},
   "source": [
    "Write comparisons to a text file that will be parsed by the r script\n",
    "\n",
    "In form of factor.variable, factor.variable2, comparisonName\n",
    "1 comparison per line"
   ]
  },
  {
   "cell_type": "markdown",
   "id": "ae0bdde9-9f71-459d-b45f-fe4ae52d9749",
   "metadata": {},
   "source": [
    "  make_option(c(\"-d\", \"--datadir\"), type=\"character\", default=NULL, \n",
    "              help=\"dataset file name\", metavar=\"character\"),\n",
    "  make_option(c(\"-f\", \"--file\"), type=\"character\", default=NULL, \n",
    "              help=\"dataset file name\", metavar=\"character\"),\n",
    "  make_option(c(\"-e\", \"--exportdir\"), type=\"character\", default=\"NSNorm\", \n",
    "              help=\"dataset file name\", metavar=\"character\"),\n",
    "  make_option(c(\"-i\", \"--sampleinfo\"), type=\"character\", default=NULL, \n",
    "              help=\"dataset file name\", metavar=\"character\")"
   ]
  },
  {
   "cell_type": "code",
   "execution_count": null,
   "id": "ae1536c2-134b-41a6-a02f-8a93b80504d5",
   "metadata": {},
   "outputs": [],
   "source": []
  },
  {
   "cell_type": "markdown",
   "id": "c31a2673-b1c0-440a-a3b1-d19986a3c3b7",
   "metadata": {},
   "source": [
    "### extract potential factors for analysis from info file"
   ]
  },
  {
   "cell_type": "code",
   "execution_count": null,
   "id": "17173294-5133-42fa-8b02-2065c23d70fb",
   "metadata": {},
   "outputs": [],
   "source": [
    "# groups = ['Broad_classification']\n",
    "\n",
    "groups = [\n",
    "    'Substrate',\n",
    "    'Substrate.Day.Diff',\n",
    "    'Substrate.Day.Diff.Layer',\n",
    "    'Substrate.Day.Diff.Morphology.Layer',\n",
    "    'Substrate.Day.Diff.Size.Layer',\n",
    "    'Substrate.Day.Diff.Size.Morphology.Layer'\n",
    "]"
   ]
  },
  {
   "cell_type": "code",
   "execution_count": null,
   "id": "a495336c-04b5-430b-9b3b-61b85ae9bd6e",
   "metadata": {},
   "outputs": [],
   "source": [
    "# ['Sample_Type', 'Patient', 'Broad_classification']"
   ]
  },
  {
   "cell_type": "markdown",
   "id": "021874d0-af03-4a0a-936d-72065e3ffe9c",
   "metadata": {},
   "source": [
    "### extract potential groups based on factors"
   ]
  },
  {
   "cell_type": "markdown",
   "id": "881f30f6-8a8c-4fca-93d1-a7bd8400b96d",
   "metadata": {},
   "source": [
    "### Show group numbers for each of the comparisons"
   ]
  },
  {
   "cell_type": "code",
   "execution_count": null,
   "id": "5784ddca-abf3-4b69-9ecd-8ae5ab4f5cd9",
   "metadata": {},
   "outputs": [],
   "source": [
    "# comps = [\n",
    "#     [\n",
    "#         'Hydrogel - Spheroid'\n",
    "#     ],\n",
    "#     [\n",
    "#         'Hydrogel.BDNF - Hydrogel.SD',\n",
    "#         'Hydrogel.Dream - Hydrogel.SD',\n",
    "#         'Hydrogel.PDGF - Hydrogel.SD',\n",
    "#         'Spheroid.Hep - Spheroid.SD'    \n",
    "#     ],\n",
    "#     [\n",
    "#         'Hydrogel.SD.Outer - Hydrogel.SD.Inner',\n",
    "#         'Hydrogel.BDNF.Outer - Hydrogel.BDNF.Inner',\n",
    "#         'Hydrogel.Dream.Outer - Hydrogel.Dream.Inner',\n",
    "#         'Hydrogel.PDGF.Outer - Hydrogel.PDGF.Inner',\n",
    "#         'Spheroid.SD.Outer - Spheroid.SD.Inner',\n",
    "#         'Spheroid.Hep.Outer - Spheroid.Hep.Inner'\n",
    "#     ],\n",
    "# ]\n",
    "\n",
    "# compNames = []\n",
    "# for g in comps:\n",
    "#     ctemp = []\n",
    "#     for c in g:\n",
    "#         c = c.replace('.','_')\n",
    "#         c = c.replace(' - ','_vs_')\n",
    "#         ctemp.append(c)\n",
    "#     compNames.append(ctemp)\n",
    "    \n",
    "\n",
    "# compNames"
   ]
  },
  {
   "cell_type": "code",
   "execution_count": null,
   "id": "08136f17-c96e-418e-a8ee-93e004e9703c",
   "metadata": {
    "scrolled": true
   },
   "outputs": [],
   "source": [
    "# comps = [\n",
    "#     [\n",
    "#         'Secondary - Primary'\n",
    "#     ]\n",
    "# ]\n",
    "\n",
    "# compNames = []\n",
    "# for g in comps:\n",
    "#     ctemp = []\n",
    "#     for c in g:\n",
    "#         c = c.replace('.','_')\n",
    "#         c = c.replace(' - ','_vs_')\n",
    "#         ctemp.append(c)\n",
    "#     compNames.append(ctemp)\n",
    "    \n",
    "\n",
    "# compNames"
   ]
  },
  {
   "cell_type": "code",
   "execution_count": null,
   "id": "3f6bcb02-8b21-407d-baf3-3b5f88c9a952",
   "metadata": {},
   "outputs": [],
   "source": [
    "comps = [\n",
    "    [\n",
    "        # 'Substrate',\n",
    "        'Hydrogel - Spheroid' \n",
    "    ],\n",
    "    [\n",
    "        # 'Substrate.Day.Diff',        \n",
    "        'Spheroid.D7.Hep - Spheroid.D7.SD', #1\n",
    "        'Hydrogel.D14.SD - Hydrogel.D7.SD', #2\n",
    "\n",
    "        'Hydrogel.D14.Dream - Hydrogel.D14.SD', #3\n",
    "        'Hydrogel.D14.PDGF - Hydrogel.D14.SD', #4\n",
    "        'Hydrogel.D14.BDNF - Hydrogel.D14.SD', #5\n",
    "        \n",
    "        'Hydrogel.D14.PDGF - Hydrogel.D14.Dream', #6\n",
    "        'Hydrogel.D14.BDNF - Hydrogel.D14.Dream', #7\n",
    "        \n",
    "        'Hydrogel.D14.BDNF - Hydrogel.D14.PDGF' #8\n",
    "    ],\n",
    "    [\n",
    "        # 'Substrate.Day.Diff.Layer',\n",
    "        # 'Spheroid.D7.SD.Outer - Spheroid.D7.SD.Inner',\n",
    "        'Spheroid.D7.SD.Inner - Spheroid.D7.SD.Outer', #1\n",
    "        # 'Spheroid.D7.Hep.Outer - Spheroid.D7.Hep.Inner',\n",
    "        'Spheroid.D7.Hep.Inner - Spheroid.D7.Hep.Outer', #2\n",
    "        \n",
    "        'Spheroid.D7.Hep.Inner - Spheroid.D7.SD.Inner', #3\n",
    "        'Spheroid.D7.Hep.Outer - Spheroid.D7.SD.Outer', #4\n",
    "\n",
    "        'Hydrogel.D7.SD.Inner - Hydrogel.D7.SD.Outer', #5\n",
    "        # 'Hydrogel.D14.SD.Outer - Hydrogel.D14.SD.Inner',\n",
    "        'Hydrogel.D14.SD.Inner - Hydrogel.D14.SD.Outer', #6\n",
    "        # 'Hydrogel.D14.BDNF.Outer - Hydrogel.D14.BDNF.Inner',\n",
    "        # 'Hydrogel.D14.Dream.Outer - Hydrogel.D14.Dream.Inner',\n",
    "        # 'Hydrogel.D14.PDGF.Outer - Hydrogel.D14.PDGF.Inner',\n",
    "        'Hydrogel.D14.Dream.Inner - Hydrogel.D14.Dream.Outer', #7\n",
    "        'Hydrogel.D14.PDGF.Inner - Hydrogel.D14.PDGF.Outer', #8\n",
    "        'Hydrogel.D14.BDNF.Inner - Hydrogel.D14.BDNF.Outer', #9\n",
    "\n",
    "        \n",
    "        'Hydrogel.D14.Dream.Inner - Hydrogel.D14.SD.Inner', #10\n",
    "        'Hydrogel.D14.PDGF.Inner - Hydrogel.D14.SD.Inner', #11\n",
    "        'Hydrogel.D14.BDNF.Inner - Hydrogel.D14.SD.Inner', #12\n",
    "\n",
    "        'Hydrogel.D14.Dream.Outer - Hydrogel.D14.SD.Outer', #13\n",
    "        'Hydrogel.D14.PDGF.Outer - Hydrogel.D14.SD.Outer', #14\n",
    "        'Hydrogel.D14.BDNF.Outer - Hydrogel.D14.SD.Outer', #15\n",
    "\n",
    "        \n",
    "        'Hydrogel.D14.PDGF.Inner - Hydrogel.D14.Dream.Inner', #16\n",
    "        'Hydrogel.D14.BDNF.Inner - Hydrogel.D14.Dream.Inner', #17\n",
    "\n",
    "        'Hydrogel.D14.PDGF.Outer - Hydrogel.D14.Dream.Outer', #18\n",
    "        'Hydrogel.D14.BDNF.Outer - Hydrogel.D14.Dream.Outer', #19\n",
    "\n",
    "        \n",
    "        'Hydrogel.D14.BDNF.Inner - Hydrogel.D14.PDGF.Inner', #20\n",
    "\n",
    "        'Hydrogel.D14.BDNF.Outer - Hydrogel.D14.PDGF.Outer' #21\n",
    "    ],\n",
    "    [\n",
    "        # 'Substrate.Day.Diff.Morph.Layer',\n",
    "        'Hydrogel.D7.SD.Round.Inner - Hydrogel.D7.SD.Round.Outer', #1\n",
    "        'Hydrogel.D7.SD.Diff.Inner - Hydrogel.D7.SD.Diff.Outer', #2\n",
    "        'Hydrogel.D7.SD.Diff.Inner - Hydrogel.D7.SD.Round.Inner', #3\n",
    "        'Hydrogel.D7.SD.Diff.Outer - Hydrogel.D7.SD.Round.Outer' #4\n",
    "    ],\n",
    "    [\n",
    "        # 'Substrate.Day.Diff.Size.Layer'\n",
    "        ## D7 SD\n",
    "        ### In - out\n",
    "        'Hydrogel.D7.SD.Small.Inner - Hydrogel.D7.SD.Small.Outer', #1\n",
    "        'Hydrogel.D7.SD.Large.Inner - Hydrogel.D7.SD.Large.Outer', #2\n",
    "        ### sml - lge\n",
    "        'Hydrogel.D7.SD.Small.Inner - Hydrogel.D7.SD.Large.Inner', #3\n",
    "        'Hydrogel.D7.SD.Small.Outer - Hydrogel.D7.SD.Large.Outer', #4\n",
    "        \n",
    "        ## D14 SD\n",
    "        ### In - out\n",
    "        'Hydrogel.D14.SD.Small.Inner - Hydrogel.D14.SD.Small.Outer', #1\n",
    "        'Hydrogel.D14.SD.Large.Inner - Hydrogel.D14.SD.Large.Outer', #2\n",
    "        ### sml - lge\n",
    "        'Hydrogel.D14.SD.Small.Inner - Hydrogel.D14.SD.Large.Inner', #3\n",
    "        'Hydrogel.D14.SD.Small.Outer - Hydrogel.D14.SD.Large.Outer', #4\n",
    "\n",
    "        ## Dream\n",
    "        ### In - out\n",
    "        'Hydrogel.D14.Dream.Small.Inner - Hydrogel.D14.Dream.Small.Outer', #1\n",
    "        # 'Hydrogel.D14.Dream.Large.Inner - Hydrogel.D14.Dream.Large.Outer',\n",
    "        ### sml - lge\n",
    "        # 'Hydrogel.D14.Dream.Small.Inner - Hydrogel.D14.Dream.Large.Inner',\n",
    "        'Hydrogel.D14.Dream.Small.Outer - Hydrogel.D14.Dream.Large.Outer', #2\n",
    "        \n",
    "        ## PDGF\n",
    "        ### In - out\n",
    "        'Hydrogel.D14.PDGF.Small.Inner - Hydrogel.D14.PDGF.Small.Outer', #1\n",
    "        # 'Hydrogel.D14.PDGF.Large.Inner - Hydrogel.D14.PDGF.Large.Outer',\n",
    "        ### sml - lge\n",
    "        # 'Hydrogel.D14.PDGF.Small.Inner - Hydrogel.D14.PDGF.Large.Inner',\n",
    "        'Hydrogel.D14.PDGF.Small.Outer - Hydrogel.D14.PDGF.Large.Outer', #2\n",
    "        \n",
    "        ## BDNF\n",
    "        ### In - out\n",
    "        'Hydrogel.D14.BDNF.Small.Inner - Hydrogel.D14.BDNF.Small.Outer', #1\n",
    "        # 'Hydrogel.D14.BDNF.Large.Inner - Hydrogel.D14.BDNF.Large.Outer',\n",
    "        ### sml - lge\n",
    "        # 'Hydrogel.D14.BDNF.Small.Inner - Hydrogel.D14.BDNF.Large.Inner',\n",
    "        'Hydrogel.D14.BDNF.Small.Outer - Hydrogel.D14.BDNF.Large.Outer' #2\n",
    "        \n",
    "    ],\n",
    "    [\n",
    "        # 'Substrate.Day.Diff.Size.Morph.Layer'\n",
    "        ## D7 SD\n",
    "        ### In - out\n",
    "        'Hydrogel.D7.SD.Small.Round.Inner - Hydrogel.D7.SD.Small.Round.Outer', #1\n",
    "        'Hydrogel.D7.SD.Large.Round.Inner - Hydrogel.D7.SD.Large.Round.Outer', #2\n",
    "        'Hydrogel.D7.SD.Small.Diff.Inner - Hydrogel.D7.SD.Small.Diff.Outer', #3\n",
    "        # 'Hydrogel.D7.SD.Large.Diff.Inner - Hydrogel.D7.SD.Large.Diff.Outer',\n",
    "\n",
    "    \n",
    "        ### round - diff\n",
    "        'Hydrogel.D7.SD.Small.Round.Inner - Hydrogel.D7.SD.Small.Diff.Inner', #4\n",
    "        'Hydrogel.D7.SD.Small.Round.Outer - Hydrogel.D7.SD.Small.Diff.Outer', #5\n",
    "        # 'Hydrogel.D7.SD.Large.Round.Inner - Hydrogel.D7.SD.Large.Diff.Inner',\n",
    "        'Hydrogel.D7.SD.Large.Round.Outer - Hydrogel.D7.SD.Large.Diff.Outer' #6\n",
    "\n",
    "    ]\n",
    "]\n",
    "\n",
    "compNames = []\n",
    "for g in comps:\n",
    "    ctemp = []\n",
    "    for c in g:\n",
    "        c = c.replace('.','_')\n",
    "        c = c.replace(' - ','_vs_')\n",
    "        ctemp.append(c)\n",
    "    compNames.append(ctemp)\n",
    "    \n",
    "\n",
    "compNames"
   ]
  },
  {
   "cell_type": "code",
   "execution_count": null,
   "id": "078279a3-7f6e-4a86-8060-0d5ee160f36e",
   "metadata": {},
   "outputs": [],
   "source": [
    "# configDict['rootDir']"
   ]
  },
  {
   "cell_type": "code",
   "execution_count": null,
   "id": "7669cbfe-782f-4d7a-95ef-a256aedbf0a5",
   "metadata": {},
   "outputs": [],
   "source": [
    "normPath = os.path.join('Normalisation','NSNormDropped')\n",
    "print(normPath)\n",
    "\n",
    "normFile = 'NanoStringNorm_49_none_none_low.cv.geo.mean.csv'\n",
    "print(normFile)\n",
    "\n",
    "exportdir = 'EdgeR'\n",
    "# runname = subfolder\n",
    "sampleinfoFile = 'sampleInfo_with_Wells.csv'"
   ]
  },
  {
   "cell_type": "markdown",
   "id": "bcc842f1-16a0-46fe-a006-5e78eb9c4b92",
   "metadata": {},
   "source": [
    "### Set up config file for EdgeR"
   ]
  },
  {
   "cell_type": "code",
   "execution_count": null,
   "id": "b7c71889-4260-4ff2-9949-08e026be643b",
   "metadata": {},
   "outputs": [],
   "source": []
  },
  {
   "cell_type": "code",
   "execution_count": null,
   "id": "b2737f28-3834-454b-a536-62351ebab936",
   "metadata": {},
   "outputs": [],
   "source": [
    "os.getcwd()"
   ]
  },
  {
   "cell_type": "code",
   "execution_count": null,
   "id": "65620684-b670-4037-a8f6-d444eeedaf7e",
   "metadata": {
    "scrolled": true
   },
   "outputs": [],
   "source": [
    "outFile = 'EdgeR_Config.txt'\n",
    "\n",
    "outLines = []\n",
    "for g in range(len(groups)):\n",
    "    groupLine = 'GROUP:' + groups[g]\n",
    "    outLines.append(groupLine)\n",
    "    \n",
    "    compLine = 'COMPARISON:'\n",
    "    compNameLine = 'COMP_NAME:'\n",
    "    for c in range(len(comps[g])):\n",
    "        compLine += comps[g][c]\n",
    "        compLine += ','\n",
    "        compNameLine += compNames[g][c]\n",
    "        compNameLine += ','\n",
    "    \n",
    "    outLines.append(compLine)\n",
    "    outLines.append(compNameLine)\n",
    "\n",
    "with open(outFile, 'w') as o:\n",
    "    o.write('\\n'.join(outLines))\n",
    "    o.write('\\n')"
   ]
  },
  {
   "cell_type": "code",
   "execution_count": null,
   "id": "e41bda3f-ea49-4a00-93fe-c5b1e899a741",
   "metadata": {},
   "outputs": [],
   "source": [
    "## Need to handle dropped samples that may still be present in sampleinfoFile. Could be handled with another file, or by removing samples within R.\n"
   ]
  },
  {
   "cell_type": "code",
   "execution_count": null,
   "id": "f78ba967-0c9c-40bb-9012-af5be8369e84",
   "metadata": {
    "scrolled": true
   },
   "outputs": [],
   "source": [
    "\n",
    "# cmd = 'Rscript EdgeR.R -c ' + os.getcwd() + ' -d ' + configDict['rootDir'] + ' -n ' + normPath + ' -f ' + normFile + ' -e ' + exportdir + ' -r ' + runname  + ' -i ' + sampleinfoFile\n",
    "cmd = 'Rscript ../DSP_EDA_Protein/EdgeR.R -c ' + os.getcwd() + ' -d ' + configDict['rootDir'] + ' -n ' + normPath + ' -f ' + normFile + ' -e ' + exportdir + ' -i ' + sampleinfoFile\n",
    "print(cmd)\n",
    "os.system(cmd)"
   ]
  },
  {
   "cell_type": "code",
   "execution_count": null,
   "id": "9c4fdfc8-d3eb-4274-83aa-b30a07b413b7",
   "metadata": {},
   "outputs": [],
   "source": []
  },
  {
   "cell_type": "markdown",
   "id": "75803582",
   "metadata": {},
   "source": [
    "# Convert MD Plots to Volcano Plots"
   ]
  },
  {
   "cell_type": "code",
   "execution_count": null,
   "id": "da8d1021",
   "metadata": {},
   "outputs": [],
   "source": [
    "# Currently done in a separate notebook"
   ]
  },
  {
   "cell_type": "code",
   "execution_count": null,
   "id": "83bf607e",
   "metadata": {},
   "outputs": [],
   "source": [
    "os.path.join(configDict['rootDir'],exportdir)"
   ]
  },
  {
   "cell_type": "code",
   "execution_count": null,
   "id": "cdba120e",
   "metadata": {},
   "outputs": [],
   "source": [
    "dataPath = os.path.join(configDict['rootDir'],exportdir,)\n",
    "\n",
    "filesMaster = []\n",
    "\n",
    "for root, folder, files in os.walk(dataPath):\n",
    "    print(root)\n",
    "    print(folder)\n",
    "    print(files)\n",
    "\n",
    "    files = [os.path.join(root, f) for f in files if (f.endswith('.csv') and f.startswith('MD_plot'))]\n",
    "    filesMaster.extend(files)\n",
    "     "
   ]
  },
  {
   "cell_type": "code",
   "execution_count": null,
   "id": "639af0de",
   "metadata": {},
   "outputs": [],
   "source": [
    "\n",
    "sigGenes = []\n",
    "\n",
    "TMESigGenes = []\n",
    "TumourSigGenes = []\n",
    "\n",
    "for file in filesMaster:\n",
    "    subGenes = volcanoPlotpVal(dataPath, file)\n",
    "    subGenes = volcanoPlot(dataPath, file)\n",
    "    sigGenes.extend(subGenes)\n",
    "    \n",
    "    \n",
    "    # if 'Tumour' in file:\n",
    "    #     TumourSigGenes.extend(subGenes)\n",
    "    # elif 'TME' in file:\n",
    "    #     TMESigGenes.extend(subGenes)\n",
    "    \n",
    "# print(sigGenes)\n",
    "# print(set(sigGenes))\n",
    "\n",
    "    \n",
    "sigGenes = list(set(sigGenes))\n",
    "    \n",
    "    "
   ]
  },
  {
   "cell_type": "code",
   "execution_count": null,
   "id": "a03bebb3",
   "metadata": {},
   "outputs": [],
   "source": []
  },
  {
   "cell_type": "code",
   "execution_count": null,
   "id": "9f3fc53a",
   "metadata": {},
   "outputs": [],
   "source": [
    "break"
   ]
  },
  {
   "cell_type": "code",
   "execution_count": null,
   "id": "e465bd5f",
   "metadata": {},
   "outputs": [],
   "source": [
    "# dataPath = '../../../Nanostring/projects/.../DSP_Protein_Data/'\n",
    "dataPath = configDict['rootDir']\n",
    "data = pd.read_csv(os.path.join(dataPath,'HK_Geo_Mean_Normalised.csv'), index_col = 0)\n",
    "probeFilter = pd.read_csv(os.path.join(dataPath,'Probe_Filter.csv'), index_col = 0)\n",
    "sampleInfo = pd.read_csv(os.path.join(dataPath,'Sample_Info.csv'), index_col = 0)\n",
    "\n",
    "# dataPath = '../../../Nanostring/projects/.../EdgeR/EdgeR_normData.tsv'\n",
    "dataPath = os.path.join(configDict['rootDir'], normPath, normFile)\n",
    "\n",
    "data = pd.read_csv(dataPath, index_col = 0)\n",
    "\n",
    "# dataPath = '../../../Nanostring/projects/.../DSP_Protein_Data/'\n",
    "dataPath = configDict['rootDir']\n"
   ]
  },
  {
   "cell_type": "code",
   "execution_count": null,
   "id": "c46727c5",
   "metadata": {},
   "outputs": [],
   "source": [
    "data"
   ]
  },
  {
   "cell_type": "code",
   "execution_count": null,
   "id": "d7886714",
   "metadata": {
    "scrolled": true
   },
   "outputs": [],
   "source": [
    "sampleInfo.columns"
   ]
  },
  {
   "cell_type": "code",
   "execution_count": null,
   "id": "e045b74f",
   "metadata": {},
   "outputs": [],
   "source": [
    "wb = load_workbook(os.path.join(dataPath,'Annotation template file-1a_wells_02.xlsx'))\n",
    "\n",
    "print(wb.sheetnames)\n",
    "\n"
   ]
  },
  {
   "cell_type": "code",
   "execution_count": null,
   "id": "17d059dc",
   "metadata": {},
   "outputs": [],
   "source": [
    "ws = wb['Annotation template']\n",
    "\n",
    "segments = [[y.value for y in x] for x in ws[ws.calculate_dimension()]]\n",
    "df = pd.DataFrame(segments)\n",
    "\n",
    "\n",
    "rowLabels = df.iloc[1:,0]\n",
    "colLabels = df.iloc[0,1:]\n",
    "annotations = df.iloc[1:,1:]\n",
    "rowLabels += '_'\n",
    "rowLabels += df.iloc[1:,1]\n",
    "rowLabels += '_Full ROI'\n",
    "\n"
   ]
  },
  {
   "cell_type": "code",
   "execution_count": null,
   "id": "5ad61d4f",
   "metadata": {},
   "outputs": [],
   "source": [
    "rowLabels"
   ]
  },
  {
   "cell_type": "code",
   "execution_count": null,
   "id": "87cfa08d",
   "metadata": {},
   "outputs": [],
   "source": [
    "colLabels"
   ]
  },
  {
   "cell_type": "code",
   "execution_count": null,
   "id": "928b9c78",
   "metadata": {},
   "outputs": [],
   "source": [
    "annotations.values"
   ]
  },
  {
   "cell_type": "code",
   "execution_count": null,
   "id": "256bc35d",
   "metadata": {},
   "outputs": [],
   "source": []
  },
  {
   "cell_type": "code",
   "execution_count": null,
   "id": "d15288fd",
   "metadata": {},
   "outputs": [],
   "source": []
  },
  {
   "cell_type": "code",
   "execution_count": null,
   "id": "2f6f8168",
   "metadata": {},
   "outputs": [],
   "source": [
    "sampleAnnotations = pd.DataFrame(annotations.values, index=rowLabels, columns=colLabels)\n",
    "\n",
    "# sampleAnnotations = sampleAnnotations.T\n",
    "# sampleAnnotations.set_index(0, drop=True, inplace=True)\n",
    "# sampleAnnotations = sampleAnnotations.T\n",
    "# sampleAnnotations.set_index('Scan name', drop=True, inplace=True)\n",
    "# sampleAnnotations = sampleAnnotations.T\n",
    "\n"
   ]
  },
  {
   "cell_type": "code",
   "execution_count": null,
   "id": "09b4aec8",
   "metadata": {},
   "outputs": [],
   "source": [
    "sampleAnnotations"
   ]
  },
  {
   "cell_type": "code",
   "execution_count": null,
   "id": "19b4d3fa",
   "metadata": {},
   "outputs": [],
   "source": [
    "sampleAnnotations = sampleAnnotations.join(sampleInfo.T,lsuffix='Drop').T"
   ]
  },
  {
   "cell_type": "code",
   "execution_count": null,
   "id": "02cc647f",
   "metadata": {},
   "outputs": [],
   "source": [
    "sampleAnnotations.drop(labels=[x for x in sampleAnnotations.index if x.endswith('Drop')], inplace=True)"
   ]
  },
  {
   "cell_type": "code",
   "execution_count": null,
   "id": "1fd77cb1",
   "metadata": {},
   "outputs": [],
   "source": [
    "sampleInfo = sampleAnnotations"
   ]
  },
  {
   "cell_type": "code",
   "execution_count": null,
   "id": "a34fe771",
   "metadata": {
    "scrolled": true
   },
   "outputs": [],
   "source": [
    "sampleInfo"
   ]
  },
  {
   "cell_type": "code",
   "execution_count": null,
   "id": "461799ef",
   "metadata": {},
   "outputs": [],
   "source": []
  },
  {
   "cell_type": "code",
   "execution_count": null,
   "id": "30e7b12b",
   "metadata": {},
   "outputs": [],
   "source": [
    "def standardize_data(arr):\n",
    "         \n",
    "    '''\n",
    "    This function standardize an array, its substracts mean value, \n",
    "    and then divide the standard deviation.\n",
    "    \n",
    "    param 1: array \n",
    "    return: standardized array\n",
    "    '''    \n",
    "    rows, columns = arr.shape\n",
    "    \n",
    "    standardizedArray = np.zeros(shape=(rows, columns))\n",
    "    tempArray = np.zeros(rows)\n",
    "    \n",
    "    for column in range(columns):\n",
    "        \n",
    "        mean = np.mean(X[:,column])\n",
    "        std = np.std(X[:,column])\n",
    "        tempArray = np.empty(0)\n",
    "        \n",
    "        for element in X[:,column]:\n",
    "            \n",
    "            tempArray = np.append(tempArray, ((element - mean) / std))\n",
    " \n",
    "        standardizedArray[:,column] = tempArray\n",
    "    \n",
    "    return standardizedArray"
   ]
  },
  {
   "cell_type": "code",
   "execution_count": null,
   "id": "a932e929",
   "metadata": {},
   "outputs": [],
   "source": [
    "# Standardizing data\n",
    "\n",
    "### I'm not sure that the transpose is what i want here. The data is the wrong shape and pc's seems to be being calculated for proteins instead of samples\n",
    "X = endogNorm.transpose().values\n",
    "# X = endogNorm.values\n",
    "### Try to get pc's for samples\n",
    "# X = endogNorm.values\n",
    "\n",
    "## ??? With transpose makes PCA for effect of variables on smaples, without makes PCA for effects of variables on protein expression levels\n",
    "###^^^ Maybe the other way round?\n",
    "\n",
    "\n",
    "\n",
    "X_cols = endogNorm.columns\n",
    "print(X_cols.shape)\n",
    "y = endogNorm.index\n",
    "print(y.shape)\n",
    "X = standardize_data(X)\n",
    "print(X.shape)\n"
   ]
  },
  {
   "cell_type": "code",
   "execution_count": null,
   "id": "7df305d1",
   "metadata": {},
   "outputs": [],
   "source": [
    "# Calculating the covariance matrix\n",
    "\n",
    "covariance_matrix = np.cov(X.T)\n",
    "# covariance_matrix = np.cov(X)\n",
    "\n",
    "\n",
    "\n",
    "print(covariance_matrix.shape)\n"
   ]
  },
  {
   "cell_type": "code",
   "execution_count": null,
   "id": "db6e99c8",
   "metadata": {
    "scrolled": true
   },
   "outputs": [],
   "source": [
    "# Using np.linalg.eig function\n",
    "\n",
    "eigen_values, eigen_vectors = np.linalg.eig(covariance_matrix)\n",
    "print(\"Eigenvector: \\n\",eigen_vectors,\"\\n\")\n",
    "print(\"Eigenvalues: \\n\", eigen_values, \"\\n\")\n",
    "print(eigen_vectors.shape)"
   ]
  },
  {
   "cell_type": "code",
   "execution_count": null,
   "id": "612dbfd1",
   "metadata": {
    "scrolled": true
   },
   "outputs": [],
   "source": [
    "eigenDF = pd.DataFrame(eigen_vectors, index=[endogNorm.index], columns=[endogNorm.index])\n",
    "# eigenDF = pd.DataFrame(eigen_vectors, index=[endogNorm.columns], columns=[endogNorm.columns])"
   ]
  },
  {
   "cell_type": "code",
   "execution_count": null,
   "id": "78f1be8d",
   "metadata": {},
   "outputs": [],
   "source": [
    "# Calculating the explained variance on each of components\n",
    "\n",
    "\n",
    "variance_explained = []\n",
    "for i in eigen_values:\n",
    "     variance_explained.append((i/sum(eigen_values))*100)\n",
    "        \n",
    "print(variance_explained)"
   ]
  },
  {
   "cell_type": "code",
   "execution_count": null,
   "id": "b8b83e0c",
   "metadata": {},
   "outputs": [],
   "source": [
    "# Identifying components that explain at least 95%\n",
    "\n",
    "cumulative_variance_explained = np.cumsum(variance_explained)\n",
    "print(cumulative_variance_explained)\n"
   ]
  },
  {
   "cell_type": "code",
   "execution_count": null,
   "id": "a6d49f48",
   "metadata": {},
   "outputs": [],
   "source": [
    "cumulative_variance_explained = [np.float64(x) for x in cumulative_variance_explained]"
   ]
  },
  {
   "cell_type": "code",
   "execution_count": null,
   "id": "7dc40023",
   "metadata": {},
   "outputs": [],
   "source": [
    "cumulative_variance_explained[0].dtype"
   ]
  },
  {
   "cell_type": "code",
   "execution_count": null,
   "id": "dca42949",
   "metadata": {},
   "outputs": [],
   "source": [
    "# Visualizing the eigenvalues and finding the \"elbow\" in the graphic\n",
    "\n",
    "\n",
    "sns.lineplot(x = [i for i in range(len(cumulative_variance_explained))], y=cumulative_variance_explained)\n",
    "# plt.xlabel(\"Number of components\")\n",
    "# plt.ylabel(\"Cumulative explained variance\")\n",
    "# plt.title(\"Explained variance vs Number of components\")\n",
    "\n",
    "\n",
    "\n",
    "# ToDo:\n",
    "# Add lines for 95% variance, and number of components describing at least 95% of variance\n",
    "\n"
   ]
  },
  {
   "cell_type": "code",
   "execution_count": null,
   "id": "71b0d3c0",
   "metadata": {},
   "outputs": [],
   "source": [
    "# Using two first components (because those explain more than 95%)\n",
    "\n",
    "projection_matrix = (eigen_vectors.T[:][:50]).T\n",
    "print(projection_matrix)"
   ]
  },
  {
   "cell_type": "code",
   "execution_count": null,
   "id": "6154a966",
   "metadata": {},
   "outputs": [],
   "source": [
    "colours = ['g' if x.split('_')[-1] == 'Tumour' else 'r' for x in X_cols]\n",
    "colours = ['g' if x.split('_')[-1] == 'Tumour' else 'r' if x.split('_')[-1] == 'Immune' else 'purple' for x in X_cols]\n"
   ]
  },
  {
   "cell_type": "code",
   "execution_count": null,
   "id": "78105cd3",
   "metadata": {},
   "outputs": [],
   "source": [
    "# I dont think this gives relevant info. projection matrix needs to be combined with original data to see effects of components on patients\n",
    "\n",
    "plt.scatter([x[0] for x in projection_matrix], [x[1] for x in projection_matrix])#, c=colours)\n",
    "\n",
    "projection_matrix.shape"
   ]
  },
  {
   "cell_type": "code",
   "execution_count": null,
   "id": "fa1e0514",
   "metadata": {},
   "outputs": [],
   "source": [
    "plt.scatter([x[2] for x in projection_matrix], [x[1] for x in projection_matrix])#, c=colours)\n"
   ]
  },
  {
   "cell_type": "code",
   "execution_count": null,
   "id": "87721766",
   "metadata": {},
   "outputs": [],
   "source": [
    "plt.scatter([x[2] for x in projection_matrix], [x[3] for x in projection_matrix])#, c=colours)\n"
   ]
  },
  {
   "cell_type": "code",
   "execution_count": null,
   "id": "138d4603",
   "metadata": {},
   "outputs": [],
   "source": [
    "# Getting the product of original standardized X and the eigenvectors \n",
    "\n",
    "\n",
    "X_pca = X.dot(projection_matrix)\n",
    "print(X_pca)"
   ]
  },
  {
   "cell_type": "code",
   "execution_count": null,
   "id": "31e99136",
   "metadata": {},
   "outputs": [],
   "source": [
    "X_pca.shape"
   ]
  },
  {
   "cell_type": "code",
   "execution_count": null,
   "id": "3383154c",
   "metadata": {
    "scrolled": true
   },
   "outputs": [],
   "source": [
    "sampleInfo"
   ]
  },
  {
   "cell_type": "code",
   "execution_count": null,
   "id": "a23fe4a1",
   "metadata": {},
   "outputs": [],
   "source": [
    "# tagDF = pd.DataFrame( data=[x.split(',') for x in sampleInfo.loc['Segment tags']], index=sampleInfo.columns, columns=['Obese','Arth','Patellar'])"
   ]
  },
  {
   "cell_type": "code",
   "execution_count": null,
   "id": "85ad0ab8",
   "metadata": {},
   "outputs": [],
   "source": [
    "# tagDF"
   ]
  },
  {
   "cell_type": "code",
   "execution_count": null,
   "id": "05005bcd",
   "metadata": {},
   "outputs": [],
   "source": [
    "# sampleInfo = pd.concat([sampleInfo,tagDF.T])"
   ]
  },
  {
   "cell_type": "code",
   "execution_count": null,
   "id": "f7c206dd",
   "metadata": {
    "scrolled": true
   },
   "outputs": [],
   "source": [
    "sampleInfo"
   ]
  },
  {
   "cell_type": "code",
   "execution_count": null,
   "id": "b5523ba2",
   "metadata": {},
   "outputs": [],
   "source": [
    "inforSortedIndex = sampleInfo.sort_values(by=['Obese','arthritis','TMA_Core'], axis=1).columns"
   ]
  },
  {
   "cell_type": "code",
   "execution_count": null,
   "id": "9e4b7c30",
   "metadata": {},
   "outputs": [],
   "source": []
  },
  {
   "cell_type": "code",
   "execution_count": null,
   "id": "e8fe99ec",
   "metadata": {},
   "outputs": [],
   "source": []
  },
  {
   "cell_type": "code",
   "execution_count": null,
   "id": "9f507eac",
   "metadata": {},
   "outputs": [],
   "source": [
    "### Add umap / tSNE analysis here"
   ]
  },
  {
   "cell_type": "code",
   "execution_count": null,
   "id": "0bd9bd0a",
   "metadata": {},
   "outputs": [],
   "source": []
  },
  {
   "cell_type": "code",
   "execution_count": null,
   "id": "b06eac82",
   "metadata": {},
   "outputs": [],
   "source": []
  },
  {
   "cell_type": "markdown",
   "id": "01af0aba-f48f-40ea-8090-1eb3c4e80665",
   "metadata": {},
   "source": []
  }
 ],
 "metadata": {
  "kernelspec": {
   "display_name": "Python 3 (ipykernel)",
   "language": "python",
   "name": "python3"
  },
  "language_info": {
   "codemirror_mode": {
    "name": "ipython",
    "version": 3
   },
   "file_extension": ".py",
   "mimetype": "text/x-python",
   "name": "python",
   "nbconvert_exporter": "python",
   "pygments_lexer": "ipython3",
   "version": "3.11.7"
  }
 },
 "nbformat": 4,
 "nbformat_minor": 5
}
