{
 "cells": [
  {
   "cell_type": "code",
   "execution_count": null,
   "id": "a97e9214-6e0f-47d6-8133-f696a9c3bb73",
   "metadata": {},
   "outputs": [],
   "source": [
    "import os"
   ]
  },
  {
   "cell_type": "code",
   "execution_count": null,
   "id": "b6b55ca0-ac86-4e17-a466-2f15bacc9c93",
   "metadata": {},
   "outputs": [],
   "source": [
    "autoRunProject = True\n",
    "autoRunProject = False\n",
    "\n",
    "\n",
    "if autoRunProject:\n",
    "    with open('../projects.txt', 'r') as f:\n",
    "        lines = f.readlines()\n",
    "        for line in lines:\n",
    "            line = line.strip()\n",
    "            if ((not line.startswith('#')) and (not line.strip()=='')):\n",
    "                subfolder = line\n",
    "else:\n",
    "    subfolder = input(\"Enter the name of the config folder (Must be same level as code folder)\")\n",
    "\n",
    "print(subfolder)\n",
    "\n",
    "os.chdir(\"../../\" + subfolder)\n",
    "# os.getcwd()"
   ]
  },
  {
   "cell_type": "code",
   "execution_count": null,
   "id": "6c61a7c6-ca1e-49bb-894e-a56515de739a",
   "metadata": {},
   "outputs": [],
   "source": [
    "groups = ['label']\n",
    "comps = [['Tumour - TME',\n",
    "         ]]\n",
    "\n",
    "compNames = []\n",
    "for g in comps:\n",
    "    ctemp = []\n",
    "    for c in g:\n",
    "        c = c.replace('.','_')\n",
    "        c = c.replace(' - ','_vs_')\n",
    "        ctemp.append(c)\n",
    "    compNames.append(ctemp)\n",
    "\n",
    "compNames\n"
   ]
  },
  {
   "cell_type": "code",
   "execution_count": null,
   "id": "bea30f6b-54d8-41eb-96f8-51a76e5db235",
   "metadata": {},
   "outputs": [],
   "source": []
  },
  {
   "cell_type": "code",
   "execution_count": null,
   "id": "e85e61a3-4771-41aa-aaef-d267d4816705",
   "metadata": {},
   "outputs": [],
   "source": [
    "outFile = 'EdgeR_Config.txt'\n",
    "\n",
    "outLines = []\n",
    "for g in range(len(groups)):\n",
    "    groupLine = 'GROUP:' + groups[g]\n",
    "    outLines.append(groupLine)\n",
    "    \n",
    "    compLine = 'COMPARISON:'\n",
    "    compNameLine = 'COMP_NAME:'\n",
    "    for c in range(len(comps[g])):\n",
    "        compLine += comps[g][c]\n",
    "        compLine += ','\n",
    "        compNameLine += compNames[g][c]\n",
    "        compNameLine += ','\n",
    "    \n",
    "    outLines.append(compLine)\n",
    "    outLines.append(compNameLine)\n",
    "\n",
    "with open(outFile, 'w') as o:\n",
    "    o.write('\\n'.join(outLines))\n",
    "    o.write('\\n')"
   ]
  },
  {
   "cell_type": "code",
   "execution_count": null,
   "id": "4f7f893b-aee4-4889-ae04-968582225afa",
   "metadata": {},
   "outputs": [],
   "source": []
  }
 ],
 "metadata": {
  "kernelspec": {
   "display_name": "Python 3 (ipykernel)",
   "language": "python",
   "name": "python3"
  },
  "language_info": {
   "codemirror_mode": {
    "name": "ipython",
    "version": 3
   },
   "file_extension": ".py",
   "mimetype": "text/x-python",
   "name": "python",
   "nbconvert_exporter": "python",
   "pygments_lexer": "ipython3",
   "version": "3.11.7"
  }
 },
 "nbformat": 4,
 "nbformat_minor": 5
}
