{
 "cells": [
  {
   "cell_type": "code",
   "execution_count": 1,
   "id": "31acb3d6",
   "metadata": {},
   "outputs": [],
   "source": [
    "## To Do\n",
    "\n",
    "\n",
    "# Should data be log normalised following a +1/ This will remove negative values after log norm."
   ]
  },
  {
   "cell_type": "code",
   "execution_count": null,
   "id": "e0c17e2a",
   "metadata": {},
   "outputs": [],
   "source": []
  },
  {
   "cell_type": "code",
   "execution_count": 2,
   "id": "cfc5a611",
   "metadata": {},
   "outputs": [],
   "source": [
    "import os\n",
    "import scipy\n",
    "import numpy as np\n",
    "import pandas as pd\n",
    "import matplotlib.pyplot as plt\n",
    "\n",
    "from openpyxl import load_workbook\n",
    "\n",
    "from scipy import stats as stats\n",
    "from copy import copy as copy\n",
    "\n",
    "from IPython.display import clear_output\n",
    "\n",
    "import time"
   ]
  },
  {
   "cell_type": "code",
   "execution_count": 3,
   "id": "2d667a41",
   "metadata": {},
   "outputs": [],
   "source": [
    "titleFont = {'fontsize': 32}\n",
    "# ,\n",
    "#  'fontweight': rcParams['axes.titleweight'],\n",
    "#  'color': rcParams['axes.titlecolor'],\n",
    "#  'verticalalignment': 'baseline',\n",
    "#  'horizontalalignment': loc}\n",
    "\n",
    "labelFont = {'fontsize': 20}\n",
    "# ,\n",
    "#  'fontweight': rcParams['axes.titleweight'],\n",
    "#  'color': rcParams['axes.titlecolor'],\n",
    "#  'verticalalignment': 'baseline',\n",
    "#  'horizontalalignment': loc}\n",
    "\n"
   ]
  },
  {
   "cell_type": "code",
   "execution_count": 4,
   "id": "8ad1f750",
   "metadata": {},
   "outputs": [],
   "source": [
    "colourList = [\n",
    "    (230, 159,   0, 1),\n",
    "    ( 86, 180, 233, 1),\n",
    "    (  0, 158, 115, 1),\n",
    "    (240, 228,  66, 1),\n",
    "    (  0, 114, 178, 1),\n",
    "    (213,  94,   0, 1),\n",
    "    (204, 121, 167, 1),\n",
    "    (  0,   0,   0, 1)]\n",
    "\n",
    "colourList = [\n",
    "    (0.90, 0.60, 0.00, 1),\n",
    "    (0.35, 0.70, 0.90, 1),\n",
    "    (0.00, 0.60, 0.50, 1),\n",
    "    (0.95, 0.90, 0.25, 1),\n",
    "    (0.00, 0.45, 0.70, 1),\n",
    "    (0.80, 0.40, 0.00, 1),\n",
    "    (0.80, 0.60, 0.70, 1),\n",
    "    (  0,   0,   0, 1)]\n",
    "\n",
    "\n",
    "# namedColourList = ['orange','skyblue','seagreen','yellow','blue','indianred','violet','black']\n",
    "namedColourList = ['#377eb8', '#ff7f00', '#4daf4a',\n",
    "                  '#f781bf', '#a65628', '#984ea3',\n",
    "                  '#999999', '#e41a1c', '#dede00']"
   ]
  },
  {
   "cell_type": "code",
   "execution_count": 5,
   "id": "5cedb8f6",
   "metadata": {},
   "outputs": [],
   "source": [
    "class master_data:\n",
    "    def __init__(self, dataPath):\n",
    "        ### import data from excel workbook\n",
    "        \n",
    "        self.wb = load_workbook(dataPath)\n",
    "        self.ws = self.wb['Exported dataset']\n",
    "        self.values = [[y.value for y in x] for x in self.ws[self.ws.calculate_dimension()]]\n",
    "\n",
    "        self.dropData = False\n",
    "        \n",
    "        \n",
    "        ### Convert nested list to a pandas dataFrame and extract expression data with labels\n",
    "    def get_data(self):\n",
    "        df = pd.DataFrame(self.values)\n",
    "        col3 = df.iloc[:,3].tolist()\n",
    "        self.targIdx = col3.index('Target name (display name)') + 1\n",
    "\n",
    "        \n",
    "        rowLabels = df.iloc[self.targIdx:,3]\n",
    "        # rowLabels = [x.split(' (')[0] for x in rowLabels.values]\n",
    "        rowLabels = dict(zip([x for x in range(self.targIdx,self.targIdx+len(rowLabels))],rowLabels))\n",
    "        rowLabels\n",
    "\n",
    "        colLabels = df.iloc[0,4:]\n",
    "        colLabels = [x.replace(' | ','_') for x in colLabels.values]\n",
    "        colLabels = dict(zip([x for x in range(4,4+len(colLabels))],colLabels))\n",
    "        colLabels\n",
    "\n",
    "        self.data = df.iloc[self.targIdx:,4:].astype(np.float32)\n",
    "        self.data.rename(index=rowLabels,columns=colLabels, inplace=True)\n",
    "\n",
    "        \n",
    "        self.sampleInfo = pd.DataFrame(df.iloc[0:17,4:])\n",
    "        self.sampleInfo.rename(index=df.iloc[0:17,0], columns=colLabels, inplace=True)\n",
    "        print('sampleInfo.shape')\n",
    "        print(self.sampleInfo.shape)\n",
    "        \n",
    "        \n",
    "        print('data.shape')\n",
    "        print(self.data.shape)\n",
    "\n",
    "        self.dataOrig = self.data.copy()\n",
    "        # Log transform data for QC and analysis steps\n",
    "        self.dataLog1 = np.log2(self.data+1)\n",
    "        \n",
    "        \n",
    "        self.probeClass = df.iloc[self.targIdx:,2]      ### Index needs updating here also\n",
    "        self.probeClass.rename(index=rowLabels, inplace=True)\n",
    "        self.probeClass.rename(index='ProbeClass', inplace=True)\n",
    "        self.probeClassDict = {\n",
    "            'Positive': 'A',\n",
    "            'Negative': 'B',\n",
    "            'Control': 'C',\n",
    "            'Endogenous': 'E'\n",
    "        }\n",
    "        return self.dataLog1.copy(), self.sampleInfo.copy()\n",
    "    \n",
    "    def get_descriptors(self):\n",
    "        ### Extract descriptions for each sample\n",
    "        nuclei = sampleInfo.loc['AOI nuclei count']\n",
    "        surfArea = sampleInfo.loc['AOI surface area']\n",
    "\n",
    "        print(sampleInfo.shape)\n",
    "#         sampleInfo\n",
    "        \n",
    "    def add_class_mean(self, df):\n",
    "        ## Add column to data with mean values for each probe (row)\n",
    "        mean = df.mean(axis = 1)\n",
    "        df = df.assign(mean=mean.values)\n",
    "\n",
    "        ## Add column to data with probe class for each probe\n",
    "        df = df.assign(probeClass=[self.probeClassDict[v] for v in self.probeClass.values])\n",
    "\n",
    "        ### Extract lists of controls and their values\n",
    "        self.posCTLs = self.probeClass.index[self.probeClass== 'Positive'].tolist()\n",
    "        self.negCTLs = self.probeClass.index[self.probeClass== 'Negative'].tolist()\n",
    "        self.IgCTLs = copy(self.negCTLs)\n",
    "        self.IgCTLs.remove('HYB-NEG')\n",
    "        self.HK = self.probeClass.index[self.probeClass== 'Control'].tolist()\n",
    "        self.endog = self.probeClass.index[self.probeClass== 'Endogenous'].tolist()\n",
    "\n",
    "        print('Positive Control count:\\t{:d}, {}'.format(len(self.posCTLs), self.posCTLs))\n",
    "        print('Nagative Control count:\\t{:d}, {}'.format(len(self.negCTLs), self.negCTLs))\n",
    "        print('Ig Control count:\\t{:d}, {}'.format(len(self.IgCTLs), self.IgCTLs))\n",
    "        print('HK Control count:\\t{:d}, {}'.format(len(self.HK), self.HK))\n",
    "        print('Endogenous probe count:\\t{:d}, {}'.format(len(self.endog), self.endog))\n",
    "\n",
    "        return df.copy(), self.sampleInfo.copy()\n",
    "\n",
    "    def drop_AOIs(self, includes, writeOrig=False):\n",
    "        dropAOIs = [x for x in list(self.data.columns) if includes in x]\n",
    "        self.dataLog1.drop(labels=dropAOIs, axis=1, inplace=True)\n",
    "        \n",
    "        if writeOrig:\n",
    "            self.dataOrig = self.dataOrig.drop(labels=dropAOIs, axis=1, inplace=True)\n",
    "        \n",
    "        self.sampleInfo = self.sampleInfo.drop(labels=dropAOIs, axis=1)\n",
    "        \n",
    "        \n",
    "        return self.dataLog1.copy(), self.sampleInfo.copy()\n",
    "        \n",
    "    def set_threshold(self, threshold):\n",
    "        self.threshold = threshold\n",
    "        \n",
    "        \n",
    "        # ToDo: Check that all values in master data are also included in threshold dataFrame\n",
    "        # ToDo: Convert threshold data to 0/1 data if needed\n",
    "        \n",
    "    \n",
    "#     def drop_sample(self):\n",
    "#         try:\n",
    "#             assert type(labels) == list\n",
    "#         except:\n",
    "#             print('labels need to be a list')\n",
    "#             return False\n",
    "\n",
    "#         if not self.dropData:\n",
    "#             self,.dropData = self.dataLog1\n",
    "            \n",
    "#         self.dropData.drop((labels=labels, axis=1))\n",
    "#         return self.dropData\n",
    "        \n",
    "    def drop_probes(self, labels):\n",
    "        try:\n",
    "            assert type(labels) == list\n",
    "        except:\n",
    "            print('labels need to be a list')\n",
    "            return False\n",
    "            \n",
    "        if not self.dropData:\n",
    "            self.dropData = self.dataLog1\n",
    "\n",
    "        self.dropData.drop(labels=labels)\n",
    "        \n",
    "        return self.dropData.copy()\n",
    "        \n",
    "    def ERCC_norm(self):\n",
    "        if not self.dropData:\n",
    "            self.dropData = self.dataLog1\n",
    "            \n",
    "        try:\n",
    "            self.dropData = self.dropData.drop(labels=['mean'], axis=1)\n",
    "        except:\n",
    "            pass\n",
    "        try:\n",
    "            self.dropData = self.dropData.drop(labels=['probeClass'], axis=1)\n",
    "        except:\n",
    "            pass\n",
    "            \n",
    "            \n",
    "        # ERCC normalisation. \n",
    "        # Divide by individual HYB-POS values, then scale data using the geometric mean of all HYB-POS values. subtract in log space is same as divide in normal space. Add in log space is same as multiply in normal space\n",
    "        self.ERCCData = self.dropData - self.dropData.loc['HYB-POS'] + np.mean(self.dropData.loc['HYB-POS'])\n",
    "\n",
    "        #ToDo: set below threshold values to 0\n",
    "        self.ERCCData = self.ERCCData * self.threshold\n",
    "        \n",
    "        #set any negative values following ERCC noirmalisation to 0. These are at or below the limit of detection\n",
    "#         zeroFilter = self.ERCCData > 0\n",
    "        \n",
    "        self.ERCCData = self.ERCCData * (self.ERCCData>0)\n",
    "        \n",
    "        return self.ERCCData.copy()\n",
    "        \n"
   ]
  },
  {
   "cell_type": "code",
   "execution_count": 6,
   "id": "60629038",
   "metadata": {},
   "outputs": [],
   "source": [
    "def plot_SA_Hist(surfArea):\n",
    "    \n",
    "        \n",
    "    fig, ax = plt.subplots(figsize=(10,5))\n",
    "    ax.hist(surfArea, bins=50)\n",
    "\n",
    "\n",
    "    ax.set_xlabel('AOI Surface Area µm', fontdict=labelFont)\n",
    "    ax.set_ylabel('Count', fontdict=labelFont)\n",
    "    ax.set_title('AOI Surface Area distribution', fontdict=titleFont)\n",
    "\n",
    "    print('Min SA')\n",
    "    print(min(surfArea))\n",
    "\n",
    "    print('Max SA')\n",
    "    print(max(surfArea))\n",
    "    \n",
    "    return(fig)\n",
    "\n"
   ]
  },
  {
   "cell_type": "code",
   "execution_count": 7,
   "id": "caa3ad93",
   "metadata": {},
   "outputs": [],
   "source": [
    "# Plot log2 transformed raw data before any normalisation\n",
    "\n",
    "def draw_probe_plot(dataRaw, dataSortedRaw, namedColourList, title, exp=False, violin=False):\n",
    "    \n",
    "    fig, ax = plt.subplots(figsize=(15,8))\n",
    "    \n",
    "    if exp:\n",
    "        ax.boxplot(np.exp2(dataRaw.drop(labels=['mean','probeClass'], axis=1).reindex(labels=dataSortedRaw.index).T) -1, sym='-', labels=dataSortedRaw.index)\n",
    "    else:\n",
    "        ax.boxplot(dataRaw.drop(labels=['mean','probeClass'], axis=1).reindex(labels=dataSortedRaw.index).T, sym='-', labels=dataSortedRaw.index)\n",
    "\n",
    "    \n",
    "    if violin:\n",
    "        if exp:\n",
    "            ax.violinplot(np.exp2(dataRaw.drop(labels=['mean','probeClass'], axis=1).reindex(labels=dataSortedRaw.index).T) -1)\n",
    "\n",
    "    #         ax.boxplot(np.exp2(dataRaw.drop(labels=['mean','probeClass'], axis=1).reindex(labels=dataSortedRaw.index).T) -1, sym='-', labels=dataSortedRaw.index)\n",
    "        else:\n",
    "            ax.violinplot(dataRaw.drop(labels=['mean','probeClass'], axis=1).reindex(labels=dataSortedRaw.index).T)\n",
    "\n",
    "    #         ax.boxplot(dataRaw.drop(labels=['mean','probeClass'], axis=1).reindex(labels=dataSortedRaw.index).T, sym='-', labels=dataSortedRaw.index)\n",
    "        \n",
    "        \n",
    "    else:\n",
    "\n",
    "\n",
    "        for i,j in enumerate(dataSortedRaw.index):\n",
    "            y = dataRaw.drop(labels=['mean','probeClass'], axis=1).loc[j]\n",
    "            colours = [namedColourList[2] if v.split('_')[-1] == 'Tumour' else namedColourList[5] if v.split('_')[-1] == 'TME' else namedColourList[1] for v in y.index]\n",
    "        #     colours = [colourList[2] if v.split('_')[-1] == 'Tumour' else colourList[5] if v.split('_')[-1] == 'Immune' else colourList[1] for v in y.index]\n",
    "            y = y\n",
    "            if exp:\n",
    "                y = np.exp2(y.values)-1\n",
    "            else:\n",
    "                y = y.values\n",
    "\n",
    "            x = np.random.normal(i+1, 0.1, len(y))\n",
    "\n",
    "            for i in range(len(x)): \n",
    "                ax.plot(x[i], y[i], c=colours[i], marker='.', alpha=0.25)\n",
    "\n",
    "    ax.set_xticks(np.arange(1,len(dataSortedRaw.index)+1,1))\n",
    "    ax.set_xlabel=list(dataSortedRaw.index)\n",
    "    \n",
    "    print(len(np.arange(0,len(dataSortedRaw.index),1)))\n",
    "    print(len(list(dataSortedRaw.index)))\n",
    "    \n",
    "    ax.tick_params(axis='x', labelrotation = 90)\n",
    "    \n",
    "\n",
    "    if exp:\n",
    "        ax.semilogy()\n",
    "        ax.set_title(title + ' (untransformed)', size=36)\n",
    "        ax.set_ylabel('Probe value', size=24)\n",
    "    else:\n",
    "        ax.set_title(title + ' (Log2 transformed)', size=36)\n",
    "        ax.set_ylabel('Log2 probe value', size=24)\n",
    "#     plt.show()\n",
    "    \n",
    "    return(fig)\n"
   ]
  },
  {
   "cell_type": "code",
   "execution_count": 8,
   "id": "8ad7d66a",
   "metadata": {},
   "outputs": [],
   "source": [
    "def probe_GeoMean_Plots(plotData, title=''):\n",
    "    rows=1\n",
    "    cols=2\n",
    "    colours = [namedColourList[2] if x.split('_')[-1] == 'Tumour' else namedColourList[5] if x.split('_')[-1] == 'TME' else namedColourList[1] for x in HKGeoMean.index]\n",
    "\n",
    "    fig,ax = plt.subplots(rows,cols, sharey=True, gridspec_kw={'width_ratios': [4,1]}, figsize=(15,5))\n",
    "    ax[0].bar(np.linspace(1,len(plotData),len(plotData)), plotData, color=colours)\n",
    "    ax[1].hist(plotData, bins=int(len(plotData)/10),orientation='horizontal', color='k')\n",
    "    ax[0].set_xlim(0,len(plotData))\n",
    "    \n",
    "    ax[0].text(2,max(plotData)*.95,'Tumour', size=20, c=namedColourList[2])\n",
    "    ax[0].text(2,max(plotData)*.825,'TME', size=20, c=namedColourList[5])\n",
    "    ax[0].text(2,max(plotData)*.7,'Other', size=20, c=namedColourList[1])\n",
    "\n",
    "    fig.suptitle(title, size=36)\n",
    "    ax[0].set_ylabel('Probe Value', size=18)\n",
    "    ax[0].set_xlabel('Probes', size=18)\n",
    "    ax[1].set_xlabel('Count', size=18)\n",
    "\n",
    "    fig.tight_layout()"
   ]
  },
  {
   "cell_type": "code",
   "execution_count": 9,
   "id": "7a9b0eaf",
   "metadata": {},
   "outputs": [],
   "source": [
    "class threshold_probes:\n",
    "    def __init__(self, data, bins):\n",
    "        \n",
    "        \n",
    "        \n",
    "        self.data = data.drop(labels=['mean','probeClass'], axis=1)\n",
    "        self.bins = bins\n",
    "        self.thisHist = plt.hist(self.data.values.flatten(), bins = self.bins)\n",
    "\n",
    "    def zoom_plot(self, start, end):\n",
    "        plt.hist(self.data.values.flatten(), bins = self.bins)\n",
    "        plt.xlim(0,3)        \n",
    "        \n",
    "    def check_threshold(self, start, end):\n",
    "        print(self.thisHist[0][start:end])\n",
    "        print(self.thisHist[1][start:end])\n",
    "\n",
    "    def set_threshold_idx(self, idx):\n",
    "        print(self.thisHist[0][idx])\n",
    "        print(self.thisHist[1][idx])\n",
    "        \n",
    "        self.threshold_idx = idx\n",
    "        self.threshold = self.thisHist[1][idx]\n",
    "\n",
    "    def get_filter(self):\n",
    "        self.ETfilter = self.data >= self.threshold\n",
    "        return(self.ETfilter)\n"
   ]
  },
  {
   "cell_type": "code",
   "execution_count": 10,
   "id": "1d4ebcad",
   "metadata": {},
   "outputs": [],
   "source": [
    "# # ToDo: Integrate with master data class\n",
    "\n",
    "\n",
    "# def Infer_locs(sampleInfoExternal):\n",
    "#     sampleNameDict = dict(sampleInfoExternal.loc['Custom Segment Name'])\n",
    "#     sampleNameDictInv = {}\n",
    "\n",
    "#     for k,v in sampleNameDict.items():\n",
    "#     #     print(k)\n",
    "#     #     print(v)\n",
    "#         sampleNameDictInv[v] = k\n",
    "        \n",
    "        \n",
    "#     slideLookup = {'LV242a_033':0,\n",
    "#         'HlivH060CD03_093':1,\n",
    "#         'LV246_SF82':2,\n",
    "#         'LV241b_029':3}\n",
    "\n",
    "#     thisSorted = list(sampleNameDict.values())\n",
    "#     thisSorted.sort(key=lambda x:(slideLookup[x.split(' | ')[0]],int(x.split(' | ')[1]),x.split(' | ')[2]))    \n",
    "\n",
    "#     SampleLocDict = {}\n",
    "#     SampleRowDict = {}\n",
    "#     SampleColDict = {}\n",
    "#     SamplePlateDict = {}\n",
    "\n",
    "#     rows = ['A','B','C','D','E','F','G','H']\n",
    "#     row = 0\n",
    "#     col =1\n",
    "#     plate = 1\n",
    "\n",
    "#     for sample in thisSorted:\n",
    "\n",
    "#         rowID = rows[row]\n",
    "\n",
    "#         SampleLocDict[sampleNameDictInv[sample]] = ('{0}{1:02d}'.format(rows[row], col))\n",
    "#         SampleRowDict[sampleNameDictInv[sample]] = (rows[row])\n",
    "#         SampleColDict[sampleNameDictInv[sample]] = ('{0:02d}'.format(col))\n",
    "#         SamplePlateDict[sampleNameDictInv[sample]] = plate\n",
    "\n",
    "#         sampleInfoExternal\n",
    "\n",
    "#         col += 1\n",
    "#         if col > 12:\n",
    "#             col = 1\n",
    "#             row += 1\n",
    "#             if row > 7:\n",
    "#                 row-=8\n",
    "#                 plate += 1\n",
    "\n",
    "#     return SampleLocDict, SampleRowDict, SampleColDict, SamplePlateDict\n",
    "    "
   ]
  },
  {
   "cell_type": "code",
   "execution_count": null,
   "id": "2e279ee9",
   "metadata": {},
   "outputs": [],
   "source": []
  },
  {
   "cell_type": "markdown",
   "id": "040e6acb",
   "metadata": {},
   "source": [
    "# Import the data from the Nanostring initial dataset file."
   ]
  },
  {
   "cell_type": "code",
   "execution_count": null,
   "id": "816364e0-0036-4523-87e4-5b73c7b86a82",
   "metadata": {},
   "outputs": [],
   "source": []
  },
  {
   "cell_type": "code",
   "execution_count": 11,
   "id": "35627f32-38fb-4bc1-946f-27227e2f8964",
   "metadata": {},
   "outputs": [],
   "source": [
    "# read in paths from config file\n",
    "\n",
    "configDict = {\n",
    "    'initialDataPath' : '',\n",
    "    'QCDataPath' : '',\n",
    "    'labWorksheet01Path':''\n",
    "}\n",
    "\n",
    "with open('./config.txt','r') as f:\n",
    "    lines = f.readlines()\n",
    "    for line in lines:\n",
    "        if not line.startswith('#'):\n",
    "            line = line.strip()\n",
    "            fields = line.split(':')\n",
    "\n",
    "            if fields[0].strip()=='initialDataPath':\n",
    "                configDict[fields[0].strip()] = fields[1].strip().strip('\\'')\n",
    "            else:\n",
    "                configDict[fields[0].strip()] = fields[1].strip().strip('\\'')\n",
    "## ToDo: Add checks to ensure that minimal fields have been populated. Raise errors or warnings\n"
   ]
  },
  {
   "cell_type": "code",
   "execution_count": 12,
   "id": "9456cc86-22ee-49a9-b927-41e2182f4e82",
   "metadata": {},
   "outputs": [
    {
     "data": {
      "text/plain": [
       "{'initialDataPath': '/Users/upton6/Documents/Nanostring/projects/Larisa/2312_Run/DSP_Protein_Data/Initial Dataset.xlsx',\n",
       " 'QCDataPath': '/Users/upton6/Documents/Nanostring/projects/Larisa/2312_Run/DSP_Protein_Data/Default_QC.xlsx',\n",
       " 'labWorksheet01Path': '/Users/upton6/Documents/Nanostring/projects/Larisa/2312_Run/Lab_Worksheet_P1001660010371A.txt'}"
      ]
     },
     "execution_count": 12,
     "metadata": {},
     "output_type": "execute_result"
    }
   ],
   "source": [
    "configDict"
   ]
  },
  {
   "cell_type": "code",
   "execution_count": 13,
   "id": "def1b3a8",
   "metadata": {
    "scrolled": true
   },
   "outputs": [
    {
     "name": "stdout",
     "output_type": "stream",
     "text": [
      "sampleInfo.shape\n",
      "(17, 96)\n",
      "data.shape\n",
      "(29, 96)\n",
      "Syndecan-1              Endogenous\n",
      "CD31                    Endogenous\n",
      "Ms IgG2a                  Negative\n",
      "S6                         Control\n",
      "Olig2                   Endogenous\n",
      "Neurofilament light     Endogenous\n",
      "IBA1                    Endogenous\n",
      "NeuN                    Endogenous\n",
      "HLA-DR                  Endogenous\n",
      "HYB-NEG                   Negative\n",
      "CD163                   Endogenous\n",
      "Histone H3                 Control\n",
      "TMEM119                 Endogenous\n",
      "GFAP                    Endogenous\n",
      "GAPDH                      Control\n",
      "HYB-POS                   Positive\n",
      "MAP2                    Endogenous\n",
      "CD40                    Endogenous\n",
      "Myelin basic protein    Endogenous\n",
      "Synaptophysin           Endogenous\n",
      "CD11b                   Endogenous\n",
      "CD68                    Endogenous\n",
      "Rb IgG                    Negative\n",
      "CD39                    Endogenous\n",
      "Ms IgG1                   Negative\n",
      "Ki-67                   Endogenous\n",
      "P2ry12                  Endogenous\n",
      "CD45                    Endogenous\n",
      "S100B                   Endogenous\n",
      "Name: ProbeClass, dtype: object\n",
      "{'Positive': 'A', 'Negative': 'B', 'Control': 'C', 'Endogenous': 'E'}\n",
      "Positive Control count:\t1, ['HYB-POS']\n",
      "Nagative Control count:\t4, ['Ms IgG2a', 'HYB-NEG', 'Rb IgG', 'Ms IgG1']\n",
      "Ig Control count:\t3, ['Ms IgG2a', 'Rb IgG', 'Ms IgG1']\n",
      "HK Control count:\t3, ['S6', 'Histone H3', 'GAPDH']\n",
      "Endogenous probe count:\t21, ['Syndecan-1', 'CD31', 'Olig2', 'Neurofilament light', 'IBA1', 'NeuN', 'HLA-DR', 'CD163', 'TMEM119', 'GFAP', 'MAP2', 'CD40', 'Myelin basic protein', 'Synaptophysin', 'CD11b', 'CD68', 'CD39', 'Ki-67', 'P2ry12', 'CD45', 'S100B']\n"
     ]
    },
    {
     "name": "stderr",
     "output_type": "stream",
     "text": [
      "/Users/upton6/anaconda3/lib/python3.11/site-packages/openpyxl/styles/stylesheet.py:226: UserWarning: Workbook contains no default style, apply openpyxl's default\n",
      "  warn(\"Workbook contains no default style, apply openpyxl's default\")\n"
     ]
    }
   ],
   "source": [
    "dataPath = configDict['initialDataPath']\n",
    "\n",
    "masterData = master_data(dataPath)\n",
    "dataLog1External, sampleInfoExternal = masterData.get_data()\n",
    "\n",
    "# For the Thomas TMA study there are a number of additional AOIs to be used for data normalisation studies.\n",
    "# These should be removed before further data analysis and QC.\n",
    "\n",
    "print(masterData.probeClass)\n",
    "print(masterData.probeClassDict)\n",
    "# dataLog1External, sampleInfoExternal = masterData.drop_AOIs('#16_9', writeOrig=True)\n",
    "\n",
    "nuclei = sampleInfoExternal.loc['AOI nuclei count']\n",
    "surfArea = sampleInfoExternal.loc['AOI surface area']\n",
    "\n",
    "dataLog1External, sampleInfoExternal = masterData.add_class_mean(masterData.dataLog1)"
   ]
  },
  {
   "cell_type": "code",
   "execution_count": 14,
   "id": "9817b118",
   "metadata": {},
   "outputs": [
    {
     "name": "stdout",
     "output_type": "stream",
     "text": [
      "GRC Series B IP_Syndecan-1_001_Segment 1    89007\n",
      "GRC Series B IP_Syndecan-1_002_Segment 1    95880\n",
      "GRC Series B IP_Syndecan-1_003_Segment 1    79187\n",
      "GRC Series B IP_Syndecan-1_004_Segment 1    77893\n",
      "GRC Series B IP_Syndecan-1_005_Segment 1    99831\n",
      "                                            ...  \n",
      "GRC Series A IP_Syndecan-1_253_Segment 1    19838\n",
      "GRC Series A IP_Syndecan-1_261_Segment 1    15775\n",
      "GRC Series A IP_Syndecan-1_262_Segment 1    52672\n",
      "GRC Series A IP_Syndecan-1_263_Segment 1    28590\n",
      "GRC Series A IP_Syndecan-1_264_Segment 1    24969\n",
      "Name: AOI surface area, Length: 96, dtype: object\n"
     ]
    }
   ],
   "source": [
    "sampleInfoExternal.loc['AOI surface area'] = [round(x) for x in sampleInfoExternal.loc['AOI surface area']]\n",
    "print(sampleInfoExternal.loc['AOI surface area'])"
   ]
  },
  {
   "cell_type": "code",
   "execution_count": 15,
   "id": "92e77958",
   "metadata": {
    "scrolled": true
   },
   "outputs": [],
   "source": [
    "# [round(x) for x in sampleInfoExternal.loc['AOI surface area']]"
   ]
  },
  {
   "cell_type": "code",
   "execution_count": null,
   "id": "201d3818-3914-413a-ad0a-a4c95be7a244",
   "metadata": {},
   "outputs": [],
   "source": []
  },
  {
   "cell_type": "markdown",
   "id": "8286b45f",
   "metadata": {},
   "source": [
    "# Infer the sample locations on the processing plates"
   ]
  },
  {
   "cell_type": "markdown",
   "id": "bf387afb-3edd-4a94-a6b2-4dc65da7ec61",
   "metadata": {},
   "source": [
    "#### Import the worksheet paths from the config file"
   ]
  },
  {
   "cell_type": "code",
   "execution_count": 16,
   "id": "7cc91ec7",
   "metadata": {},
   "outputs": [],
   "source": [
    "wsPaths = [configDict[x] for x in configDict.keys() if x.startswith('labWorksheet')]"
   ]
  },
  {
   "cell_type": "code",
   "execution_count": null,
   "id": "41c9a5a9-b66d-41cd-85c9-7920b7f586b5",
   "metadata": {},
   "outputs": [],
   "source": []
  },
  {
   "cell_type": "code",
   "execution_count": 17,
   "id": "f25b399b",
   "metadata": {},
   "outputs": [
    {
     "data": {
      "text/plain": [
       "96"
      ]
     },
     "execution_count": 17,
     "metadata": {},
     "output_type": "execute_result"
    }
   ],
   "source": [
    "# indexList = ['A','B','C','D','E','F','G','H']\n",
    "# columnList = ['01','02','03','04','05','06','07','08','09','10','11','12']\n",
    "\n",
    "indexList = list(map(chr, range(ord('A'), ord('H')+1)))\n",
    "columnList = [str(n).zfill(2) for n in range(1,13)]\n",
    "\n",
    "\n",
    "def read_Surf_Areas(wsPath):\n",
    "    with open(wsPath, 'r')as f:\n",
    "        results = []\n",
    "        record = False\n",
    "        lines = f.readlines()\n",
    "        for line in lines:\n",
    "            line=line.strip()\n",
    "            if line.startswith('Area '):\n",
    "                record = True\n",
    "            elif line.startswith('Totals '):\n",
    "                record = False\n",
    "            elif record:\n",
    "                fields = line.split()\n",
    "#                 print(fields)\n",
    "                results.append([int(x) for x in fields[1:]])\n",
    "#         del(results[0][1])\n",
    "    return(pd.DataFrame(results, index=indexList, columns = columnList))\n",
    "\n",
    "validWells = []\n",
    "for i in indexList:\n",
    "    for c in columnList:\n",
    "        validWells.append(i+c)\n",
    "len(validWells)"
   ]
  },
  {
   "cell_type": "code",
   "execution_count": 18,
   "id": "5f4fddf3",
   "metadata": {},
   "outputs": [],
   "source": [
    "wsList = []\n",
    "wellDFs = [] # Set up empty dataframe to be populated with sample names\n",
    "for x in wsPaths:\n",
    "    wsList.append(read_Surf_Areas(x))\n",
    "    wellDFs.append(pd.DataFrame(data='', index = indexList, columns = columnList))"
   ]
  },
  {
   "cell_type": "code",
   "execution_count": 19,
   "id": "42b01613-6303-4f5f-8a18-e0cacda70941",
   "metadata": {},
   "outputs": [
    {
     "data": {
      "text/html": [
       "<div>\n",
       "<style scoped>\n",
       "    .dataframe tbody tr th:only-of-type {\n",
       "        vertical-align: middle;\n",
       "    }\n",
       "\n",
       "    .dataframe tbody tr th {\n",
       "        vertical-align: top;\n",
       "    }\n",
       "\n",
       "    .dataframe thead th {\n",
       "        text-align: right;\n",
       "    }\n",
       "</style>\n",
       "<table border=\"1\" class=\"dataframe\">\n",
       "  <thead>\n",
       "    <tr style=\"text-align: right;\">\n",
       "      <th></th>\n",
       "      <th>01</th>\n",
       "      <th>02</th>\n",
       "      <th>03</th>\n",
       "      <th>04</th>\n",
       "      <th>05</th>\n",
       "      <th>06</th>\n",
       "      <th>07</th>\n",
       "      <th>08</th>\n",
       "      <th>09</th>\n",
       "      <th>10</th>\n",
       "      <th>11</th>\n",
       "      <th>12</th>\n",
       "    </tr>\n",
       "  </thead>\n",
       "  <tbody>\n",
       "    <tr>\n",
       "      <th>A</th>\n",
       "      <td>60586</td>\n",
       "      <td>66567</td>\n",
       "      <td>77617</td>\n",
       "      <td>83114</td>\n",
       "      <td>45655</td>\n",
       "      <td>69315</td>\n",
       "      <td>56156</td>\n",
       "      <td>63288</td>\n",
       "      <td>47468</td>\n",
       "      <td>79352</td>\n",
       "      <td>9646</td>\n",
       "      <td>18873</td>\n",
       "    </tr>\n",
       "    <tr>\n",
       "      <th>B</th>\n",
       "      <td>16217</td>\n",
       "      <td>27408</td>\n",
       "      <td>36537</td>\n",
       "      <td>32881</td>\n",
       "      <td>35180</td>\n",
       "      <td>39746</td>\n",
       "      <td>15349</td>\n",
       "      <td>15097</td>\n",
       "      <td>26723</td>\n",
       "      <td>25105</td>\n",
       "      <td>338846</td>\n",
       "      <td>337802</td>\n",
       "    </tr>\n",
       "    <tr>\n",
       "      <th>C</th>\n",
       "      <td>333812</td>\n",
       "      <td>25307</td>\n",
       "      <td>11494</td>\n",
       "      <td>10702</td>\n",
       "      <td>26945</td>\n",
       "      <td>25017</td>\n",
       "      <td>22196</td>\n",
       "      <td>37012</td>\n",
       "      <td>63277</td>\n",
       "      <td>23970</td>\n",
       "      <td>36996</td>\n",
       "      <td>33524</td>\n",
       "    </tr>\n",
       "    <tr>\n",
       "      <th>D</th>\n",
       "      <td>20388</td>\n",
       "      <td>26320</td>\n",
       "      <td>36467</td>\n",
       "      <td>17154</td>\n",
       "      <td>17464</td>\n",
       "      <td>14104</td>\n",
       "      <td>11679</td>\n",
       "      <td>63911</td>\n",
       "      <td>23870</td>\n",
       "      <td>19838</td>\n",
       "      <td>15775</td>\n",
       "      <td>52672</td>\n",
       "    </tr>\n",
       "    <tr>\n",
       "      <th>E</th>\n",
       "      <td>28590</td>\n",
       "      <td>24969</td>\n",
       "      <td>89007</td>\n",
       "      <td>95880</td>\n",
       "      <td>79187</td>\n",
       "      <td>77893</td>\n",
       "      <td>99831</td>\n",
       "      <td>97895</td>\n",
       "      <td>95863</td>\n",
       "      <td>133313</td>\n",
       "      <td>109896</td>\n",
       "      <td>117389</td>\n",
       "    </tr>\n",
       "    <tr>\n",
       "      <th>F</th>\n",
       "      <td>108005</td>\n",
       "      <td>23068</td>\n",
       "      <td>25516</td>\n",
       "      <td>27251</td>\n",
       "      <td>27065</td>\n",
       "      <td>19505</td>\n",
       "      <td>12356</td>\n",
       "      <td>9109</td>\n",
       "      <td>24766</td>\n",
       "      <td>20738</td>\n",
       "      <td>33786</td>\n",
       "      <td>45676</td>\n",
       "    </tr>\n",
       "    <tr>\n",
       "      <th>G</th>\n",
       "      <td>36086</td>\n",
       "      <td>39902</td>\n",
       "      <td>32902</td>\n",
       "      <td>31940</td>\n",
       "      <td>27232</td>\n",
       "      <td>27732</td>\n",
       "      <td>17775</td>\n",
       "      <td>39170</td>\n",
       "      <td>39120</td>\n",
       "      <td>28836</td>\n",
       "      <td>42838</td>\n",
       "      <td>34809</td>\n",
       "    </tr>\n",
       "    <tr>\n",
       "      <th>H</th>\n",
       "      <td>18612</td>\n",
       "      <td>23095</td>\n",
       "      <td>28897</td>\n",
       "      <td>27419</td>\n",
       "      <td>17795</td>\n",
       "      <td>27288</td>\n",
       "      <td>32251</td>\n",
       "      <td>11308</td>\n",
       "      <td>13322</td>\n",
       "      <td>13735</td>\n",
       "      <td>14738</td>\n",
       "      <td>17235</td>\n",
       "    </tr>\n",
       "  </tbody>\n",
       "</table>\n",
       "</div>"
      ],
      "text/plain": [
       "       01     02     03     04     05     06     07     08     09      10  \\\n",
       "A   60586  66567  77617  83114  45655  69315  56156  63288  47468   79352   \n",
       "B   16217  27408  36537  32881  35180  39746  15349  15097  26723   25105   \n",
       "C  333812  25307  11494  10702  26945  25017  22196  37012  63277   23970   \n",
       "D   20388  26320  36467  17154  17464  14104  11679  63911  23870   19838   \n",
       "E   28590  24969  89007  95880  79187  77893  99831  97895  95863  133313   \n",
       "F  108005  23068  25516  27251  27065  19505  12356   9109  24766   20738   \n",
       "G   36086  39902  32902  31940  27232  27732  17775  39170  39120   28836   \n",
       "H   18612  23095  28897  27419  17795  27288  32251  11308  13322   13735   \n",
       "\n",
       "       11      12  \n",
       "A    9646   18873  \n",
       "B  338846  337802  \n",
       "C   36996   33524  \n",
       "D   15775   52672  \n",
       "E  109896  117389  \n",
       "F   33786   45676  \n",
       "G   42838   34809  \n",
       "H   14738   17235  "
      ]
     },
     "execution_count": 19,
     "metadata": {},
     "output_type": "execute_result"
    }
   ],
   "source": [
    "wsList[0]"
   ]
  },
  {
   "cell_type": "code",
   "execution_count": 20,
   "id": "b8e23cb7-375a-404e-a82b-2c6ce819a37e",
   "metadata": {},
   "outputs": [],
   "source": [
    "# wellDF1 = pd.DataFrame(data='', index = wsList[0].index, columns = wsList[0].columns)\n",
    "# wellDF1"
   ]
  },
  {
   "cell_type": "code",
   "execution_count": 21,
   "id": "f8dd261d-943b-4090-ae30-31d2ea788ea6",
   "metadata": {},
   "outputs": [
    {
     "name": "stdout",
     "output_type": "stream",
     "text": [
      "[60586, 66567, 77617, 83114, 45655, 69315, 56156, 63288, 47468, 79352, 9646, 18873, 16217, 27408, 36537, 32881, 35180, 39746, 15349, 15097, 26723, 25105, 338846, 337802, 333812, 25307, 11494, 10702, 26945, 25017, 22196, 37012, 63277, 23970, 36996, 33524, 20388, 26320, 36467, 17154, 17464, 14104, 11679, 63911, 23870, 19838, 15775, 52672, 28590, 24969, 89007, 95880, 79187, 77893, 99831, 97895, 95863, 133313, 109896, 117389, 108005, 23068, 25516, 27251, 27065, 19505, 12356, 9109, 24766, 20738, 33786, 45676, 36086, 39902, 32902, 31940, 27232, 27732, 17775, 39170, 39120, 28836, 42838, 34809, 18612, 23095, 28897, 27419, 17795, 27288, 32251, 11308, 13322, 13735, 14738, 17235]\n"
     ]
    }
   ],
   "source": [
    "ws1Area = list(wsList[0].values.flatten())\n",
    "allArea = ws1Area.copy()\n",
    "print(allArea)"
   ]
  },
  {
   "cell_type": "code",
   "execution_count": null,
   "id": "79e1b2a2",
   "metadata": {
    "scrolled": true
   },
   "outputs": [],
   "source": []
  },
  {
   "cell_type": "code",
   "execution_count": 22,
   "id": "76b26938",
   "metadata": {},
   "outputs": [],
   "source": [
    "# len(allArea)"
   ]
  },
  {
   "cell_type": "code",
   "execution_count": 23,
   "id": "fcc3c59d",
   "metadata": {},
   "outputs": [],
   "source": [
    "# len(set(allArea))"
   ]
  },
  {
   "cell_type": "code",
   "execution_count": 24,
   "id": "3d8de14b",
   "metadata": {},
   "outputs": [],
   "source": [
    "from collections import Counter as cnt\n",
    "\n",
    "collect = cnt(allArea)\n",
    "\n",
    "unique = [int(k) for k in collect.keys() if collect[k] ==1]\n",
    "nonUnique = [int(k) for k in collect.keys() if collect[k] !=1]"
   ]
  },
  {
   "cell_type": "code",
   "execution_count": 25,
   "id": "c455f5f8",
   "metadata": {},
   "outputs": [],
   "source": [
    "# nonUnique"
   ]
  },
  {
   "cell_type": "code",
   "execution_count": 26,
   "id": "7d65c924",
   "metadata": {
    "scrolled": true
   },
   "outputs": [],
   "source": [
    "# sorted(unique)"
   ]
  },
  {
   "cell_type": "code",
   "execution_count": 27,
   "id": "92e1c267",
   "metadata": {
    "scrolled": true
   },
   "outputs": [
    {
     "name": "stdout",
     "output_type": "stream",
     "text": [
      "A01 : 60586\n",
      "B01 : 16217\n",
      "C01 : 333812\n",
      "D01 : 20388\n",
      "E01 : 28590\n",
      "F01 : 108005\n",
      "G01 : 36086\n",
      "H01 : 18612\n",
      "A02 : 66567\n",
      "B02 : 27408\n",
      "C02 : 25307\n",
      "D02 : 26320\n",
      "E02 : 24969\n",
      "F02 : 23068\n",
      "G02 : 39902\n",
      "H02 : 23095\n",
      "A03 : 77617\n",
      "B03 : 36537\n",
      "C03 : 11494\n",
      "D03 : 36467\n",
      "E03 : 89007\n",
      "F03 : 25516\n",
      "G03 : 32902\n",
      "H03 : 28897\n",
      "A04 : 83114\n",
      "B04 : 32881\n",
      "C04 : 10702\n",
      "D04 : 17154\n",
      "E04 : 95880\n",
      "F04 : 27251\n",
      "G04 : 31940\n",
      "H04 : 27419\n",
      "A05 : 45655\n",
      "B05 : 35180\n",
      "C05 : 26945\n",
      "D05 : 17464\n",
      "E05 : 79187\n",
      "F05 : 27065\n",
      "G05 : 27232\n",
      "H05 : 17795\n",
      "A06 : 69315\n",
      "B06 : 39746\n",
      "C06 : 25017\n",
      "D06 : 14104\n",
      "E06 : 77893\n",
      "F06 : 19505\n",
      "G06 : 27732\n",
      "H06 : 27288\n",
      "A07 : 56156\n",
      "B07 : 15349\n",
      "C07 : 22196\n",
      "D07 : 11679\n",
      "E07 : 99831\n",
      "F07 : 12356\n",
      "G07 : 17775\n",
      "H07 : 32251\n",
      "A08 : 63288\n",
      "B08 : 15097\n",
      "C08 : 37012\n",
      "D08 : 63911\n",
      "E08 : 97895\n",
      "F08 : 9109\n",
      "G08 : 39170\n",
      "H08 : 11308\n",
      "A09 : 47468\n",
      "B09 : 26723\n",
      "C09 : 63277\n",
      "D09 : 23870\n",
      "E09 : 95863\n",
      "F09 : 24766\n",
      "G09 : 39120\n",
      "H09 : 13322\n",
      "A10 : 79352\n",
      "B10 : 25105\n",
      "C10 : 23970\n",
      "D10 : 19838\n",
      "E10 : 133313\n",
      "F10 : 20738\n",
      "G10 : 28836\n",
      "H10 : 13735\n",
      "A11 : 9646\n",
      "B11 : 338846\n",
      "C11 : 36996\n",
      "D11 : 15775\n",
      "E11 : 109896\n",
      "F11 : 33786\n",
      "G11 : 42838\n",
      "H11 : 14738\n",
      "A12 : 18873\n",
      "B12 : 337802\n",
      "C12 : 33524\n",
      "D12 : 52672\n",
      "E12 : 117389\n",
      "F12 : 45676\n",
      "G12 : 34809\n",
      "H12 : 17235\n"
     ]
    }
   ],
   "source": [
    "# plates = (ws1,ws2)\n",
    "# wellDFs = [wellDF1, wellDF2]\n",
    "\n",
    "plates = (wsList[0],)\n",
    "# wellDFs = [wellDF1,]\n",
    "\n",
    "\n",
    "SAWellDict = {}\n",
    "SAPlateDict = {}\n",
    "AOItoWellDict = {}\n",
    "AOItoPlateDict = {}\n",
    "\n",
    "PlateWellDict = {1:[],2:[]} \n",
    "for i, plate in enumerate(wsList):\n",
    "    for col in plate.columns:\n",
    "        for row in plate.index:\n",
    "            val = int(plate.loc[row,col])\n",
    "            if val in unique:\n",
    "                print(row + col + ' : ' + str(val))\n",
    "                SAWellDict[val] = row + col\n",
    "                \n",
    "                possibleMatches = sampleInfoExternal.loc[:,sampleInfoExternal.T['AOI surface area'] == val].columns \n",
    "                if len (possibleMatches == 1):\n",
    "                    wellDFs[i].loc[row,col] = possibleMatches[0]\n",
    "                    \n",
    "                    AOItoWellDict[possibleMatches[0]] = row + col\n",
    "                    \n",
    "                else:\n",
    "                    print(possibleMatches)\n",
    "                \n",
    "                if val in ws1Area:\n",
    "                    SAPlateDict[val] = 1\n",
    "#                     PlateWellDict[1].append(val)\n",
    "                    PlateWellDict[1].append(row+col)\n",
    "                    AOItoPlateDict[possibleMatches[0]] = 1\n",
    "        \n",
    "                elif val in ws2Area:\n",
    "                    SAPlateDict[val] = 2\n",
    "#                     PlateWellDict[2].append(val)\n",
    "                    PlateWellDict[2].append(row+col)\n",
    "                    AOItoPlateDict[possibleMatches[0]] = 2\n",
    "    \n",
    "                    "
   ]
  },
  {
   "cell_type": "code",
   "execution_count": 28,
   "id": "b2e59afb",
   "metadata": {},
   "outputs": [
    {
     "data": {
      "text/html": [
       "<div>\n",
       "<style scoped>\n",
       "    .dataframe tbody tr th:only-of-type {\n",
       "        vertical-align: middle;\n",
       "    }\n",
       "\n",
       "    .dataframe tbody tr th {\n",
       "        vertical-align: top;\n",
       "    }\n",
       "\n",
       "    .dataframe thead th {\n",
       "        text-align: right;\n",
       "    }\n",
       "</style>\n",
       "<table border=\"1\" class=\"dataframe\">\n",
       "  <thead>\n",
       "    <tr style=\"text-align: right;\">\n",
       "      <th></th>\n",
       "      <th>01</th>\n",
       "      <th>02</th>\n",
       "      <th>03</th>\n",
       "      <th>04</th>\n",
       "      <th>05</th>\n",
       "      <th>06</th>\n",
       "      <th>07</th>\n",
       "      <th>08</th>\n",
       "      <th>09</th>\n",
       "      <th>10</th>\n",
       "      <th>11</th>\n",
       "      <th>12</th>\n",
       "    </tr>\n",
       "  </thead>\n",
       "  <tbody>\n",
       "    <tr>\n",
       "      <th>A</th>\n",
       "      <td>GRC Series A IP_Syndecan-1_001_Segment 1</td>\n",
       "      <td>GRC Series A IP_Syndecan-1_002_Segment 1</td>\n",
       "      <td>GRC Series A IP_Syndecan-1_003_Segment 1</td>\n",
       "      <td>GRC Series A IP_Syndecan-1_004_Segment 1</td>\n",
       "      <td>GRC Series A IP_Syndecan-1_005_Segment 1</td>\n",
       "      <td>GRC Series A IP_Syndecan-1_006_Segment 1</td>\n",
       "      <td>GRC Series A IP_Syndecan-1_007_Segment 1</td>\n",
       "      <td>GRC Series A IP_Syndecan-1_008_Segment 1</td>\n",
       "      <td>GRC Series A IP_Syndecan-1_009_Segment 1</td>\n",
       "      <td>GRC Series A IP_Syndecan-1_010_Segment 1</td>\n",
       "      <td>GRC Series A IP_Syndecan-1_012_Full ROI</td>\n",
       "      <td>GRC Series A IP_Syndecan-1_013_Segment 1</td>\n",
       "    </tr>\n",
       "    <tr>\n",
       "      <th>B</th>\n",
       "      <td>GRC Series A IP_Syndecan-1_014_Segment 1</td>\n",
       "      <td>GRC Series A IP_Syndecan-1_015_Segment 1</td>\n",
       "      <td>GRC Series A IP_Syndecan-1_016_Segment 1</td>\n",
       "      <td>GRC Series A IP_Syndecan-1_017_Segment 1</td>\n",
       "      <td>GRC Series A IP_Syndecan-1_018_Segment 1</td>\n",
       "      <td>GRC Series A IP_Syndecan-1_019_Segment 1</td>\n",
       "      <td>GRC Series A IP_Syndecan-1_020_Segment 1</td>\n",
       "      <td>GRC Series A IP_Syndecan-1_021_Segment 1</td>\n",
       "      <td>GRC Series A IP_Syndecan-1_022_Segment 1</td>\n",
       "      <td>GRC Series A IP_Syndecan-1_023_Segment 1</td>\n",
       "      <td>GRC Series A IP_Syndecan-1_101_Segment 1</td>\n",
       "      <td>GRC Series A IP_Syndecan-1_102_Segment 1</td>\n",
       "    </tr>\n",
       "    <tr>\n",
       "      <th>C</th>\n",
       "      <td>GRC Series A IP_Syndecan-1_103_Segment 1</td>\n",
       "      <td>GRC Series A IP_Syndecan-1_201_Segment 1</td>\n",
       "      <td>GRC Series A IP_Syndecan-1_202_Segment 1</td>\n",
       "      <td>GRC Series A IP_Syndecan-1_203_Segment 1</td>\n",
       "      <td>GRC Series A IP_Syndecan-1_204_Segment 1</td>\n",
       "      <td>GRC Series A IP_Syndecan-1_211_Segment 1</td>\n",
       "      <td>GRC Series A IP_Syndecan-1_212_Segment 1</td>\n",
       "      <td>GRC Series A IP_Syndecan-1_213_Segment 1</td>\n",
       "      <td>GRC Series A IP_Syndecan-1_221_Segment 1</td>\n",
       "      <td>GRC Series A IP_Syndecan-1_222_Segment 1</td>\n",
       "      <td>GRC Series A IP_Syndecan-1_223_Segment 1</td>\n",
       "      <td>GRC Series A IP_Syndecan-1_224_Segment 1</td>\n",
       "    </tr>\n",
       "    <tr>\n",
       "      <th>D</th>\n",
       "      <td>GRC Series A IP_Syndecan-1_231_Segment 1</td>\n",
       "      <td>GRC Series A IP_Syndecan-1_232_Segment 1</td>\n",
       "      <td>GRC Series A IP_Syndecan-1_233_Segment 1</td>\n",
       "      <td>GRC Series A IP_Syndecan-1_234_Segment 1</td>\n",
       "      <td>GRC Series A IP_Syndecan-1_241_Segment 1</td>\n",
       "      <td>GRC Series A IP_Syndecan-1_242_Segment 1</td>\n",
       "      <td>GRC Series A IP_Syndecan-1_243_Segment 1</td>\n",
       "      <td>GRC Series A IP_Syndecan-1_251_Segment 1</td>\n",
       "      <td>GRC Series A IP_Syndecan-1_252_Segment 1</td>\n",
       "      <td>GRC Series A IP_Syndecan-1_253_Segment 1</td>\n",
       "      <td>GRC Series A IP_Syndecan-1_261_Segment 1</td>\n",
       "      <td>GRC Series A IP_Syndecan-1_262_Segment 1</td>\n",
       "    </tr>\n",
       "    <tr>\n",
       "      <th>E</th>\n",
       "      <td>GRC Series A IP_Syndecan-1_263_Segment 1</td>\n",
       "      <td>GRC Series A IP_Syndecan-1_264_Segment 1</td>\n",
       "      <td>GRC Series B IP_Syndecan-1_001_Segment 1</td>\n",
       "      <td>GRC Series B IP_Syndecan-1_002_Segment 1</td>\n",
       "      <td>GRC Series B IP_Syndecan-1_003_Segment 1</td>\n",
       "      <td>GRC Series B IP_Syndecan-1_004_Segment 1</td>\n",
       "      <td>GRC Series B IP_Syndecan-1_005_Segment 1</td>\n",
       "      <td>GRC Series B IP_Syndecan-1_006_Segment 1</td>\n",
       "      <td>GRC Series B IP_Syndecan-1_007_Segment 1</td>\n",
       "      <td>GRC Series B IP_Syndecan-1_008_Segment 1</td>\n",
       "      <td>GRC Series B IP_Syndecan-1_009_Segment 1</td>\n",
       "      <td>GRC Series B IP_Syndecan-1_010_Segment 1</td>\n",
       "    </tr>\n",
       "    <tr>\n",
       "      <th>F</th>\n",
       "      <td>GRC Series B IP_Syndecan-1_011_Segment 1</td>\n",
       "      <td>GRC Series B IP_Syndecan-1_012_Segment 1</td>\n",
       "      <td>GRC Series B IP_Syndecan-1_013_Segment 1</td>\n",
       "      <td>GRC Series B IP_Syndecan-1_014_Segment 1</td>\n",
       "      <td>GRC Series B IP_Syndecan-1_015_Segment 1</td>\n",
       "      <td>GRC Series B IP_Syndecan-1_016_Segment 1</td>\n",
       "      <td>GRC Series B IP_Syndecan-1_017_Segment 1</td>\n",
       "      <td>GRC Series B IP_Syndecan-1_018_Segment 1</td>\n",
       "      <td>GRC Series B IP_Syndecan-1_019_Segment 1</td>\n",
       "      <td>GRC Series B IP_Syndecan-1_020_Segment 1</td>\n",
       "      <td>GRC Series B IP_Syndecan-1_021_Segment 1</td>\n",
       "      <td>GRC Series B IP_Syndecan-1_022_Segment 1</td>\n",
       "    </tr>\n",
       "    <tr>\n",
       "      <th>G</th>\n",
       "      <td>GRC Series B IP_Syndecan-1_023_Segment 1</td>\n",
       "      <td>GRC Series B IP_Syndecan-1_024_Segment 1</td>\n",
       "      <td>GRC Series B IP_Syndecan-1_025_Segment 1</td>\n",
       "      <td>GRC Series B IP_Syndecan-1_026_Segment 1</td>\n",
       "      <td>GRC Series B IP_Syndecan-1_027_Segment 1</td>\n",
       "      <td>GRC Series B IP_Syndecan-1_028_Segment 1</td>\n",
       "      <td>GRC Series B IP_Syndecan-1_029_Segment 1</td>\n",
       "      <td>GRC Series B IP_Syndecan-1_030_Segment 1</td>\n",
       "      <td>GRC Series B IP_Syndecan-1_031_Segment 1</td>\n",
       "      <td>GRC Series B IP_Syndecan-1_032_Segment 1</td>\n",
       "      <td>GRC Series B IP_Syndecan-1_033_Segment 1</td>\n",
       "      <td>GRC Series B IP_Syndecan-1_034_Segment 1</td>\n",
       "    </tr>\n",
       "    <tr>\n",
       "      <th>H</th>\n",
       "      <td>GRC Series B IP_Syndecan-1_035_Segment 1</td>\n",
       "      <td>GRC Series B IP_Syndecan-1_036_Segment 1</td>\n",
       "      <td>GRC Series B IP_Syndecan-1_037_Segment 1</td>\n",
       "      <td>GRC Series B IP_Syndecan-1_038_Segment 1</td>\n",
       "      <td>GRC Series B IP_Syndecan-1_039_Segment 1</td>\n",
       "      <td>GRC Series B IP_Syndecan-1_040_Segment 1</td>\n",
       "      <td>GRC Series B IP_Syndecan-1_041_Segment 1</td>\n",
       "      <td>GRC Series B IP_Syndecan-1_042_Segment 1</td>\n",
       "      <td>GRC Series B IP_Syndecan-1_043_Segment 1</td>\n",
       "      <td>GRC Series B IP_Syndecan-1_044_Segment 1</td>\n",
       "      <td>GRC Series B IP_Syndecan-1_045_Segment 1</td>\n",
       "      <td>GRC Series B IP_Syndecan-1_046_Segment 1</td>\n",
       "    </tr>\n",
       "  </tbody>\n",
       "</table>\n",
       "</div>"
      ],
      "text/plain": [
       "                                         01  \\\n",
       "A  GRC Series A IP_Syndecan-1_001_Segment 1   \n",
       "B  GRC Series A IP_Syndecan-1_014_Segment 1   \n",
       "C  GRC Series A IP_Syndecan-1_103_Segment 1   \n",
       "D  GRC Series A IP_Syndecan-1_231_Segment 1   \n",
       "E  GRC Series A IP_Syndecan-1_263_Segment 1   \n",
       "F  GRC Series B IP_Syndecan-1_011_Segment 1   \n",
       "G  GRC Series B IP_Syndecan-1_023_Segment 1   \n",
       "H  GRC Series B IP_Syndecan-1_035_Segment 1   \n",
       "\n",
       "                                         02  \\\n",
       "A  GRC Series A IP_Syndecan-1_002_Segment 1   \n",
       "B  GRC Series A IP_Syndecan-1_015_Segment 1   \n",
       "C  GRC Series A IP_Syndecan-1_201_Segment 1   \n",
       "D  GRC Series A IP_Syndecan-1_232_Segment 1   \n",
       "E  GRC Series A IP_Syndecan-1_264_Segment 1   \n",
       "F  GRC Series B IP_Syndecan-1_012_Segment 1   \n",
       "G  GRC Series B IP_Syndecan-1_024_Segment 1   \n",
       "H  GRC Series B IP_Syndecan-1_036_Segment 1   \n",
       "\n",
       "                                         03  \\\n",
       "A  GRC Series A IP_Syndecan-1_003_Segment 1   \n",
       "B  GRC Series A IP_Syndecan-1_016_Segment 1   \n",
       "C  GRC Series A IP_Syndecan-1_202_Segment 1   \n",
       "D  GRC Series A IP_Syndecan-1_233_Segment 1   \n",
       "E  GRC Series B IP_Syndecan-1_001_Segment 1   \n",
       "F  GRC Series B IP_Syndecan-1_013_Segment 1   \n",
       "G  GRC Series B IP_Syndecan-1_025_Segment 1   \n",
       "H  GRC Series B IP_Syndecan-1_037_Segment 1   \n",
       "\n",
       "                                         04  \\\n",
       "A  GRC Series A IP_Syndecan-1_004_Segment 1   \n",
       "B  GRC Series A IP_Syndecan-1_017_Segment 1   \n",
       "C  GRC Series A IP_Syndecan-1_203_Segment 1   \n",
       "D  GRC Series A IP_Syndecan-1_234_Segment 1   \n",
       "E  GRC Series B IP_Syndecan-1_002_Segment 1   \n",
       "F  GRC Series B IP_Syndecan-1_014_Segment 1   \n",
       "G  GRC Series B IP_Syndecan-1_026_Segment 1   \n",
       "H  GRC Series B IP_Syndecan-1_038_Segment 1   \n",
       "\n",
       "                                         05  \\\n",
       "A  GRC Series A IP_Syndecan-1_005_Segment 1   \n",
       "B  GRC Series A IP_Syndecan-1_018_Segment 1   \n",
       "C  GRC Series A IP_Syndecan-1_204_Segment 1   \n",
       "D  GRC Series A IP_Syndecan-1_241_Segment 1   \n",
       "E  GRC Series B IP_Syndecan-1_003_Segment 1   \n",
       "F  GRC Series B IP_Syndecan-1_015_Segment 1   \n",
       "G  GRC Series B IP_Syndecan-1_027_Segment 1   \n",
       "H  GRC Series B IP_Syndecan-1_039_Segment 1   \n",
       "\n",
       "                                         06  \\\n",
       "A  GRC Series A IP_Syndecan-1_006_Segment 1   \n",
       "B  GRC Series A IP_Syndecan-1_019_Segment 1   \n",
       "C  GRC Series A IP_Syndecan-1_211_Segment 1   \n",
       "D  GRC Series A IP_Syndecan-1_242_Segment 1   \n",
       "E  GRC Series B IP_Syndecan-1_004_Segment 1   \n",
       "F  GRC Series B IP_Syndecan-1_016_Segment 1   \n",
       "G  GRC Series B IP_Syndecan-1_028_Segment 1   \n",
       "H  GRC Series B IP_Syndecan-1_040_Segment 1   \n",
       "\n",
       "                                         07  \\\n",
       "A  GRC Series A IP_Syndecan-1_007_Segment 1   \n",
       "B  GRC Series A IP_Syndecan-1_020_Segment 1   \n",
       "C  GRC Series A IP_Syndecan-1_212_Segment 1   \n",
       "D  GRC Series A IP_Syndecan-1_243_Segment 1   \n",
       "E  GRC Series B IP_Syndecan-1_005_Segment 1   \n",
       "F  GRC Series B IP_Syndecan-1_017_Segment 1   \n",
       "G  GRC Series B IP_Syndecan-1_029_Segment 1   \n",
       "H  GRC Series B IP_Syndecan-1_041_Segment 1   \n",
       "\n",
       "                                         08  \\\n",
       "A  GRC Series A IP_Syndecan-1_008_Segment 1   \n",
       "B  GRC Series A IP_Syndecan-1_021_Segment 1   \n",
       "C  GRC Series A IP_Syndecan-1_213_Segment 1   \n",
       "D  GRC Series A IP_Syndecan-1_251_Segment 1   \n",
       "E  GRC Series B IP_Syndecan-1_006_Segment 1   \n",
       "F  GRC Series B IP_Syndecan-1_018_Segment 1   \n",
       "G  GRC Series B IP_Syndecan-1_030_Segment 1   \n",
       "H  GRC Series B IP_Syndecan-1_042_Segment 1   \n",
       "\n",
       "                                         09  \\\n",
       "A  GRC Series A IP_Syndecan-1_009_Segment 1   \n",
       "B  GRC Series A IP_Syndecan-1_022_Segment 1   \n",
       "C  GRC Series A IP_Syndecan-1_221_Segment 1   \n",
       "D  GRC Series A IP_Syndecan-1_252_Segment 1   \n",
       "E  GRC Series B IP_Syndecan-1_007_Segment 1   \n",
       "F  GRC Series B IP_Syndecan-1_019_Segment 1   \n",
       "G  GRC Series B IP_Syndecan-1_031_Segment 1   \n",
       "H  GRC Series B IP_Syndecan-1_043_Segment 1   \n",
       "\n",
       "                                         10  \\\n",
       "A  GRC Series A IP_Syndecan-1_010_Segment 1   \n",
       "B  GRC Series A IP_Syndecan-1_023_Segment 1   \n",
       "C  GRC Series A IP_Syndecan-1_222_Segment 1   \n",
       "D  GRC Series A IP_Syndecan-1_253_Segment 1   \n",
       "E  GRC Series B IP_Syndecan-1_008_Segment 1   \n",
       "F  GRC Series B IP_Syndecan-1_020_Segment 1   \n",
       "G  GRC Series B IP_Syndecan-1_032_Segment 1   \n",
       "H  GRC Series B IP_Syndecan-1_044_Segment 1   \n",
       "\n",
       "                                         11  \\\n",
       "A   GRC Series A IP_Syndecan-1_012_Full ROI   \n",
       "B  GRC Series A IP_Syndecan-1_101_Segment 1   \n",
       "C  GRC Series A IP_Syndecan-1_223_Segment 1   \n",
       "D  GRC Series A IP_Syndecan-1_261_Segment 1   \n",
       "E  GRC Series B IP_Syndecan-1_009_Segment 1   \n",
       "F  GRC Series B IP_Syndecan-1_021_Segment 1   \n",
       "G  GRC Series B IP_Syndecan-1_033_Segment 1   \n",
       "H  GRC Series B IP_Syndecan-1_045_Segment 1   \n",
       "\n",
       "                                         12  \n",
       "A  GRC Series A IP_Syndecan-1_013_Segment 1  \n",
       "B  GRC Series A IP_Syndecan-1_102_Segment 1  \n",
       "C  GRC Series A IP_Syndecan-1_224_Segment 1  \n",
       "D  GRC Series A IP_Syndecan-1_262_Segment 1  \n",
       "E  GRC Series B IP_Syndecan-1_010_Segment 1  \n",
       "F  GRC Series B IP_Syndecan-1_022_Segment 1  \n",
       "G  GRC Series B IP_Syndecan-1_034_Segment 1  \n",
       "H  GRC Series B IP_Syndecan-1_046_Segment 1  "
      ]
     },
     "execution_count": 28,
     "metadata": {},
     "output_type": "execute_result"
    }
   ],
   "source": [
    "wellDFs[0]"
   ]
  },
  {
   "cell_type": "code",
   "execution_count": null,
   "id": "639bf8c4-2fb5-4023-9cfa-90ca78f6792c",
   "metadata": {},
   "outputs": [],
   "source": []
  },
  {
   "cell_type": "code",
   "execution_count": null,
   "id": "d6970d38",
   "metadata": {},
   "outputs": [],
   "source": [
    "# # make dict of SA volue to AOI ID\n",
    "# SAtoAOIDict = dict(zip([round(x) for x in sampleInfoExternal.loc['AOI surface area'] if (round(x) in unique)], sampleInfoExternal.columns))\n",
    "\n",
    "# AOItoWellDict = {}\n",
    "# for k,v in SAtoAOIDict.items():\n",
    "#     AOItoWellDict[v] = SAWellDict[k]\n",
    "\n",
    "# print(len(SAtoAOIDict))\n",
    "# print(len(AOItoWellDict))"
   ]
  },
  {
   "cell_type": "code",
   "execution_count": 30,
   "id": "a839a505",
   "metadata": {
    "scrolled": true
   },
   "outputs": [
    {
     "data": {
      "text/plain": [
       "{60586: 'A01',\n",
       " 16217: 'B01',\n",
       " 333812: 'C01',\n",
       " 20388: 'D01',\n",
       " 28590: 'E01',\n",
       " 108005: 'F01',\n",
       " 36086: 'G01',\n",
       " 18612: 'H01',\n",
       " 66567: 'A02',\n",
       " 27408: 'B02',\n",
       " 25307: 'C02',\n",
       " 26320: 'D02',\n",
       " 24969: 'E02',\n",
       " 23068: 'F02',\n",
       " 39902: 'G02',\n",
       " 23095: 'H02',\n",
       " 77617: 'A03',\n",
       " 36537: 'B03',\n",
       " 11494: 'C03',\n",
       " 36467: 'D03',\n",
       " 89007: 'E03',\n",
       " 25516: 'F03',\n",
       " 32902: 'G03',\n",
       " 28897: 'H03',\n",
       " 83114: 'A04',\n",
       " 32881: 'B04',\n",
       " 10702: 'C04',\n",
       " 17154: 'D04',\n",
       " 95880: 'E04',\n",
       " 27251: 'F04',\n",
       " 31940: 'G04',\n",
       " 27419: 'H04',\n",
       " 45655: 'A05',\n",
       " 35180: 'B05',\n",
       " 26945: 'C05',\n",
       " 17464: 'D05',\n",
       " 79187: 'E05',\n",
       " 27065: 'F05',\n",
       " 27232: 'G05',\n",
       " 17795: 'H05',\n",
       " 69315: 'A06',\n",
       " 39746: 'B06',\n",
       " 25017: 'C06',\n",
       " 14104: 'D06',\n",
       " 77893: 'E06',\n",
       " 19505: 'F06',\n",
       " 27732: 'G06',\n",
       " 27288: 'H06',\n",
       " 56156: 'A07',\n",
       " 15349: 'B07',\n",
       " 22196: 'C07',\n",
       " 11679: 'D07',\n",
       " 99831: 'E07',\n",
       " 12356: 'F07',\n",
       " 17775: 'G07',\n",
       " 32251: 'H07',\n",
       " 63288: 'A08',\n",
       " 15097: 'B08',\n",
       " 37012: 'C08',\n",
       " 63911: 'D08',\n",
       " 97895: 'E08',\n",
       " 9109: 'F08',\n",
       " 39170: 'G08',\n",
       " 11308: 'H08',\n",
       " 47468: 'A09',\n",
       " 26723: 'B09',\n",
       " 63277: 'C09',\n",
       " 23870: 'D09',\n",
       " 95863: 'E09',\n",
       " 24766: 'F09',\n",
       " 39120: 'G09',\n",
       " 13322: 'H09',\n",
       " 79352: 'A10',\n",
       " 25105: 'B10',\n",
       " 23970: 'C10',\n",
       " 19838: 'D10',\n",
       " 133313: 'E10',\n",
       " 20738: 'F10',\n",
       " 28836: 'G10',\n",
       " 13735: 'H10',\n",
       " 9646: 'A11',\n",
       " 338846: 'B11',\n",
       " 36996: 'C11',\n",
       " 15775: 'D11',\n",
       " 109896: 'E11',\n",
       " 33786: 'F11',\n",
       " 42838: 'G11',\n",
       " 14738: 'H11',\n",
       " 18873: 'A12',\n",
       " 337802: 'B12',\n",
       " 33524: 'C12',\n",
       " 52672: 'D12',\n",
       " 117389: 'E12',\n",
       " 45676: 'F12',\n",
       " 34809: 'G12',\n",
       " 17235: 'H12'}"
      ]
     },
     "execution_count": 30,
     "metadata": {},
     "output_type": "execute_result"
    }
   ],
   "source": [
    "SAWellDict"
   ]
  },
  {
   "cell_type": "code",
   "execution_count": 31,
   "id": "62ca8db0",
   "metadata": {
    "scrolled": true
   },
   "outputs": [
    {
     "data": {
      "text/plain": [
       "{'GRC Series A IP_Syndecan-1_001_Segment 1': 'A01',\n",
       " 'GRC Series A IP_Syndecan-1_014_Segment 1': 'B01',\n",
       " 'GRC Series A IP_Syndecan-1_103_Segment 1': 'C01',\n",
       " 'GRC Series A IP_Syndecan-1_231_Segment 1': 'D01',\n",
       " 'GRC Series A IP_Syndecan-1_263_Segment 1': 'E01',\n",
       " 'GRC Series B IP_Syndecan-1_011_Segment 1': 'F01',\n",
       " 'GRC Series B IP_Syndecan-1_023_Segment 1': 'G01',\n",
       " 'GRC Series B IP_Syndecan-1_035_Segment 1': 'H01',\n",
       " 'GRC Series A IP_Syndecan-1_002_Segment 1': 'A02',\n",
       " 'GRC Series A IP_Syndecan-1_015_Segment 1': 'B02',\n",
       " 'GRC Series A IP_Syndecan-1_201_Segment 1': 'C02',\n",
       " 'GRC Series A IP_Syndecan-1_232_Segment 1': 'D02',\n",
       " 'GRC Series A IP_Syndecan-1_264_Segment 1': 'E02',\n",
       " 'GRC Series B IP_Syndecan-1_012_Segment 1': 'F02',\n",
       " 'GRC Series B IP_Syndecan-1_024_Segment 1': 'G02',\n",
       " 'GRC Series B IP_Syndecan-1_036_Segment 1': 'H02',\n",
       " 'GRC Series A IP_Syndecan-1_003_Segment 1': 'A03',\n",
       " 'GRC Series A IP_Syndecan-1_016_Segment 1': 'B03',\n",
       " 'GRC Series A IP_Syndecan-1_202_Segment 1': 'C03',\n",
       " 'GRC Series A IP_Syndecan-1_233_Segment 1': 'D03',\n",
       " 'GRC Series B IP_Syndecan-1_001_Segment 1': 'E03',\n",
       " 'GRC Series B IP_Syndecan-1_013_Segment 1': 'F03',\n",
       " 'GRC Series B IP_Syndecan-1_025_Segment 1': 'G03',\n",
       " 'GRC Series B IP_Syndecan-1_037_Segment 1': 'H03',\n",
       " 'GRC Series A IP_Syndecan-1_004_Segment 1': 'A04',\n",
       " 'GRC Series A IP_Syndecan-1_017_Segment 1': 'B04',\n",
       " 'GRC Series A IP_Syndecan-1_203_Segment 1': 'C04',\n",
       " 'GRC Series A IP_Syndecan-1_234_Segment 1': 'D04',\n",
       " 'GRC Series B IP_Syndecan-1_002_Segment 1': 'E04',\n",
       " 'GRC Series B IP_Syndecan-1_014_Segment 1': 'F04',\n",
       " 'GRC Series B IP_Syndecan-1_026_Segment 1': 'G04',\n",
       " 'GRC Series B IP_Syndecan-1_038_Segment 1': 'H04',\n",
       " 'GRC Series A IP_Syndecan-1_005_Segment 1': 'A05',\n",
       " 'GRC Series A IP_Syndecan-1_018_Segment 1': 'B05',\n",
       " 'GRC Series A IP_Syndecan-1_204_Segment 1': 'C05',\n",
       " 'GRC Series A IP_Syndecan-1_241_Segment 1': 'D05',\n",
       " 'GRC Series B IP_Syndecan-1_003_Segment 1': 'E05',\n",
       " 'GRC Series B IP_Syndecan-1_015_Segment 1': 'F05',\n",
       " 'GRC Series B IP_Syndecan-1_027_Segment 1': 'G05',\n",
       " 'GRC Series B IP_Syndecan-1_039_Segment 1': 'H05',\n",
       " 'GRC Series A IP_Syndecan-1_006_Segment 1': 'A06',\n",
       " 'GRC Series A IP_Syndecan-1_019_Segment 1': 'B06',\n",
       " 'GRC Series A IP_Syndecan-1_211_Segment 1': 'C06',\n",
       " 'GRC Series A IP_Syndecan-1_242_Segment 1': 'D06',\n",
       " 'GRC Series B IP_Syndecan-1_004_Segment 1': 'E06',\n",
       " 'GRC Series B IP_Syndecan-1_016_Segment 1': 'F06',\n",
       " 'GRC Series B IP_Syndecan-1_028_Segment 1': 'G06',\n",
       " 'GRC Series B IP_Syndecan-1_040_Segment 1': 'H06',\n",
       " 'GRC Series A IP_Syndecan-1_007_Segment 1': 'A07',\n",
       " 'GRC Series A IP_Syndecan-1_020_Segment 1': 'B07',\n",
       " 'GRC Series A IP_Syndecan-1_212_Segment 1': 'C07',\n",
       " 'GRC Series A IP_Syndecan-1_243_Segment 1': 'D07',\n",
       " 'GRC Series B IP_Syndecan-1_005_Segment 1': 'E07',\n",
       " 'GRC Series B IP_Syndecan-1_017_Segment 1': 'F07',\n",
       " 'GRC Series B IP_Syndecan-1_029_Segment 1': 'G07',\n",
       " 'GRC Series B IP_Syndecan-1_041_Segment 1': 'H07',\n",
       " 'GRC Series A IP_Syndecan-1_008_Segment 1': 'A08',\n",
       " 'GRC Series A IP_Syndecan-1_021_Segment 1': 'B08',\n",
       " 'GRC Series A IP_Syndecan-1_213_Segment 1': 'C08',\n",
       " 'GRC Series A IP_Syndecan-1_251_Segment 1': 'D08',\n",
       " 'GRC Series B IP_Syndecan-1_006_Segment 1': 'E08',\n",
       " 'GRC Series B IP_Syndecan-1_018_Segment 1': 'F08',\n",
       " 'GRC Series B IP_Syndecan-1_030_Segment 1': 'G08',\n",
       " 'GRC Series B IP_Syndecan-1_042_Segment 1': 'H08',\n",
       " 'GRC Series A IP_Syndecan-1_009_Segment 1': 'A09',\n",
       " 'GRC Series A IP_Syndecan-1_022_Segment 1': 'B09',\n",
       " 'GRC Series A IP_Syndecan-1_221_Segment 1': 'C09',\n",
       " 'GRC Series A IP_Syndecan-1_252_Segment 1': 'D09',\n",
       " 'GRC Series B IP_Syndecan-1_007_Segment 1': 'E09',\n",
       " 'GRC Series B IP_Syndecan-1_019_Segment 1': 'F09',\n",
       " 'GRC Series B IP_Syndecan-1_031_Segment 1': 'G09',\n",
       " 'GRC Series B IP_Syndecan-1_043_Segment 1': 'H09',\n",
       " 'GRC Series A IP_Syndecan-1_010_Segment 1': 'A10',\n",
       " 'GRC Series A IP_Syndecan-1_023_Segment 1': 'B10',\n",
       " 'GRC Series A IP_Syndecan-1_222_Segment 1': 'C10',\n",
       " 'GRC Series A IP_Syndecan-1_253_Segment 1': 'D10',\n",
       " 'GRC Series B IP_Syndecan-1_008_Segment 1': 'E10',\n",
       " 'GRC Series B IP_Syndecan-1_020_Segment 1': 'F10',\n",
       " 'GRC Series B IP_Syndecan-1_032_Segment 1': 'G10',\n",
       " 'GRC Series B IP_Syndecan-1_044_Segment 1': 'H10',\n",
       " 'GRC Series A IP_Syndecan-1_012_Full ROI': 'A11',\n",
       " 'GRC Series A IP_Syndecan-1_101_Segment 1': 'B11',\n",
       " 'GRC Series A IP_Syndecan-1_223_Segment 1': 'C11',\n",
       " 'GRC Series A IP_Syndecan-1_261_Segment 1': 'D11',\n",
       " 'GRC Series B IP_Syndecan-1_009_Segment 1': 'E11',\n",
       " 'GRC Series B IP_Syndecan-1_021_Segment 1': 'F11',\n",
       " 'GRC Series B IP_Syndecan-1_033_Segment 1': 'G11',\n",
       " 'GRC Series B IP_Syndecan-1_045_Segment 1': 'H11',\n",
       " 'GRC Series A IP_Syndecan-1_013_Segment 1': 'A12',\n",
       " 'GRC Series A IP_Syndecan-1_102_Segment 1': 'B12',\n",
       " 'GRC Series A IP_Syndecan-1_224_Segment 1': 'C12',\n",
       " 'GRC Series A IP_Syndecan-1_262_Segment 1': 'D12',\n",
       " 'GRC Series B IP_Syndecan-1_010_Segment 1': 'E12',\n",
       " 'GRC Series B IP_Syndecan-1_022_Segment 1': 'F12',\n",
       " 'GRC Series B IP_Syndecan-1_034_Segment 1': 'G12',\n",
       " 'GRC Series B IP_Syndecan-1_046_Segment 1': 'H12'}"
      ]
     },
     "execution_count": 31,
     "metadata": {},
     "output_type": "execute_result"
    }
   ],
   "source": [
    "AOItoWellDict"
   ]
  },
  {
   "cell_type": "code",
   "execution_count": null,
   "id": "7ec6fe04",
   "metadata": {},
   "outputs": [],
   "source": []
  },
  {
   "cell_type": "code",
   "execution_count": null,
   "id": "ffdbb3d6",
   "metadata": {},
   "outputs": [],
   "source": []
  },
  {
   "cell_type": "code",
   "execution_count": null,
   "id": "3712feda",
   "metadata": {},
   "outputs": [],
   "source": []
  },
  {
   "cell_type": "code",
   "execution_count": null,
   "id": "c8eb691a-d4fb-4a03-ba07-e8c14229ff8d",
   "metadata": {},
   "outputs": [],
   "source": [
    "toLocate = []\n",
    "for smpl in sampleInfoExternal.columns:\n",
    "    if not (smpl in AOItoWellDict.keys()):\n",
    "        prev = smpl.split('_')[-2]\n",
    "        prv2 =  \"{:03d}\".format(int(prev)-2)\n",
    "        prv =  \"{:03d}\".format(int(prev)-1)\n",
    "        nxt =  \"{:03d}\".format(int(prev)+1)\n",
    "        nxt2 =  \"{:03d}\".format(int(prev)+2)\n",
    "        prv2 = '_'.join(smpl.split('_')[:-2]) + '_' + prv2\n",
    "        prv = '_'.join(smpl.split('_')[:-2]) + '_' + prv\n",
    "        nxt = '_'.join(smpl.split('_')[:-2]) + '_' + nxt\n",
    "        nxt2 = '_'.join(smpl.split('_')[:-2]) + '_' + nxt2\n",
    "        prvSamples = [x for x in sampleInfoExternal.columns if ((prv in x) or (prv2 in x))]\n",
    "        nxtSamples = [x for x in sampleInfoExternal.columns if ((nxt in x) or (nxt2 in x))]\n",
    "        toLocate.append([smpl, prvSamples, nxtSamples])\n",
    "        \n",
    "\n",
    "print(toLocate)\n",
    "\n",
    "print(len(toLocate))"
   ]
  },
  {
   "cell_type": "code",
   "execution_count": 34,
   "id": "89191e9f",
   "metadata": {},
   "outputs": [],
   "source": [
    "# Print plate hints for each well\n",
    "# Sort samples better for display?\n",
    "# Update dataframes also\n",
    "# Repeat for incorrect entries\n",
    "\n",
    "# Confirm entries with y/n input\n",
    "\n",
    "for t in toLocate:\n",
    "    print()\n",
    "    print(t[0])\n",
    "    \n",
    "    ## Confirm that well has not been located already in a prior run\n",
    "    try:\n",
    "        hasPlate = AOItoPlateDict[t[0]]\n",
    "    except KeyError:\n",
    "        hasPlate = False\n",
    "        \n",
    "    try:\n",
    "        hasWell = AOItoWellDict[t[0]]\n",
    "    except KeyError:\n",
    "        hasWell = False\n",
    "\n",
    "    if (hasPlate or hasWell):\n",
    "        print('has entry')\n",
    "        time.sleep(1)\n",
    "        continue\n",
    "\n",
    "    print('previous:')\n",
    "    for p in sorted(t[1]):\n",
    "        try:\n",
    "            print(p + '\\t: ' + str(AOItoPlateDict[p]) + ' ' + AOItoWellDict[p])\n",
    "        except KeyError:\n",
    "            print(p + '\\t: not in dict')\n",
    "            \n",
    "    print('next:')\n",
    "    for n in sorted(t[2]):\n",
    "        try:\n",
    "            print(n + '\\t: ' + str(AOItoPlateDict[n]) + ' ' + AOItoWellDict[n])\n",
    "        except KeyError:\n",
    "            print(n + '\\t: not in dict')\n",
    "    \n",
    "    plate = int(input('enter desired plate for this sample'))\n",
    "    well = input('enter desired well for this sample')\n",
    "    clear_output(wait=True)\n",
    "    \n",
    "    print('you entered:')\n",
    "    \n",
    "    print(plate)\n",
    "    print(well)\n",
    "    if well in validWells:\n",
    "        print('Well is valid')\n",
    "        if (well in PlateWellDict[plate]):\n",
    "            print('well already has entry')\n",
    "            time.sleep(2)\n",
    "        else:\n",
    "            PlateWellDict[plate].append(well)\n",
    "            AOItoWellDict[t[0]] = well\n",
    "            AOItoPlateDict[t[0]] = plate\n",
    "            \n",
    "            ##### Also add to dataframes\n",
    "            wellDFs[plate-1].loc[well[0],well[1:]] = t[0]\n",
    "            # if plate == 1:\n",
    "            #     wellDF1.loc[well[0],well[1:]] = t[0]\n",
    "            # elif plate == 2:\n",
    "            #     wellDF2.loc[well[0],well[1:]] = t[0]\n",
    "\n",
    "    else:\n",
    "        print('invalid well entered')\n",
    "        pass\n",
    "        \n",
    "#     print()"
   ]
  },
  {
   "cell_type": "code",
   "execution_count": 36,
   "id": "d6683ce1",
   "metadata": {},
   "outputs": [
    {
     "data": {
      "text/html": [
       "<div>\n",
       "<style scoped>\n",
       "    .dataframe tbody tr th:only-of-type {\n",
       "        vertical-align: middle;\n",
       "    }\n",
       "\n",
       "    .dataframe tbody tr th {\n",
       "        vertical-align: top;\n",
       "    }\n",
       "\n",
       "    .dataframe thead th {\n",
       "        text-align: right;\n",
       "    }\n",
       "</style>\n",
       "<table border=\"1\" class=\"dataframe\">\n",
       "  <thead>\n",
       "    <tr style=\"text-align: right;\">\n",
       "      <th></th>\n",
       "      <th>01</th>\n",
       "      <th>02</th>\n",
       "      <th>03</th>\n",
       "      <th>04</th>\n",
       "      <th>05</th>\n",
       "      <th>06</th>\n",
       "      <th>07</th>\n",
       "      <th>08</th>\n",
       "      <th>09</th>\n",
       "      <th>10</th>\n",
       "      <th>11</th>\n",
       "      <th>12</th>\n",
       "    </tr>\n",
       "  </thead>\n",
       "  <tbody>\n",
       "    <tr>\n",
       "      <th>A</th>\n",
       "      <td>GRC Series A IP_Syndecan-1_001_Segment 1</td>\n",
       "      <td>GRC Series A IP_Syndecan-1_002_Segment 1</td>\n",
       "      <td>GRC Series A IP_Syndecan-1_003_Segment 1</td>\n",
       "      <td>GRC Series A IP_Syndecan-1_004_Segment 1</td>\n",
       "      <td>GRC Series A IP_Syndecan-1_005_Segment 1</td>\n",
       "      <td>GRC Series A IP_Syndecan-1_006_Segment 1</td>\n",
       "      <td>GRC Series A IP_Syndecan-1_007_Segment 1</td>\n",
       "      <td>GRC Series A IP_Syndecan-1_008_Segment 1</td>\n",
       "      <td>GRC Series A IP_Syndecan-1_009_Segment 1</td>\n",
       "      <td>GRC Series A IP_Syndecan-1_010_Segment 1</td>\n",
       "      <td>GRC Series A IP_Syndecan-1_012_Full ROI</td>\n",
       "      <td>GRC Series A IP_Syndecan-1_013_Segment 1</td>\n",
       "    </tr>\n",
       "    <tr>\n",
       "      <th>B</th>\n",
       "      <td>GRC Series A IP_Syndecan-1_014_Segment 1</td>\n",
       "      <td>GRC Series A IP_Syndecan-1_015_Segment 1</td>\n",
       "      <td>GRC Series A IP_Syndecan-1_016_Segment 1</td>\n",
       "      <td>GRC Series A IP_Syndecan-1_017_Segment 1</td>\n",
       "      <td>GRC Series A IP_Syndecan-1_018_Segment 1</td>\n",
       "      <td>GRC Series A IP_Syndecan-1_019_Segment 1</td>\n",
       "      <td>GRC Series A IP_Syndecan-1_020_Segment 1</td>\n",
       "      <td>GRC Series A IP_Syndecan-1_021_Segment 1</td>\n",
       "      <td>GRC Series A IP_Syndecan-1_022_Segment 1</td>\n",
       "      <td>GRC Series A IP_Syndecan-1_023_Segment 1</td>\n",
       "      <td>GRC Series A IP_Syndecan-1_101_Segment 1</td>\n",
       "      <td>GRC Series A IP_Syndecan-1_102_Segment 1</td>\n",
       "    </tr>\n",
       "    <tr>\n",
       "      <th>C</th>\n",
       "      <td>GRC Series A IP_Syndecan-1_103_Segment 1</td>\n",
       "      <td>GRC Series A IP_Syndecan-1_201_Segment 1</td>\n",
       "      <td>GRC Series A IP_Syndecan-1_202_Segment 1</td>\n",
       "      <td>GRC Series A IP_Syndecan-1_203_Segment 1</td>\n",
       "      <td>GRC Series A IP_Syndecan-1_204_Segment 1</td>\n",
       "      <td>GRC Series A IP_Syndecan-1_211_Segment 1</td>\n",
       "      <td>GRC Series A IP_Syndecan-1_212_Segment 1</td>\n",
       "      <td>GRC Series A IP_Syndecan-1_213_Segment 1</td>\n",
       "      <td>GRC Series A IP_Syndecan-1_221_Segment 1</td>\n",
       "      <td>GRC Series A IP_Syndecan-1_222_Segment 1</td>\n",
       "      <td>GRC Series A IP_Syndecan-1_223_Segment 1</td>\n",
       "      <td>GRC Series A IP_Syndecan-1_224_Segment 1</td>\n",
       "    </tr>\n",
       "    <tr>\n",
       "      <th>D</th>\n",
       "      <td>GRC Series A IP_Syndecan-1_231_Segment 1</td>\n",
       "      <td>GRC Series A IP_Syndecan-1_232_Segment 1</td>\n",
       "      <td>GRC Series A IP_Syndecan-1_233_Segment 1</td>\n",
       "      <td>GRC Series A IP_Syndecan-1_234_Segment 1</td>\n",
       "      <td>GRC Series A IP_Syndecan-1_241_Segment 1</td>\n",
       "      <td>GRC Series A IP_Syndecan-1_242_Segment 1</td>\n",
       "      <td>GRC Series A IP_Syndecan-1_243_Segment 1</td>\n",
       "      <td>GRC Series A IP_Syndecan-1_251_Segment 1</td>\n",
       "      <td>GRC Series A IP_Syndecan-1_252_Segment 1</td>\n",
       "      <td>GRC Series A IP_Syndecan-1_253_Segment 1</td>\n",
       "      <td>GRC Series A IP_Syndecan-1_261_Segment 1</td>\n",
       "      <td>GRC Series A IP_Syndecan-1_262_Segment 1</td>\n",
       "    </tr>\n",
       "    <tr>\n",
       "      <th>E</th>\n",
       "      <td>GRC Series A IP_Syndecan-1_263_Segment 1</td>\n",
       "      <td>GRC Series A IP_Syndecan-1_264_Segment 1</td>\n",
       "      <td>GRC Series B IP_Syndecan-1_001_Segment 1</td>\n",
       "      <td>GRC Series B IP_Syndecan-1_002_Segment 1</td>\n",
       "      <td>GRC Series B IP_Syndecan-1_003_Segment 1</td>\n",
       "      <td>GRC Series B IP_Syndecan-1_004_Segment 1</td>\n",
       "      <td>GRC Series B IP_Syndecan-1_005_Segment 1</td>\n",
       "      <td>GRC Series B IP_Syndecan-1_006_Segment 1</td>\n",
       "      <td>GRC Series B IP_Syndecan-1_007_Segment 1</td>\n",
       "      <td>GRC Series B IP_Syndecan-1_008_Segment 1</td>\n",
       "      <td>GRC Series B IP_Syndecan-1_009_Segment 1</td>\n",
       "      <td>GRC Series B IP_Syndecan-1_010_Segment 1</td>\n",
       "    </tr>\n",
       "    <tr>\n",
       "      <th>F</th>\n",
       "      <td>GRC Series B IP_Syndecan-1_011_Segment 1</td>\n",
       "      <td>GRC Series B IP_Syndecan-1_012_Segment 1</td>\n",
       "      <td>GRC Series B IP_Syndecan-1_013_Segment 1</td>\n",
       "      <td>GRC Series B IP_Syndecan-1_014_Segment 1</td>\n",
       "      <td>GRC Series B IP_Syndecan-1_015_Segment 1</td>\n",
       "      <td>GRC Series B IP_Syndecan-1_016_Segment 1</td>\n",
       "      <td>GRC Series B IP_Syndecan-1_017_Segment 1</td>\n",
       "      <td>GRC Series B IP_Syndecan-1_018_Segment 1</td>\n",
       "      <td>GRC Series B IP_Syndecan-1_019_Segment 1</td>\n",
       "      <td>GRC Series B IP_Syndecan-1_020_Segment 1</td>\n",
       "      <td>GRC Series B IP_Syndecan-1_021_Segment 1</td>\n",
       "      <td>GRC Series B IP_Syndecan-1_022_Segment 1</td>\n",
       "    </tr>\n",
       "    <tr>\n",
       "      <th>G</th>\n",
       "      <td>GRC Series B IP_Syndecan-1_023_Segment 1</td>\n",
       "      <td>GRC Series B IP_Syndecan-1_024_Segment 1</td>\n",
       "      <td>GRC Series B IP_Syndecan-1_025_Segment 1</td>\n",
       "      <td>GRC Series B IP_Syndecan-1_026_Segment 1</td>\n",
       "      <td>GRC Series B IP_Syndecan-1_027_Segment 1</td>\n",
       "      <td>GRC Series B IP_Syndecan-1_028_Segment 1</td>\n",
       "      <td>GRC Series B IP_Syndecan-1_029_Segment 1</td>\n",
       "      <td>GRC Series B IP_Syndecan-1_030_Segment 1</td>\n",
       "      <td>GRC Series B IP_Syndecan-1_031_Segment 1</td>\n",
       "      <td>GRC Series B IP_Syndecan-1_032_Segment 1</td>\n",
       "      <td>GRC Series B IP_Syndecan-1_033_Segment 1</td>\n",
       "      <td>GRC Series B IP_Syndecan-1_034_Segment 1</td>\n",
       "    </tr>\n",
       "    <tr>\n",
       "      <th>H</th>\n",
       "      <td>GRC Series B IP_Syndecan-1_035_Segment 1</td>\n",
       "      <td>GRC Series B IP_Syndecan-1_036_Segment 1</td>\n",
       "      <td>GRC Series B IP_Syndecan-1_037_Segment 1</td>\n",
       "      <td>GRC Series B IP_Syndecan-1_038_Segment 1</td>\n",
       "      <td>GRC Series B IP_Syndecan-1_039_Segment 1</td>\n",
       "      <td>GRC Series B IP_Syndecan-1_040_Segment 1</td>\n",
       "      <td>GRC Series B IP_Syndecan-1_041_Segment 1</td>\n",
       "      <td>GRC Series B IP_Syndecan-1_042_Segment 1</td>\n",
       "      <td>GRC Series B IP_Syndecan-1_043_Segment 1</td>\n",
       "      <td>GRC Series B IP_Syndecan-1_044_Segment 1</td>\n",
       "      <td>GRC Series B IP_Syndecan-1_045_Segment 1</td>\n",
       "      <td>GRC Series B IP_Syndecan-1_046_Segment 1</td>\n",
       "    </tr>\n",
       "  </tbody>\n",
       "</table>\n",
       "</div>"
      ],
      "text/plain": [
       "                                         01  \\\n",
       "A  GRC Series A IP_Syndecan-1_001_Segment 1   \n",
       "B  GRC Series A IP_Syndecan-1_014_Segment 1   \n",
       "C  GRC Series A IP_Syndecan-1_103_Segment 1   \n",
       "D  GRC Series A IP_Syndecan-1_231_Segment 1   \n",
       "E  GRC Series A IP_Syndecan-1_263_Segment 1   \n",
       "F  GRC Series B IP_Syndecan-1_011_Segment 1   \n",
       "G  GRC Series B IP_Syndecan-1_023_Segment 1   \n",
       "H  GRC Series B IP_Syndecan-1_035_Segment 1   \n",
       "\n",
       "                                         02  \\\n",
       "A  GRC Series A IP_Syndecan-1_002_Segment 1   \n",
       "B  GRC Series A IP_Syndecan-1_015_Segment 1   \n",
       "C  GRC Series A IP_Syndecan-1_201_Segment 1   \n",
       "D  GRC Series A IP_Syndecan-1_232_Segment 1   \n",
       "E  GRC Series A IP_Syndecan-1_264_Segment 1   \n",
       "F  GRC Series B IP_Syndecan-1_012_Segment 1   \n",
       "G  GRC Series B IP_Syndecan-1_024_Segment 1   \n",
       "H  GRC Series B IP_Syndecan-1_036_Segment 1   \n",
       "\n",
       "                                         03  \\\n",
       "A  GRC Series A IP_Syndecan-1_003_Segment 1   \n",
       "B  GRC Series A IP_Syndecan-1_016_Segment 1   \n",
       "C  GRC Series A IP_Syndecan-1_202_Segment 1   \n",
       "D  GRC Series A IP_Syndecan-1_233_Segment 1   \n",
       "E  GRC Series B IP_Syndecan-1_001_Segment 1   \n",
       "F  GRC Series B IP_Syndecan-1_013_Segment 1   \n",
       "G  GRC Series B IP_Syndecan-1_025_Segment 1   \n",
       "H  GRC Series B IP_Syndecan-1_037_Segment 1   \n",
       "\n",
       "                                         04  \\\n",
       "A  GRC Series A IP_Syndecan-1_004_Segment 1   \n",
       "B  GRC Series A IP_Syndecan-1_017_Segment 1   \n",
       "C  GRC Series A IP_Syndecan-1_203_Segment 1   \n",
       "D  GRC Series A IP_Syndecan-1_234_Segment 1   \n",
       "E  GRC Series B IP_Syndecan-1_002_Segment 1   \n",
       "F  GRC Series B IP_Syndecan-1_014_Segment 1   \n",
       "G  GRC Series B IP_Syndecan-1_026_Segment 1   \n",
       "H  GRC Series B IP_Syndecan-1_038_Segment 1   \n",
       "\n",
       "                                         05  \\\n",
       "A  GRC Series A IP_Syndecan-1_005_Segment 1   \n",
       "B  GRC Series A IP_Syndecan-1_018_Segment 1   \n",
       "C  GRC Series A IP_Syndecan-1_204_Segment 1   \n",
       "D  GRC Series A IP_Syndecan-1_241_Segment 1   \n",
       "E  GRC Series B IP_Syndecan-1_003_Segment 1   \n",
       "F  GRC Series B IP_Syndecan-1_015_Segment 1   \n",
       "G  GRC Series B IP_Syndecan-1_027_Segment 1   \n",
       "H  GRC Series B IP_Syndecan-1_039_Segment 1   \n",
       "\n",
       "                                         06  \\\n",
       "A  GRC Series A IP_Syndecan-1_006_Segment 1   \n",
       "B  GRC Series A IP_Syndecan-1_019_Segment 1   \n",
       "C  GRC Series A IP_Syndecan-1_211_Segment 1   \n",
       "D  GRC Series A IP_Syndecan-1_242_Segment 1   \n",
       "E  GRC Series B IP_Syndecan-1_004_Segment 1   \n",
       "F  GRC Series B IP_Syndecan-1_016_Segment 1   \n",
       "G  GRC Series B IP_Syndecan-1_028_Segment 1   \n",
       "H  GRC Series B IP_Syndecan-1_040_Segment 1   \n",
       "\n",
       "                                         07  \\\n",
       "A  GRC Series A IP_Syndecan-1_007_Segment 1   \n",
       "B  GRC Series A IP_Syndecan-1_020_Segment 1   \n",
       "C  GRC Series A IP_Syndecan-1_212_Segment 1   \n",
       "D  GRC Series A IP_Syndecan-1_243_Segment 1   \n",
       "E  GRC Series B IP_Syndecan-1_005_Segment 1   \n",
       "F  GRC Series B IP_Syndecan-1_017_Segment 1   \n",
       "G  GRC Series B IP_Syndecan-1_029_Segment 1   \n",
       "H  GRC Series B IP_Syndecan-1_041_Segment 1   \n",
       "\n",
       "                                         08  \\\n",
       "A  GRC Series A IP_Syndecan-1_008_Segment 1   \n",
       "B  GRC Series A IP_Syndecan-1_021_Segment 1   \n",
       "C  GRC Series A IP_Syndecan-1_213_Segment 1   \n",
       "D  GRC Series A IP_Syndecan-1_251_Segment 1   \n",
       "E  GRC Series B IP_Syndecan-1_006_Segment 1   \n",
       "F  GRC Series B IP_Syndecan-1_018_Segment 1   \n",
       "G  GRC Series B IP_Syndecan-1_030_Segment 1   \n",
       "H  GRC Series B IP_Syndecan-1_042_Segment 1   \n",
       "\n",
       "                                         09  \\\n",
       "A  GRC Series A IP_Syndecan-1_009_Segment 1   \n",
       "B  GRC Series A IP_Syndecan-1_022_Segment 1   \n",
       "C  GRC Series A IP_Syndecan-1_221_Segment 1   \n",
       "D  GRC Series A IP_Syndecan-1_252_Segment 1   \n",
       "E  GRC Series B IP_Syndecan-1_007_Segment 1   \n",
       "F  GRC Series B IP_Syndecan-1_019_Segment 1   \n",
       "G  GRC Series B IP_Syndecan-1_031_Segment 1   \n",
       "H  GRC Series B IP_Syndecan-1_043_Segment 1   \n",
       "\n",
       "                                         10  \\\n",
       "A  GRC Series A IP_Syndecan-1_010_Segment 1   \n",
       "B  GRC Series A IP_Syndecan-1_023_Segment 1   \n",
       "C  GRC Series A IP_Syndecan-1_222_Segment 1   \n",
       "D  GRC Series A IP_Syndecan-1_253_Segment 1   \n",
       "E  GRC Series B IP_Syndecan-1_008_Segment 1   \n",
       "F  GRC Series B IP_Syndecan-1_020_Segment 1   \n",
       "G  GRC Series B IP_Syndecan-1_032_Segment 1   \n",
       "H  GRC Series B IP_Syndecan-1_044_Segment 1   \n",
       "\n",
       "                                         11  \\\n",
       "A   GRC Series A IP_Syndecan-1_012_Full ROI   \n",
       "B  GRC Series A IP_Syndecan-1_101_Segment 1   \n",
       "C  GRC Series A IP_Syndecan-1_223_Segment 1   \n",
       "D  GRC Series A IP_Syndecan-1_261_Segment 1   \n",
       "E  GRC Series B IP_Syndecan-1_009_Segment 1   \n",
       "F  GRC Series B IP_Syndecan-1_021_Segment 1   \n",
       "G  GRC Series B IP_Syndecan-1_033_Segment 1   \n",
       "H  GRC Series B IP_Syndecan-1_045_Segment 1   \n",
       "\n",
       "                                         12  \n",
       "A  GRC Series A IP_Syndecan-1_013_Segment 1  \n",
       "B  GRC Series A IP_Syndecan-1_102_Segment 1  \n",
       "C  GRC Series A IP_Syndecan-1_224_Segment 1  \n",
       "D  GRC Series A IP_Syndecan-1_262_Segment 1  \n",
       "E  GRC Series B IP_Syndecan-1_010_Segment 1  \n",
       "F  GRC Series B IP_Syndecan-1_022_Segment 1  \n",
       "G  GRC Series B IP_Syndecan-1_034_Segment 1  \n",
       "H  GRC Series B IP_Syndecan-1_046_Segment 1  "
      ]
     },
     "execution_count": 36,
     "metadata": {},
     "output_type": "execute_result"
    }
   ],
   "source": [
    "# wellDF1\n",
    "\n",
    "wellDFs[0]\n"
   ]
  },
  {
   "cell_type": "code",
   "execution_count": null,
   "id": "1ec84766",
   "metadata": {},
   "outputs": [],
   "source": [
    "# wellDF2"
   ]
  },
  {
   "cell_type": "code",
   "execution_count": null,
   "id": "813e0ad8",
   "metadata": {
    "scrolled": true
   },
   "outputs": [],
   "source": [
    "len(AOItoWellDict)"
   ]
  },
  {
   "cell_type": "code",
   "execution_count": null,
   "id": "e82f5500-45e2-4868-9fb5-8aa4a8817dde",
   "metadata": {},
   "outputs": [],
   "source": [
    "len(AOItoPlateDict)"
   ]
  },
  {
   "cell_type": "code",
   "execution_count": null,
   "id": "02c323f2",
   "metadata": {},
   "outputs": [],
   "source": [
    "len(PlateWellDict[1])"
   ]
  },
  {
   "cell_type": "code",
   "execution_count": null,
   "id": "cf9793fc",
   "metadata": {
    "scrolled": true
   },
   "outputs": [],
   "source": [
    "len(set(PlateWellDict[2]))"
   ]
  },
  {
   "cell_type": "code",
   "execution_count": null,
   "id": "34257676",
   "metadata": {
    "scrolled": true
   },
   "outputs": [],
   "source": [
    "PlateWellDict[1]"
   ]
  },
  {
   "cell_type": "code",
   "execution_count": null,
   "id": "bee606aa",
   "metadata": {},
   "outputs": [],
   "source": []
  },
  {
   "cell_type": "code",
   "execution_count": null,
   "id": "d7440a71",
   "metadata": {},
   "outputs": [],
   "source": [
    "dataPath[:dataPath.rfind('/')+1]"
   ]
  },
  {
   "cell_type": "code",
   "execution_count": null,
   "id": "53de9209",
   "metadata": {},
   "outputs": [],
   "source": [
    "## Uncomment to overwrite or update mappings files\n",
    "\n",
    "# wellDF1.to_csv(os.path.join(dataPath[:dataPath.rfind('/')],'AOI_Well_Mappings_Plate1.csv'))\n",
    "# wellDF2.to_csv(os.path.join(dataPath[:dataPath.rfind('/')],'AOI_Well_Mappings_Plate2.csv'))"
   ]
  },
  {
   "cell_type": "code",
   "execution_count": null,
   "id": "34208957",
   "metadata": {},
   "outputs": [],
   "source": []
  },
  {
   "cell_type": "code",
   "execution_count": null,
   "id": "05edf6f4",
   "metadata": {
    "scrolled": true
   },
   "outputs": [],
   "source": [
    "sampleInfoExternal"
   ]
  },
  {
   "cell_type": "code",
   "execution_count": null,
   "id": "fd724dfa",
   "metadata": {},
   "outputs": [],
   "source": [
    "AOIWell = pd.DataFrame(data = AOItoWellDict.values(), columns = ['Well'], index = AOItoWellDict.keys()).T"
   ]
  },
  {
   "cell_type": "code",
   "execution_count": null,
   "id": "a0934cc4",
   "metadata": {},
   "outputs": [],
   "source": [
    "AOIWell"
   ]
  },
  {
   "cell_type": "code",
   "execution_count": null,
   "id": "c319ad5d",
   "metadata": {},
   "outputs": [],
   "source": [
    "AOIRow = pd.DataFrame(data = [x[0] for x in AOItoWellDict.values()], columns = ['Row'], index = AOItoWellDict.keys()).T"
   ]
  },
  {
   "cell_type": "code",
   "execution_count": null,
   "id": "c87c8b7c",
   "metadata": {},
   "outputs": [],
   "source": [
    "AOIRow"
   ]
  },
  {
   "cell_type": "code",
   "execution_count": null,
   "id": "3c06c1e0",
   "metadata": {},
   "outputs": [],
   "source": [
    "AOICol = pd.DataFrame(data = [x[1:] for x in AOItoWellDict.values()], columns = ['Col'], index = AOItoWellDict.keys()).T"
   ]
  },
  {
   "cell_type": "code",
   "execution_count": null,
   "id": "2619c54a",
   "metadata": {},
   "outputs": [],
   "source": [
    "AOICol"
   ]
  },
  {
   "cell_type": "code",
   "execution_count": null,
   "id": "a4a9e300",
   "metadata": {},
   "outputs": [],
   "source": [
    "AOIPlate = pd.DataFrame(data = AOItoPlateDict.values(), columns = ['Plate'], index = AOItoPlateDict.keys()).T"
   ]
  },
  {
   "cell_type": "code",
   "execution_count": null,
   "id": "5f74e5f2",
   "metadata": {},
   "outputs": [],
   "source": [
    "AOIPlate"
   ]
  },
  {
   "cell_type": "code",
   "execution_count": null,
   "id": "75ffc1c0",
   "metadata": {},
   "outputs": [],
   "source": [
    "plateInfo = pd.concat([AOIWell, AOIRow, AOICol, AOIPlate])"
   ]
  },
  {
   "cell_type": "code",
   "execution_count": null,
   "id": "2e1390c1",
   "metadata": {},
   "outputs": [],
   "source": [
    "plateInfo"
   ]
  },
  {
   "cell_type": "code",
   "execution_count": null,
   "id": "fbbb1cf7",
   "metadata": {},
   "outputs": [],
   "source": [
    "sampleInfo = pd.concat([sampleInfoExternal, plateInfo])"
   ]
  },
  {
   "cell_type": "code",
   "execution_count": null,
   "id": "279abfba",
   "metadata": {
    "scrolled": true
   },
   "outputs": [],
   "source": [
    "sampleInfo"
   ]
  },
  {
   "cell_type": "code",
   "execution_count": null,
   "id": "9d5936cc",
   "metadata": {},
   "outputs": [],
   "source": [
    "sampleInfo.to_csv(os.path.join(dataPath[:dataPath.rfind('/')],'sampleInfo_with_Wells.csv'))\n"
   ]
  },
  {
   "cell_type": "code",
   "execution_count": null,
   "id": "721895de",
   "metadata": {
    "scrolled": true
   },
   "outputs": [],
   "source": [
    "list(AOItoWellDict.values())"
   ]
  },
  {
   "cell_type": "code",
   "execution_count": null,
   "id": "9472f1e2",
   "metadata": {
    "scrolled": true
   },
   "outputs": [],
   "source": [
    "AOItoPlateDict"
   ]
  },
  {
   "cell_type": "code",
   "execution_count": null,
   "id": "63c3346b",
   "metadata": {},
   "outputs": [],
   "source": [
    "# break"
   ]
  },
  {
   "cell_type": "code",
   "execution_count": null,
   "id": "bb3c3d24-0f2e-444e-9148-f9a5f26498ed",
   "metadata": {},
   "outputs": [],
   "source": [
    "sampleInfoExternal"
   ]
  },
  {
   "cell_type": "code",
   "execution_count": null,
   "id": "f0bd960e",
   "metadata": {
    "scrolled": true
   },
   "outputs": [],
   "source": [
    "\n",
    "\n",
    "# SampleLocDict, SampleRowDict, SampleColDict,SamplePlateDict = Infer_locs(sampleInfoExternal)\n",
    "\n",
    "# sampleInfoExternal = pd.concat([sampleInfoExternal,\n",
    "#                              pd.DataFrame(SampleLocDict, index=['well']),\n",
    "#                              pd.DataFrame(SampleRowDict, index=['plateRow']),  \n",
    "#                              pd.DataFrame(SampleColDict, index=['plateCol']), \n",
    "#                              pd.DataFrame(SamplePlateDict, index=['plate'])], \n",
    "#                              ignore_index=False)\n",
    "\n",
    "# sampleInfoExternal"
   ]
  },
  {
   "cell_type": "code",
   "execution_count": null,
   "id": "1bddd42c",
   "metadata": {},
   "outputs": [],
   "source": [
    "### Use this to manually update plate/well order\n",
    "\n",
    "# sampleInfoExternal.to_csv(os.path.join(dataPath[:dataPath.rfind(\"/\")],'sampleInfo.csv'))\n",
    "\n",
    "### Fix plate order in Excel then reverse commenting\n",
    "\n",
    "# sampleInfoExternal = pd.read_csv(os.path.join(dataPath[:dataPath.rfind(\"/\")],'sampleInfo.csv'),index_col=0)\n",
    "sampleInfoExternal = pd.read_csv(os.path.join(dataPath[:dataPath.rfind(\"/\")],'sampleInfo_with_Wells.csv'),index_col=0)\n",
    "\n"
   ]
  },
  {
   "cell_type": "markdown",
   "id": "5522498d",
   "metadata": {},
   "source": [
    "# Basic QC and data overview plots"
   ]
  },
  {
   "cell_type": "code",
   "execution_count": null,
   "id": "3031a656",
   "metadata": {},
   "outputs": [],
   "source": [
    "# View distribution of AOI surface areas\n",
    "\n",
    "#Add colouring for different AOI types\n",
    "\n",
    "SAHist = plot_SA_Hist(surfArea)\n",
    "# SAHist.show()"
   ]
  },
  {
   "cell_type": "code",
   "execution_count": null,
   "id": "cfa30e6f",
   "metadata": {},
   "outputs": [],
   "source": [
    "# sampleInfoExternal.sort_values(by=['plate', 'plateCol', 'plateRow'], axis=1, inplace=True)\n",
    "sampleInfoExternal.sort_values(by=['Plate', 'Col', 'Row'], axis=1, inplace=True)\n",
    "\n",
    "# Binding Density plot:\n",
    "plt.figure(figsize=(40,10))\n",
    "    \n",
    "plt.bar(sampleInfoExternal.columns[:40],sampleInfoExternal.loc['BindingDensity'].values.astype(np.float32)[:40])#, bottom=0)\n",
    "# plt.ylim(0,20)"
   ]
  },
  {
   "cell_type": "code",
   "execution_count": null,
   "id": "93573dc7",
   "metadata": {},
   "outputs": [],
   "source": [
    "# Visualise basic QC statistics\n",
    "\n",
    "## Relate back to collection order, and plate/well location\n",
    "\n",
    "## Binding density"
   ]
  },
  {
   "cell_type": "code",
   "execution_count": null,
   "id": "fa213a61",
   "metadata": {},
   "outputs": [],
   "source": [
    "sampleInfoExternal.loc['BindingDensity'].values.astype(np.float32)"
   ]
  },
  {
   "cell_type": "markdown",
   "id": "24127f7a",
   "metadata": {},
   "source": [
    "# Visualise raw probe values before any normalisation"
   ]
  },
  {
   "cell_type": "code",
   "execution_count": null,
   "id": "b79323b6",
   "metadata": {},
   "outputs": [],
   "source": [
    "# Sort data by probeclass then mean for nicer visualisation on plots\n",
    "dataSortedRaw = dataLog1External.sort_values(by = ['probeClass', 'mean'], ascending=[True,True])\n",
    "\n",
    "probePlot = draw_probe_plot(dataLog1External, dataSortedRaw, namedColourList, 'Raw Probe Values')\n",
    "probePlot = draw_probe_plot(dataLog1External, dataSortedRaw, namedColourList, 'Raw Probe Values', exp=True)"
   ]
  },
  {
   "cell_type": "code",
   "execution_count": null,
   "id": "d2d57228",
   "metadata": {},
   "outputs": [],
   "source": [
    "plt.scatter(np.exp2(dataLog1External.drop(labels=['mean','probeClass'], axis=1).loc['HYB-NEG'])-1,\n",
    "            dataLog1External.drop(labels=['mean','probeClass'], axis=1).loc['HYB-POS'])\n",
    "            \n",
    "            \n",
    "            "
   ]
  },
  {
   "cell_type": "code",
   "execution_count": null,
   "id": "1db54dc4",
   "metadata": {},
   "outputs": [],
   "source": [
    "plt.scatter(np.exp2(dataLog1External.drop(labels=['mean','probeClass'], axis=1).loc['HYB-NEG'])-1,\n",
    "        surfArea.reindex(dataLog1External.drop(labels=['mean','probeClass'],axis=1).columns))"
   ]
  },
  {
   "cell_type": "code",
   "execution_count": null,
   "id": "7e1b3f0b",
   "metadata": {},
   "outputs": [],
   "source": [
    "##### QC questions / checks:"
   ]
  },
  {
   "cell_type": "code",
   "execution_count": null,
   "id": "781cae0b",
   "metadata": {},
   "outputs": [],
   "source": []
  },
  {
   "cell_type": "code",
   "execution_count": null,
   "id": "ccfd868f",
   "metadata": {},
   "outputs": [],
   "source": [
    "break"
   ]
  },
  {
   "cell_type": "markdown",
   "id": "ee148897",
   "metadata": {},
   "source": [
    "# Determine thresholding value for limit of detection for assay"
   ]
  },
  {
   "cell_type": "code",
   "execution_count": null,
   "id": "36bcacab",
   "metadata": {},
   "outputs": [],
   "source": [
    "## Find the first local minimum closest to the start of the 'real' values.\n",
    "## In this development case there is a large peak of near zero values, after this there are two bins with zero values. The second of these bin indexes was chosen for use as the expression threshold value.\n"
   ]
  },
  {
   "cell_type": "code",
   "execution_count": null,
   "id": "32175820",
   "metadata": {},
   "outputs": [],
   "source": [
    "thresholding = threshold_probes(dataLog1External, 300)"
   ]
  },
  {
   "cell_type": "code",
   "execution_count": null,
   "id": "3324cd19",
   "metadata": {},
   "outputs": [],
   "source": [
    "thresholding.zoom_plot(0.5,3)"
   ]
  },
  {
   "cell_type": "code",
   "execution_count": null,
   "id": "db06fcb8",
   "metadata": {},
   "outputs": [],
   "source": [
    "thresholding.check_threshold(0,30)\n",
    "thresholding.check_threshold(15,30)"
   ]
  },
  {
   "cell_type": "code",
   "execution_count": null,
   "id": "65f78156",
   "metadata": {},
   "outputs": [],
   "source": [
    "#Set index value to use for minimum expression threshold from thresholding \n",
    "thresholding.set_threshold_idx(19)"
   ]
  },
  {
   "cell_type": "code",
   "execution_count": null,
   "id": "5a1a8b8a",
   "metadata": {},
   "outputs": [],
   "source": [
    "print(thresholding.threshold)\n",
    "ETFiltered = thresholding.get_filter()"
   ]
  },
  {
   "cell_type": "markdown",
   "id": "93a7eb29",
   "metadata": {},
   "source": [
    "# Plot counts of AOIs and probes passing threshold"
   ]
  },
  {
   "cell_type": "code",
   "execution_count": null,
   "id": "4621d881",
   "metadata": {},
   "outputs": [],
   "source": [
    "\n",
    "\n",
    "# get counts of how many probes are above the expression threshold for each AOI"
   ]
  },
  {
   "cell_type": "code",
   "execution_count": null,
   "id": "ac686bf1",
   "metadata": {},
   "outputs": [],
   "source": [
    "exportPath = dataPath[:dataPath.rfind('/')]"
   ]
  },
  {
   "cell_type": "code",
   "execution_count": null,
   "id": "1cf3b590",
   "metadata": {},
   "outputs": [],
   "source": [
    "ETFiltered"
   ]
  },
  {
   "cell_type": "code",
   "execution_count": null,
   "id": "4c7a47de",
   "metadata": {},
   "outputs": [],
   "source": [
    "passAOI = ETFiltered.sum()\n",
    "\n",
    "thisMin = min(passAOI)\n",
    "thisMax = max(passAOI)\n",
    "print('thisMin')\n",
    "print(thisMin)\n",
    "print('thisMax')\n",
    "print(thisMax)\n",
    "\n",
    "plt.hist(passAOI.values, bins=20)\n",
    "plt.xlim(thisMin-2,thisMax+2)\n",
    "plt.semilogy()"
   ]
  },
  {
   "cell_type": "code",
   "execution_count": null,
   "id": "f11cdef4",
   "metadata": {},
   "outputs": [],
   "source": [
    "passAOI.sort_values().index[:5]"
   ]
  },
  {
   "cell_type": "code",
   "execution_count": null,
   "id": "8b0c5731",
   "metadata": {},
   "outputs": [],
   "source": [
    "failAOIs = passAOI[passAOI < 40]\n",
    "\n",
    "failAOIs"
   ]
  },
  {
   "cell_type": "code",
   "execution_count": null,
   "id": "cf30313b",
   "metadata": {},
   "outputs": [],
   "source": [
    "failAOIs.to_csv(os.path.join(exportPath,'failAOIs.csv'))\n"
   ]
  },
  {
   "cell_type": "code",
   "execution_count": null,
   "id": "e2b9900a",
   "metadata": {},
   "outputs": [],
   "source": []
  },
  {
   "cell_type": "code",
   "execution_count": null,
   "id": "9653f4af",
   "metadata": {},
   "outputs": [],
   "source": [
    "# get counts of how many AOIs are above the expression threshold for each probe"
   ]
  },
  {
   "cell_type": "code",
   "execution_count": null,
   "id": "e47933b8",
   "metadata": {},
   "outputs": [],
   "source": [
    "passProbe = ETFiltered.sum(axis=1)\n",
    "\n",
    "thisMin = min(passProbe)\n",
    "thisMax = max(passProbe)\n",
    "print('thisMin')\n",
    "print(thisMin)\n",
    "print('thisMax')\n",
    "print(thisMax)\n",
    "\n",
    "plt.hist(passProbe.values, bins=20)\n",
    "plt.xlim(thisMin-5,thisMax+5)\n",
    "# plt.semilogy()"
   ]
  },
  {
   "cell_type": "code",
   "execution_count": null,
   "id": "b38e76ce",
   "metadata": {},
   "outputs": [],
   "source": [
    "failProbes = passProbe[passProbe < 120]"
   ]
  },
  {
   "cell_type": "code",
   "execution_count": null,
   "id": "a86c752c",
   "metadata": {},
   "outputs": [],
   "source": [
    "failProbes.to_csv(os.path.join(exportPath,'FailProbes.csv'))\n"
   ]
  },
  {
   "cell_type": "code",
   "execution_count": null,
   "id": "1d268a77",
   "metadata": {},
   "outputs": [],
   "source": []
  },
  {
   "cell_type": "code",
   "execution_count": null,
   "id": "b315820c",
   "metadata": {},
   "outputs": [],
   "source": []
  },
  {
   "cell_type": "code",
   "execution_count": null,
   "id": "f7e123e4",
   "metadata": {},
   "outputs": [],
   "source": [
    "master_data.set_threshold(master_data,ETFiltered)"
   ]
  },
  {
   "cell_type": "code",
   "execution_count": null,
   "id": "41bf5052",
   "metadata": {
    "scrolled": true
   },
   "outputs": [],
   "source": [
    "master_data.threshold\n"
   ]
  },
  {
   "cell_type": "code",
   "execution_count": null,
   "id": "7b009117",
   "metadata": {},
   "outputs": [],
   "source": []
  },
  {
   "cell_type": "code",
   "execution_count": null,
   "id": "1fbac278",
   "metadata": {},
   "outputs": [],
   "source": []
  },
  {
   "cell_type": "code",
   "execution_count": null,
   "id": "cbff07d9",
   "metadata": {},
   "outputs": [],
   "source": []
  },
  {
   "cell_type": "code",
   "execution_count": null,
   "id": "1ae68edd",
   "metadata": {},
   "outputs": [],
   "source": [
    "# Identify outlier AOIs and probes\n",
    "# Drop outlier AOIs and probes"
   ]
  },
  {
   "cell_type": "code",
   "execution_count": null,
   "id": "1c6eddde",
   "metadata": {},
   "outputs": [],
   "source": []
  },
  {
   "cell_type": "code",
   "execution_count": null,
   "id": "9de7820d",
   "metadata": {},
   "outputs": [],
   "source": []
  },
  {
   "cell_type": "code",
   "execution_count": null,
   "id": "9e08630d",
   "metadata": {},
   "outputs": [],
   "source": []
  },
  {
   "cell_type": "code",
   "execution_count": null,
   "id": "59b18c47",
   "metadata": {},
   "outputs": [],
   "source": [
    "# colours = ['g' if x.split('_')[-1] == 'Tumour' else 'r' if x.split('_')[-1] == 'Immune' else 'purple' for x in data.drop(labels=['mean','probeClass'], axis=1).columns]\n"
   ]
  },
  {
   "cell_type": "markdown",
   "id": "c5b9203e",
   "metadata": {},
   "source": [
    "# Plot geometric means of negative controls and housekeeping genes in raw data:"
   ]
  },
  {
   "cell_type": "code",
   "execution_count": null,
   "id": "df99b6c2",
   "metadata": {},
   "outputs": [],
   "source": [
    "##### It's probably not neccessary to view the following, \n",
    "# but lets just have a quick look at how the control values \n",
    "# for the raw data is distributed to make sure there are \n",
    "# no extreme outliers before ERCC normalisation."
   ]
  },
  {
   "cell_type": "code",
   "execution_count": null,
   "id": "c17e599b",
   "metadata": {},
   "outputs": [],
   "source": [
    "# Calculate Ig control Geometric mean and Housekeeping gene Geometric mean\n",
    "# Calculating the mean of log transformed data is analagous to calculating the geometric mean of the non-transformed data\n",
    "\n",
    "HKGeoMean = dataLog1External.drop(labels=['mean','probeClass'], axis=1).loc[masterData.HK].mean()\n",
    "HKGeoMean = HKGeoMean.sort_values()\n",
    "\n",
    "\n",
    "IgGeoMean = dataLog1External.drop(labels=['mean','probeClass'], axis=1).reindex(labels=HKGeoMean.index, axis=1).loc[masterData.IgCTLs].mean()\n",
    "\n",
    "HKIgCtls = masterData.HK.copy()\n",
    "HKIgCtls.extend(masterData.IgCTLs)\n",
    "\n",
    "HKIgCtlGeoMeans = dataLog1External.drop(labels=['mean','probeClass'], axis=1).reindex(labels=HKGeoMean.index, axis=1).loc[HKIgCtls].mean()\n"
   ]
  },
  {
   "cell_type": "code",
   "execution_count": null,
   "id": "1ce5f743",
   "metadata": {},
   "outputs": [],
   "source": [
    "masterData.HK"
   ]
  },
  {
   "cell_type": "code",
   "execution_count": null,
   "id": "5e4f75a2",
   "metadata": {},
   "outputs": [],
   "source": [
    "HKIgCtls = masterData.HK.copy()"
   ]
  },
  {
   "cell_type": "code",
   "execution_count": null,
   "id": "5451c659",
   "metadata": {},
   "outputs": [],
   "source": [
    "HKIgCtls.extend(masterData.IgCTLs)"
   ]
  },
  {
   "cell_type": "code",
   "execution_count": null,
   "id": "e957cc89",
   "metadata": {},
   "outputs": [],
   "source": [
    "HKIgCtls"
   ]
  },
  {
   "cell_type": "code",
   "execution_count": null,
   "id": "efacf9b1",
   "metadata": {},
   "outputs": [],
   "source": [
    "HKGeoMean"
   ]
  },
  {
   "cell_type": "code",
   "execution_count": null,
   "id": "fcb5732d",
   "metadata": {},
   "outputs": [],
   "source": [
    "probe_GeoMean_Plots(HKGeoMean, 'House Keeping probe geometric mean distribution')\n",
    "\n",
    "probe_GeoMean_Plots(IgGeoMean, 'Ig probe geometric mean distribution')"
   ]
  },
  {
   "cell_type": "code",
   "execution_count": null,
   "id": "337832fe",
   "metadata": {},
   "outputs": [],
   "source": [
    "probe_GeoMean_Plots(HKIgCtlGeoMeans, 'HK and Ig probe geometric mean distribution')"
   ]
  },
  {
   "cell_type": "code",
   "execution_count": null,
   "id": "edee7c1a",
   "metadata": {},
   "outputs": [],
   "source": [
    "HKIgCtls = masterData.HK.extend(masterData.IgCTLs)"
   ]
  },
  {
   "cell_type": "code",
   "execution_count": null,
   "id": "5e6a7725",
   "metadata": {},
   "outputs": [],
   "source": [
    "masterData.HK"
   ]
  },
  {
   "cell_type": "code",
   "execution_count": null,
   "id": "a5c651f2",
   "metadata": {},
   "outputs": [],
   "source": []
  },
  {
   "cell_type": "code",
   "execution_count": null,
   "id": "ba5165a9",
   "metadata": {},
   "outputs": [],
   "source": [
    "#ToDo: make this a copy of the internal dataFrame. Ensure original data is contained in the master class and cannot be changed accidentally from outside of class.\n",
    "\n",
    "ERCC_normExternal = masterData.ERCC_norm()"
   ]
  },
  {
   "cell_type": "code",
   "execution_count": null,
   "id": "bba7e7f6",
   "metadata": {},
   "outputs": [],
   "source": []
  },
  {
   "cell_type": "code",
   "execution_count": null,
   "id": "e47011f1",
   "metadata": {
    "scrolled": true
   },
   "outputs": [],
   "source": [
    "ERCC_normExternal"
   ]
  },
  {
   "cell_type": "code",
   "execution_count": null,
   "id": "4f2b9bae",
   "metadata": {},
   "outputs": [],
   "source": []
  },
  {
   "cell_type": "code",
   "execution_count": null,
   "id": "35380248",
   "metadata": {},
   "outputs": [],
   "source": []
  },
  {
   "cell_type": "code",
   "execution_count": null,
   "id": "bfd982e2",
   "metadata": {},
   "outputs": [],
   "source": []
  },
  {
   "cell_type": "markdown",
   "id": "36dc5fbc",
   "metadata": {},
   "source": [
    "# Work on heatmap plots with clustering trees and labels / colour legends"
   ]
  },
  {
   "cell_type": "code",
   "execution_count": null,
   "id": "0840982c",
   "metadata": {},
   "outputs": [],
   "source": [
    "plt.matshow(ERCC_normExternal)"
   ]
  },
  {
   "cell_type": "code",
   "execution_count": null,
   "id": "5f7d1fad",
   "metadata": {},
   "outputs": [],
   "source": []
  },
  {
   "cell_type": "code",
   "execution_count": null,
   "id": "3609e9ff",
   "metadata": {},
   "outputs": [],
   "source": []
  },
  {
   "cell_type": "code",
   "execution_count": null,
   "id": "6de105b8",
   "metadata": {},
   "outputs": [],
   "source": []
  },
  {
   "cell_type": "code",
   "execution_count": null,
   "id": "0229b2ee",
   "metadata": {},
   "outputs": [],
   "source": [
    "ERCC_normExternal, ignore = masterData.add_class_mean(masterData.ERCCData)\n"
   ]
  },
  {
   "cell_type": "code",
   "execution_count": null,
   "id": "cbdd7d9c",
   "metadata": {},
   "outputs": [],
   "source": []
  },
  {
   "cell_type": "code",
   "execution_count": null,
   "id": "f2a82a80",
   "metadata": {},
   "outputs": [],
   "source": [
    "# Sort data by probeclass then mean for nicer visualisation on plots\n",
    "dataSortedERCC = ERCC_normExternal.sort_values(by = ['probeClass', 'mean'], ascending=[True,True])\n",
    "\n",
    "# ToDo: repeat the colour map after data sorting\n"
   ]
  },
  {
   "cell_type": "code",
   "execution_count": null,
   "id": "054381d0",
   "metadata": {
    "scrolled": true
   },
   "outputs": [],
   "source": [
    "dataSortedERCC"
   ]
  },
  {
   "cell_type": "code",
   "execution_count": null,
   "id": "eb9a2ce3",
   "metadata": {},
   "outputs": [],
   "source": [
    "# ToDo make sure hyb pos has been dropped propperly\n",
    "\n",
    "\n",
    "probePlot = draw_probe_plot(ERCC_normExternal, dataSortedERCC, namedColourList, 'ERCC Probe Values')\n",
    "probePlot = draw_probe_plot(ERCC_normExternal, dataSortedERCC, namedColourList, 'ERCC Probe Values', violin=True)\n",
    "\n",
    "probePlot = draw_probe_plot(ERCC_normExternal, dataSortedERCC, namedColourList, 'ERCC Probe Values', exp=True)"
   ]
  },
  {
   "cell_type": "code",
   "execution_count": null,
   "id": "0520173c",
   "metadata": {},
   "outputs": [],
   "source": [
    "# ToDo: Move this to the master function\n",
    "\n",
    "\n",
    "# Calculate Ig control Geometric mean and Housekeeping gene Geometric mean\n",
    "# Calculating the mean of log transformed data is analagous to calculating the geometric mean of the non-transformed data\n",
    "\n",
    "HKGeoMean = ERCC_normExternal.drop(labels=['mean','probeClass'], axis=1).loc[masterData.HK].mean()\n",
    "HKGeoMean = HKGeoMean.sort_values()\n",
    "\n",
    "IgGeoMean = ERCC_normExternal.drop(labels=['mean','probeClass'], axis=1).reindex(labels=HKGeoMean.index, axis=1).loc[masterData.IgCTLs].mean()\n",
    "\n",
    "\n",
    "\n",
    "HKIgCtls = masterData.HK.copy()\n",
    "HKIgCtls.extend(masterData.IgCTLs)\n",
    "HKIgCtlGeoMeans = ERCC_normExternal.drop(labels=['mean','probeClass'], axis=1).reindex(labels=HKGeoMean.index, axis=1).loc[HKIgCtls].mean()\n",
    "\n",
    "\n"
   ]
  },
  {
   "cell_type": "code",
   "execution_count": null,
   "id": "a07c2bf1",
   "metadata": {},
   "outputs": [],
   "source": [
    "probe_GeoMean_Plots(HKGeoMean, 'House Keeping probe geometric mean distribution')\n",
    "probe_GeoMean_Plots(IgGeoMean, 'Ig probe geometric mean distribution')"
   ]
  },
  {
   "cell_type": "code",
   "execution_count": null,
   "id": "f89fe742",
   "metadata": {},
   "outputs": [],
   "source": [
    "probe_GeoMean_Plots(HKIgCtlGeoMeans, 'HK and Ig probe geometric mean distribution')"
   ]
  },
  {
   "cell_type": "code",
   "execution_count": null,
   "id": "3f0c9cdb",
   "metadata": {},
   "outputs": [],
   "source": []
  },
  {
   "cell_type": "code",
   "execution_count": null,
   "id": "60156e52",
   "metadata": {},
   "outputs": [],
   "source": [
    "# Include negative scaled analysis? Could be used to show low expressed values??\n",
    "\n",
    "\n",
    "negScaled = ERCC_normExternal.drop(labels=['mean','probeClass'], axis=1) - IgGeoMean + IgGeoMean.mean()\n",
    "\n",
    "mean = negScaled.mean(axis = 1)\n",
    "negScaled = negScaled.assign(mean=mean.values)\n",
    "\n",
    "negScaled = negScaled.assign(probeClass=ERCC_normExternal['probeClass'].values)\n",
    "\n",
    "negScaled.sort_values(by = ['probeClass', 'mean'], ascending=[True,True] , inplace=True)\n",
    "\n",
    "# Log2 Signal-to-Background Ratio\n",
    "plt.figure(figsize=(20,10))\n",
    "\n",
    "plt.boxplot(negScaled.drop(labels=['mean','probeClass'], axis=1).T, sym='.', labels=negScaled.index)\n",
    "plt.violinplot(negScaled.drop(labels=['mean','probeClass'], axis=1).T)\n",
    "plt.xticks(rotation = 90)\n",
    "# plt.axhline(y=0.0, color='r', linestyle='-')\n",
    "\n",
    "plt.title('Ig Control Scaled Probe Values (Log2 transformed)', size=36)\n",
    "plt.ylabel('Log2 probe value', size=24)\n",
    "plt.show()\n",
    "plt.close()\n"
   ]
  },
  {
   "cell_type": "code",
   "execution_count": null,
   "id": "942e7356",
   "metadata": {},
   "outputs": [],
   "source": [
    "# Add plot of number of samples fall below expression threshold for Ig control scaled data??"
   ]
  },
  {
   "cell_type": "code",
   "execution_count": null,
   "id": "8be51fcc",
   "metadata": {},
   "outputs": [],
   "source": [
    "#### Don't put too much stock in this plot. The data has been scaled to the Ig negative controls. BUT Nanopore say that some probes have a consistently low signal so probes with a signal below the Ig level can still be reliable "
   ]
  },
  {
   "cell_type": "code",
   "execution_count": null,
   "id": "9b639e76",
   "metadata": {},
   "outputs": [],
   "source": []
  },
  {
   "cell_type": "code",
   "execution_count": null,
   "id": "eb51aa4f",
   "metadata": {},
   "outputs": [],
   "source": [
    "## Plot control scatter plots and choose factors for further normalisation"
   ]
  },
  {
   "cell_type": "code",
   "execution_count": null,
   "id": "2d7550a4",
   "metadata": {
    "scrolled": true
   },
   "outputs": [],
   "source": [
    "# colours = ['g' if x.split('_')[-1] == 'Tumour' else 'r' for x in data.drop(labels=['mean','probeClass'], axis=1).columns]\n",
    "# colours = ['g' if x.split('_')[-1] == 'Tumour' else 'r' if x.split('_')[-1] == 'Immune' else 'purple' for x in data.drop(labels=['mean','probeClass'], axis=1).columns]\n",
    "colours = [namedColourList[2] if x.split('_')[-1] == 'Tumour' else namedColourList[5] if x.split('_')[-1] == 'TME' else namedColourList[1] for x in ERCC_normExternal.drop(labels=['mean','probeClass'], axis=1).columns]\n",
    "\n"
   ]
  },
  {
   "cell_type": "code",
   "execution_count": null,
   "id": "cbf80040",
   "metadata": {},
   "outputs": [],
   "source": []
  },
  {
   "cell_type": "code",
   "execution_count": null,
   "id": "59ffbd7c",
   "metadata": {},
   "outputs": [],
   "source": [
    "def matrix_plot(plotData, labels, dataList=False):\n",
    "    ###\n",
    "# Matrix of HK expression plots\n",
    "    rows = len(labels)\n",
    "    cols = len(labels)\n",
    "\n",
    "    fig, axes = plt.subplots(rows,cols, figsize=(15,15))\n",
    "\n",
    "    if dataList:\n",
    "        dataList = plotData\n",
    "    else:\n",
    "        dataList = []\n",
    "        for feat in labels:\n",
    "            dataList.append([(x) for x in plotData.drop(labels=['mean','probeClass'], axis=1).loc[feat].values])\n",
    "        \n",
    "    axMin = int(min([min(x) for x in dataList]))\n",
    "    axMax = int(max([max(x) for x in dataList]))+1\n",
    "\n",
    "    for r in range(rows):\n",
    "        for c in range(cols):\n",
    "            if r==c: # This is a diagonal, insert a label\n",
    "                axes[r][c].text(0.5,0.5, labels[r],ha='center', va='center', transform=axes[r][c].transAxes,fontsize=36)\n",
    "            else:\n",
    "                axes[r][c].scatter(dataList[c], dataList[r], c=colours)\n",
    "                slope, intercept, r_value, p_value, std_err = scipy.stats.linregress(dataList[c], dataList[r])\n",
    "                axes[r][c].text(0.9,0.9, \"r_value = \" + str(r_value)[:5],ha='right', va='center', transform=axes[r][c].transAxes)\n",
    "                axes[r][c].text(0.9,0.8, \"slope = \" + str(slope)[:5],ha='right', va='center', transform=axes[r][c].transAxes)\n",
    "                axes[r][c].set_xlim(axMin,axMax)\n",
    "                axes[r][c].set_ylim(axMin,axMax)\n",
    "\n"
   ]
  },
  {
   "cell_type": "code",
   "execution_count": null,
   "id": "eda8f067",
   "metadata": {},
   "outputs": [],
   "source": [
    "matrix_plot(ERCC_normExternal, ['S6', 'Histone H3', 'GAPDH'])"
   ]
  },
  {
   "cell_type": "code",
   "execution_count": null,
   "id": "1e4e958b",
   "metadata": {},
   "outputs": [],
   "source": [
    "matrix_plot(ERCC_normExternal, ['Ms IgG1', 'Ms IgG2a', 'Rb IgG'])"
   ]
  },
  {
   "cell_type": "code",
   "execution_count": null,
   "id": "d62c1446",
   "metadata": {},
   "outputs": [],
   "source": [
    "nuclei = nuclei.reindex(HKGeoMean.index)\n",
    "surfArea = surfArea.reindex(HKGeoMean.index)\n",
    "\n",
    "dataList = [HKGeoMean, IgGeoMean, np.log2(list(surfArea.values)), np.log2(list(nuclei.values))]\n",
    "matrix_plot(dataList, ['HKGMean', 'IgGMean', 'Area', 'Nuclei'], True)"
   ]
  },
  {
   "cell_type": "code",
   "execution_count": null,
   "id": "668de99c",
   "metadata": {},
   "outputs": [],
   "source": []
  },
  {
   "cell_type": "code",
   "execution_count": null,
   "id": "d43307f1",
   "metadata": {},
   "outputs": [],
   "source": [
    "#drop least consistent controls and repeat plots\n",
    "# IgCTLs.remove('Ms IgG2a')\n",
    "# HK.remove('Histone H3')\n",
    "\n",
    "\n",
    "#Nothiong to remove for Thomas_TMA run\n"
   ]
  },
  {
   "cell_type": "code",
   "execution_count": null,
   "id": "1c660449",
   "metadata": {},
   "outputs": [],
   "source": []
  },
  {
   "cell_type": "code",
   "execution_count": null,
   "id": "9684ab1a",
   "metadata": {},
   "outputs": [],
   "source": [
    "ERCC_normExternal"
   ]
  },
  {
   "cell_type": "code",
   "execution_count": null,
   "id": "9b7a8af4",
   "metadata": {},
   "outputs": [],
   "source": [
    "HKNormData = (ERCC_normExternal.drop(labels=['mean','probeClass'], axis=1).reindex(labels=negScaled.index) - HKGeoMean)\n",
    "\n",
    "print(min((HKNormData).values.flatten()))\n",
    "print(min((HKNormData).loc['HYB-NEG'].values.flatten()))\n",
    "print(min((HKNormData.drop(labels=['HYB-NEG'])).values.flatten()))\n",
    "\n",
    "print(min((HKNormData*ETFiltered).values.flatten()))\n",
    "print(min((HKNormData*ETFiltered).loc['HYB-NEG'].values.flatten()))\n",
    "print(min((HKNormData.drop(labels=['HYB-NEG'])*ETFiltered).values.flatten()))\n",
    "#  + np.mean(HKGeoMean)"
   ]
  },
  {
   "cell_type": "code",
   "execution_count": null,
   "id": "1350eac0",
   "metadata": {},
   "outputs": [],
   "source": [
    "HKNormData = HKNormData + (abs(min((HKNormData*ETFiltered).values.flatten())))\n",
    "# HKNormData = HKNormData + (abs(min((HKNormData.drop(labels=['HYB-NEG'])*ETFiltered).values.flatten())))\n",
    "# HKNormData = HKNormData + (abs(min((HKNormData.drop(labels=['HYB-NEG'])).values.flatten())))\n",
    "\n",
    "# HKNormData = HKNormData * ETFiltered"
   ]
  },
  {
   "cell_type": "code",
   "execution_count": null,
   "id": "8fd8008d",
   "metadata": {},
   "outputs": [],
   "source": [
    "# Plot HK normalised data\n",
    "plt.figure(figsize=(20,10))\n",
    "\n",
    "# HKNormData = (ERCC_normExternal.drop(labels=['mean','probeClass'], axis=1).reindex(labels=negScaled.index) - HKGeoMean) + np.mean(HKGeoMean)\n",
    "\n",
    "plt.boxplot(HKNormData.T, sym='-', labels=negScaled.index)\n",
    "\n",
    "for i,j in enumerate(negScaled.index):\n",
    "    y = HKNormData.loc[j]\n",
    "#     colours = ['g.' if v.split('_')[-1] == 'Tumour' else 'r.' if v.split('_')[-1] == 'Immune' else 'b.' for v in y.index]\n",
    "    colours = [namedColourList[2] if v.split('_')[-1] == 'Tumour' else namedColourList[5] if v.split('_')[-1] == 'TME' else namedColourList[1] for v in y.index]\n",
    "    \n",
    "    y = y\n",
    "    y = y.values\n",
    "    x = np.random.normal(i+1, 0.1, len(y))\n",
    "    \n",
    "    for i in range(len(x)): \n",
    "        plt.plot(x[i], y[i], c=colours[i], marker='.')\n",
    "plt.xticks(rotation = 90)\n",
    "plt.axhline(y=0.0, color='r', linestyle='-')\n",
    "    \n",
    "plt.title('HK Normalised probe values (Log2 transformed)', size=36)\n",
    "plt.ylabel('Log2 probe value', size=24)\n"
   ]
  },
  {
   "cell_type": "code",
   "execution_count": null,
   "id": "6a2df18c",
   "metadata": {},
   "outputs": [],
   "source": [
    "HKNormData = HKNormData * ETFiltered\n",
    "HKNormData = HKNormData.reindex(negScaled.index)\n"
   ]
  },
  {
   "cell_type": "code",
   "execution_count": null,
   "id": "ad13fd8b",
   "metadata": {},
   "outputs": [],
   "source": [
    "# Plot HK normalised data\n",
    "plt.figure(figsize=(20,10))\n",
    "\n",
    "# HKNormData = (ERCC_normExternal.drop(labels=['mean','probeClass'], axis=1).reindex(labels=negScaled.index) - HKGeoMean) + np.mean(HKGeoMean)\n",
    "\n",
    "plt.boxplot(HKNormData.T, sym='-', labels=negScaled.index)\n",
    "\n",
    "for i,j in enumerate(negScaled.index):\n",
    "    y = HKNormData.loc[j]\n",
    "#     colours = ['g.' if v.split('_')[-1] == 'Tumour' else 'r.' if v.split('_')[-1] == 'Immune' else 'b.' for v in y.index]\n",
    "    colours = [namedColourList[2] if v.split('_')[-1] == 'Tumour' else namedColourList[5] if v.split('_')[-1] == 'TME' else namedColourList[1] for v in y.index]\n",
    "#     colours = [namedColourList[2] if v.split('_')[-1] == 'Tumour' else namedColourList[5] if v.split('_')[-1] == 'Immune' else namedColourList[1] for v in y.index]\n",
    "    \n",
    "    y = y\n",
    "    y = y.values\n",
    "    x = np.random.normal(i+1, 0.1, len(y))\n",
    "    \n",
    "    for i in range(len(x)): \n",
    "        plt.plot(x[i], y[i], c=colours[i], marker='.')\n",
    "plt.xticks(rotation = 90)\n",
    "plt.axhline(y=0.0, color='r', linestyle='-')\n",
    "    \n",
    "plt.title('HK Normalised probe values (Log2 transformed)', size=36)\n",
    "plt.ylabel('Log2 probe value', size=24)\n"
   ]
  },
  {
   "cell_type": "code",
   "execution_count": null,
   "id": "9150a4d5",
   "metadata": {},
   "outputs": [],
   "source": []
  },
  {
   "cell_type": "code",
   "execution_count": null,
   "id": "e9df3128",
   "metadata": {},
   "outputs": [],
   "source": []
  },
  {
   "cell_type": "code",
   "execution_count": null,
   "id": "adb142a4",
   "metadata": {},
   "outputs": [],
   "source": [
    "## ToDo: Calculations need to be updated to use method above!!\n",
    "\n",
    "\n",
    "# # Plot negative probe normalised data\n",
    "# plt.figure(figsize=(20,10))\n",
    "\n",
    "# IgNormData = (ERCC_normExternal.drop(labels=['mean','probeClass'], axis=1).reindex(labels=negScaled.index) - IgGeoMean) + np.mean(IgGeoMean)\n",
    "\n",
    "\n",
    "# plt.boxplot(IgNormData.T, sym='.', labels=negScaled.index)\n",
    "\n",
    "# for i,j in enumerate(negScaled.index):\n",
    "#     y = IgNormData.loc[j]\n",
    "#     colours = [namedColourList[2] if v.split('_')[-1] == 'Tumour' else namedColourList[5] if v.split('_')[-1] == 'Immune' else namedColourList[1] for v in y.index]\n",
    "#     y = y\n",
    "#     y = y.values\n",
    "#     x = np.random.normal(i+1, 0.1, len(y))\n",
    "    \n",
    "#     for i in range(len(x)): \n",
    "#         plt.plot(x[i], y[i], c=colours[i], marker='.')\n",
    "# plt.xticks(rotation = 90)\n",
    "# plt.axhline(y=0.0, color='r', linestyle='-')\n",
    "# plt.xlabel=list(negScaled.index)\n",
    "    \n",
    "# plt.title('Ig Normalised probe values (Log2 transformed)', size=36)\n",
    "# plt.ylabel('Log2 probe value', size=24)\n"
   ]
  },
  {
   "cell_type": "code",
   "execution_count": null,
   "id": "72f18412",
   "metadata": {},
   "outputs": [],
   "source": []
  },
  {
   "cell_type": "code",
   "execution_count": null,
   "id": "14e18d66",
   "metadata": {},
   "outputs": [],
   "source": [
    "# # ToDo: Repeat normalisation from master data then export.\n",
    "\n",
    "# ercc normalise\n",
    "# HK normalise"
   ]
  },
  {
   "cell_type": "code",
   "execution_count": null,
   "id": "fac82269",
   "metadata": {},
   "outputs": [],
   "source": [
    "break"
   ]
  },
  {
   "cell_type": "code",
   "execution_count": null,
   "id": "4aaeaf7c",
   "metadata": {},
   "outputs": [],
   "source": [
    "# Drop control probe values from negScaled to generate index for exporting. HYB-POS has already been dropped.\n",
    "\n",
    "exportIndex = negScaled.drop(labels=['HYB-POS', 'HYB-NEG', 'Rb IgG', 'Ms IgG2a', 'Ms IgG1']).index\n",
    "# exportIndex = negScaled.drop(labels=['HYB-NEG', 'Rb IgG', 'Ms IgG2a', 'Ms IgG1']).index\n",
    "# exportIndex = negScaled.drop(labels=['HYB-NEG', 'Rb IgG', 'Ms IgG2a', 'Rt IgG2b']).index"
   ]
  },
  {
   "cell_type": "code",
   "execution_count": null,
   "id": "9e60c712",
   "metadata": {},
   "outputs": [],
   "source": [
    "len(exportIndex)"
   ]
  },
  {
   "cell_type": "code",
   "execution_count": null,
   "id": "adc74ac2",
   "metadata": {},
   "outputs": [],
   "source": [
    "exportIndex"
   ]
  },
  {
   "cell_type": "code",
   "execution_count": null,
   "id": "5dad7a76",
   "metadata": {},
   "outputs": [],
   "source": [
    "HKNormData.reindex(labels=exportIndex)"
   ]
  },
  {
   "cell_type": "code",
   "execution_count": null,
   "id": "40f6f440",
   "metadata": {},
   "outputs": [],
   "source": [
    "# exportPath = '../../../Documents/Nanostring/projects/Indira/DSP_Protein_Data/'\n",
    "exportPath = dataPath[:dataPath.rfind('/')]"
   ]
  },
  {
   "cell_type": "code",
   "execution_count": null,
   "id": "ac31483b",
   "metadata": {},
   "outputs": [],
   "source": []
  },
  {
   "cell_type": "code",
   "execution_count": null,
   "id": "3256aaa2",
   "metadata": {},
   "outputs": [],
   "source": [
    "HKNormData.reindex(labels=exportIndex).to_csv(os.path.join(exportPath,'HK_Geo_Mean_Normalised.csv'))\n",
    "ETFiltered.reindex(labels=exportIndex).to_csv(os.path.join(exportPath,'Probe_Filter.csv'))\n",
    "\n",
    "sampleInfoExternal.to_csv(os.path.join(exportPath,'Sample_Info.csv'))\n"
   ]
  },
  {
   "cell_type": "code",
   "execution_count": null,
   "id": "f69d7409",
   "metadata": {},
   "outputs": [],
   "source": []
  },
  {
   "cell_type": "code",
   "execution_count": null,
   "id": "87ba6121",
   "metadata": {},
   "outputs": [],
   "source": []
  },
  {
   "cell_type": "code",
   "execution_count": null,
   "id": "3e686ff5",
   "metadata": {},
   "outputs": [],
   "source": [
    "# # Export data scaled to HK Geo. mean and Ig Geo mean with outlier control probes dropped\n",
    "\n",
    "# dataHKGMScaled = (dataFinal.reindex(labels=exportIndex) - HKGeoMean) + np.mean(HKGeoMean)\n",
    "# dataHKGMScaled.to_csv('HK_Geo_Mean_Scaled.csv')\n",
    "\n",
    "# dataIgGMScaled = (dataFinal.reindex(labels=exportIndex) - IgGeoMean) + np.mean(IgGeoMean)\n",
    "# dataIgGMScaled.to_csv('Ig_Geo_Mean_Scaled.csv')\n",
    "\n",
    "# sampleInfo.to_csv('Sample_Info.csv')"
   ]
  },
  {
   "cell_type": "code",
   "execution_count": null,
   "id": "514f1e7a",
   "metadata": {
    "scrolled": true
   },
   "outputs": [],
   "source": [
    "# dataHKGMScaled"
   ]
  },
  {
   "cell_type": "code",
   "execution_count": null,
   "id": "e480629c",
   "metadata": {
    "scrolled": true
   },
   "outputs": [],
   "source": [
    "# dataIgGMScaled"
   ]
  },
  {
   "cell_type": "code",
   "execution_count": null,
   "id": "06b499ff",
   "metadata": {},
   "outputs": [],
   "source": []
  },
  {
   "cell_type": "code",
   "execution_count": null,
   "id": "684ef03d",
   "metadata": {},
   "outputs": [],
   "source": [
    "# plt.scatter(dataHKGMScaled.values.flatten(), dataIgGMScaled.values.flatten())"
   ]
  },
  {
   "cell_type": "code",
   "execution_count": null,
   "id": "8f5427e2",
   "metadata": {},
   "outputs": [],
   "source": [
    "# dataHKGMScaled.columns.shape"
   ]
  },
  {
   "cell_type": "code",
   "execution_count": null,
   "id": "141cad6f",
   "metadata": {},
   "outputs": [],
   "source": []
  },
  {
   "cell_type": "code",
   "execution_count": null,
   "id": "83afc239",
   "metadata": {},
   "outputs": [],
   "source": []
  },
  {
   "cell_type": "code",
   "execution_count": null,
   "id": "a2207485",
   "metadata": {},
   "outputs": [],
   "source": []
  },
  {
   "cell_type": "code",
   "execution_count": null,
   "id": "0dc423b4",
   "metadata": {},
   "outputs": [],
   "source": []
  },
  {
   "cell_type": "code",
   "execution_count": null,
   "id": "36f294b0",
   "metadata": {},
   "outputs": [],
   "source": []
  },
  {
   "cell_type": "code",
   "execution_count": null,
   "id": "7bc25e66",
   "metadata": {},
   "outputs": [],
   "source": [
    "# To Do:\n",
    "\n",
    "### Generate new dataFrame with mask of where individual values are below HYB-NEG\n",
    "\n",
    "\n",
    "### Generate new dataFrame with mask of where individual values are below NegGeoMean \n",
    "### Generate new dataFrame with mask of where mean value of a probe is below NegGeoMean "
   ]
  },
  {
   "cell_type": "code",
   "execution_count": null,
   "id": "4a3ec016",
   "metadata": {},
   "outputs": [],
   "source": []
  },
  {
   "cell_type": "code",
   "execution_count": null,
   "id": "2c2c2e62",
   "metadata": {},
   "outputs": [],
   "source": []
  },
  {
   "cell_type": "code",
   "execution_count": null,
   "id": "2d73e133",
   "metadata": {},
   "outputs": [],
   "source": [
    "break"
   ]
  },
  {
   "cell_type": "code",
   "execution_count": null,
   "id": "9d4d2a5b",
   "metadata": {},
   "outputs": [],
   "source": []
  },
  {
   "cell_type": "code",
   "execution_count": null,
   "id": "f141721f",
   "metadata": {},
   "outputs": [],
   "source": [
    "from scipy.signal import savgol_filter\n",
    "yhat = savgol_filter(thisHist[0], 3, 2) # window size 51, polynomial order 3\n"
   ]
  },
  {
   "cell_type": "code",
   "execution_count": null,
   "id": "4765f9d6",
   "metadata": {
    "scrolled": true
   },
   "outputs": [],
   "source": [
    "plt.plot(yhat)"
   ]
  },
  {
   "cell_type": "code",
   "execution_count": null,
   "id": "e1c5323c",
   "metadata": {},
   "outputs": [],
   "source": [
    "yhat = savgol_filter(yhat, 15, 3) # window size 51, polynomial order 3\n"
   ]
  },
  {
   "cell_type": "code",
   "execution_count": null,
   "id": "1310c63c",
   "metadata": {},
   "outputs": [],
   "source": [
    "plt.plot(yhat)"
   ]
  },
  {
   "cell_type": "code",
   "execution_count": null,
   "id": "f095d505",
   "metadata": {},
   "outputs": [],
   "source": [
    "yhat = savgol_filter(yhat, 45, 3) # window size 51, polynomial order 3\n"
   ]
  },
  {
   "cell_type": "code",
   "execution_count": null,
   "id": "a0d9be72",
   "metadata": {
    "scrolled": true
   },
   "outputs": [],
   "source": [
    "plt.plot(yhat)"
   ]
  },
  {
   "cell_type": "code",
   "execution_count": null,
   "id": "0707a110",
   "metadata": {},
   "outputs": [],
   "source": []
  },
  {
   "cell_type": "code",
   "execution_count": null,
   "id": "d487a829",
   "metadata": {},
   "outputs": [],
   "source": []
  },
  {
   "cell_type": "code",
   "execution_count": null,
   "id": "b5b6bdaf",
   "metadata": {},
   "outputs": [],
   "source": []
  },
  {
   "cell_type": "code",
   "execution_count": null,
   "id": "e6b67ba9",
   "metadata": {},
   "outputs": [],
   "source": []
  }
 ],
 "metadata": {
  "kernelspec": {
   "display_name": "Python 3 (ipykernel)",
   "language": "python",
   "name": "python3"
  },
  "language_info": {
   "codemirror_mode": {
    "name": "ipython",
    "version": 3
   },
   "file_extension": ".py",
   "mimetype": "text/x-python",
   "name": "python",
   "nbconvert_exporter": "python",
   "pygments_lexer": "ipython3",
   "version": "3.11.6"
  }
 },
 "nbformat": 4,
 "nbformat_minor": 5
}
